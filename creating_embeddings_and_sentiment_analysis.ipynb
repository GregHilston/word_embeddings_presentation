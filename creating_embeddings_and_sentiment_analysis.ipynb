{
 "cells": [
  {
   "cell_type": "code",
   "execution_count": 1,
   "metadata": {},
   "outputs": [
    {
     "name": "stderr",
     "output_type": "stream",
     "text": [
      "Using TensorFlow backend.\n"
     ]
    },
    {
     "data": {
      "text/html": [
       "<script>requirejs.config({paths: { 'plotly': ['https://cdn.plot.ly/plotly-latest.min']},});if(!window.Plotly) {{require(['plotly'],function(plotly) {window.Plotly=plotly;});}}</script>"
      ],
      "text/vnd.plotly.v1+html": [
       "<script>requirejs.config({paths: { 'plotly': ['https://cdn.plot.ly/plotly-latest.min']},});if(!window.Plotly) {{require(['plotly'],function(plotly) {window.Plotly=plotly;});}}</script>"
      ]
     },
     "metadata": {},
     "output_type": "display_data"
    }
   ],
   "source": [
    "import pandas as pd\n",
    "import numpy as np\n",
    "\n",
    "from sklearn.metrics import accuracy_score\n",
    "\n",
    "import gensim\n",
    "from gensim.models import Word2Vec\n",
    "from gensim.models import KeyedVectors\n",
    "from gensim.parsing.preprocessing import strip_punctuation\n",
    "\n",
    "from sklearn.decomposition import PCA\n",
    "\n",
    "from keras.preprocessing.sequence import pad_sequences\n",
    "from keras.models import Sequential\n",
    "from keras.layers import Dense\n",
    "from keras.layers import Flatten\n",
    "from keras.layers.embeddings import Embedding\n",
    "from keras.models import load_model\n",
    "\n",
    "from plotly.offline import download_plotlyjs, init_notebook_mode, plot, iplot\n",
    "import plotly.graph_objs as go\n",
    "init_notebook_mode(True)"
   ]
  },
  {
   "cell_type": "markdown",
   "metadata": {},
   "source": [
    "## 01. Build your own embeddings & using pre-existing embeddings"
   ]
  },
  {
   "cell_type": "markdown",
   "metadata": {},
   "source": [
    "### Build your own embeddings"
   ]
  },
  {
   "cell_type": "code",
   "execution_count": 2,
   "metadata": {},
   "outputs": [],
   "source": [
    "sentences = [[\"this\", \"is\", \"the\", \"first\", \"sentence\", \"for\", \"word2vec\"],\n",
    "             [\"this\", \"is\", \"the\", \"second\", \"sentence\", \"for\", \"word2vec\"]]"
   ]
  },
  {
   "cell_type": "code",
   "execution_count": 3,
   "metadata": {},
   "outputs": [],
   "source": [
    "# sg: 1 for skip-gram, 2 for CBOW\n",
    "# alpha: learning rate\n",
    "# window: windows size for skip-grams or CBOW\n",
    "# min_count: any word counts that are less than this are ignored\n",
    "# size: dimensions for each word\n",
    "model = Word2Vec(sentences, alpha=0.025, window=5, min_count=1, sg=1, size=10)"
   ]
  },
  {
   "cell_type": "code",
   "execution_count": 4,
   "metadata": {},
   "outputs": [
    {
     "name": "stdout",
     "output_type": "stream",
     "text": [
      "Word2Vec(vocab=8, size=10, alpha=0.025)\n"
     ]
    }
   ],
   "source": [
    "print(model)"
   ]
  },
  {
   "cell_type": "code",
   "execution_count": 5,
   "metadata": {},
   "outputs": [
    {
     "name": "stdout",
     "output_type": "stream",
     "text": [
      "['this', 'is', 'the', 'first', 'sentence', 'for', 'word2vec', 'second']\n"
     ]
    }
   ],
   "source": [
    "print(list(model.wv.vocab))"
   ]
  },
  {
   "cell_type": "code",
   "execution_count": 6,
   "metadata": {},
   "outputs": [
    {
     "data": {
      "text/plain": [
       "array([[-0.00881377,  0.02380548, -0.0276916 ,  0.00943281,  0.0353776 ,\n",
       "         0.04147253, -0.00760771,  0.03068272,  0.03813342,  0.04655814],\n",
       "       [ 0.02699806,  0.04353414,  0.02711135,  0.02182131,  0.03855942,\n",
       "        -0.01136886,  0.01113139,  0.00316165,  0.0324847 ,  0.02678204],\n",
       "       [-0.02763442, -0.04942229,  0.03640752, -0.04303996,  0.03313507,\n",
       "         0.00819083,  0.04979353,  0.00522264,  0.03980155, -0.0078884 ],\n",
       "       [ 0.02680141, -0.0432024 ,  0.00554856,  0.00348457, -0.00249102,\n",
       "        -0.00375387,  0.04069378,  0.02697994, -0.03181545, -0.03122688],\n",
       "       [-0.01044888,  0.01529652,  0.02926535, -0.03910768,  0.01157004,\n",
       "         0.04935143,  0.02350862,  0.04925704,  0.01833132,  0.02647658],\n",
       "       [ 0.0018603 , -0.01861919, -0.0279343 ,  0.04353117,  0.04889671,\n",
       "         0.02309764,  0.01833814, -0.00708604, -0.01628845,  0.00257618],\n",
       "       [-0.00298509,  0.02508593,  0.01865868, -0.00970567, -0.03590273,\n",
       "         0.01946534,  0.00823023,  0.02897257, -0.00830355, -0.00032256],\n",
       "       [-0.00401718, -0.03407427,  0.00617637, -0.02956571, -0.00310309,\n",
       "        -0.00724711,  0.04158964,  0.04213385, -0.02695453, -0.02587969]],\n",
       "      dtype=float32)"
      ]
     },
     "execution_count": 6,
     "metadata": {},
     "output_type": "execute_result"
    }
   ],
   "source": [
    "model.wv[model.wv.vocab]"
   ]
  },
  {
   "cell_type": "code",
   "execution_count": 7,
   "metadata": {},
   "outputs": [],
   "source": [
    "model.save('model.bin')"
   ]
  },
  {
   "cell_type": "code",
   "execution_count": 8,
   "metadata": {},
   "outputs": [],
   "source": [
    "model = Word2Vec.load('model.bin')"
   ]
  },
  {
   "cell_type": "code",
   "execution_count": 9,
   "metadata": {},
   "outputs": [],
   "source": [
    "pca = PCA(n_components=3)\n",
    "pca_result = pca.fit_transform(model.wv[model.wv.vocab])"
   ]
  },
  {
   "cell_type": "code",
   "execution_count": 10,
   "metadata": {},
   "outputs": [
    {
     "data": {
      "text/plain": [
       "array([0.41189152, 0.24735574, 0.17814666], dtype=float32)"
      ]
     },
     "execution_count": 10,
     "metadata": {},
     "output_type": "execute_result"
    }
   ],
   "source": [
    "pca.explained_variance_ratio_"
   ]
  },
  {
   "cell_type": "code",
   "execution_count": 11,
   "metadata": {},
   "outputs": [],
   "source": [
    "pca_result_df = pd.DataFrame([pca_result[:,0], pca_result[:,1], pca_result[:,2]]).T\n",
    "pca_result_df.columns = [\"x\", \"y\", \"z\"]\n",
    "pca_result_df[\"word\"] = list(model.wv.vocab)"
   ]
  },
  {
   "cell_type": "code",
   "execution_count": 12,
   "metadata": {},
   "outputs": [
    {
     "data": {
      "text/html": [
       "<div>\n",
       "<style scoped>\n",
       "    .dataframe tbody tr th:only-of-type {\n",
       "        vertical-align: middle;\n",
       "    }\n",
       "\n",
       "    .dataframe tbody tr th {\n",
       "        vertical-align: top;\n",
       "    }\n",
       "\n",
       "    .dataframe thead th {\n",
       "        text-align: right;\n",
       "    }\n",
       "</style>\n",
       "<table border=\"1\" class=\"dataframe\">\n",
       "  <thead>\n",
       "    <tr style=\"text-align: right;\">\n",
       "      <th></th>\n",
       "      <th>x</th>\n",
       "      <th>y</th>\n",
       "      <th>z</th>\n",
       "      <th>word</th>\n",
       "    </tr>\n",
       "  </thead>\n",
       "  <tbody>\n",
       "    <tr>\n",
       "      <th>0</th>\n",
       "      <td>0.076952</td>\n",
       "      <td>-0.000653</td>\n",
       "      <td>0.005211</td>\n",
       "      <td>this</td>\n",
       "    </tr>\n",
       "    <tr>\n",
       "      <th>1</th>\n",
       "      <td>0.058710</td>\n",
       "      <td>0.013753</td>\n",
       "      <td>0.001054</td>\n",
       "      <td>is</td>\n",
       "    </tr>\n",
       "    <tr>\n",
       "      <th>2</th>\n",
       "      <td>-0.037101</td>\n",
       "      <td>-0.039932</td>\n",
       "      <td>0.066518</td>\n",
       "      <td>the</td>\n",
       "    </tr>\n",
       "    <tr>\n",
       "      <th>3</th>\n",
       "      <td>-0.064660</td>\n",
       "      <td>0.035363</td>\n",
       "      <td>-0.015182</td>\n",
       "      <td>first</td>\n",
       "    </tr>\n",
       "    <tr>\n",
       "      <th>4</th>\n",
       "      <td>0.019333</td>\n",
       "      <td>-0.058670</td>\n",
       "      <td>-0.009261</td>\n",
       "      <td>sentence</td>\n",
       "    </tr>\n",
       "    <tr>\n",
       "      <th>5</th>\n",
       "      <td>0.014208</td>\n",
       "      <td>0.071526</td>\n",
       "      <td>0.021258</td>\n",
       "      <td>for</td>\n",
       "    </tr>\n",
       "    <tr>\n",
       "      <th>6</th>\n",
       "      <td>-0.000948</td>\n",
       "      <td>-0.019166</td>\n",
       "      <td>-0.056870</td>\n",
       "      <td>word2vec</td>\n",
       "    </tr>\n",
       "    <tr>\n",
       "      <th>7</th>\n",
       "      <td>-0.066495</td>\n",
       "      <td>-0.002221</td>\n",
       "      <td>-0.012729</td>\n",
       "      <td>second</td>\n",
       "    </tr>\n",
       "  </tbody>\n",
       "</table>\n",
       "</div>"
      ],
      "text/plain": [
       "          x         y         z      word\n",
       "0  0.076952 -0.000653  0.005211      this\n",
       "1  0.058710  0.013753  0.001054        is\n",
       "2 -0.037101 -0.039932  0.066518       the\n",
       "3 -0.064660  0.035363 -0.015182     first\n",
       "4  0.019333 -0.058670 -0.009261  sentence\n",
       "5  0.014208  0.071526  0.021258       for\n",
       "6 -0.000948 -0.019166 -0.056870  word2vec\n",
       "7 -0.066495 -0.002221 -0.012729    second"
      ]
     },
     "execution_count": 12,
     "metadata": {},
     "output_type": "execute_result"
    }
   ],
   "source": [
    "pca_result_df"
   ]
  },
  {
   "cell_type": "code",
   "execution_count": 13,
   "metadata": {},
   "outputs": [
    {
     "data": {
      "application/vnd.plotly.v1+json": {
       "data": [
        {
         "marker": {
          "opacity": 0.8,
          "size": 4
         },
         "mode": "markers",
         "text": [
          "this",
          "is",
          "the",
          "first",
          "sentence",
          "for",
          "word2vec",
          "second"
         ],
         "type": "scatter3d",
         "x": [
          0.07695166021585464,
          0.05871010571718216,
          -0.037101030349731445,
          -0.0646597295999527,
          0.01933344081044197,
          0.014208341017365456,
          -0.0009481796878390014,
          -0.06649459898471832
         ],
         "y": [
          -0.0006534513086080551,
          0.013753317296504974,
          -0.03993230685591698,
          0.035362787544727325,
          -0.05866958200931549,
          0.07152587920427322,
          -0.01916550286114216,
          -0.0022211228497326374
         ],
         "z": [
          0.005211105570197105,
          0.0010543180396780372,
          0.06651811301708221,
          -0.015181862749159336,
          -0.009260601364076138,
          0.02125767432153225,
          -0.056869715452194214,
          -0.012729053385555744
         ]
        }
       ],
       "layout": {
        "margin": {
         "b": 0,
         "l": 0,
         "r": 0,
         "t": 0
        },
        "scene": {
         "annotations": [
          {
           "opacity": 1,
           "showarrow": false,
           "text": "this",
           "x": 0.07695166021585464,
           "xanchor": "left",
           "xshift": 5,
           "y": -0.0006534513086080551,
           "z": 0.005211105570197105
          },
          {
           "opacity": 1,
           "showarrow": false,
           "text": "is",
           "x": 0.05871010571718216,
           "xanchor": "left",
           "xshift": 5,
           "y": 0.013753317296504974,
           "z": 0.0010543180396780372
          },
          {
           "opacity": 1,
           "showarrow": false,
           "text": "the",
           "x": -0.037101030349731445,
           "xanchor": "left",
           "xshift": 5,
           "y": -0.03993230685591698,
           "z": 0.06651811301708221
          },
          {
           "opacity": 1,
           "showarrow": false,
           "text": "first",
           "x": -0.0646597295999527,
           "xanchor": "left",
           "xshift": 5,
           "y": 0.035362787544727325,
           "z": -0.015181862749159336
          },
          {
           "opacity": 1,
           "showarrow": false,
           "text": "sentence",
           "x": 0.01933344081044197,
           "xanchor": "left",
           "xshift": 5,
           "y": -0.05866958200931549,
           "z": -0.009260601364076138
          },
          {
           "opacity": 1,
           "showarrow": false,
           "text": "for",
           "x": 0.014208341017365456,
           "xanchor": "left",
           "xshift": 5,
           "y": 0.07152587920427322,
           "z": 0.02125767432153225
          },
          {
           "opacity": 1,
           "showarrow": false,
           "text": "word2vec",
           "x": -0.0009481796878390014,
           "xanchor": "left",
           "xshift": 5,
           "y": -0.01916550286114216,
           "z": -0.056869715452194214
          },
          {
           "opacity": 1,
           "showarrow": false,
           "text": "second",
           "x": -0.06649459898471832,
           "xanchor": "left",
           "xshift": 5,
           "y": -0.0022211228497326374,
           "z": -0.012729053385555744
          }
         ],
         "xaxis": {
          "title": "1st Principle Component"
         },
         "yaxis": {
          "title": "2nd Principle Component"
         },
         "zaxis": {
          "title": "3rd Principle Component"
         }
        }
       }
      },
      "text/html": [
       "<div id=\"aeb5876d-750c-490f-91ee-b5473c1b2a97\" style=\"height: 525px; width: 100%;\" class=\"plotly-graph-div\"></div><script type=\"text/javascript\">require([\"plotly\"], function(Plotly) { window.PLOTLYENV=window.PLOTLYENV || {};window.PLOTLYENV.BASE_URL=\"http://type-here.com\";Plotly.newPlot(\"aeb5876d-750c-490f-91ee-b5473c1b2a97\", [{\"type\": \"scatter3d\", \"x\": [0.07695166021585464, 0.05871010571718216, -0.037101030349731445, -0.0646597295999527, 0.01933344081044197, 0.014208341017365456, -0.0009481796878390014, -0.06649459898471832], \"y\": [-0.0006534513086080551, 0.013753317296504974, -0.03993230685591698, 0.035362787544727325, -0.05866958200931549, 0.07152587920427322, -0.01916550286114216, -0.0022211228497326374], \"z\": [0.005211105570197105, 0.0010543180396780372, 0.06651811301708221, -0.015181862749159336, -0.009260601364076138, 0.02125767432153225, -0.056869715452194214, -0.012729053385555744], \"mode\": \"markers\", \"marker\": {\"size\": 4, \"opacity\": 0.8}, \"text\": [\"this\", \"is\", \"the\", \"first\", \"sentence\", \"for\", \"word2vec\", \"second\"]}], {\"margin\": {\"l\": 0, \"r\": 0, \"b\": 0, \"t\": 0}, \"scene\": {\"xaxis\": {\"title\": \"1st Principle Component\"}, \"yaxis\": {\"title\": \"2nd Principle Component\"}, \"zaxis\": {\"title\": \"3rd Principle Component\"}, \"annotations\": [{\"showarrow\": false, \"x\": 0.07695166021585464, \"y\": -0.0006534513086080551, \"z\": 0.005211105570197105, \"text\": \"this\", \"xanchor\": \"left\", \"xshift\": 5, \"opacity\": 1}, {\"showarrow\": false, \"x\": 0.05871010571718216, \"y\": 0.013753317296504974, \"z\": 0.0010543180396780372, \"text\": \"is\", \"xanchor\": \"left\", \"xshift\": 5, \"opacity\": 1}, {\"showarrow\": false, \"x\": -0.037101030349731445, \"y\": -0.03993230685591698, \"z\": 0.06651811301708221, \"text\": \"the\", \"xanchor\": \"left\", \"xshift\": 5, \"opacity\": 1}, {\"showarrow\": false, \"x\": -0.0646597295999527, \"y\": 0.035362787544727325, \"z\": -0.015181862749159336, \"text\": \"first\", \"xanchor\": \"left\", \"xshift\": 5, \"opacity\": 1}, {\"showarrow\": false, \"x\": 0.01933344081044197, \"y\": -0.05866958200931549, \"z\": -0.009260601364076138, \"text\": \"sentence\", \"xanchor\": \"left\", \"xshift\": 5, \"opacity\": 1}, {\"showarrow\": false, \"x\": 0.014208341017365456, \"y\": 0.07152587920427322, \"z\": 0.02125767432153225, \"text\": \"for\", \"xanchor\": \"left\", \"xshift\": 5, \"opacity\": 1}, {\"showarrow\": false, \"x\": -0.0009481796878390014, \"y\": -0.01916550286114216, \"z\": -0.056869715452194214, \"text\": \"word2vec\", \"xanchor\": \"left\", \"xshift\": 5, \"opacity\": 1}, {\"showarrow\": false, \"x\": -0.06649459898471832, \"y\": -0.0022211228497326374, \"z\": -0.012729053385555744, \"text\": \"second\", \"xanchor\": \"left\", \"xshift\": 5, \"opacity\": 1}]}}, {\"showLink\": true, \"linkText\": \"Export to type-here.com\"})});</script>"
      ],
      "text/vnd.plotly.v1+html": [
       "<div id=\"aeb5876d-750c-490f-91ee-b5473c1b2a97\" style=\"height: 525px; width: 100%;\" class=\"plotly-graph-div\"></div><script type=\"text/javascript\">require([\"plotly\"], function(Plotly) { window.PLOTLYENV=window.PLOTLYENV || {};window.PLOTLYENV.BASE_URL=\"http://type-here.com\";Plotly.newPlot(\"aeb5876d-750c-490f-91ee-b5473c1b2a97\", [{\"type\": \"scatter3d\", \"x\": [0.07695166021585464, 0.05871010571718216, -0.037101030349731445, -0.0646597295999527, 0.01933344081044197, 0.014208341017365456, -0.0009481796878390014, -0.06649459898471832], \"y\": [-0.0006534513086080551, 0.013753317296504974, -0.03993230685591698, 0.035362787544727325, -0.05866958200931549, 0.07152587920427322, -0.01916550286114216, -0.0022211228497326374], \"z\": [0.005211105570197105, 0.0010543180396780372, 0.06651811301708221, -0.015181862749159336, -0.009260601364076138, 0.02125767432153225, -0.056869715452194214, -0.012729053385555744], \"mode\": \"markers\", \"marker\": {\"size\": 4, \"opacity\": 0.8}, \"text\": [\"this\", \"is\", \"the\", \"first\", \"sentence\", \"for\", \"word2vec\", \"second\"]}], {\"margin\": {\"l\": 0, \"r\": 0, \"b\": 0, \"t\": 0}, \"scene\": {\"xaxis\": {\"title\": \"1st Principle Component\"}, \"yaxis\": {\"title\": \"2nd Principle Component\"}, \"zaxis\": {\"title\": \"3rd Principle Component\"}, \"annotations\": [{\"showarrow\": false, \"x\": 0.07695166021585464, \"y\": -0.0006534513086080551, \"z\": 0.005211105570197105, \"text\": \"this\", \"xanchor\": \"left\", \"xshift\": 5, \"opacity\": 1}, {\"showarrow\": false, \"x\": 0.05871010571718216, \"y\": 0.013753317296504974, \"z\": 0.0010543180396780372, \"text\": \"is\", \"xanchor\": \"left\", \"xshift\": 5, \"opacity\": 1}, {\"showarrow\": false, \"x\": -0.037101030349731445, \"y\": -0.03993230685591698, \"z\": 0.06651811301708221, \"text\": \"the\", \"xanchor\": \"left\", \"xshift\": 5, \"opacity\": 1}, {\"showarrow\": false, \"x\": -0.0646597295999527, \"y\": 0.035362787544727325, \"z\": -0.015181862749159336, \"text\": \"first\", \"xanchor\": \"left\", \"xshift\": 5, \"opacity\": 1}, {\"showarrow\": false, \"x\": 0.01933344081044197, \"y\": -0.05866958200931549, \"z\": -0.009260601364076138, \"text\": \"sentence\", \"xanchor\": \"left\", \"xshift\": 5, \"opacity\": 1}, {\"showarrow\": false, \"x\": 0.014208341017365456, \"y\": 0.07152587920427322, \"z\": 0.02125767432153225, \"text\": \"for\", \"xanchor\": \"left\", \"xshift\": 5, \"opacity\": 1}, {\"showarrow\": false, \"x\": -0.0009481796878390014, \"y\": -0.01916550286114216, \"z\": -0.056869715452194214, \"text\": \"word2vec\", \"xanchor\": \"left\", \"xshift\": 5, \"opacity\": 1}, {\"showarrow\": false, \"x\": -0.06649459898471832, \"y\": -0.0022211228497326374, \"z\": -0.012729053385555744, \"text\": \"second\", \"xanchor\": \"left\", \"xshift\": 5, \"opacity\": 1}]}}, {\"showLink\": true, \"linkText\": \"Export to type-here.com\"})});</script>"
      ]
     },
     "metadata": {},
     "output_type": "display_data"
    }
   ],
   "source": [
    "trace1 = go.Scatter3d(x=pca_result_df[\"x\"], y=pca_result_df[\"y\"], z=pca_result_df[\"z\"],\n",
    "                      mode='markers', marker={\"size\": 4, \"opacity\": 0.8},\n",
    "                      text=pca_result_df[\"word\"])\n",
    "data = [trace1]\n",
    "\n",
    "layout = go.Layout(margin={\"l\": 0, \"r\": 0, \"b\": 0, \"t\": 0}, \n",
    "                   scene={\"xaxis\": {\"title\": \"1st Principle Component\"}, \n",
    "                          \"yaxis\": {\"title\": \"2nd Principle Component\"}, \n",
    "                          \"zaxis\": {\"title\": \"3rd Principle Component\"},\n",
    "                          \"annotations\": [{\"showarrow\": False,\n",
    "                                           \"x\": row[\"x\"],\n",
    "                                           \"y\": row[\"y\"],\n",
    "                                           \"z\": row[\"z\"],\n",
    "                                           \"text\": row[\"word\"],\n",
    "                                           \"xanchor\": \"left\",\n",
    "                                           \"xshift\": 5,\n",
    "                                           \"opacity\": 1} for _, row in pca_result_df.iterrows()]})\n",
    "\n",
    "iplot(go.Figure(data=data, layout=layout))"
   ]
  },
  {
   "cell_type": "markdown",
   "metadata": {},
   "source": [
    "### Use Stanford NLP Group's Glove Vectors"
   ]
  },
  {
   "cell_type": "code",
   "execution_count": 4,
   "metadata": {},
   "outputs": [],
   "source": [
    "# 6B tokens, 400K vocab, uncased, 50d vectors\n",
    "glove_vectors = KeyedVectors.load_word2vec_format('./vectors/word2vec.6B.50d.txt')"
   ]
  },
  {
   "cell_type": "code",
   "execution_count": 5,
   "metadata": {},
   "outputs": [
    {
     "name": "stdout",
     "output_type": "stream",
     "text": [
      "['the', ',', '.', 'of', 'to', 'and', 'in', 'a', '\"', \"'s\"]\n"
     ]
    }
   ],
   "source": [
    "print(list(glove_vectors.vocab)[0:10])"
   ]
  },
  {
   "cell_type": "code",
   "execution_count": 6,
   "metadata": {},
   "outputs": [
    {
     "data": {
      "text/plain": [
       "array([[ 0.418   ,  0.24968 , -0.41242 , ..., -0.18411 , -0.11514 ,\n",
       "        -0.78581 ],\n",
       "       [ 0.013441,  0.23682 , -0.16899 , ..., -0.56657 ,  0.044691,\n",
       "         0.30392 ],\n",
       "       [ 0.15164 ,  0.30177 , -0.16763 , ..., -0.35652 ,  0.016413,\n",
       "         0.10216 ],\n",
       "       ...,\n",
       "       [-0.51181 ,  0.058706,  1.0913  , ..., -0.25003 , -1.125   ,\n",
       "         1.5863  ],\n",
       "       [-0.75898 , -0.47426 ,  0.4737  , ...,  0.78954 , -0.014116,\n",
       "         0.6448  ],\n",
       "       [ 0.072617, -0.51393 ,  0.4728  , ..., -0.18907 , -0.59021 ,\n",
       "         0.55559 ]], dtype=float32)"
      ]
     },
     "execution_count": 6,
     "metadata": {},
     "output_type": "execute_result"
    }
   ],
   "source": [
    "glove_vectors[glove_vectors.vocab]"
   ]
  },
  {
   "cell_type": "code",
   "execution_count": 17,
   "metadata": {},
   "outputs": [],
   "source": [
    "pca = PCA(n_components=3)\n",
    "pca_result = pca.fit_transform(glove_vectors[glove_vectors.vocab])"
   ]
  },
  {
   "cell_type": "code",
   "execution_count": 18,
   "metadata": {},
   "outputs": [
    {
     "data": {
      "text/plain": [
       "array([0.05418382, 0.04413974, 0.03595718])"
      ]
     },
     "execution_count": 18,
     "metadata": {},
     "output_type": "execute_result"
    }
   ],
   "source": [
    "pca.explained_variance_ratio_"
   ]
  },
  {
   "cell_type": "code",
   "execution_count": 23,
   "metadata": {},
   "outputs": [],
   "source": [
    "pca_result_df = pd.DataFrame([pca_result[:,0], pca_result[:,1], pca_result[:,2]]).T\n",
    "pca_result_df.columns = [\"x\", \"y\", \"z\"]\n",
    "pca_result_df[\"word\"] = list(glove_vectors.vocab)"
   ]
  },
  {
   "cell_type": "code",
   "execution_count": 24,
   "metadata": {},
   "outputs": [],
   "source": [
    "pca_result_df = pca_result_df.head(300)"
   ]
  },
  {
   "cell_type": "code",
   "execution_count": 25,
   "metadata": {},
   "outputs": [
    {
     "data": {
      "text/html": [
       "<div>\n",
       "<style scoped>\n",
       "    .dataframe tbody tr th:only-of-type {\n",
       "        vertical-align: middle;\n",
       "    }\n",
       "\n",
       "    .dataframe tbody tr th {\n",
       "        vertical-align: top;\n",
       "    }\n",
       "\n",
       "    .dataframe thead th {\n",
       "        text-align: right;\n",
       "    }\n",
       "</style>\n",
       "<table border=\"1\" class=\"dataframe\">\n",
       "  <thead>\n",
       "    <tr style=\"text-align: right;\">\n",
       "      <th></th>\n",
       "      <th>x</th>\n",
       "      <th>y</th>\n",
       "      <th>z</th>\n",
       "      <th>word</th>\n",
       "    </tr>\n",
       "  </thead>\n",
       "  <tbody>\n",
       "    <tr>\n",
       "      <th>0</th>\n",
       "      <td>5.216968</td>\n",
       "      <td>2.071525</td>\n",
       "      <td>-1.041188</td>\n",
       "      <td>the</td>\n",
       "    </tr>\n",
       "    <tr>\n",
       "      <th>1</th>\n",
       "      <td>4.079723</td>\n",
       "      <td>3.071180</td>\n",
       "      <td>-0.782012</td>\n",
       "      <td>,</td>\n",
       "    </tr>\n",
       "    <tr>\n",
       "      <th>2</th>\n",
       "      <td>4.607769</td>\n",
       "      <td>2.452483</td>\n",
       "      <td>-0.470738</td>\n",
       "      <td>.</td>\n",
       "    </tr>\n",
       "    <tr>\n",
       "      <th>3</th>\n",
       "      <td>5.049289</td>\n",
       "      <td>2.102895</td>\n",
       "      <td>-1.197363</td>\n",
       "      <td>of</td>\n",
       "    </tr>\n",
       "    <tr>\n",
       "      <th>4</th>\n",
       "      <td>5.046917</td>\n",
       "      <td>2.349576</td>\n",
       "      <td>-0.315912</td>\n",
       "      <td>to</td>\n",
       "    </tr>\n",
       "    <tr>\n",
       "      <th>5</th>\n",
       "      <td>4.548707</td>\n",
       "      <td>2.689034</td>\n",
       "      <td>-0.496939</td>\n",
       "      <td>and</td>\n",
       "    </tr>\n",
       "    <tr>\n",
       "      <th>6</th>\n",
       "      <td>5.170194</td>\n",
       "      <td>1.925231</td>\n",
       "      <td>-1.519525</td>\n",
       "      <td>in</td>\n",
       "    </tr>\n",
       "    <tr>\n",
       "      <th>7</th>\n",
       "      <td>5.011414</td>\n",
       "      <td>2.323164</td>\n",
       "      <td>-0.155610</td>\n",
       "      <td>a</td>\n",
       "    </tr>\n",
       "    <tr>\n",
       "      <th>8</th>\n",
       "      <td>3.896892</td>\n",
       "      <td>2.540642</td>\n",
       "      <td>-0.945204</td>\n",
       "      <td>\"</td>\n",
       "    </tr>\n",
       "    <tr>\n",
       "      <th>9</th>\n",
       "      <td>4.346787</td>\n",
       "      <td>3.494284</td>\n",
       "      <td>-0.825948</td>\n",
       "      <td>'s</td>\n",
       "    </tr>\n",
       "  </tbody>\n",
       "</table>\n",
       "</div>"
      ],
      "text/plain": [
       "          x         y         z word\n",
       "0  5.216968  2.071525 -1.041188  the\n",
       "1  4.079723  3.071180 -0.782012    ,\n",
       "2  4.607769  2.452483 -0.470738    .\n",
       "3  5.049289  2.102895 -1.197363   of\n",
       "4  5.046917  2.349576 -0.315912   to\n",
       "5  4.548707  2.689034 -0.496939  and\n",
       "6  5.170194  1.925231 -1.519525   in\n",
       "7  5.011414  2.323164 -0.155610    a\n",
       "8  3.896892  2.540642 -0.945204    \"\n",
       "9  4.346787  3.494284 -0.825948   's"
      ]
     },
     "execution_count": 25,
     "metadata": {},
     "output_type": "execute_result"
    }
   ],
   "source": [
    "pca_result_df.head(10)"
   ]
  },
  {
   "cell_type": "code",
   "execution_count": 26,
   "metadata": {},
   "outputs": [
    {
     "data": {
      "application/vnd.plotly.v1+json": {
       "data": [
        {
         "marker": {
          "opacity": 0.8,
          "size": 4
         },
         "mode": "markers",
         "text": [
          "the",
          ",",
          ".",
          "of",
          "to",
          "and",
          "in",
          "a",
          "\"",
          "'s",
          "for",
          "-",
          "that",
          "on",
          "is",
          "was",
          "said",
          "with",
          "he",
          "as",
          "it",
          "by",
          "at",
          "(",
          ")",
          "from",
          "his",
          "''",
          "``",
          "an",
          "be",
          "has",
          "are",
          "have",
          "but",
          "were",
          "not",
          "this",
          "who",
          "they",
          "had",
          "i",
          "which",
          "will",
          "their",
          ":",
          "or",
          "its",
          "one",
          "after",
          "new",
          "been",
          "also",
          "we",
          "would",
          "two",
          "more",
          "'",
          "first",
          "about",
          "up",
          "when",
          "year",
          "there",
          "all",
          "--",
          "out",
          "she",
          "other",
          "people",
          "n't",
          "her",
          "percent",
          "than",
          "over",
          "into",
          "last",
          "some",
          "government",
          "time",
          "$",
          "you",
          "years",
          "if",
          "no",
          "world",
          "can",
          "three",
          "do",
          ";",
          "president",
          "only",
          "state",
          "million",
          "could",
          "us",
          "most",
          "_",
          "against",
          "u.s.",
          "so",
          "them",
          "what",
          "him",
          "united",
          "during",
          "before",
          "may",
          "since",
          "many",
          "while",
          "where",
          "states",
          "because",
          "now",
          "city",
          "made",
          "like",
          "between",
          "did",
          "just",
          "national",
          "day",
          "country",
          "under",
          "such",
          "second",
          "then",
          "company",
          "group",
          "any",
          "through",
          "china",
          "four",
          "being",
          "down",
          "war",
          "back",
          "off",
          "south",
          "american",
          "minister",
          "police",
          "well",
          "including",
          "team",
          "international",
          "week",
          "officials",
          "still",
          "both",
          "even",
          "high",
          "part",
          "told",
          "those",
          "end",
          "former",
          "these",
          "make",
          "billion",
          "work",
          "our",
          "home",
          "school",
          "party",
          "house",
          "old",
          "later",
          "get",
          "another",
          "tuesday",
          "news",
          "long",
          "five",
          "called",
          "1",
          "wednesday",
          "military",
          "way",
          "used",
          "much",
          "next",
          "monday",
          "thursday",
          "friday",
          "game",
          "here",
          "?",
          "should",
          "take",
          "very",
          "my",
          "north",
          "security",
          "season",
          "york",
          "how",
          "public",
          "early",
          "according",
          "several",
          "court",
          "say",
          "around",
          "foreign",
          "10",
          "until",
          "set",
          "political",
          "says",
          "market",
          "however",
          "family",
          "life",
          "same",
          "general",
          "–",
          "left",
          "good",
          "top",
          "university",
          "going",
          "number",
          "major",
          "known",
          "points",
          "won",
          "six",
          "month",
          "dollars",
          "bank",
          "2",
          "iraq",
          "use",
          "members",
          "each",
          "area",
          "found",
          "official",
          "sunday",
          "place",
          "go",
          "based",
          "among",
          "third",
          "times",
          "took",
          "right",
          "days",
          "local",
          "economic",
          "countries",
          "see",
          "best",
          "report",
          "killed",
          "held",
          "business",
          "west",
          "does",
          "own",
          "%",
          "came",
          "law",
          "months",
          "women",
          "'re",
          "power",
          "think",
          "service",
          "children",
          "bush",
          "show",
          "/",
          "help",
          "chief",
          "saturday",
          "system",
          "john",
          "support",
          "series",
          "play",
          "office",
          "following",
          "me",
          "meeting",
          "expected",
          "late",
          "washington",
          "games",
          "european",
          "league",
          "reported",
          "final",
          "added",
          "without",
          "british",
          "white",
          "history"
         ],
         "type": "scatter3d",
         "uid": "0cc12e",
         "x": [
          5.216967582702637,
          4.079722881317139,
          4.607768535614014,
          5.049288749694824,
          5.046916961669922,
          4.548707008361816,
          5.170193672180176,
          5.011414051055908,
          3.8968915939331055,
          4.346786975860596,
          5.020096778869629,
          4.99492073059082,
          4.861939430236816,
          5.128436088562012,
          4.501960277557373,
          4.212862968444824,
          2.8938283920288086,
          4.7888102531433105,
          4.772055149078369,
          4.556411266326904,
          5.20567512512207,
          4.023972034454346,
          4.94092321395874,
          3.708509922027588,
          4.037136554718018,
          5.071026802062988,
          4.587432861328125,
          3.812596082687378,
          4.4702558517456055,
          4.520071506500244,
          4.985276222229004,
          4.551344394683838,
          5.112781524658203,
          5.227019786834717,
          4.774053573608398,
          4.938425064086914,
          4.895444393157959,
          4.922308921813965,
          3.9254441261291504,
          5.297741413116455,
          4.4883646965026855,
          4.706274509429932,
          5.170941352844238,
          4.791145324707031,
          5.452670097351074,
          4.32422399520874,
          5.024126052856445,
          5.528177738189697,
          4.917052745819092,
          4.780513286590576,
          4.929819107055664,
          4.853209495544434,
          4.177886962890625,
          4.869473934173584,
          4.769846439361572,
          5.128317356109619,
          5.249835014343262,
          4.378663063049316,
          4.7125444412231445,
          5.092857360839844,
          5.150915145874023,
          4.675726890563965,
          4.941305637359619,
          4.938770771026611,
          5.144018650054932,
          4.565847873687744,
          5.0229926109313965,
          4.4531474113464355,
          4.933539390563965,
          5.052079677581787,
          4.760455131530762,
          4.36307430267334,
          4.781530380249023,
          5.282629489898682,
          5.112536907196045,
          5.299345970153809,
          4.941040992736816,
          5.293012619018555,
          4.525221347808838,
          4.761252403259277,
          4.993053913116455,
          4.889562606811523,
          4.875858306884766,
          4.752821922302246,
          4.737203598022461,
          4.7914018630981445,
          4.692521095275879,
          5.079331874847412,
          4.651036739349365,
          4.014493465423584,
          3.471311569213867,
          4.940758228302002,
          4.260919094085693,
          5.073211193084717,
          4.7939252853393555,
          4.537331581115723,
          4.946932792663574,
          4.724257469177246,
          4.67711067199707,
          4.213457107543945,
          4.816038131713867,
          4.917011260986328,
          4.670029163360596,
          4.398110389709473,
          4.166689872741699,
          4.781399726867676,
          4.892107963562012,
          4.561856746673584,
          4.945490837097168,
          5.0270514488220215,
          4.496513843536377,
          4.860043525695801,
          4.273285388946533,
          4.863221645355225,
          4.735185623168945,
          4.815072059631348,
          4.353819370269775,
          4.509240627288818,
          4.96712589263916,
          4.188361644744873,
          5.0260491371154785,
          4.287115097045898,
          4.708962917327881,
          4.667102336883545,
          4.542707920074463,
          4.533205986022949,
          4.385119915008545,
          4.47513484954834,
          4.160508155822754,
          4.313721179962158,
          4.9663591384887695,
          4.930641174316406,
          4.330804347991943,
          5.136242389678955,
          4.730784893035889,
          4.897209167480469,
          4.65153169631958,
          4.753171920776367,
          4.89260721206665,
          4.335403919219971,
          4.2125043869018555,
          2.194267988204956,
          3.932183265686035,
          4.643117904663086,
          4.361049175262451,
          4.351019859313965,
          4.407783508300781,
          4.6508378982543945,
          4.466568470001221,
          4.750868320465088,
          4.397651672363281,
          4.87606954574585,
          4.617319583892822,
          4.7243571281433105,
          2.6247570514678955,
          5.063212871551514,
          4.720518112182617,
          3.4103097915649414,
          5.049830436706543,
          4.791534900665283,
          4.917709827423096,
          4.216007709503174,
          4.824935436248779,
          4.4419779777526855,
          4.303041458129883,
          4.034034252166748,
          4.0769572257995605,
          4.0526909828186035,
          4.12070894241333,
          4.685903549194336,
          4.544290065765381,
          4.262948989868164,
          3.771401882171631,
          4.810268878936768,
          4.998775482177734,
          3.8582303524017334,
          4.484417915344238,
          4.29542875289917,
          4.507875919342041,
          4.734809398651123,
          4.62615442276001,
          4.8655104637146,
          4.757149696350098,
          4.244951248168945,
          4.237460613250732,
          4.35973596572876,
          4.762360572814941,
          4.383679389953613,
          4.3539628982543945,
          4.566112518310547,
          4.735493183135986,
          4.397828578948975,
          4.7072434425354,
          4.456636905670166,
          4.083706855773926,
          4.49833345413208,
          4.075562000274658,
          4.58231782913208,
          4.375085353851318,
          4.65294075012207,
          3.5955379009246826,
          4.819390773773193,
          4.167627811431885,
          4.425386905670166,
          5.110354423522949,
          3.2350738048553467,
          4.684028625488281,
          4.755550861358643,
          4.414773464202881,
          4.408890247344971,
          3.0382206439971924,
          4.357215404510498,
          4.154040813446045,
          3.7366762161254883,
          4.342345714569092,
          4.863308906555176,
          2.898312568664551,
          3.7689602375030518,
          4.157364845275879,
          4.332235813140869,
          4.2436842918396,
          4.053337097167969,
          4.568185329437256,
          4.458015441894531,
          4.112184047698975,
          3.985570192337036,
          4.038834095001221,
          3.8014636039733887,
          4.963571548461914,
          4.607851982116699,
          4.45352840423584,
          3.8302161693573,
          4.488245964050293,
          4.125180721282959,
          4.780884265899658,
          4.229859352111816,
          4.918049335479736,
          4.489038467407227,
          4.209103584289551,
          3.6701278686523438,
          4.410510540008545,
          4.645298957824707,
          4.508079528808594,
          4.3003387451171875,
          4.4363484382629395,
          4.128358840942383,
          4.247020721435547,
          4.081913948059082,
          4.437952518463135,
          4.753405570983887,
          4.124959945678711,
          4.123745441436768,
          4.673676490783691,
          4.373965740203857,
          4.169399261474609,
          3.400379180908203,
          3.8213882446289062,
          4.40842342376709,
          4.287320137023926,
          4.222295761108398,
          4.107801914215088,
          4.692800521850586,
          4.014171123504639,
          4.261556148529053,
          4.0672926902771,
          4.605917453765869,
          4.567727565765381,
          4.498388767242432,
          4.5681633949279785,
          4.214108943939209,
          3.951046943664551,
          4.19658088684082,
          3.939517021179199,
          4.18776798248291,
          3.1048011779785156,
          4.287907123565674,
          2.496884822845459,
          4.355184555053711,
          4.683149814605713,
          2.617359161376953,
          4.12067985534668,
          4.52719783782959,
          4.262484550476074,
          3.8617327213287354,
          4.456711769104004,
          4.013160228729248,
          3.882232904434204,
          4.253842830657959,
          4.214905738830566,
          3.695899248123169,
          4.827032089233398,
          4.511822700500488,
          4.322577476501465,
          3.6674046516418457,
          4.603315830230713,
          3.216233968734741,
          4.59336519241333,
          4.02921199798584,
          4.201934337615967,
          4.629168510437012
         ],
         "y": [
          2.0715253353118896,
          3.0711798667907715,
          2.4524827003479004,
          2.1028945446014404,
          2.349575996398926,
          2.6890344619750977,
          1.9252305030822754,
          2.3231635093688965,
          2.540642023086548,
          3.4942843914031982,
          2.403280019760132,
          3.156994104385376,
          3.192488431930542,
          2.1550769805908203,
          2.2899997234344482,
          3.12158203125,
          5.085710525512695,
          2.681976318359375,
          3.2402446269989014,
          2.5599477291107178,
          2.279451370239258,
          3.3659815788269043,
          1.951338768005371,
          2.2808291912078857,
          2.0566916465759277,
          2.044612407684326,
          3.474882125854492,
          3.8462538719177246,
          3.0696606636047363,
          2.231208324432373,
          2.546231746673584,
          3.1511309146881104,
          1.8548325300216675,
          2.721656084060669,
          2.9968771934509277,
          2.3290958404541016,
          2.862355947494507,
          2.3302009105682373,
          4.004362106323242,
          2.4741320610046387,
          3.530055284500122,
          3.1656668186187744,
          1.9242379665374756,
          2.6731913089752197,
          1.8981014490127563,
          2.4321413040161133,
          1.3908820152282715,
          1.3742468357086182,
          2.437164783477783,
          2.878380060195923,
          2.220299243927002,
          2.802443504333496,
          2.9526915550231934,
          2.8874220848083496,
          2.7934703826904297,
          2.3822479248046875,
          1.9296460151672363,
          2.8623452186584473,
          2.33701491355896,
          2.2756054401397705,
          2.353262424468994,
          3.092359781265259,
          2.3532304763793945,
          2.18780517578125,
          2.284372091293335,
          3.067829132080078,
          2.781018018722534,
          2.8897690773010254,
          2.2319679260253906,
          1.842821717262268,
          3.090169906616211,
          3.0225796699523926,
          1.7614456415176392,
          1.8122483491897583,
          2.0932095050811768,
          1.7450952529907227,
          2.6344363689422607,
          1.8885185718536377,
          2.3504135608673096,
          2.437911033630371,
          1.7504148483276367,
          2.4028961658477783,
          2.4746646881103516,
          2.6594161987304688,
          2.3636972904205322,
          1.9989060163497925,
          2.0292766094207764,
          2.2274317741394043,
          2.4091413021087646,
          2.459599494934082,
          4.301771640777588,
          2.0835204124450684,
          1.9704641103744507,
          1.605770468711853,
          2.700995445251465,
          2.202362060546875,
          1.8150817155838013,
          2.264376401901245,
          2.147813081741333,
          2.562113046646118,
          2.3744893074035645,
          2.3593318462371826,
          2.965496301651001,
          3.3189268112182617,
          2.3035671710968018,
          2.122328281402588,
          2.4680802822113037,
          2.14446759223938,
          2.271040916442871,
          1.9548503160476685,
          2.515183687210083,
          1.8954837322235107,
          2.072840929031372,
          2.3999433517456055,
          2.2634198665618896,
          1.5517265796661377,
          2.8323705196380615,
          2.7202298641204834,
          1.590242624282837,
          3.222860336303711,
          2.2313244342803955,
          1.8406070470809937,
          2.1872894763946533,
          1.7526817321777344,
          2.5828723907470703,
          2.1310744285583496,
          2.364382028579712,
          2.706256628036499,
          2.5528104305267334,
          2.152989149093628,
          1.9915786981582642,
          1.5617986917495728,
          1.3914178609848022,
          2.115351438522339,
          2.3152332305908203,
          2.313080310821533,
          1.8496681451797485,
          2.7674219608306885,
          2.5128607749938965,
          1.604041337966919,
          2.3202617168426514,
          4.613776206970215,
          2.752328395843506,
          2.2577247619628906,
          2.3827948570251465,
          2.6282176971435547,
          2.1101298332214355,
          2.5136425495147705,
          2.5258352756500244,
          2.2936758995056152,
          2.5150370597839355,
          2.305211067199707,
          1.5203083753585815,
          1.5675214529037476,
          4.354806900024414,
          2.187272310256958,
          2.0264360904693604,
          3.6517159938812256,
          1.6526249647140503,
          2.1091227531433105,
          1.534881830215454,
          2.441807270050049,
          2.0461020469665527,
          2.074309825897217,
          1.7399981021881104,
          2.2558815479278564,
          2.5015828609466553,
          2.6183767318725586,
          2.9025027751922607,
          2.4566867351531982,
          2.307378053665161,
          2.775517225265503,
          2.2989203929901123,
          2.1414270401000977,
          2.070037603378296,
          2.3504724502563477,
          1.3914005756378174,
          2.7530384063720703,
          1.892241358757019,
          2.2210018634796143,
          1.8239318132400513,
          2.2145638465881348,
          2.12890362739563,
          2.7317848205566406,
          2.700826644897461,
          2.584836959838867,
          1.8955172300338745,
          2.4075675010681152,
          2.4074759483337402,
          2.454089641571045,
          2.2680678367614746,
          2.329845428466797,
          2.466478109359741,
          1.297829031944275,
          2.171898365020752,
          1.8971593379974365,
          2.3445587158203125,
          2.7462737560272217,
          1.748065710067749,
          2.07099986076355,
          2.633871555328369,
          2.139211416244507,
          2.428044557571411,
          2.6263813972473145,
          1.4102680683135986,
          2.879243850708008,
          1.8150752782821655,
          1.8801968097686768,
          1.973650336265564,
          2.0924253463745117,
          3.8056609630584717,
          1.7812095880508423,
          2.446223020553589,
          2.6852335929870605,
          2.28562068939209,
          2.1336848735809326,
          3.7468936443328857,
          1.793006181716919,
          2.5967867374420166,
          2.453969955444336,
          2.3249053955078125,
          2.413198232650757,
          2.2176640033721924,
          1.5024714469909668,
          2.2703826427459717,
          2.057464361190796,
          2.219677448272705,
          2.4375009536743164,
          1.964255452156067,
          2.2537014484405518,
          1.2389119863510132,
          1.928436517715454,
          1.518540859222412,
          1.9911046028137207,
          1.4826236963272095,
          2.137843132019043,
          1.6531871557235718,
          1.1216269731521606,
          2.3858144283294678,
          2.387709617614746,
          2.209196090698242,
          1.6009087562561035,
          2.1113131046295166,
          1.9533979892730713,
          2.066624164581299,
          2.245885133743286,
          2.1885180473327637,
          2.8093647956848145,
          2.6106183528900146,
          1.9817759990692139,
          1.2778615951538086,
          1.9816629886627197,
          1.5071437358856201,
          2.2470510005950928,
          2.3159446716308594,
          2.7475433349609375,
          2.6061737537384033,
          1.8011736869812012,
          1.9928381443023682,
          1.5245614051818848,
          2.553513526916504,
          2.127920150756836,
          0.703749418258667,
          2.633272886276245,
          2.487339735031128,
          2.343879461288452,
          1.5244765281677246,
          2.1637256145477295,
          1.8059442043304443,
          2.8398940563201904,
          1.3479527235031128,
          2.341705322265625,
          2.662404775619507,
          2.2467195987701416,
          1.960681438446045,
          2.3328263759613037,
          4.556063175201416,
          2.2009384632110596,
          0.9682967662811279,
          4.310896873474121,
          1.8817390203475952,
          1.8870466947555542,
          2.2572178840637207,
          2.6449532508850098,
          1.8771135807037354,
          2.7916176319122314,
          2.5410475730895996,
          2.4034037590026855,
          2.6009480953216553,
          2.584826946258545,
          1.5321491956710815,
          1.821513295173645,
          1.613959550857544,
          2.133031129837036,
          1.6058392524719238,
          3.1917953491210938,
          2.0330896377563477,
          2.1900558471679688,
          2.59145188331604,
          1.592909574508667
         ],
         "z": [
          -1.0411882400512695,
          -0.7820123434066772,
          -0.4707377254962921,
          -1.1973633766174316,
          -0.31591150164604187,
          -0.49693867564201355,
          -1.5195250511169434,
          -0.15560950338840485,
          -0.9452044367790222,
          -0.8259484171867371,
          -0.010254917666316032,
          -0.5427168607711792,
          -0.19757670164108276,
          -0.39532145857810974,
          -1.4158155918121338,
          -0.6713814735412598,
          -0.8577430248260498,
          0.1735670566558838,
          -0.40621039271354675,
          -0.5295460820198059,
          -0.4750240743160248,
          -0.18493568897247314,
          -1.0775752067565918,
          -0.944581151008606,
          -0.96592116355896,
          -0.7548046112060547,
          0.12143953144550323,
          0.061667587608098984,
          0.00795269850641489,
          -0.302045613527298,
          0.0028459897730499506,
          -0.746656060218811,
          -0.005585001781582832,
          0.029876060783863068,
          0.030983060598373413,
          0.182613804936409,
          -0.01869153045117855,
          -0.4555211365222931,
          0.09413222968578339,
          0.01037440076470375,
          -0.05292215570807457,
          -0.18998396396636963,
          -0.7636980414390564,
          -0.21979980170726776,
          0.4764302372932434,
          -0.4625760018825531,
          0.24620772898197174,
          -0.4978443682193756,
          -0.20573736727237701,
          -0.26420778036117554,
          -0.34035053849220276,
          -0.33937811851501465,
          -0.7942090630531311,
          0.03965192288160324,
          -0.08843903243541718,
          0.2571178674697876,
          0.6257534027099609,
          -0.6783136129379272,
          -0.1376967579126358,
          0.26329678297042847,
          0.503757655620575,
          -0.0889829769730568,
          0.10425152629613876,
          -0.183915376663208,
          0.3323412239551544,
          -0.690118134021759,
          0.47337573766708374,
          -0.1649594008922577,
          -0.10656285285949707,
          -0.42025232315063477,
          0.36769363284111023,
          0.2902856469154358,
          0.5797637701034546,
          0.6353185176849365,
          0.05624081566929817,
          -0.5254566669464111,
          -0.20118345320224762,
          0.22570021450519562,
          -0.7555304765701294,
          0.3041490912437439,
          1.2213619947433472,
          0.485332190990448,
          -0.031358737498521805,
          0.05985260754823685,
          0.13132494688034058,
          0.0648396760225296,
          0.21412694454193115,
          0.30150625109672546,
          -0.3843264877796173,
          -0.18343834578990936,
          -0.8891674876213074,
          0.17809155583381653,
          -2.1505842208862305,
          0.5237267017364502,
          0.1427236795425415,
          0.6127512454986572,
          -0.07184753566980362,
          0.2751544415950775,
          -0.3938615620136261,
          0.3173389732837677,
          0.300810307264328,
          0.6209301948547363,
          -0.090379498898983,
          0.28157296776771545,
          -0.6288166642189026,
          -0.3817870616912842,
          -0.12337594479322433,
          -0.3363281488418579,
          -0.4163814187049866,
          0.07048188149929047,
          0.07212764024734497,
          -1.7191883325576782,
          -0.5823857188224792,
          -0.09616610407829285,
          -0.7227006554603577,
          -2.756875991821289,
          0.24869628250598907,
          -0.18533705174922943,
          -0.878240704536438,
          -0.07850518077611923,
          0.13008920848369598,
          -1.5417428016662598,
          -0.014852706342935562,
          -0.8294883966445923,
          -0.3603734076023102,
          -0.1142972782254219,
          -0.19653673470020294,
          -0.47660961747169495,
          -0.5789089798927307,
          -0.9122028946876526,
          0.48430338501930237,
          -0.4163784384727478,
          -0.9156548380851746,
          0.4199819564819336,
          -0.14491026103496552,
          0.5420252084732056,
          -0.20137856900691986,
          0.1315680891275406,
          0.29790762066841125,
          -2.186817169189453,
          0.35181277990341187,
          -0.6385652422904968,
          -1.553863763809204,
          -0.36591988801956177,
          -0.19939075410366058,
          -0.43846410512924194,
          -0.8069119453430176,
          -0.05082347244024277,
          -1.1074748039245605,
          0.04204745590686798,
          -0.20326757431030273,
          0.43717965483665466,
          -0.7498093843460083,
          -1.6085641384124756,
          -1.2544468641281128,
          0.6422839760780334,
          0.05121491849422455,
          -1.327439308166504,
          0.3247855007648468,
          0.48703131079673767,
          1.1532248258590698,
          0.1349196434020996,
          0.3119930028915405,
          -0.5636692643165588,
          -1.6293588876724243,
          -0.5727651715278625,
          -0.4724234342575073,
          -0.292469322681427,
          -0.6692937016487122,
          0.5519512891769409,
          -0.1341952681541443,
          -0.46321260929107666,
          -0.5117247700691223,
          0.19382426142692566,
          0.438678115606308,
          -1.0999118089675903,
          -0.43179044127464294,
          -0.5320255756378174,
          -0.540963888168335,
          -0.11863908916711807,
          -0.04754721000790596,
          0.11399532109498978,
          -0.21505917608737946,
          -0.49043554067611694,
          -0.47358420491218567,
          -0.395705908536911,
          0.6772105693817139,
          -0.7000426054000854,
          0.16589905321598053,
          -0.03767711669206619,
          0.03973398357629776,
          0.004366805776953697,
          0.35214242339134216,
          -2.341529607772827,
          -0.27283453941345215,
          0.1927243024110794,
          -0.5034441947937012,
          0.35169699788093567,
          -0.41583794355392456,
          -0.12340379506349564,
          -0.7874086499214172,
          -0.2673487663269043,
          -1.220737099647522,
          -0.26549381017684937,
          -0.329421728849411,
          0.3148847818374634,
          0.422325074672699,
          -0.4039188027381897,
          0.4953639507293701,
          -0.19617010653018951,
          -0.28383880853652954,
          -0.14443254470825195,
          -0.40172821283340454,
          -0.34474068880081177,
          0.22942404448986053,
          0.0290699265897274,
          -1.0916285514831543,
          -1.1446014642715454,
          -0.051916394382715225,
          0.2505549490451813,
          -0.07899650931358337,
          -2.688415288925171,
          0.20591425895690918,
          0.4177057147026062,
          -0.9230666756629944,
          -1.5437780618667603,
          0.9652987718582153,
          -0.3060963749885559,
          0.5921461582183838,
          0.03314930945634842,
          1.1940432786941528,
          -1.4096746444702148,
          -0.24649851024150848,
          -0.2174845039844513,
          0.4625973105430603,
          -0.2995556890964508,
          0.5291500091552734,
          -2.2902119159698486,
          -0.5369288325309753,
          -1.0683938264846802,
          -0.7263235449790955,
          -0.7077509164810181,
          0.12484732270240784,
          -1.3151018619537354,
          0.07025690376758575,
          0.10554059594869614,
          0.17074090242385864,
          -0.20614401996135712,
          0.196597158908844,
          0.1994810253381729,
          -1.136204719543457,
          -0.24188509583473206,
          -0.07836030423641205,
          -0.37697210907936096,
          0.4665609300136566,
          -0.5061944127082825,
          -0.574068009853363,
          -0.878103494644165,
          -0.2628556191921234,
          -2.2219746112823486,
          -0.2009725272655487,
          0.4001438617706299,
          0.31140968203544617,
          -0.24913889169692993,
          -0.5023407936096191,
          0.3754079043865204,
          0.2444131225347519,
          0.8016120195388794,
          -0.28663909435272217,
          0.08453455567359924,
          -0.14678631722927094,
          0.4328007400035858,
          0.4422439932823181,
          0.09463553130626678,
          -0.6349505186080933,
          -0.0010898400796577334,
          -1.7897043228149414,
          -0.8163132071495056,
          -0.3634205758571625,
          0.02641294337809086,
          0.06803293526172638,
          0.5004991292953491,
          -0.0032544166315346956,
          -1.0773712396621704,
          -0.5308107137680054,
          0.2506905496120453,
          -0.99125075340271,
          -0.006593017838895321,
          -0.2186080813407898,
          -0.7067129611968994,
          0.5629355907440186,
          0.1932940036058426,
          -0.8775862455368042,
          -0.9792546629905701,
          0.12663088738918304,
          0.3623296618461609,
          0.6695057153701782,
          0.12517288327217102,
          0.37352052330970764,
          -0.4490460753440857
         ]
        }
       ],
       "layout": {
        "autosize": true,
        "margin": {
         "b": 0,
         "l": 0,
         "r": 0,
         "t": 0
        },
        "scene": {
         "annotations": [
          {
           "opacity": 1,
           "showarrow": false,
           "text": "the",
           "x": 5.216967582702637,
           "xanchor": "left",
           "xshift": 5,
           "y": 2.0715253353118896,
           "z": -1.0411882400512695
          },
          {
           "opacity": 1,
           "showarrow": false,
           "text": ",",
           "x": 4.079722881317139,
           "xanchor": "left",
           "xshift": 5,
           "y": 3.0711798667907715,
           "z": -0.7820123434066772
          },
          {
           "opacity": 1,
           "showarrow": false,
           "text": ".",
           "x": 4.607768535614014,
           "xanchor": "left",
           "xshift": 5,
           "y": 2.4524827003479004,
           "z": -0.4707377254962921
          },
          {
           "opacity": 1,
           "showarrow": false,
           "text": "of",
           "x": 5.049288749694824,
           "xanchor": "left",
           "xshift": 5,
           "y": 2.1028945446014404,
           "z": -1.1973633766174316
          },
          {
           "opacity": 1,
           "showarrow": false,
           "text": "to",
           "x": 5.046916961669922,
           "xanchor": "left",
           "xshift": 5,
           "y": 2.349575996398926,
           "z": -0.31591150164604187
          },
          {
           "opacity": 1,
           "showarrow": false,
           "text": "and",
           "x": 4.548707008361816,
           "xanchor": "left",
           "xshift": 5,
           "y": 2.6890344619750977,
           "z": -0.49693867564201355
          },
          {
           "opacity": 1,
           "showarrow": false,
           "text": "in",
           "x": 5.170193672180176,
           "xanchor": "left",
           "xshift": 5,
           "y": 1.9252305030822754,
           "z": -1.5195250511169434
          },
          {
           "opacity": 1,
           "showarrow": false,
           "text": "a",
           "x": 5.011414051055908,
           "xanchor": "left",
           "xshift": 5,
           "y": 2.3231635093688965,
           "z": -0.15560950338840485
          },
          {
           "opacity": 1,
           "showarrow": false,
           "text": "\"",
           "x": 3.8968915939331055,
           "xanchor": "left",
           "xshift": 5,
           "y": 2.540642023086548,
           "z": -0.9452044367790222
          },
          {
           "opacity": 1,
           "showarrow": false,
           "text": "'s",
           "x": 4.346786975860596,
           "xanchor": "left",
           "xshift": 5,
           "y": 3.4942843914031982,
           "z": -0.8259484171867371
          },
          {
           "opacity": 1,
           "showarrow": false,
           "text": "for",
           "x": 5.020096778869629,
           "xanchor": "left",
           "xshift": 5,
           "y": 2.403280019760132,
           "z": -0.010254917666316032
          },
          {
           "opacity": 1,
           "showarrow": false,
           "text": "-",
           "x": 4.99492073059082,
           "xanchor": "left",
           "xshift": 5,
           "y": 3.156994104385376,
           "z": -0.5427168607711792
          },
          {
           "opacity": 1,
           "showarrow": false,
           "text": "that",
           "x": 4.861939430236816,
           "xanchor": "left",
           "xshift": 5,
           "y": 3.192488431930542,
           "z": -0.19757670164108276
          },
          {
           "opacity": 1,
           "showarrow": false,
           "text": "on",
           "x": 5.128436088562012,
           "xanchor": "left",
           "xshift": 5,
           "y": 2.1550769805908203,
           "z": -0.39532145857810974
          },
          {
           "opacity": 1,
           "showarrow": false,
           "text": "is",
           "x": 4.501960277557373,
           "xanchor": "left",
           "xshift": 5,
           "y": 2.2899997234344482,
           "z": -1.4158155918121338
          },
          {
           "opacity": 1,
           "showarrow": false,
           "text": "was",
           "x": 4.212862968444824,
           "xanchor": "left",
           "xshift": 5,
           "y": 3.12158203125,
           "z": -0.6713814735412598
          },
          {
           "opacity": 1,
           "showarrow": false,
           "text": "said",
           "x": 2.8938283920288086,
           "xanchor": "left",
           "xshift": 5,
           "y": 5.085710525512695,
           "z": -0.8577430248260498
          },
          {
           "opacity": 1,
           "showarrow": false,
           "text": "with",
           "x": 4.7888102531433105,
           "xanchor": "left",
           "xshift": 5,
           "y": 2.681976318359375,
           "z": 0.1735670566558838
          },
          {
           "opacity": 1,
           "showarrow": false,
           "text": "he",
           "x": 4.772055149078369,
           "xanchor": "left",
           "xshift": 5,
           "y": 3.2402446269989014,
           "z": -0.40621039271354675
          },
          {
           "opacity": 1,
           "showarrow": false,
           "text": "as",
           "x": 4.556411266326904,
           "xanchor": "left",
           "xshift": 5,
           "y": 2.5599477291107178,
           "z": -0.5295460820198059
          },
          {
           "opacity": 1,
           "showarrow": false,
           "text": "it",
           "x": 5.20567512512207,
           "xanchor": "left",
           "xshift": 5,
           "y": 2.279451370239258,
           "z": -0.4750240743160248
          },
          {
           "opacity": 1,
           "showarrow": false,
           "text": "by",
           "x": 4.023972034454346,
           "xanchor": "left",
           "xshift": 5,
           "y": 3.3659815788269043,
           "z": -0.18493568897247314
          },
          {
           "opacity": 1,
           "showarrow": false,
           "text": "at",
           "x": 4.94092321395874,
           "xanchor": "left",
           "xshift": 5,
           "y": 1.951338768005371,
           "z": -1.0775752067565918
          },
          {
           "opacity": 1,
           "showarrow": false,
           "text": "(",
           "x": 3.708509922027588,
           "xanchor": "left",
           "xshift": 5,
           "y": 2.2808291912078857,
           "z": -0.944581151008606
          },
          {
           "opacity": 1,
           "showarrow": false,
           "text": ")",
           "x": 4.037136554718018,
           "xanchor": "left",
           "xshift": 5,
           "y": 2.0566916465759277,
           "z": -0.96592116355896
          },
          {
           "opacity": 1,
           "showarrow": false,
           "text": "from",
           "x": 5.071026802062988,
           "xanchor": "left",
           "xshift": 5,
           "y": 2.044612407684326,
           "z": -0.7548046112060547
          },
          {
           "opacity": 1,
           "showarrow": false,
           "text": "his",
           "x": 4.587432861328125,
           "xanchor": "left",
           "xshift": 5,
           "y": 3.474882125854492,
           "z": 0.12143953144550323
          },
          {
           "opacity": 1,
           "showarrow": false,
           "text": "''",
           "x": 3.812596082687378,
           "xanchor": "left",
           "xshift": 5,
           "y": 3.8462538719177246,
           "z": 0.061667587608098984
          },
          {
           "opacity": 1,
           "showarrow": false,
           "text": "``",
           "x": 4.4702558517456055,
           "xanchor": "left",
           "xshift": 5,
           "y": 3.0696606636047363,
           "z": 0.00795269850641489
          },
          {
           "opacity": 1,
           "showarrow": false,
           "text": "an",
           "x": 4.520071506500244,
           "xanchor": "left",
           "xshift": 5,
           "y": 2.231208324432373,
           "z": -0.302045613527298
          },
          {
           "opacity": 1,
           "showarrow": false,
           "text": "be",
           "x": 4.985276222229004,
           "xanchor": "left",
           "xshift": 5,
           "y": 2.546231746673584,
           "z": 0.0028459897730499506
          },
          {
           "opacity": 1,
           "showarrow": false,
           "text": "has",
           "x": 4.551344394683838,
           "xanchor": "left",
           "xshift": 5,
           "y": 3.1511309146881104,
           "z": -0.746656060218811
          },
          {
           "opacity": 1,
           "showarrow": false,
           "text": "are",
           "x": 5.112781524658203,
           "xanchor": "left",
           "xshift": 5,
           "y": 1.8548325300216675,
           "z": -0.005585001781582832
          },
          {
           "opacity": 1,
           "showarrow": false,
           "text": "have",
           "x": 5.227019786834717,
           "xanchor": "left",
           "xshift": 5,
           "y": 2.721656084060669,
           "z": 0.029876060783863068
          },
          {
           "opacity": 1,
           "showarrow": false,
           "text": "but",
           "x": 4.774053573608398,
           "xanchor": "left",
           "xshift": 5,
           "y": 2.9968771934509277,
           "z": 0.030983060598373413
          },
          {
           "opacity": 1,
           "showarrow": false,
           "text": "were",
           "x": 4.938425064086914,
           "xanchor": "left",
           "xshift": 5,
           "y": 2.3290958404541016,
           "z": 0.182613804936409
          },
          {
           "opacity": 1,
           "showarrow": false,
           "text": "not",
           "x": 4.895444393157959,
           "xanchor": "left",
           "xshift": 5,
           "y": 2.862355947494507,
           "z": -0.01869153045117855
          },
          {
           "opacity": 1,
           "showarrow": false,
           "text": "this",
           "x": 4.922308921813965,
           "xanchor": "left",
           "xshift": 5,
           "y": 2.3302009105682373,
           "z": -0.4555211365222931
          },
          {
           "opacity": 1,
           "showarrow": false,
           "text": "who",
           "x": 3.9254441261291504,
           "xanchor": "left",
           "xshift": 5,
           "y": 4.004362106323242,
           "z": 0.09413222968578339
          },
          {
           "opacity": 1,
           "showarrow": false,
           "text": "they",
           "x": 5.297741413116455,
           "xanchor": "left",
           "xshift": 5,
           "y": 2.4741320610046387,
           "z": 0.01037440076470375
          },
          {
           "opacity": 1,
           "showarrow": false,
           "text": "had",
           "x": 4.4883646965026855,
           "xanchor": "left",
           "xshift": 5,
           "y": 3.530055284500122,
           "z": -0.05292215570807457
          },
          {
           "opacity": 1,
           "showarrow": false,
           "text": "i",
           "x": 4.706274509429932,
           "xanchor": "left",
           "xshift": 5,
           "y": 3.1656668186187744,
           "z": -0.18998396396636963
          },
          {
           "opacity": 1,
           "showarrow": false,
           "text": "which",
           "x": 5.170941352844238,
           "xanchor": "left",
           "xshift": 5,
           "y": 1.9242379665374756,
           "z": -0.7636980414390564
          },
          {
           "opacity": 1,
           "showarrow": false,
           "text": "will",
           "x": 4.791145324707031,
           "xanchor": "left",
           "xshift": 5,
           "y": 2.6731913089752197,
           "z": -0.21979980170726776
          },
          {
           "opacity": 1,
           "showarrow": false,
           "text": "their",
           "x": 5.452670097351074,
           "xanchor": "left",
           "xshift": 5,
           "y": 1.8981014490127563,
           "z": 0.4764302372932434
          },
          {
           "opacity": 1,
           "showarrow": false,
           "text": ":",
           "x": 4.32422399520874,
           "xanchor": "left",
           "xshift": 5,
           "y": 2.4321413040161133,
           "z": -0.4625760018825531
          },
          {
           "opacity": 1,
           "showarrow": false,
           "text": "or",
           "x": 5.024126052856445,
           "xanchor": "left",
           "xshift": 5,
           "y": 1.3908820152282715,
           "z": 0.24620772898197174
          },
          {
           "opacity": 1,
           "showarrow": false,
           "text": "its",
           "x": 5.528177738189697,
           "xanchor": "left",
           "xshift": 5,
           "y": 1.3742468357086182,
           "z": -0.4978443682193756
          },
          {
           "opacity": 1,
           "showarrow": false,
           "text": "one",
           "x": 4.917052745819092,
           "xanchor": "left",
           "xshift": 5,
           "y": 2.437164783477783,
           "z": -0.20573736727237701
          },
          {
           "opacity": 1,
           "showarrow": false,
           "text": "after",
           "x": 4.780513286590576,
           "xanchor": "left",
           "xshift": 5,
           "y": 2.878380060195923,
           "z": -0.26420778036117554
          },
          {
           "opacity": 1,
           "showarrow": false,
           "text": "new",
           "x": 4.929819107055664,
           "xanchor": "left",
           "xshift": 5,
           "y": 2.220299243927002,
           "z": -0.34035053849220276
          },
          {
           "opacity": 1,
           "showarrow": false,
           "text": "been",
           "x": 4.853209495544434,
           "xanchor": "left",
           "xshift": 5,
           "y": 2.802443504333496,
           "z": -0.33937811851501465
          },
          {
           "opacity": 1,
           "showarrow": false,
           "text": "also",
           "x": 4.177886962890625,
           "xanchor": "left",
           "xshift": 5,
           "y": 2.9526915550231934,
           "z": -0.7942090630531311
          },
          {
           "opacity": 1,
           "showarrow": false,
           "text": "we",
           "x": 4.869473934173584,
           "xanchor": "left",
           "xshift": 5,
           "y": 2.8874220848083496,
           "z": 0.03965192288160324
          },
          {
           "opacity": 1,
           "showarrow": false,
           "text": "would",
           "x": 4.769846439361572,
           "xanchor": "left",
           "xshift": 5,
           "y": 2.7934703826904297,
           "z": -0.08843903243541718
          },
          {
           "opacity": 1,
           "showarrow": false,
           "text": "two",
           "x": 5.128317356109619,
           "xanchor": "left",
           "xshift": 5,
           "y": 2.3822479248046875,
           "z": 0.2571178674697876
          },
          {
           "opacity": 1,
           "showarrow": false,
           "text": "more",
           "x": 5.249835014343262,
           "xanchor": "left",
           "xshift": 5,
           "y": 1.9296460151672363,
           "z": 0.6257534027099609
          },
          {
           "opacity": 1,
           "showarrow": false,
           "text": "'",
           "x": 4.378663063049316,
           "xanchor": "left",
           "xshift": 5,
           "y": 2.8623452186584473,
           "z": -0.6783136129379272
          },
          {
           "opacity": 1,
           "showarrow": false,
           "text": "first",
           "x": 4.7125444412231445,
           "xanchor": "left",
           "xshift": 5,
           "y": 2.33701491355896,
           "z": -0.1376967579126358
          },
          {
           "opacity": 1,
           "showarrow": false,
           "text": "about",
           "x": 5.092857360839844,
           "xanchor": "left",
           "xshift": 5,
           "y": 2.2756054401397705,
           "z": 0.26329678297042847
          },
          {
           "opacity": 1,
           "showarrow": false,
           "text": "up",
           "x": 5.150915145874023,
           "xanchor": "left",
           "xshift": 5,
           "y": 2.353262424468994,
           "z": 0.503757655620575
          },
          {
           "opacity": 1,
           "showarrow": false,
           "text": "when",
           "x": 4.675726890563965,
           "xanchor": "left",
           "xshift": 5,
           "y": 3.092359781265259,
           "z": -0.0889829769730568
          },
          {
           "opacity": 1,
           "showarrow": false,
           "text": "year",
           "x": 4.941305637359619,
           "xanchor": "left",
           "xshift": 5,
           "y": 2.3532304763793945,
           "z": 0.10425152629613876
          },
          {
           "opacity": 1,
           "showarrow": false,
           "text": "there",
           "x": 4.938770771026611,
           "xanchor": "left",
           "xshift": 5,
           "y": 2.18780517578125,
           "z": -0.183915376663208
          },
          {
           "opacity": 1,
           "showarrow": false,
           "text": "all",
           "x": 5.144018650054932,
           "xanchor": "left",
           "xshift": 5,
           "y": 2.284372091293335,
           "z": 0.3323412239551544
          },
          {
           "opacity": 1,
           "showarrow": false,
           "text": "--",
           "x": 4.565847873687744,
           "xanchor": "left",
           "xshift": 5,
           "y": 3.067829132080078,
           "z": -0.690118134021759
          },
          {
           "opacity": 1,
           "showarrow": false,
           "text": "out",
           "x": 5.0229926109313965,
           "xanchor": "left",
           "xshift": 5,
           "y": 2.781018018722534,
           "z": 0.47337573766708374
          },
          {
           "opacity": 1,
           "showarrow": false,
           "text": "she",
           "x": 4.4531474113464355,
           "xanchor": "left",
           "xshift": 5,
           "y": 2.8897690773010254,
           "z": -0.1649594008922577
          },
          {
           "opacity": 1,
           "showarrow": false,
           "text": "other",
           "x": 4.933539390563965,
           "xanchor": "left",
           "xshift": 5,
           "y": 2.2319679260253906,
           "z": -0.10656285285949707
          },
          {
           "opacity": 1,
           "showarrow": false,
           "text": "people",
           "x": 5.052079677581787,
           "xanchor": "left",
           "xshift": 5,
           "y": 1.842821717262268,
           "z": -0.42025232315063477
          },
          {
           "opacity": 1,
           "showarrow": false,
           "text": "n't",
           "x": 4.760455131530762,
           "xanchor": "left",
           "xshift": 5,
           "y": 3.090169906616211,
           "z": 0.36769363284111023
          },
          {
           "opacity": 1,
           "showarrow": false,
           "text": "her",
           "x": 4.36307430267334,
           "xanchor": "left",
           "xshift": 5,
           "y": 3.0225796699523926,
           "z": 0.2902856469154358
          },
          {
           "opacity": 1,
           "showarrow": false,
           "text": "percent",
           "x": 4.781530380249023,
           "xanchor": "left",
           "xshift": 5,
           "y": 1.7614456415176392,
           "z": 0.5797637701034546
          },
          {
           "opacity": 1,
           "showarrow": false,
           "text": "than",
           "x": 5.282629489898682,
           "xanchor": "left",
           "xshift": 5,
           "y": 1.8122483491897583,
           "z": 0.6353185176849365
          },
          {
           "opacity": 1,
           "showarrow": false,
           "text": "over",
           "x": 5.112536907196045,
           "xanchor": "left",
           "xshift": 5,
           "y": 2.0932095050811768,
           "z": 0.05624081566929817
          },
          {
           "opacity": 1,
           "showarrow": false,
           "text": "into",
           "x": 5.299345970153809,
           "xanchor": "left",
           "xshift": 5,
           "y": 1.7450952529907227,
           "z": -0.5254566669464111
          },
          {
           "opacity": 1,
           "showarrow": false,
           "text": "last",
           "x": 4.941040992736816,
           "xanchor": "left",
           "xshift": 5,
           "y": 2.6344363689422607,
           "z": -0.20118345320224762
          },
          {
           "opacity": 1,
           "showarrow": false,
           "text": "some",
           "x": 5.293012619018555,
           "xanchor": "left",
           "xshift": 5,
           "y": 1.8885185718536377,
           "z": 0.22570021450519562
          },
          {
           "opacity": 1,
           "showarrow": false,
           "text": "government",
           "x": 4.525221347808838,
           "xanchor": "left",
           "xshift": 5,
           "y": 2.3504135608673096,
           "z": -0.7555304765701294
          },
          {
           "opacity": 1,
           "showarrow": false,
           "text": "time",
           "x": 4.761252403259277,
           "xanchor": "left",
           "xshift": 5,
           "y": 2.437911033630371,
           "z": 0.3041490912437439
          },
          {
           "opacity": 1,
           "showarrow": false,
           "text": "$",
           "x": 4.993053913116455,
           "xanchor": "left",
           "xshift": 5,
           "y": 1.7504148483276367,
           "z": 1.2213619947433472
          },
          {
           "opacity": 1,
           "showarrow": false,
           "text": "you",
           "x": 4.889562606811523,
           "xanchor": "left",
           "xshift": 5,
           "y": 2.4028961658477783,
           "z": 0.485332190990448
          },
          {
           "opacity": 1,
           "showarrow": false,
           "text": "years",
           "x": 4.875858306884766,
           "xanchor": "left",
           "xshift": 5,
           "y": 2.4746646881103516,
           "z": -0.031358737498521805
          },
          {
           "opacity": 1,
           "showarrow": false,
           "text": "if",
           "x": 4.752821922302246,
           "xanchor": "left",
           "xshift": 5,
           "y": 2.6594161987304688,
           "z": 0.05985260754823685
          },
          {
           "opacity": 1,
           "showarrow": false,
           "text": "no",
           "x": 4.737203598022461,
           "xanchor": "left",
           "xshift": 5,
           "y": 2.3636972904205322,
           "z": 0.13132494688034058
          },
          {
           "opacity": 1,
           "showarrow": false,
           "text": "world",
           "x": 4.7914018630981445,
           "xanchor": "left",
           "xshift": 5,
           "y": 1.9989060163497925,
           "z": 0.0648396760225296
          },
          {
           "opacity": 1,
           "showarrow": false,
           "text": "can",
           "x": 4.692521095275879,
           "xanchor": "left",
           "xshift": 5,
           "y": 2.0292766094207764,
           "z": 0.21412694454193115
          },
          {
           "opacity": 1,
           "showarrow": false,
           "text": "three",
           "x": 5.079331874847412,
           "xanchor": "left",
           "xshift": 5,
           "y": 2.2274317741394043,
           "z": 0.30150625109672546
          },
          {
           "opacity": 1,
           "showarrow": false,
           "text": "do",
           "x": 4.651036739349365,
           "xanchor": "left",
           "xshift": 5,
           "y": 2.4091413021087646,
           "z": -0.3843264877796173
          },
          {
           "opacity": 1,
           "showarrow": false,
           "text": ";",
           "x": 4.014493465423584,
           "xanchor": "left",
           "xshift": 5,
           "y": 2.459599494934082,
           "z": -0.18343834578990936
          },
          {
           "opacity": 1,
           "showarrow": false,
           "text": "president",
           "x": 3.471311569213867,
           "xanchor": "left",
           "xshift": 5,
           "y": 4.301771640777588,
           "z": -0.8891674876213074
          },
          {
           "opacity": 1,
           "showarrow": false,
           "text": "only",
           "x": 4.940758228302002,
           "xanchor": "left",
           "xshift": 5,
           "y": 2.0835204124450684,
           "z": 0.17809155583381653
          },
          {
           "opacity": 1,
           "showarrow": false,
           "text": "state",
           "x": 4.260919094085693,
           "xanchor": "left",
           "xshift": 5,
           "y": 1.9704641103744507,
           "z": -2.1505842208862305
          },
          {
           "opacity": 1,
           "showarrow": false,
           "text": "million",
           "x": 5.073211193084717,
           "xanchor": "left",
           "xshift": 5,
           "y": 1.605770468711853,
           "z": 0.5237267017364502
          },
          {
           "opacity": 1,
           "showarrow": false,
           "text": "could",
           "x": 4.7939252853393555,
           "xanchor": "left",
           "xshift": 5,
           "y": 2.700995445251465,
           "z": 0.1427236795425415
          },
          {
           "opacity": 1,
           "showarrow": false,
           "text": "us",
           "x": 4.537331581115723,
           "xanchor": "left",
           "xshift": 5,
           "y": 2.202362060546875,
           "z": 0.6127512454986572
          },
          {
           "opacity": 1,
           "showarrow": false,
           "text": "most",
           "x": 4.946932792663574,
           "xanchor": "left",
           "xshift": 5,
           "y": 1.8150817155838013,
           "z": -0.07184753566980362
          },
          {
           "opacity": 1,
           "showarrow": false,
           "text": "_",
           "x": 4.724257469177246,
           "xanchor": "left",
           "xshift": 5,
           "y": 2.264376401901245,
           "z": 0.2751544415950775
          },
          {
           "opacity": 1,
           "showarrow": false,
           "text": "against",
           "x": 4.67711067199707,
           "xanchor": "left",
           "xshift": 5,
           "y": 2.147813081741333,
           "z": -0.3938615620136261
          },
          {
           "opacity": 1,
           "showarrow": false,
           "text": "u.s.",
           "x": 4.213457107543945,
           "xanchor": "left",
           "xshift": 5,
           "y": 2.562113046646118,
           "z": 0.3173389732837677
          },
          {
           "opacity": 1,
           "showarrow": false,
           "text": "so",
           "x": 4.816038131713867,
           "xanchor": "left",
           "xshift": 5,
           "y": 2.3744893074035645,
           "z": 0.300810307264328
          },
          {
           "opacity": 1,
           "showarrow": false,
           "text": "them",
           "x": 4.917011260986328,
           "xanchor": "left",
           "xshift": 5,
           "y": 2.3593318462371826,
           "z": 0.6209301948547363
          },
          {
           "opacity": 1,
           "showarrow": false,
           "text": "what",
           "x": 4.670029163360596,
           "xanchor": "left",
           "xshift": 5,
           "y": 2.965496301651001,
           "z": -0.090379498898983
          },
          {
           "opacity": 1,
           "showarrow": false,
           "text": "him",
           "x": 4.398110389709473,
           "xanchor": "left",
           "xshift": 5,
           "y": 3.3189268112182617,
           "z": 0.28157296776771545
          },
          {
           "opacity": 1,
           "showarrow": false,
           "text": "united",
           "x": 4.166689872741699,
           "xanchor": "left",
           "xshift": 5,
           "y": 2.3035671710968018,
           "z": -0.6288166642189026
          },
          {
           "opacity": 1,
           "showarrow": false,
           "text": "during",
           "x": 4.781399726867676,
           "xanchor": "left",
           "xshift": 5,
           "y": 2.122328281402588,
           "z": -0.3817870616912842
          },
          {
           "opacity": 1,
           "showarrow": false,
           "text": "before",
           "x": 4.892107963562012,
           "xanchor": "left",
           "xshift": 5,
           "y": 2.4680802822113037,
           "z": -0.12337594479322433
          },
          {
           "opacity": 1,
           "showarrow": false,
           "text": "may",
           "x": 4.561856746673584,
           "xanchor": "left",
           "xshift": 5,
           "y": 2.14446759223938,
           "z": -0.3363281488418579
          },
          {
           "opacity": 1,
           "showarrow": false,
           "text": "since",
           "x": 4.945490837097168,
           "xanchor": "left",
           "xshift": 5,
           "y": 2.271040916442871,
           "z": -0.4163814187049866
          },
          {
           "opacity": 1,
           "showarrow": false,
           "text": "many",
           "x": 5.0270514488220215,
           "xanchor": "left",
           "xshift": 5,
           "y": 1.9548503160476685,
           "z": 0.07048188149929047
          },
          {
           "opacity": 1,
           "showarrow": false,
           "text": "while",
           "x": 4.496513843536377,
           "xanchor": "left",
           "xshift": 5,
           "y": 2.515183687210083,
           "z": 0.07212764024734497
          },
          {
           "opacity": 1,
           "showarrow": false,
           "text": "where",
           "x": 4.860043525695801,
           "xanchor": "left",
           "xshift": 5,
           "y": 1.8954837322235107,
           "z": -1.7191883325576782
          },
          {
           "opacity": 1,
           "showarrow": false,
           "text": "states",
           "x": 4.273285388946533,
           "xanchor": "left",
           "xshift": 5,
           "y": 2.072840929031372,
           "z": -0.5823857188224792
          },
          {
           "opacity": 1,
           "showarrow": false,
           "text": "because",
           "x": 4.863221645355225,
           "xanchor": "left",
           "xshift": 5,
           "y": 2.3999433517456055,
           "z": -0.09616610407829285
          },
          {
           "opacity": 1,
           "showarrow": false,
           "text": "now",
           "x": 4.735185623168945,
           "xanchor": "left",
           "xshift": 5,
           "y": 2.2634198665618896,
           "z": -0.7227006554603577
          },
          {
           "opacity": 1,
           "showarrow": false,
           "text": "city",
           "x": 4.815072059631348,
           "xanchor": "left",
           "xshift": 5,
           "y": 1.5517265796661377,
           "z": -2.756875991821289
          },
          {
           "opacity": 1,
           "showarrow": false,
           "text": "made",
           "x": 4.353819370269775,
           "xanchor": "left",
           "xshift": 5,
           "y": 2.8323705196380615,
           "z": 0.24869628250598907
          },
          {
           "opacity": 1,
           "showarrow": false,
           "text": "like",
           "x": 4.509240627288818,
           "xanchor": "left",
           "xshift": 5,
           "y": 2.7202298641204834,
           "z": -0.18533705174922943
          },
          {
           "opacity": 1,
           "showarrow": false,
           "text": "between",
           "x": 4.96712589263916,
           "xanchor": "left",
           "xshift": 5,
           "y": 1.590242624282837,
           "z": -0.878240704536438
          },
          {
           "opacity": 1,
           "showarrow": false,
           "text": "did",
           "x": 4.188361644744873,
           "xanchor": "left",
           "xshift": 5,
           "y": 3.222860336303711,
           "z": -0.07850518077611923
          },
          {
           "opacity": 1,
           "showarrow": false,
           "text": "just",
           "x": 5.0260491371154785,
           "xanchor": "left",
           "xshift": 5,
           "y": 2.2313244342803955,
           "z": 0.13008920848369598
          },
          {
           "opacity": 1,
           "showarrow": false,
           "text": "national",
           "x": 4.287115097045898,
           "xanchor": "left",
           "xshift": 5,
           "y": 1.8406070470809937,
           "z": -1.5417428016662598
          },
          {
           "opacity": 1,
           "showarrow": false,
           "text": "day",
           "x": 4.708962917327881,
           "xanchor": "left",
           "xshift": 5,
           "y": 2.1872894763946533,
           "z": -0.014852706342935562
          },
          {
           "opacity": 1,
           "showarrow": false,
           "text": "country",
           "x": 4.667102336883545,
           "xanchor": "left",
           "xshift": 5,
           "y": 1.7526817321777344,
           "z": -0.8294883966445923
          },
          {
           "opacity": 1,
           "showarrow": false,
           "text": "under",
           "x": 4.542707920074463,
           "xanchor": "left",
           "xshift": 5,
           "y": 2.5828723907470703,
           "z": -0.3603734076023102
          },
          {
           "opacity": 1,
           "showarrow": false,
           "text": "such",
           "x": 4.533205986022949,
           "xanchor": "left",
           "xshift": 5,
           "y": 2.1310744285583496,
           "z": -0.1142972782254219
          },
          {
           "opacity": 1,
           "showarrow": false,
           "text": "second",
           "x": 4.385119915008545,
           "xanchor": "left",
           "xshift": 5,
           "y": 2.364382028579712,
           "z": -0.19653673470020294
          },
          {
           "opacity": 1,
           "showarrow": false,
           "text": "then",
           "x": 4.47513484954834,
           "xanchor": "left",
           "xshift": 5,
           "y": 2.706256628036499,
           "z": -0.47660961747169495
          },
          {
           "opacity": 1,
           "showarrow": false,
           "text": "company",
           "x": 4.160508155822754,
           "xanchor": "left",
           "xshift": 5,
           "y": 2.5528104305267334,
           "z": -0.5789089798927307
          },
          {
           "opacity": 1,
           "showarrow": false,
           "text": "group",
           "x": 4.313721179962158,
           "xanchor": "left",
           "xshift": 5,
           "y": 2.152989149093628,
           "z": -0.9122028946876526
          },
          {
           "opacity": 1,
           "showarrow": false,
           "text": "any",
           "x": 4.9663591384887695,
           "xanchor": "left",
           "xshift": 5,
           "y": 1.9915786981582642,
           "z": 0.48430338501930237
          },
          {
           "opacity": 1,
           "showarrow": false,
           "text": "through",
           "x": 4.930641174316406,
           "xanchor": "left",
           "xshift": 5,
           "y": 1.5617986917495728,
           "z": -0.4163784384727478
          },
          {
           "opacity": 1,
           "showarrow": false,
           "text": "china",
           "x": 4.330804347991943,
           "xanchor": "left",
           "xshift": 5,
           "y": 1.3914178609848022,
           "z": -0.9156548380851746
          },
          {
           "opacity": 1,
           "showarrow": false,
           "text": "four",
           "x": 5.136242389678955,
           "xanchor": "left",
           "xshift": 5,
           "y": 2.115351438522339,
           "z": 0.4199819564819336
          },
          {
           "opacity": 1,
           "showarrow": false,
           "text": "being",
           "x": 4.730784893035889,
           "xanchor": "left",
           "xshift": 5,
           "y": 2.3152332305908203,
           "z": -0.14491026103496552
          },
          {
           "opacity": 1,
           "showarrow": false,
           "text": "down",
           "x": 4.897209167480469,
           "xanchor": "left",
           "xshift": 5,
           "y": 2.313080310821533,
           "z": 0.5420252084732056
          },
          {
           "opacity": 1,
           "showarrow": false,
           "text": "war",
           "x": 4.65153169631958,
           "xanchor": "left",
           "xshift": 5,
           "y": 1.8496681451797485,
           "z": -0.20137856900691986
          },
          {
           "opacity": 1,
           "showarrow": false,
           "text": "back",
           "x": 4.753171920776367,
           "xanchor": "left",
           "xshift": 5,
           "y": 2.7674219608306885,
           "z": 0.1315680891275406
          },
          {
           "opacity": 1,
           "showarrow": false,
           "text": "off",
           "x": 4.89260721206665,
           "xanchor": "left",
           "xshift": 5,
           "y": 2.5128607749938965,
           "z": 0.29790762066841125
          },
          {
           "opacity": 1,
           "showarrow": false,
           "text": "south",
           "x": 4.335403919219971,
           "xanchor": "left",
           "xshift": 5,
           "y": 1.604041337966919,
           "z": -2.186817169189453
          },
          {
           "opacity": 1,
           "showarrow": false,
           "text": "american",
           "x": 4.2125043869018555,
           "xanchor": "left",
           "xshift": 5,
           "y": 2.3202617168426514,
           "z": 0.35181277990341187
          },
          {
           "opacity": 1,
           "showarrow": false,
           "text": "minister",
           "x": 2.194267988204956,
           "xanchor": "left",
           "xshift": 5,
           "y": 4.613776206970215,
           "z": -0.6385652422904968
          },
          {
           "opacity": 1,
           "showarrow": false,
           "text": "police",
           "x": 3.932183265686035,
           "xanchor": "left",
           "xshift": 5,
           "y": 2.752328395843506,
           "z": -1.553863763809204
          },
          {
           "opacity": 1,
           "showarrow": false,
           "text": "well",
           "x": 4.643117904663086,
           "xanchor": "left",
           "xshift": 5,
           "y": 2.2577247619628906,
           "z": -0.36591988801956177
          },
          {
           "opacity": 1,
           "showarrow": false,
           "text": "including",
           "x": 4.361049175262451,
           "xanchor": "left",
           "xshift": 5,
           "y": 2.3827948570251465,
           "z": -0.19939075410366058
          },
          {
           "opacity": 1,
           "showarrow": false,
           "text": "team",
           "x": 4.351019859313965,
           "xanchor": "left",
           "xshift": 5,
           "y": 2.6282176971435547,
           "z": -0.43846410512924194
          },
          {
           "opacity": 1,
           "showarrow": false,
           "text": "international",
           "x": 4.407783508300781,
           "xanchor": "left",
           "xshift": 5,
           "y": 2.1101298332214355,
           "z": -0.8069119453430176
          },
          {
           "opacity": 1,
           "showarrow": false,
           "text": "week",
           "x": 4.6508378982543945,
           "xanchor": "left",
           "xshift": 5,
           "y": 2.5136425495147705,
           "z": -0.05082347244024277
          },
          {
           "opacity": 1,
           "showarrow": false,
           "text": "officials",
           "x": 4.466568470001221,
           "xanchor": "left",
           "xshift": 5,
           "y": 2.5258352756500244,
           "z": -1.1074748039245605
          },
          {
           "opacity": 1,
           "showarrow": false,
           "text": "still",
           "x": 4.750868320465088,
           "xanchor": "left",
           "xshift": 5,
           "y": 2.2936758995056152,
           "z": 0.04204745590686798
          },
          {
           "opacity": 1,
           "showarrow": false,
           "text": "both",
           "x": 4.397651672363281,
           "xanchor": "left",
           "xshift": 5,
           "y": 2.5150370597839355,
           "z": -0.20326757431030273
          },
          {
           "opacity": 1,
           "showarrow": false,
           "text": "even",
           "x": 4.87606954574585,
           "xanchor": "left",
           "xshift": 5,
           "y": 2.305211067199707,
           "z": 0.43717965483665466
          },
          {
           "opacity": 1,
           "showarrow": false,
           "text": "high",
           "x": 4.617319583892822,
           "xanchor": "left",
           "xshift": 5,
           "y": 1.5203083753585815,
           "z": -0.7498093843460083
          },
          {
           "opacity": 1,
           "showarrow": false,
           "text": "part",
           "x": 4.7243571281433105,
           "xanchor": "left",
           "xshift": 5,
           "y": 1.5675214529037476,
           "z": -1.6085641384124756
          },
          {
           "opacity": 1,
           "showarrow": false,
           "text": "told",
           "x": 2.6247570514678955,
           "xanchor": "left",
           "xshift": 5,
           "y": 4.354806900024414,
           "z": -1.2544468641281128
          },
          {
           "opacity": 1,
           "showarrow": false,
           "text": "those",
           "x": 5.063212871551514,
           "xanchor": "left",
           "xshift": 5,
           "y": 2.187272310256958,
           "z": 0.6422839760780334
          },
          {
           "opacity": 1,
           "showarrow": false,
           "text": "end",
           "x": 4.720518112182617,
           "xanchor": "left",
           "xshift": 5,
           "y": 2.0264360904693604,
           "z": 0.05121491849422455
          },
          {
           "opacity": 1,
           "showarrow": false,
           "text": "former",
           "x": 3.4103097915649414,
           "xanchor": "left",
           "xshift": 5,
           "y": 3.6517159938812256,
           "z": -1.327439308166504
          },
          {
           "opacity": 1,
           "showarrow": false,
           "text": "these",
           "x": 5.049830436706543,
           "xanchor": "left",
           "xshift": 5,
           "y": 1.6526249647140503,
           "z": 0.3247855007648468
          },
          {
           "opacity": 1,
           "showarrow": false,
           "text": "make",
           "x": 4.791534900665283,
           "xanchor": "left",
           "xshift": 5,
           "y": 2.1091227531433105,
           "z": 0.48703131079673767
          },
          {
           "opacity": 1,
           "showarrow": false,
           "text": "billion",
           "x": 4.917709827423096,
           "xanchor": "left",
           "xshift": 5,
           "y": 1.534881830215454,
           "z": 1.1532248258590698
          },
          {
           "opacity": 1,
           "showarrow": false,
           "text": "work",
           "x": 4.216007709503174,
           "xanchor": "left",
           "xshift": 5,
           "y": 2.441807270050049,
           "z": 0.1349196434020996
          },
          {
           "opacity": 1,
           "showarrow": false,
           "text": "our",
           "x": 4.824935436248779,
           "xanchor": "left",
           "xshift": 5,
           "y": 2.0461020469665527,
           "z": 0.3119930028915405
          },
          {
           "opacity": 1,
           "showarrow": false,
           "text": "home",
           "x": 4.4419779777526855,
           "xanchor": "left",
           "xshift": 5,
           "y": 2.074309825897217,
           "z": -0.5636692643165588
          },
          {
           "opacity": 1,
           "showarrow": false,
           "text": "school",
           "x": 4.303041458129883,
           "xanchor": "left",
           "xshift": 5,
           "y": 1.7399981021881104,
           "z": -1.6293588876724243
          },
          {
           "opacity": 1,
           "showarrow": false,
           "text": "party",
           "x": 4.034034252166748,
           "xanchor": "left",
           "xshift": 5,
           "y": 2.2558815479278564,
           "z": -0.5727651715278625
          },
          {
           "opacity": 1,
           "showarrow": false,
           "text": "house",
           "x": 4.0769572257995605,
           "xanchor": "left",
           "xshift": 5,
           "y": 2.5015828609466553,
           "z": -0.4724234342575073
          },
          {
           "opacity": 1,
           "showarrow": false,
           "text": "old",
           "x": 4.0526909828186035,
           "xanchor": "left",
           "xshift": 5,
           "y": 2.6183767318725586,
           "z": -0.292469322681427
          },
          {
           "opacity": 1,
           "showarrow": false,
           "text": "later",
           "x": 4.12070894241333,
           "xanchor": "left",
           "xshift": 5,
           "y": 2.9025027751922607,
           "z": -0.6692937016487122
          },
          {
           "opacity": 1,
           "showarrow": false,
           "text": "get",
           "x": 4.685903549194336,
           "xanchor": "left",
           "xshift": 5,
           "y": 2.4566867351531982,
           "z": 0.5519512891769409
          },
          {
           "opacity": 1,
           "showarrow": false,
           "text": "another",
           "x": 4.544290065765381,
           "xanchor": "left",
           "xshift": 5,
           "y": 2.307378053665161,
           "z": -0.1341952681541443
          },
          {
           "opacity": 1,
           "showarrow": false,
           "text": "tuesday",
           "x": 4.262948989868164,
           "xanchor": "left",
           "xshift": 5,
           "y": 2.775517225265503,
           "z": -0.46321260929107666
          },
          {
           "opacity": 1,
           "showarrow": false,
           "text": "news",
           "x": 3.771401882171631,
           "xanchor": "left",
           "xshift": 5,
           "y": 2.2989203929901123,
           "z": -0.5117247700691223
          },
          {
           "opacity": 1,
           "showarrow": false,
           "text": "long",
           "x": 4.810268878936768,
           "xanchor": "left",
           "xshift": 5,
           "y": 2.1414270401000977,
           "z": 0.19382426142692566
          },
          {
           "opacity": 1,
           "showarrow": false,
           "text": "five",
           "x": 4.998775482177734,
           "xanchor": "left",
           "xshift": 5,
           "y": 2.070037603378296,
           "z": 0.438678115606308
          },
          {
           "opacity": 1,
           "showarrow": false,
           "text": "called",
           "x": 3.8582303524017334,
           "xanchor": "left",
           "xshift": 5,
           "y": 2.3504724502563477,
           "z": -1.0999118089675903
          },
          {
           "opacity": 1,
           "showarrow": false,
           "text": "1",
           "x": 4.484417915344238,
           "xanchor": "left",
           "xshift": 5,
           "y": 1.3914005756378174,
           "z": -0.43179044127464294
          },
          {
           "opacity": 1,
           "showarrow": false,
           "text": "wednesday",
           "x": 4.29542875289917,
           "xanchor": "left",
           "xshift": 5,
           "y": 2.7530384063720703,
           "z": -0.5320255756378174
          },
          {
           "opacity": 1,
           "showarrow": false,
           "text": "military",
           "x": 4.507875919342041,
           "xanchor": "left",
           "xshift": 5,
           "y": 1.892241358757019,
           "z": -0.540963888168335
          },
          {
           "opacity": 1,
           "showarrow": false,
           "text": "way",
           "x": 4.734809398651123,
           "xanchor": "left",
           "xshift": 5,
           "y": 2.2210018634796143,
           "z": -0.11863908916711807
          },
          {
           "opacity": 1,
           "showarrow": false,
           "text": "used",
           "x": 4.62615442276001,
           "xanchor": "left",
           "xshift": 5,
           "y": 1.8239318132400513,
           "z": -0.04754721000790596
          },
          {
           "opacity": 1,
           "showarrow": false,
           "text": "much",
           "x": 4.8655104637146,
           "xanchor": "left",
           "xshift": 5,
           "y": 2.2145638465881348,
           "z": 0.11399532109498978
          },
          {
           "opacity": 1,
           "showarrow": false,
           "text": "next",
           "x": 4.757149696350098,
           "xanchor": "left",
           "xshift": 5,
           "y": 2.12890362739563,
           "z": -0.21505917608737946
          },
          {
           "opacity": 1,
           "showarrow": false,
           "text": "monday",
           "x": 4.244951248168945,
           "xanchor": "left",
           "xshift": 5,
           "y": 2.7317848205566406,
           "z": -0.49043554067611694
          },
          {
           "opacity": 1,
           "showarrow": false,
           "text": "thursday",
           "x": 4.237460613250732,
           "xanchor": "left",
           "xshift": 5,
           "y": 2.700826644897461,
           "z": -0.47358420491218567
          },
          {
           "opacity": 1,
           "showarrow": false,
           "text": "friday",
           "x": 4.35973596572876,
           "xanchor": "left",
           "xshift": 5,
           "y": 2.584836959838867,
           "z": -0.395705908536911
          },
          {
           "opacity": 1,
           "showarrow": false,
           "text": "game",
           "x": 4.762360572814941,
           "xanchor": "left",
           "xshift": 5,
           "y": 1.8955172300338745,
           "z": 0.6772105693817139
          },
          {
           "opacity": 1,
           "showarrow": false,
           "text": "here",
           "x": 4.383679389953613,
           "xanchor": "left",
           "xshift": 5,
           "y": 2.4075675010681152,
           "z": -0.7000426054000854
          },
          {
           "opacity": 1,
           "showarrow": false,
           "text": "?",
           "x": 4.3539628982543945,
           "xanchor": "left",
           "xshift": 5,
           "y": 2.4074759483337402,
           "z": 0.16589905321598053
          },
          {
           "opacity": 1,
           "showarrow": false,
           "text": "should",
           "x": 4.566112518310547,
           "xanchor": "left",
           "xshift": 5,
           "y": 2.454089641571045,
           "z": -0.03767711669206619
          },
          {
           "opacity": 1,
           "showarrow": false,
           "text": "take",
           "x": 4.735493183135986,
           "xanchor": "left",
           "xshift": 5,
           "y": 2.2680678367614746,
           "z": 0.03973398357629776
          },
          {
           "opacity": 1,
           "showarrow": false,
           "text": "very",
           "x": 4.397828578948975,
           "xanchor": "left",
           "xshift": 5,
           "y": 2.329845428466797,
           "z": 0.004366805776953697
          },
          {
           "opacity": 1,
           "showarrow": false,
           "text": "my",
           "x": 4.7072434425354,
           "xanchor": "left",
           "xshift": 5,
           "y": 2.466478109359741,
           "z": 0.35214242339134216
          },
          {
           "opacity": 1,
           "showarrow": false,
           "text": "north",
           "x": 4.456636905670166,
           "xanchor": "left",
           "xshift": 5,
           "y": 1.297829031944275,
           "z": -2.341529607772827
          },
          {
           "opacity": 1,
           "showarrow": false,
           "text": "security",
           "x": 4.083706855773926,
           "xanchor": "left",
           "xshift": 5,
           "y": 2.171898365020752,
           "z": -0.27283453941345215
          },
          {
           "opacity": 1,
           "showarrow": false,
           "text": "season",
           "x": 4.49833345413208,
           "xanchor": "left",
           "xshift": 5,
           "y": 1.8971593379974365,
           "z": 0.1927243024110794
          },
          {
           "opacity": 1,
           "showarrow": false,
           "text": "york",
           "x": 4.075562000274658,
           "xanchor": "left",
           "xshift": 5,
           "y": 2.3445587158203125,
           "z": -0.5034441947937012
          },
          {
           "opacity": 1,
           "showarrow": false,
           "text": "how",
           "x": 4.58231782913208,
           "xanchor": "left",
           "xshift": 5,
           "y": 2.7462737560272217,
           "z": 0.35169699788093567
          },
          {
           "opacity": 1,
           "showarrow": false,
           "text": "public",
           "x": 4.375085353851318,
           "xanchor": "left",
           "xshift": 5,
           "y": 1.748065710067749,
           "z": -0.41583794355392456
          },
          {
           "opacity": 1,
           "showarrow": false,
           "text": "early",
           "x": 4.65294075012207,
           "xanchor": "left",
           "xshift": 5,
           "y": 2.07099986076355,
           "z": -0.12340379506349564
          },
          {
           "opacity": 1,
           "showarrow": false,
           "text": "according",
           "x": 3.5955379009246826,
           "xanchor": "left",
           "xshift": 5,
           "y": 2.633871555328369,
           "z": -0.7874086499214172
          },
          {
           "opacity": 1,
           "showarrow": false,
           "text": "several",
           "x": 4.819390773773193,
           "xanchor": "left",
           "xshift": 5,
           "y": 2.139211416244507,
           "z": -0.2673487663269043
          },
          {
           "opacity": 1,
           "showarrow": false,
           "text": "court",
           "x": 4.167627811431885,
           "xanchor": "left",
           "xshift": 5,
           "y": 2.428044557571411,
           "z": -1.220737099647522
          },
          {
           "opacity": 1,
           "showarrow": false,
           "text": "say",
           "x": 4.425386905670166,
           "xanchor": "left",
           "xshift": 5,
           "y": 2.6263813972473145,
           "z": -0.26549381017684937
          },
          {
           "opacity": 1,
           "showarrow": false,
           "text": "around",
           "x": 5.110354423522949,
           "xanchor": "left",
           "xshift": 5,
           "y": 1.4102680683135986,
           "z": -0.329421728849411
          },
          {
           "opacity": 1,
           "showarrow": false,
           "text": "foreign",
           "x": 3.2350738048553467,
           "xanchor": "left",
           "xshift": 5,
           "y": 2.879243850708008,
           "z": 0.3148847818374634
          },
          {
           "opacity": 1,
           "showarrow": false,
           "text": "10",
           "x": 4.684028625488281,
           "xanchor": "left",
           "xshift": 5,
           "y": 1.8150752782821655,
           "z": 0.422325074672699
          },
          {
           "opacity": 1,
           "showarrow": false,
           "text": "until",
           "x": 4.755550861358643,
           "xanchor": "left",
           "xshift": 5,
           "y": 1.8801968097686768,
           "z": -0.4039188027381897
          },
          {
           "opacity": 1,
           "showarrow": false,
           "text": "set",
           "x": 4.414773464202881,
           "xanchor": "left",
           "xshift": 5,
           "y": 1.973650336265564,
           "z": 0.4953639507293701
          },
          {
           "opacity": 1,
           "showarrow": false,
           "text": "political",
           "x": 4.408890247344971,
           "xanchor": "left",
           "xshift": 5,
           "y": 2.0924253463745117,
           "z": -0.19617010653018951
          },
          {
           "opacity": 1,
           "showarrow": false,
           "text": "says",
           "x": 3.0382206439971924,
           "xanchor": "left",
           "xshift": 5,
           "y": 3.8056609630584717,
           "z": -0.28383880853652954
          },
          {
           "opacity": 1,
           "showarrow": false,
           "text": "market",
           "x": 4.357215404510498,
           "xanchor": "left",
           "xshift": 5,
           "y": 1.7812095880508423,
           "z": -0.14443254470825195
          },
          {
           "opacity": 1,
           "showarrow": false,
           "text": "however",
           "x": 4.154040813446045,
           "xanchor": "left",
           "xshift": 5,
           "y": 2.446223020553589,
           "z": -0.40172821283340454
          },
          {
           "opacity": 1,
           "showarrow": false,
           "text": "family",
           "x": 3.7366762161254883,
           "xanchor": "left",
           "xshift": 5,
           "y": 2.6852335929870605,
           "z": -0.34474068880081177
          },
          {
           "opacity": 1,
           "showarrow": false,
           "text": "life",
           "x": 4.342345714569092,
           "xanchor": "left",
           "xshift": 5,
           "y": 2.28562068939209,
           "z": 0.22942404448986053
          },
          {
           "opacity": 1,
           "showarrow": false,
           "text": "same",
           "x": 4.863308906555176,
           "xanchor": "left",
           "xshift": 5,
           "y": 2.1336848735809326,
           "z": 0.0290699265897274
          },
          {
           "opacity": 1,
           "showarrow": false,
           "text": "general",
           "x": 2.898312568664551,
           "xanchor": "left",
           "xshift": 5,
           "y": 3.7468936443328857,
           "z": -1.0916285514831543
          },
          {
           "opacity": 1,
           "showarrow": false,
           "text": "–",
           "x": 3.7689602375030518,
           "xanchor": "left",
           "xshift": 5,
           "y": 1.793006181716919,
           "z": -1.1446014642715454
          },
          {
           "opacity": 1,
           "showarrow": false,
           "text": "left",
           "x": 4.157364845275879,
           "xanchor": "left",
           "xshift": 5,
           "y": 2.5967867374420166,
           "z": -0.051916394382715225
          },
          {
           "opacity": 1,
           "showarrow": false,
           "text": "good",
           "x": 4.332235813140869,
           "xanchor": "left",
           "xshift": 5,
           "y": 2.453969955444336,
           "z": 0.2505549490451813
          },
          {
           "opacity": 1,
           "showarrow": false,
           "text": "top",
           "x": 4.2436842918396,
           "xanchor": "left",
           "xshift": 5,
           "y": 2.3249053955078125,
           "z": -0.07899650931358337
          },
          {
           "opacity": 1,
           "showarrow": false,
           "text": "university",
           "x": 4.053337097167969,
           "xanchor": "left",
           "xshift": 5,
           "y": 2.413198232650757,
           "z": -2.688415288925171
          },
          {
           "opacity": 1,
           "showarrow": false,
           "text": "going",
           "x": 4.568185329437256,
           "xanchor": "left",
           "xshift": 5,
           "y": 2.2176640033721924,
           "z": 0.20591425895690918
          },
          {
           "opacity": 1,
           "showarrow": false,
           "text": "number",
           "x": 4.458015441894531,
           "xanchor": "left",
           "xshift": 5,
           "y": 1.5024714469909668,
           "z": 0.4177057147026062
          },
          {
           "opacity": 1,
           "showarrow": false,
           "text": "major",
           "x": 4.112184047698975,
           "xanchor": "left",
           "xshift": 5,
           "y": 2.2703826427459717,
           "z": -0.9230666756629944
          },
          {
           "opacity": 1,
           "showarrow": false,
           "text": "known",
           "x": 3.985570192337036,
           "xanchor": "left",
           "xshift": 5,
           "y": 2.057464361190796,
           "z": -1.5437780618667603
          },
          {
           "opacity": 1,
           "showarrow": false,
           "text": "points",
           "x": 4.038834095001221,
           "xanchor": "left",
           "xshift": 5,
           "y": 2.219677448272705,
           "z": 0.9652987718582153
          },
          {
           "opacity": 1,
           "showarrow": false,
           "text": "won",
           "x": 3.8014636039733887,
           "xanchor": "left",
           "xshift": 5,
           "y": 2.4375009536743164,
           "z": -0.3060963749885559
          },
          {
           "opacity": 1,
           "showarrow": false,
           "text": "six",
           "x": 4.963571548461914,
           "xanchor": "left",
           "xshift": 5,
           "y": 1.964255452156067,
           "z": 0.5921461582183838
          },
          {
           "opacity": 1,
           "showarrow": false,
           "text": "month",
           "x": 4.607851982116699,
           "xanchor": "left",
           "xshift": 5,
           "y": 2.2537014484405518,
           "z": 0.03314930945634842
          },
          {
           "opacity": 1,
           "showarrow": false,
           "text": "dollars",
           "x": 4.45352840423584,
           "xanchor": "left",
           "xshift": 5,
           "y": 1.2389119863510132,
           "z": 1.1940432786941528
          },
          {
           "opacity": 1,
           "showarrow": false,
           "text": "bank",
           "x": 3.8302161693573,
           "xanchor": "left",
           "xshift": 5,
           "y": 1.928436517715454,
           "z": -1.4096746444702148
          },
          {
           "opacity": 1,
           "showarrow": false,
           "text": "2",
           "x": 4.488245964050293,
           "xanchor": "left",
           "xshift": 5,
           "y": 1.518540859222412,
           "z": -0.24649851024150848
          },
          {
           "opacity": 1,
           "showarrow": false,
           "text": "iraq",
           "x": 4.125180721282959,
           "xanchor": "left",
           "xshift": 5,
           "y": 1.9911046028137207,
           "z": -0.2174845039844513
          },
          {
           "opacity": 1,
           "showarrow": false,
           "text": "use",
           "x": 4.780884265899658,
           "xanchor": "left",
           "xshift": 5,
           "y": 1.4826236963272095,
           "z": 0.4625973105430603
          },
          {
           "opacity": 1,
           "showarrow": false,
           "text": "members",
           "x": 4.229859352111816,
           "xanchor": "left",
           "xshift": 5,
           "y": 2.137843132019043,
           "z": -0.2995556890964508
          },
          {
           "opacity": 1,
           "showarrow": false,
           "text": "each",
           "x": 4.918049335479736,
           "xanchor": "left",
           "xshift": 5,
           "y": 1.6531871557235718,
           "z": 0.5291500091552734
          },
          {
           "opacity": 1,
           "showarrow": false,
           "text": "area",
           "x": 4.489038467407227,
           "xanchor": "left",
           "xshift": 5,
           "y": 1.1216269731521606,
           "z": -2.2902119159698486
          },
          {
           "opacity": 1,
           "showarrow": false,
           "text": "found",
           "x": 4.209103584289551,
           "xanchor": "left",
           "xshift": 5,
           "y": 2.3858144283294678,
           "z": -0.5369288325309753
          },
          {
           "opacity": 1,
           "showarrow": false,
           "text": "official",
           "x": 3.6701278686523438,
           "xanchor": "left",
           "xshift": 5,
           "y": 2.387709617614746,
           "z": -1.0683938264846802
          },
          {
           "opacity": 1,
           "showarrow": false,
           "text": "sunday",
           "x": 4.410510540008545,
           "xanchor": "left",
           "xshift": 5,
           "y": 2.209196090698242,
           "z": -0.7263235449790955
          },
          {
           "opacity": 1,
           "showarrow": false,
           "text": "place",
           "x": 4.645298957824707,
           "xanchor": "left",
           "xshift": 5,
           "y": 1.6009087562561035,
           "z": -0.7077509164810181
          },
          {
           "opacity": 1,
           "showarrow": false,
           "text": "go",
           "x": 4.508079528808594,
           "xanchor": "left",
           "xshift": 5,
           "y": 2.1113131046295166,
           "z": 0.12484732270240784
          },
          {
           "opacity": 1,
           "showarrow": false,
           "text": "based",
           "x": 4.3003387451171875,
           "xanchor": "left",
           "xshift": 5,
           "y": 1.9533979892730713,
           "z": -1.3151018619537354
          },
          {
           "opacity": 1,
           "showarrow": false,
           "text": "among",
           "x": 4.4363484382629395,
           "xanchor": "left",
           "xshift": 5,
           "y": 2.066624164581299,
           "z": 0.07025690376758575
          },
          {
           "opacity": 1,
           "showarrow": false,
           "text": "third",
           "x": 4.128358840942383,
           "xanchor": "left",
           "xshift": 5,
           "y": 2.245885133743286,
           "z": 0.10554059594869614
          },
          {
           "opacity": 1,
           "showarrow": false,
           "text": "times",
           "x": 4.247020721435547,
           "xanchor": "left",
           "xshift": 5,
           "y": 2.1885180473327637,
           "z": 0.17074090242385864
          },
          {
           "opacity": 1,
           "showarrow": false,
           "text": "took",
           "x": 4.081913948059082,
           "xanchor": "left",
           "xshift": 5,
           "y": 2.8093647956848145,
           "z": -0.20614401996135712
          },
          {
           "opacity": 1,
           "showarrow": false,
           "text": "right",
           "x": 4.437952518463135,
           "xanchor": "left",
           "xshift": 5,
           "y": 2.6106183528900146,
           "z": 0.196597158908844
          },
          {
           "opacity": 1,
           "showarrow": false,
           "text": "days",
           "x": 4.753405570983887,
           "xanchor": "left",
           "xshift": 5,
           "y": 1.9817759990692139,
           "z": 0.1994810253381729
          },
          {
           "opacity": 1,
           "showarrow": false,
           "text": "local",
           "x": 4.124959945678711,
           "xanchor": "left",
           "xshift": 5,
           "y": 1.2778615951538086,
           "z": -1.136204719543457
          },
          {
           "opacity": 1,
           "showarrow": false,
           "text": "economic",
           "x": 4.123745441436768,
           "xanchor": "left",
           "xshift": 5,
           "y": 1.9816629886627197,
           "z": -0.24188509583473206
          },
          {
           "opacity": 1,
           "showarrow": false,
           "text": "countries",
           "x": 4.673676490783691,
           "xanchor": "left",
           "xshift": 5,
           "y": 1.5071437358856201,
           "z": -0.07836030423641205
          },
          {
           "opacity": 1,
           "showarrow": false,
           "text": "see",
           "x": 4.373965740203857,
           "xanchor": "left",
           "xshift": 5,
           "y": 2.2470510005950928,
           "z": -0.37697210907936096
          },
          {
           "opacity": 1,
           "showarrow": false,
           "text": "best",
           "x": 4.169399261474609,
           "xanchor": "left",
           "xshift": 5,
           "y": 2.3159446716308594,
           "z": 0.4665609300136566
          },
          {
           "opacity": 1,
           "showarrow": false,
           "text": "report",
           "x": 3.400379180908203,
           "xanchor": "left",
           "xshift": 5,
           "y": 2.7475433349609375,
           "z": -0.5061944127082825
          },
          {
           "opacity": 1,
           "showarrow": false,
           "text": "killed",
           "x": 3.8213882446289062,
           "xanchor": "left",
           "xshift": 5,
           "y": 2.6061737537384033,
           "z": -0.574068009853363
          },
          {
           "opacity": 1,
           "showarrow": false,
           "text": "held",
           "x": 4.40842342376709,
           "xanchor": "left",
           "xshift": 5,
           "y": 1.8011736869812012,
           "z": -0.878103494644165
          },
          {
           "opacity": 1,
           "showarrow": false,
           "text": "business",
           "x": 4.287320137023926,
           "xanchor": "left",
           "xshift": 5,
           "y": 1.9928381443023682,
           "z": -0.2628556191921234
          },
          {
           "opacity": 1,
           "showarrow": false,
           "text": "west",
           "x": 4.222295761108398,
           "xanchor": "left",
           "xshift": 5,
           "y": 1.5245614051818848,
           "z": -2.2219746112823486
          },
          {
           "opacity": 1,
           "showarrow": false,
           "text": "does",
           "x": 4.107801914215088,
           "xanchor": "left",
           "xshift": 5,
           "y": 2.553513526916504,
           "z": -0.2009725272655487
          },
          {
           "opacity": 1,
           "showarrow": false,
           "text": "own",
           "x": 4.692800521850586,
           "xanchor": "left",
           "xshift": 5,
           "y": 2.127920150756836,
           "z": 0.4001438617706299
          },
          {
           "opacity": 1,
           "showarrow": false,
           "text": "%",
           "x": 4.014171123504639,
           "xanchor": "left",
           "xshift": 5,
           "y": 0.703749418258667,
           "z": 0.31140968203544617
          },
          {
           "opacity": 1,
           "showarrow": false,
           "text": "came",
           "x": 4.261556148529053,
           "xanchor": "left",
           "xshift": 5,
           "y": 2.633272886276245,
           "z": -0.24913889169692993
          },
          {
           "opacity": 1,
           "showarrow": false,
           "text": "law",
           "x": 4.0672926902771,
           "xanchor": "left",
           "xshift": 5,
           "y": 2.487339735031128,
           "z": -0.5023407936096191
          },
          {
           "opacity": 1,
           "showarrow": false,
           "text": "months",
           "x": 4.605917453765869,
           "xanchor": "left",
           "xshift": 5,
           "y": 2.343879461288452,
           "z": 0.3754079043865204
          },
          {
           "opacity": 1,
           "showarrow": false,
           "text": "women",
           "x": 4.567727565765381,
           "xanchor": "left",
           "xshift": 5,
           "y": 1.5244765281677246,
           "z": 0.2444131225347519
          },
          {
           "opacity": 1,
           "showarrow": false,
           "text": "'re",
           "x": 4.498388767242432,
           "xanchor": "left",
           "xshift": 5,
           "y": 2.1637256145477295,
           "z": 0.8016120195388794
          },
          {
           "opacity": 1,
           "showarrow": false,
           "text": "power",
           "x": 4.5681633949279785,
           "xanchor": "left",
           "xshift": 5,
           "y": 1.8059442043304443,
           "z": -0.28663909435272217
          },
          {
           "opacity": 1,
           "showarrow": false,
           "text": "think",
           "x": 4.214108943939209,
           "xanchor": "left",
           "xshift": 5,
           "y": 2.8398940563201904,
           "z": 0.08453455567359924
          },
          {
           "opacity": 1,
           "showarrow": false,
           "text": "service",
           "x": 3.951046943664551,
           "xanchor": "left",
           "xshift": 5,
           "y": 1.3479527235031128,
           "z": -0.14678631722927094
          },
          {
           "opacity": 1,
           "showarrow": false,
           "text": "children",
           "x": 4.19658088684082,
           "xanchor": "left",
           "xshift": 5,
           "y": 2.341705322265625,
           "z": 0.4328007400035858
          },
          {
           "opacity": 1,
           "showarrow": false,
           "text": "bush",
           "x": 3.939517021179199,
           "xanchor": "left",
           "xshift": 5,
           "y": 2.662404775619507,
           "z": 0.4422439932823181
          },
          {
           "opacity": 1,
           "showarrow": false,
           "text": "show",
           "x": 4.18776798248291,
           "xanchor": "left",
           "xshift": 5,
           "y": 2.2467195987701416,
           "z": 0.09463553130626678
          },
          {
           "opacity": 1,
           "showarrow": false,
           "text": "/",
           "x": 3.1048011779785156,
           "xanchor": "left",
           "xshift": 5,
           "y": 1.960681438446045,
           "z": -0.6349505186080933
          },
          {
           "opacity": 1,
           "showarrow": false,
           "text": "help",
           "x": 4.287907123565674,
           "xanchor": "left",
           "xshift": 5,
           "y": 2.3328263759613037,
           "z": -0.0010898400796577334
          },
          {
           "opacity": 1,
           "showarrow": false,
           "text": "chief",
           "x": 2.496884822845459,
           "xanchor": "left",
           "xshift": 5,
           "y": 4.556063175201416,
           "z": -1.7897043228149414
          },
          {
           "opacity": 1,
           "showarrow": false,
           "text": "saturday",
           "x": 4.355184555053711,
           "xanchor": "left",
           "xshift": 5,
           "y": 2.2009384632110596,
           "z": -0.8163132071495056
          },
          {
           "opacity": 1,
           "showarrow": false,
           "text": "system",
           "x": 4.683149814605713,
           "xanchor": "left",
           "xshift": 5,
           "y": 0.9682967662811279,
           "z": -0.3634205758571625
          },
          {
           "opacity": 1,
           "showarrow": false,
           "text": "john",
           "x": 2.617359161376953,
           "xanchor": "left",
           "xshift": 5,
           "y": 4.310896873474121,
           "z": 0.02641294337809086
          },
          {
           "opacity": 1,
           "showarrow": false,
           "text": "support",
           "x": 4.12067985534668,
           "xanchor": "left",
           "xshift": 5,
           "y": 1.8817390203475952,
           "z": 0.06803293526172638
          },
          {
           "opacity": 1,
           "showarrow": false,
           "text": "series",
           "x": 4.52719783782959,
           "xanchor": "left",
           "xshift": 5,
           "y": 1.8870466947555542,
           "z": 0.5004991292953491
          },
          {
           "opacity": 1,
           "showarrow": false,
           "text": "play",
           "x": 4.262484550476074,
           "xanchor": "left",
           "xshift": 5,
           "y": 2.2572178840637207,
           "z": -0.0032544166315346956
          },
          {
           "opacity": 1,
           "showarrow": false,
           "text": "office",
           "x": 3.8617327213287354,
           "xanchor": "left",
           "xshift": 5,
           "y": 2.6449532508850098,
           "z": -1.0773712396621704
          },
          {
           "opacity": 1,
           "showarrow": false,
           "text": "following",
           "x": 4.456711769104004,
           "xanchor": "left",
           "xshift": 5,
           "y": 1.8771135807037354,
           "z": -0.5308107137680054
          },
          {
           "opacity": 1,
           "showarrow": false,
           "text": "me",
           "x": 4.013160228729248,
           "xanchor": "left",
           "xshift": 5,
           "y": 2.7916176319122314,
           "z": 0.2506905496120453
          },
          {
           "opacity": 1,
           "showarrow": false,
           "text": "meeting",
           "x": 3.882232904434204,
           "xanchor": "left",
           "xshift": 5,
           "y": 2.5410475730895996,
           "z": -0.99125075340271
          },
          {
           "opacity": 1,
           "showarrow": false,
           "text": "expected",
           "x": 4.253842830657959,
           "xanchor": "left",
           "xshift": 5,
           "y": 2.4034037590026855,
           "z": -0.006593017838895321
          },
          {
           "opacity": 1,
           "showarrow": false,
           "text": "late",
           "x": 4.214905738830566,
           "xanchor": "left",
           "xshift": 5,
           "y": 2.6009480953216553,
           "z": -0.2186080813407898
          },
          {
           "opacity": 1,
           "showarrow": false,
           "text": "washington",
           "x": 3.695899248123169,
           "xanchor": "left",
           "xshift": 5,
           "y": 2.584826946258545,
           "z": -0.7067129611968994
          },
          {
           "opacity": 1,
           "showarrow": false,
           "text": "games",
           "x": 4.827032089233398,
           "xanchor": "left",
           "xshift": 5,
           "y": 1.5321491956710815,
           "z": 0.5629355907440186
          },
          {
           "opacity": 1,
           "showarrow": false,
           "text": "european",
           "x": 4.511822700500488,
           "xanchor": "left",
           "xshift": 5,
           "y": 1.821513295173645,
           "z": 0.1932940036058426
          },
          {
           "opacity": 1,
           "showarrow": false,
           "text": "league",
           "x": 4.322577476501465,
           "xanchor": "left",
           "xshift": 5,
           "y": 1.613959550857544,
           "z": -0.8775862455368042
          },
          {
           "opacity": 1,
           "showarrow": false,
           "text": "reported",
           "x": 3.6674046516418457,
           "xanchor": "left",
           "xshift": 5,
           "y": 2.133031129837036,
           "z": -0.9792546629905701
          },
          {
           "opacity": 1,
           "showarrow": false,
           "text": "final",
           "x": 4.603315830230713,
           "xanchor": "left",
           "xshift": 5,
           "y": 1.6058392524719238,
           "z": 0.12663088738918304
          },
          {
           "opacity": 1,
           "showarrow": false,
           "text": "added",
           "x": 3.216233968734741,
           "xanchor": "left",
           "xshift": 5,
           "y": 3.1917953491210938,
           "z": 0.3623296618461609
          },
          {
           "opacity": 1,
           "showarrow": false,
           "text": "without",
           "x": 4.59336519241333,
           "xanchor": "left",
           "xshift": 5,
           "y": 2.0330896377563477,
           "z": 0.6695057153701782
          },
          {
           "opacity": 1,
           "showarrow": false,
           "text": "british",
           "x": 4.02921199798584,
           "xanchor": "left",
           "xshift": 5,
           "y": 2.1900558471679688,
           "z": 0.12517288327217102
          },
          {
           "opacity": 1,
           "showarrow": false,
           "text": "white",
           "x": 4.201934337615967,
           "xanchor": "left",
           "xshift": 5,
           "y": 2.59145188331604,
           "z": 0.37352052330970764
          },
          {
           "opacity": 1,
           "showarrow": false,
           "text": "history",
           "x": 4.629168510437012,
           "xanchor": "left",
           "xshift": 5,
           "y": 1.592909574508667,
           "z": -0.4490460753440857
          }
         ],
         "aspectmode": "auto",
         "aspectratio": {
          "x": 0.8606953696857973,
          "y": 1.1312644666443215,
          "z": 1.0270377038730585
         },
         "camera": {
          "center": {
           "x": 0,
           "y": 0,
           "z": 0
          },
          "eye": {
           "x": 0.29484756255882955,
           "y": 0.13630242973044468,
           "z": 0.25044429439775406
          },
          "up": {
           "x": 0,
           "y": 0,
           "z": 1
          }
         },
         "xaxis": {
          "title": "1st Principle Component",
          "type": "linear"
         },
         "yaxis": {
          "title": "2nd Principle Component",
          "type": "linear"
         },
         "zaxis": {
          "title": "3rd Principel Component",
          "type": "linear"
         }
        }
       }
      },
      "text/html": [
       "<div id=\"1ff775f0-2d2d-4e03-8245-f58f40afef4e\" style=\"height: 525px; width: 100%;\" class=\"plotly-graph-div\"></div><script type=\"text/javascript\">require([\"plotly\"], function(Plotly) { window.PLOTLYENV=window.PLOTLYENV || {};window.PLOTLYENV.BASE_URL=\"https://plot.ly\";Plotly.newPlot(\"1ff775f0-2d2d-4e03-8245-f58f40afef4e\", [{\"type\": \"scatter3d\", \"x\": [5.216967582702637, 4.079722881317139, 4.607768535614014, 5.049288749694824, 5.046916961669922, 4.548707008361816, 5.170193672180176, 5.011414051055908, 3.8968915939331055, 4.346786975860596, 5.020096778869629, 4.99492073059082, 4.861939430236816, 5.128436088562012, 4.501960277557373, 4.212862968444824, 2.8938283920288086, 4.7888102531433105, 4.772055149078369, 4.556411266326904, 5.20567512512207, 4.023972034454346, 4.94092321395874, 3.708509922027588, 4.037136554718018, 5.071026802062988, 4.587432861328125, 3.812596082687378, 4.4702558517456055, 4.520071506500244, 4.985276222229004, 4.551344394683838, 5.112781524658203, 5.227019786834717, 4.774053573608398, 4.938425064086914, 4.895444393157959, 4.922308921813965, 3.9254441261291504, 5.297741413116455, 4.4883646965026855, 4.706274509429932, 5.170941352844238, 4.791145324707031, 5.452670097351074, 4.32422399520874, 5.024126052856445, 5.528177738189697, 4.917052745819092, 4.780513286590576, 4.929819107055664, 4.853209495544434, 4.177886962890625, 4.869473934173584, 4.769846439361572, 5.128317356109619, 5.249835014343262, 4.378663063049316, 4.7125444412231445, 5.092857360839844, 5.150915145874023, 4.675726890563965, 4.941305637359619, 4.938770771026611, 5.144018650054932, 4.565847873687744, 5.0229926109313965, 4.4531474113464355, 4.933539390563965, 5.052079677581787, 4.760455131530762, 4.36307430267334, 4.781530380249023, 5.282629489898682, 5.112536907196045, 5.299345970153809, 4.941040992736816, 5.293012619018555, 4.525221347808838, 4.761252403259277, 4.993053913116455, 4.889562606811523, 4.875858306884766, 4.752821922302246, 4.737203598022461, 4.7914018630981445, 4.692521095275879, 5.079331874847412, 4.651036739349365, 4.014493465423584, 3.471311569213867, 4.940758228302002, 4.260919094085693, 5.073211193084717, 4.7939252853393555, 4.537331581115723, 4.946932792663574, 4.724257469177246, 4.67711067199707, 4.213457107543945, 4.816038131713867, 4.917011260986328, 4.670029163360596, 4.398110389709473, 4.166689872741699, 4.781399726867676, 4.892107963562012, 4.561856746673584, 4.945490837097168, 5.0270514488220215, 4.496513843536377, 4.860043525695801, 4.273285388946533, 4.863221645355225, 4.735185623168945, 4.815072059631348, 4.353819370269775, 4.509240627288818, 4.96712589263916, 4.188361644744873, 5.0260491371154785, 4.287115097045898, 4.708962917327881, 4.667102336883545, 4.542707920074463, 4.533205986022949, 4.385119915008545, 4.47513484954834, 4.160508155822754, 4.313721179962158, 4.9663591384887695, 4.930641174316406, 4.330804347991943, 5.136242389678955, 4.730784893035889, 4.897209167480469, 4.65153169631958, 4.753171920776367, 4.89260721206665, 4.335403919219971, 4.2125043869018555, 2.194267988204956, 3.932183265686035, 4.643117904663086, 4.361049175262451, 4.351019859313965, 4.407783508300781, 4.6508378982543945, 4.466568470001221, 4.750868320465088, 4.397651672363281, 4.87606954574585, 4.617319583892822, 4.7243571281433105, 2.6247570514678955, 5.063212871551514, 4.720518112182617, 3.4103097915649414, 5.049830436706543, 4.791534900665283, 4.917709827423096, 4.216007709503174, 4.824935436248779, 4.4419779777526855, 4.303041458129883, 4.034034252166748, 4.0769572257995605, 4.0526909828186035, 4.12070894241333, 4.685903549194336, 4.544290065765381, 4.262948989868164, 3.771401882171631, 4.810268878936768, 4.998775482177734, 3.8582303524017334, 4.484417915344238, 4.29542875289917, 4.507875919342041, 4.734809398651123, 4.62615442276001, 4.8655104637146, 4.757149696350098, 4.244951248168945, 4.237460613250732, 4.35973596572876, 4.762360572814941, 4.383679389953613, 4.3539628982543945, 4.566112518310547, 4.735493183135986, 4.397828578948975, 4.7072434425354, 4.456636905670166, 4.083706855773926, 4.49833345413208, 4.075562000274658, 4.58231782913208, 4.375085353851318, 4.65294075012207, 3.5955379009246826, 4.819390773773193, 4.167627811431885, 4.425386905670166, 5.110354423522949, 3.2350738048553467, 4.684028625488281, 4.755550861358643, 4.414773464202881, 4.408890247344971, 3.0382206439971924, 4.357215404510498, 4.154040813446045, 3.7366762161254883, 4.342345714569092, 4.863308906555176, 2.898312568664551, 3.7689602375030518, 4.157364845275879, 4.332235813140869, 4.2436842918396, 4.053337097167969, 4.568185329437256, 4.458015441894531, 4.112184047698975, 3.985570192337036, 4.038834095001221, 3.8014636039733887, 4.963571548461914, 4.607851982116699, 4.45352840423584, 3.8302161693573, 4.488245964050293, 4.125180721282959, 4.780884265899658, 4.229859352111816, 4.918049335479736, 4.489038467407227, 4.209103584289551, 3.6701278686523438, 4.410510540008545, 4.645298957824707, 4.508079528808594, 4.3003387451171875, 4.4363484382629395, 4.128358840942383, 4.247020721435547, 4.081913948059082, 4.437952518463135, 4.753405570983887, 4.124959945678711, 4.123745441436768, 4.673676490783691, 4.373965740203857, 4.169399261474609, 3.400379180908203, 3.8213882446289062, 4.40842342376709, 4.287320137023926, 4.222295761108398, 4.107801914215088, 4.692800521850586, 4.014171123504639, 4.261556148529053, 4.0672926902771, 4.605917453765869, 4.567727565765381, 4.498388767242432, 4.5681633949279785, 4.214108943939209, 3.951046943664551, 4.19658088684082, 3.939517021179199, 4.18776798248291, 3.1048011779785156, 4.287907123565674, 2.496884822845459, 4.355184555053711, 4.683149814605713, 2.617359161376953, 4.12067985534668, 4.52719783782959, 4.262484550476074, 3.8617327213287354, 4.456711769104004, 4.013160228729248, 3.882232904434204, 4.253842830657959, 4.214905738830566, 3.695899248123169, 4.827032089233398, 4.511822700500488, 4.322577476501465, 3.6674046516418457, 4.603315830230713, 3.216233968734741, 4.59336519241333, 4.02921199798584, 4.201934337615967, 4.629168510437012], \"y\": [2.0715253353118896, 3.0711798667907715, 2.4524827003479004, 2.1028945446014404, 2.349575996398926, 2.6890344619750977, 1.9252305030822754, 2.3231635093688965, 2.540642023086548, 3.4942843914031982, 2.403280019760132, 3.156994104385376, 3.192488431930542, 2.1550769805908203, 2.2899997234344482, 3.12158203125, 5.085710525512695, 2.681976318359375, 3.2402446269989014, 2.5599477291107178, 2.279451370239258, 3.3659815788269043, 1.951338768005371, 2.2808291912078857, 2.0566916465759277, 2.044612407684326, 3.474882125854492, 3.8462538719177246, 3.0696606636047363, 2.231208324432373, 2.546231746673584, 3.1511309146881104, 1.8548325300216675, 2.721656084060669, 2.9968771934509277, 2.3290958404541016, 2.862355947494507, 2.3302009105682373, 4.004362106323242, 2.4741320610046387, 3.530055284500122, 3.1656668186187744, 1.9242379665374756, 2.6731913089752197, 1.8981014490127563, 2.4321413040161133, 1.3908820152282715, 1.3742468357086182, 2.437164783477783, 2.878380060195923, 2.220299243927002, 2.802443504333496, 2.9526915550231934, 2.8874220848083496, 2.7934703826904297, 2.3822479248046875, 1.9296460151672363, 2.8623452186584473, 2.33701491355896, 2.2756054401397705, 2.353262424468994, 3.092359781265259, 2.3532304763793945, 2.18780517578125, 2.284372091293335, 3.067829132080078, 2.781018018722534, 2.8897690773010254, 2.2319679260253906, 1.842821717262268, 3.090169906616211, 3.0225796699523926, 1.7614456415176392, 1.8122483491897583, 2.0932095050811768, 1.7450952529907227, 2.6344363689422607, 1.8885185718536377, 2.3504135608673096, 2.437911033630371, 1.7504148483276367, 2.4028961658477783, 2.4746646881103516, 2.6594161987304688, 2.3636972904205322, 1.9989060163497925, 2.0292766094207764, 2.2274317741394043, 2.4091413021087646, 2.459599494934082, 4.301771640777588, 2.0835204124450684, 1.9704641103744507, 1.605770468711853, 2.700995445251465, 2.202362060546875, 1.8150817155838013, 2.264376401901245, 2.147813081741333, 2.562113046646118, 2.3744893074035645, 2.3593318462371826, 2.965496301651001, 3.3189268112182617, 2.3035671710968018, 2.122328281402588, 2.4680802822113037, 2.14446759223938, 2.271040916442871, 1.9548503160476685, 2.515183687210083, 1.8954837322235107, 2.072840929031372, 2.3999433517456055, 2.2634198665618896, 1.5517265796661377, 2.8323705196380615, 2.7202298641204834, 1.590242624282837, 3.222860336303711, 2.2313244342803955, 1.8406070470809937, 2.1872894763946533, 1.7526817321777344, 2.5828723907470703, 2.1310744285583496, 2.364382028579712, 2.706256628036499, 2.5528104305267334, 2.152989149093628, 1.9915786981582642, 1.5617986917495728, 1.3914178609848022, 2.115351438522339, 2.3152332305908203, 2.313080310821533, 1.8496681451797485, 2.7674219608306885, 2.5128607749938965, 1.604041337966919, 2.3202617168426514, 4.613776206970215, 2.752328395843506, 2.2577247619628906, 2.3827948570251465, 2.6282176971435547, 2.1101298332214355, 2.5136425495147705, 2.5258352756500244, 2.2936758995056152, 2.5150370597839355, 2.305211067199707, 1.5203083753585815, 1.5675214529037476, 4.354806900024414, 2.187272310256958, 2.0264360904693604, 3.6517159938812256, 1.6526249647140503, 2.1091227531433105, 1.534881830215454, 2.441807270050049, 2.0461020469665527, 2.074309825897217, 1.7399981021881104, 2.2558815479278564, 2.5015828609466553, 2.6183767318725586, 2.9025027751922607, 2.4566867351531982, 2.307378053665161, 2.775517225265503, 2.2989203929901123, 2.1414270401000977, 2.070037603378296, 2.3504724502563477, 1.3914005756378174, 2.7530384063720703, 1.892241358757019, 2.2210018634796143, 1.8239318132400513, 2.2145638465881348, 2.12890362739563, 2.7317848205566406, 2.700826644897461, 2.584836959838867, 1.8955172300338745, 2.4075675010681152, 2.4074759483337402, 2.454089641571045, 2.2680678367614746, 2.329845428466797, 2.466478109359741, 1.297829031944275, 2.171898365020752, 1.8971593379974365, 2.3445587158203125, 2.7462737560272217, 1.748065710067749, 2.07099986076355, 2.633871555328369, 2.139211416244507, 2.428044557571411, 2.6263813972473145, 1.4102680683135986, 2.879243850708008, 1.8150752782821655, 1.8801968097686768, 1.973650336265564, 2.0924253463745117, 3.8056609630584717, 1.7812095880508423, 2.446223020553589, 2.6852335929870605, 2.28562068939209, 2.1336848735809326, 3.7468936443328857, 1.793006181716919, 2.5967867374420166, 2.453969955444336, 2.3249053955078125, 2.413198232650757, 2.2176640033721924, 1.5024714469909668, 2.2703826427459717, 2.057464361190796, 2.219677448272705, 2.4375009536743164, 1.964255452156067, 2.2537014484405518, 1.2389119863510132, 1.928436517715454, 1.518540859222412, 1.9911046028137207, 1.4826236963272095, 2.137843132019043, 1.6531871557235718, 1.1216269731521606, 2.3858144283294678, 2.387709617614746, 2.209196090698242, 1.6009087562561035, 2.1113131046295166, 1.9533979892730713, 2.066624164581299, 2.245885133743286, 2.1885180473327637, 2.8093647956848145, 2.6106183528900146, 1.9817759990692139, 1.2778615951538086, 1.9816629886627197, 1.5071437358856201, 2.2470510005950928, 2.3159446716308594, 2.7475433349609375, 2.6061737537384033, 1.8011736869812012, 1.9928381443023682, 1.5245614051818848, 2.553513526916504, 2.127920150756836, 0.703749418258667, 2.633272886276245, 2.487339735031128, 2.343879461288452, 1.5244765281677246, 2.1637256145477295, 1.8059442043304443, 2.8398940563201904, 1.3479527235031128, 2.341705322265625, 2.662404775619507, 2.2467195987701416, 1.960681438446045, 2.3328263759613037, 4.556063175201416, 2.2009384632110596, 0.9682967662811279, 4.310896873474121, 1.8817390203475952, 1.8870466947555542, 2.2572178840637207, 2.6449532508850098, 1.8771135807037354, 2.7916176319122314, 2.5410475730895996, 2.4034037590026855, 2.6009480953216553, 2.584826946258545, 1.5321491956710815, 1.821513295173645, 1.613959550857544, 2.133031129837036, 1.6058392524719238, 3.1917953491210938, 2.0330896377563477, 2.1900558471679688, 2.59145188331604, 1.592909574508667], \"z\": [-1.0411882400512695, -0.7820123434066772, -0.4707377254962921, -1.1973633766174316, -0.31591150164604187, -0.49693867564201355, -1.5195250511169434, -0.15560950338840485, -0.9452044367790222, -0.8259484171867371, -0.010254917666316032, -0.5427168607711792, -0.19757670164108276, -0.39532145857810974, -1.4158155918121338, -0.6713814735412598, -0.8577430248260498, 0.1735670566558838, -0.40621039271354675, -0.5295460820198059, -0.4750240743160248, -0.18493568897247314, -1.0775752067565918, -0.944581151008606, -0.96592116355896, -0.7548046112060547, 0.12143953144550323, 0.061667587608098984, 0.00795269850641489, -0.302045613527298, 0.0028459897730499506, -0.746656060218811, -0.005585001781582832, 0.029876060783863068, 0.030983060598373413, 0.182613804936409, -0.01869153045117855, -0.4555211365222931, 0.09413222968578339, 0.01037440076470375, -0.05292215570807457, -0.18998396396636963, -0.7636980414390564, -0.21979980170726776, 0.4764302372932434, -0.4625760018825531, 0.24620772898197174, -0.4978443682193756, -0.20573736727237701, -0.26420778036117554, -0.34035053849220276, -0.33937811851501465, -0.7942090630531311, 0.03965192288160324, -0.08843903243541718, 0.2571178674697876, 0.6257534027099609, -0.6783136129379272, -0.1376967579126358, 0.26329678297042847, 0.503757655620575, -0.0889829769730568, 0.10425152629613876, -0.183915376663208, 0.3323412239551544, -0.690118134021759, 0.47337573766708374, -0.1649594008922577, -0.10656285285949707, -0.42025232315063477, 0.36769363284111023, 0.2902856469154358, 0.5797637701034546, 0.6353185176849365, 0.05624081566929817, -0.5254566669464111, -0.20118345320224762, 0.22570021450519562, -0.7555304765701294, 0.3041490912437439, 1.2213619947433472, 0.485332190990448, -0.031358737498521805, 0.05985260754823685, 0.13132494688034058, 0.0648396760225296, 0.21412694454193115, 0.30150625109672546, -0.3843264877796173, -0.18343834578990936, -0.8891674876213074, 0.17809155583381653, -2.1505842208862305, 0.5237267017364502, 0.1427236795425415, 0.6127512454986572, -0.07184753566980362, 0.2751544415950775, -0.3938615620136261, 0.3173389732837677, 0.300810307264328, 0.6209301948547363, -0.090379498898983, 0.28157296776771545, -0.6288166642189026, -0.3817870616912842, -0.12337594479322433, -0.3363281488418579, -0.4163814187049866, 0.07048188149929047, 0.07212764024734497, -1.7191883325576782, -0.5823857188224792, -0.09616610407829285, -0.7227006554603577, -2.756875991821289, 0.24869628250598907, -0.18533705174922943, -0.878240704536438, -0.07850518077611923, 0.13008920848369598, -1.5417428016662598, -0.014852706342935562, -0.8294883966445923, -0.3603734076023102, -0.1142972782254219, -0.19653673470020294, -0.47660961747169495, -0.5789089798927307, -0.9122028946876526, 0.48430338501930237, -0.4163784384727478, -0.9156548380851746, 0.4199819564819336, -0.14491026103496552, 0.5420252084732056, -0.20137856900691986, 0.1315680891275406, 0.29790762066841125, -2.186817169189453, 0.35181277990341187, -0.6385652422904968, -1.553863763809204, -0.36591988801956177, -0.19939075410366058, -0.43846410512924194, -0.8069119453430176, -0.05082347244024277, -1.1074748039245605, 0.04204745590686798, -0.20326757431030273, 0.43717965483665466, -0.7498093843460083, -1.6085641384124756, -1.2544468641281128, 0.6422839760780334, 0.05121491849422455, -1.327439308166504, 0.3247855007648468, 0.48703131079673767, 1.1532248258590698, 0.1349196434020996, 0.3119930028915405, -0.5636692643165588, -1.6293588876724243, -0.5727651715278625, -0.4724234342575073, -0.292469322681427, -0.6692937016487122, 0.5519512891769409, -0.1341952681541443, -0.46321260929107666, -0.5117247700691223, 0.19382426142692566, 0.438678115606308, -1.0999118089675903, -0.43179044127464294, -0.5320255756378174, -0.540963888168335, -0.11863908916711807, -0.04754721000790596, 0.11399532109498978, -0.21505917608737946, -0.49043554067611694, -0.47358420491218567, -0.395705908536911, 0.6772105693817139, -0.7000426054000854, 0.16589905321598053, -0.03767711669206619, 0.03973398357629776, 0.004366805776953697, 0.35214242339134216, -2.341529607772827, -0.27283453941345215, 0.1927243024110794, -0.5034441947937012, 0.35169699788093567, -0.41583794355392456, -0.12340379506349564, -0.7874086499214172, -0.2673487663269043, -1.220737099647522, -0.26549381017684937, -0.329421728849411, 0.3148847818374634, 0.422325074672699, -0.4039188027381897, 0.4953639507293701, -0.19617010653018951, -0.28383880853652954, -0.14443254470825195, -0.40172821283340454, -0.34474068880081177, 0.22942404448986053, 0.0290699265897274, -1.0916285514831543, -1.1446014642715454, -0.051916394382715225, 0.2505549490451813, -0.07899650931358337, -2.688415288925171, 0.20591425895690918, 0.4177057147026062, -0.9230666756629944, -1.5437780618667603, 0.9652987718582153, -0.3060963749885559, 0.5921461582183838, 0.03314930945634842, 1.1940432786941528, -1.4096746444702148, -0.24649851024150848, -0.2174845039844513, 0.4625973105430603, -0.2995556890964508, 0.5291500091552734, -2.2902119159698486, -0.5369288325309753, -1.0683938264846802, -0.7263235449790955, -0.7077509164810181, 0.12484732270240784, -1.3151018619537354, 0.07025690376758575, 0.10554059594869614, 0.17074090242385864, -0.20614401996135712, 0.196597158908844, 0.1994810253381729, -1.136204719543457, -0.24188509583473206, -0.07836030423641205, -0.37697210907936096, 0.4665609300136566, -0.5061944127082825, -0.574068009853363, -0.878103494644165, -0.2628556191921234, -2.2219746112823486, -0.2009725272655487, 0.4001438617706299, 0.31140968203544617, -0.24913889169692993, -0.5023407936096191, 0.3754079043865204, 0.2444131225347519, 0.8016120195388794, -0.28663909435272217, 0.08453455567359924, -0.14678631722927094, 0.4328007400035858, 0.4422439932823181, 0.09463553130626678, -0.6349505186080933, -0.0010898400796577334, -1.7897043228149414, -0.8163132071495056, -0.3634205758571625, 0.02641294337809086, 0.06803293526172638, 0.5004991292953491, -0.0032544166315346956, -1.0773712396621704, -0.5308107137680054, 0.2506905496120453, -0.99125075340271, -0.006593017838895321, -0.2186080813407898, -0.7067129611968994, 0.5629355907440186, 0.1932940036058426, -0.8775862455368042, -0.9792546629905701, 0.12663088738918304, 0.3623296618461609, 0.6695057153701782, 0.12517288327217102, 0.37352052330970764, -0.4490460753440857], \"mode\": \"markers\", \"marker\": {\"size\": 4, \"opacity\": 0.8}, \"text\": [\"the\", \",\", \".\", \"of\", \"to\", \"and\", \"in\", \"a\", \"\\\"\", \"'s\", \"for\", \"-\", \"that\", \"on\", \"is\", \"was\", \"said\", \"with\", \"he\", \"as\", \"it\", \"by\", \"at\", \"(\", \")\", \"from\", \"his\", \"''\", \"``\", \"an\", \"be\", \"has\", \"are\", \"have\", \"but\", \"were\", \"not\", \"this\", \"who\", \"they\", \"had\", \"i\", \"which\", \"will\", \"their\", \":\", \"or\", \"its\", \"one\", \"after\", \"new\", \"been\", \"also\", \"we\", \"would\", \"two\", \"more\", \"'\", \"first\", \"about\", \"up\", \"when\", \"year\", \"there\", \"all\", \"--\", \"out\", \"she\", \"other\", \"people\", \"n't\", \"her\", \"percent\", \"than\", \"over\", \"into\", \"last\", \"some\", \"government\", \"time\", \"$\", \"you\", \"years\", \"if\", \"no\", \"world\", \"can\", \"three\", \"do\", \";\", \"president\", \"only\", \"state\", \"million\", \"could\", \"us\", \"most\", \"_\", \"against\", \"u.s.\", \"so\", \"them\", \"what\", \"him\", \"united\", \"during\", \"before\", \"may\", \"since\", \"many\", \"while\", \"where\", \"states\", \"because\", \"now\", \"city\", \"made\", \"like\", \"between\", \"did\", \"just\", \"national\", \"day\", \"country\", \"under\", \"such\", \"second\", \"then\", \"company\", \"group\", \"any\", \"through\", \"china\", \"four\", \"being\", \"down\", \"war\", \"back\", \"off\", \"south\", \"american\", \"minister\", \"police\", \"well\", \"including\", \"team\", \"international\", \"week\", \"officials\", \"still\", \"both\", \"even\", \"high\", \"part\", \"told\", \"those\", \"end\", \"former\", \"these\", \"make\", \"billion\", \"work\", \"our\", \"home\", \"school\", \"party\", \"house\", \"old\", \"later\", \"get\", \"another\", \"tuesday\", \"news\", \"long\", \"five\", \"called\", \"1\", \"wednesday\", \"military\", \"way\", \"used\", \"much\", \"next\", \"monday\", \"thursday\", \"friday\", \"game\", \"here\", \"?\", \"should\", \"take\", \"very\", \"my\", \"north\", \"security\", \"season\", \"york\", \"how\", \"public\", \"early\", \"according\", \"several\", \"court\", \"say\", \"around\", \"foreign\", \"10\", \"until\", \"set\", \"political\", \"says\", \"market\", \"however\", \"family\", \"life\", \"same\", \"general\", \"\\u2013\", \"left\", \"good\", \"top\", \"university\", \"going\", \"number\", \"major\", \"known\", \"points\", \"won\", \"six\", \"month\", \"dollars\", \"bank\", \"2\", \"iraq\", \"use\", \"members\", \"each\", \"area\", \"found\", \"official\", \"sunday\", \"place\", \"go\", \"based\", \"among\", \"third\", \"times\", \"took\", \"right\", \"days\", \"local\", \"economic\", \"countries\", \"see\", \"best\", \"report\", \"killed\", \"held\", \"business\", \"west\", \"does\", \"own\", \"%\", \"came\", \"law\", \"months\", \"women\", \"'re\", \"power\", \"think\", \"service\", \"children\", \"bush\", \"show\", \"/\", \"help\", \"chief\", \"saturday\", \"system\", \"john\", \"support\", \"series\", \"play\", \"office\", \"following\", \"me\", \"meeting\", \"expected\", \"late\", \"washington\", \"games\", \"european\", \"league\", \"reported\", \"final\", \"added\", \"without\", \"british\", \"white\", \"history\"]}], {\"margin\": {\"l\": 0, \"r\": 0, \"b\": 0, \"t\": 0}, \"scene\": {\"xaxis\": {\"title\": \"1st Principle Component\"}, \"yaxis\": {\"title\": \"2nd Principle Component\"}, \"zaxis\": {\"title\": \"3rd Principel Component\"}, \"annotations\": [{\"showarrow\": false, \"x\": 5.216967582702637, \"y\": 2.0715253353118896, \"z\": -1.0411882400512695, \"text\": \"the\", \"xanchor\": \"left\", \"xshift\": 5, \"opacity\": 1}, {\"showarrow\": false, \"x\": 4.079722881317139, \"y\": 3.0711798667907715, \"z\": -0.7820123434066772, \"text\": \",\", \"xanchor\": \"left\", \"xshift\": 5, \"opacity\": 1}, {\"showarrow\": false, \"x\": 4.607768535614014, \"y\": 2.4524827003479004, \"z\": -0.4707377254962921, \"text\": \".\", \"xanchor\": \"left\", \"xshift\": 5, \"opacity\": 1}, {\"showarrow\": false, \"x\": 5.049288749694824, \"y\": 2.1028945446014404, \"z\": -1.1973633766174316, \"text\": \"of\", \"xanchor\": \"left\", \"xshift\": 5, \"opacity\": 1}, {\"showarrow\": false, \"x\": 5.046916961669922, \"y\": 2.349575996398926, \"z\": -0.31591150164604187, \"text\": \"to\", \"xanchor\": \"left\", \"xshift\": 5, \"opacity\": 1}, {\"showarrow\": false, \"x\": 4.548707008361816, \"y\": 2.6890344619750977, \"z\": -0.49693867564201355, \"text\": \"and\", \"xanchor\": \"left\", \"xshift\": 5, \"opacity\": 1}, {\"showarrow\": false, \"x\": 5.170193672180176, \"y\": 1.9252305030822754, \"z\": -1.5195250511169434, \"text\": \"in\", \"xanchor\": \"left\", \"xshift\": 5, \"opacity\": 1}, {\"showarrow\": false, \"x\": 5.011414051055908, \"y\": 2.3231635093688965, \"z\": -0.15560950338840485, \"text\": \"a\", \"xanchor\": \"left\", \"xshift\": 5, \"opacity\": 1}, {\"showarrow\": false, \"x\": 3.8968915939331055, \"y\": 2.540642023086548, \"z\": -0.9452044367790222, \"text\": \"\\\"\", \"xanchor\": \"left\", \"xshift\": 5, \"opacity\": 1}, {\"showarrow\": false, \"x\": 4.346786975860596, \"y\": 3.4942843914031982, \"z\": -0.8259484171867371, \"text\": \"'s\", \"xanchor\": \"left\", \"xshift\": 5, \"opacity\": 1}, {\"showarrow\": false, \"x\": 5.020096778869629, \"y\": 2.403280019760132, \"z\": -0.010254917666316032, \"text\": \"for\", \"xanchor\": \"left\", \"xshift\": 5, \"opacity\": 1}, {\"showarrow\": false, \"x\": 4.99492073059082, \"y\": 3.156994104385376, \"z\": -0.5427168607711792, \"text\": \"-\", \"xanchor\": \"left\", \"xshift\": 5, \"opacity\": 1}, {\"showarrow\": false, \"x\": 4.861939430236816, \"y\": 3.192488431930542, \"z\": -0.19757670164108276, \"text\": \"that\", \"xanchor\": \"left\", \"xshift\": 5, \"opacity\": 1}, {\"showarrow\": false, \"x\": 5.128436088562012, \"y\": 2.1550769805908203, \"z\": -0.39532145857810974, \"text\": \"on\", \"xanchor\": \"left\", \"xshift\": 5, \"opacity\": 1}, {\"showarrow\": false, \"x\": 4.501960277557373, \"y\": 2.2899997234344482, \"z\": -1.4158155918121338, \"text\": \"is\", \"xanchor\": \"left\", \"xshift\": 5, \"opacity\": 1}, {\"showarrow\": false, \"x\": 4.212862968444824, \"y\": 3.12158203125, \"z\": -0.6713814735412598, \"text\": \"was\", \"xanchor\": \"left\", \"xshift\": 5, \"opacity\": 1}, {\"showarrow\": false, \"x\": 2.8938283920288086, \"y\": 5.085710525512695, \"z\": -0.8577430248260498, \"text\": \"said\", \"xanchor\": \"left\", \"xshift\": 5, \"opacity\": 1}, {\"showarrow\": false, \"x\": 4.7888102531433105, \"y\": 2.681976318359375, \"z\": 0.1735670566558838, \"text\": \"with\", \"xanchor\": \"left\", \"xshift\": 5, \"opacity\": 1}, {\"showarrow\": false, \"x\": 4.772055149078369, \"y\": 3.2402446269989014, \"z\": -0.40621039271354675, \"text\": \"he\", \"xanchor\": \"left\", \"xshift\": 5, \"opacity\": 1}, {\"showarrow\": false, \"x\": 4.556411266326904, \"y\": 2.5599477291107178, \"z\": -0.5295460820198059, \"text\": \"as\", \"xanchor\": \"left\", \"xshift\": 5, \"opacity\": 1}, {\"showarrow\": false, \"x\": 5.20567512512207, \"y\": 2.279451370239258, \"z\": -0.4750240743160248, \"text\": \"it\", \"xanchor\": \"left\", \"xshift\": 5, \"opacity\": 1}, {\"showarrow\": false, \"x\": 4.023972034454346, \"y\": 3.3659815788269043, \"z\": -0.18493568897247314, \"text\": \"by\", \"xanchor\": \"left\", \"xshift\": 5, \"opacity\": 1}, {\"showarrow\": false, \"x\": 4.94092321395874, \"y\": 1.951338768005371, \"z\": -1.0775752067565918, \"text\": \"at\", \"xanchor\": \"left\", \"xshift\": 5, \"opacity\": 1}, {\"showarrow\": false, \"x\": 3.708509922027588, \"y\": 2.2808291912078857, \"z\": -0.944581151008606, \"text\": \"(\", \"xanchor\": \"left\", \"xshift\": 5, \"opacity\": 1}, {\"showarrow\": false, \"x\": 4.037136554718018, \"y\": 2.0566916465759277, \"z\": -0.96592116355896, \"text\": \")\", \"xanchor\": \"left\", \"xshift\": 5, \"opacity\": 1}, {\"showarrow\": false, \"x\": 5.071026802062988, \"y\": 2.044612407684326, \"z\": -0.7548046112060547, \"text\": \"from\", \"xanchor\": \"left\", \"xshift\": 5, \"opacity\": 1}, {\"showarrow\": false, \"x\": 4.587432861328125, \"y\": 3.474882125854492, \"z\": 0.12143953144550323, \"text\": \"his\", \"xanchor\": \"left\", \"xshift\": 5, \"opacity\": 1}, {\"showarrow\": false, \"x\": 3.812596082687378, \"y\": 3.8462538719177246, \"z\": 0.061667587608098984, \"text\": \"''\", \"xanchor\": \"left\", \"xshift\": 5, \"opacity\": 1}, {\"showarrow\": false, \"x\": 4.4702558517456055, \"y\": 3.0696606636047363, \"z\": 0.00795269850641489, \"text\": \"``\", \"xanchor\": \"left\", \"xshift\": 5, \"opacity\": 1}, {\"showarrow\": false, \"x\": 4.520071506500244, \"y\": 2.231208324432373, \"z\": -0.302045613527298, \"text\": \"an\", \"xanchor\": \"left\", \"xshift\": 5, \"opacity\": 1}, {\"showarrow\": false, \"x\": 4.985276222229004, \"y\": 2.546231746673584, \"z\": 0.0028459897730499506, \"text\": \"be\", \"xanchor\": \"left\", \"xshift\": 5, \"opacity\": 1}, {\"showarrow\": false, \"x\": 4.551344394683838, \"y\": 3.1511309146881104, \"z\": -0.746656060218811, \"text\": \"has\", \"xanchor\": \"left\", \"xshift\": 5, \"opacity\": 1}, {\"showarrow\": false, \"x\": 5.112781524658203, \"y\": 1.8548325300216675, \"z\": -0.005585001781582832, \"text\": \"are\", \"xanchor\": \"left\", \"xshift\": 5, \"opacity\": 1}, {\"showarrow\": false, \"x\": 5.227019786834717, \"y\": 2.721656084060669, \"z\": 0.029876060783863068, \"text\": \"have\", \"xanchor\": \"left\", \"xshift\": 5, \"opacity\": 1}, {\"showarrow\": false, \"x\": 4.774053573608398, \"y\": 2.9968771934509277, \"z\": 0.030983060598373413, \"text\": \"but\", \"xanchor\": \"left\", \"xshift\": 5, \"opacity\": 1}, {\"showarrow\": false, \"x\": 4.938425064086914, \"y\": 2.3290958404541016, \"z\": 0.182613804936409, \"text\": \"were\", \"xanchor\": \"left\", \"xshift\": 5, \"opacity\": 1}, {\"showarrow\": false, \"x\": 4.895444393157959, \"y\": 2.862355947494507, \"z\": -0.01869153045117855, \"text\": \"not\", \"xanchor\": \"left\", \"xshift\": 5, \"opacity\": 1}, {\"showarrow\": false, \"x\": 4.922308921813965, \"y\": 2.3302009105682373, \"z\": -0.4555211365222931, \"text\": \"this\", \"xanchor\": \"left\", \"xshift\": 5, \"opacity\": 1}, {\"showarrow\": false, \"x\": 3.9254441261291504, \"y\": 4.004362106323242, \"z\": 0.09413222968578339, \"text\": \"who\", \"xanchor\": \"left\", \"xshift\": 5, \"opacity\": 1}, {\"showarrow\": false, \"x\": 5.297741413116455, \"y\": 2.4741320610046387, \"z\": 0.01037440076470375, \"text\": \"they\", \"xanchor\": \"left\", \"xshift\": 5, \"opacity\": 1}, {\"showarrow\": false, \"x\": 4.4883646965026855, \"y\": 3.530055284500122, \"z\": -0.05292215570807457, \"text\": \"had\", \"xanchor\": \"left\", \"xshift\": 5, \"opacity\": 1}, {\"showarrow\": false, \"x\": 4.706274509429932, \"y\": 3.1656668186187744, \"z\": -0.18998396396636963, \"text\": \"i\", \"xanchor\": \"left\", \"xshift\": 5, \"opacity\": 1}, {\"showarrow\": false, \"x\": 5.170941352844238, \"y\": 1.9242379665374756, \"z\": -0.7636980414390564, \"text\": \"which\", \"xanchor\": \"left\", \"xshift\": 5, \"opacity\": 1}, {\"showarrow\": false, \"x\": 4.791145324707031, \"y\": 2.6731913089752197, \"z\": -0.21979980170726776, \"text\": \"will\", \"xanchor\": \"left\", \"xshift\": 5, \"opacity\": 1}, {\"showarrow\": false, \"x\": 5.452670097351074, \"y\": 1.8981014490127563, \"z\": 0.4764302372932434, \"text\": \"their\", \"xanchor\": \"left\", \"xshift\": 5, \"opacity\": 1}, {\"showarrow\": false, \"x\": 4.32422399520874, \"y\": 2.4321413040161133, \"z\": -0.4625760018825531, \"text\": \":\", \"xanchor\": \"left\", \"xshift\": 5, \"opacity\": 1}, {\"showarrow\": false, \"x\": 5.024126052856445, \"y\": 1.3908820152282715, \"z\": 0.24620772898197174, \"text\": \"or\", \"xanchor\": \"left\", \"xshift\": 5, \"opacity\": 1}, {\"showarrow\": false, \"x\": 5.528177738189697, \"y\": 1.3742468357086182, \"z\": -0.4978443682193756, \"text\": \"its\", \"xanchor\": \"left\", \"xshift\": 5, \"opacity\": 1}, {\"showarrow\": false, \"x\": 4.917052745819092, \"y\": 2.437164783477783, \"z\": -0.20573736727237701, \"text\": \"one\", \"xanchor\": \"left\", \"xshift\": 5, \"opacity\": 1}, {\"showarrow\": false, \"x\": 4.780513286590576, \"y\": 2.878380060195923, \"z\": -0.26420778036117554, \"text\": \"after\", \"xanchor\": \"left\", \"xshift\": 5, \"opacity\": 1}, {\"showarrow\": false, \"x\": 4.929819107055664, \"y\": 2.220299243927002, \"z\": -0.34035053849220276, \"text\": \"new\", \"xanchor\": \"left\", \"xshift\": 5, \"opacity\": 1}, {\"showarrow\": false, \"x\": 4.853209495544434, \"y\": 2.802443504333496, \"z\": -0.33937811851501465, \"text\": \"been\", \"xanchor\": \"left\", \"xshift\": 5, \"opacity\": 1}, {\"showarrow\": false, \"x\": 4.177886962890625, \"y\": 2.9526915550231934, \"z\": -0.7942090630531311, \"text\": \"also\", \"xanchor\": \"left\", \"xshift\": 5, \"opacity\": 1}, {\"showarrow\": false, \"x\": 4.869473934173584, \"y\": 2.8874220848083496, \"z\": 0.03965192288160324, \"text\": \"we\", \"xanchor\": \"left\", \"xshift\": 5, \"opacity\": 1}, {\"showarrow\": false, \"x\": 4.769846439361572, \"y\": 2.7934703826904297, \"z\": -0.08843903243541718, \"text\": \"would\", \"xanchor\": \"left\", \"xshift\": 5, \"opacity\": 1}, {\"showarrow\": false, \"x\": 5.128317356109619, \"y\": 2.3822479248046875, \"z\": 0.2571178674697876, \"text\": \"two\", \"xanchor\": \"left\", \"xshift\": 5, \"opacity\": 1}, {\"showarrow\": false, \"x\": 5.249835014343262, \"y\": 1.9296460151672363, \"z\": 0.6257534027099609, \"text\": \"more\", \"xanchor\": \"left\", \"xshift\": 5, \"opacity\": 1}, {\"showarrow\": false, \"x\": 4.378663063049316, \"y\": 2.8623452186584473, \"z\": -0.6783136129379272, \"text\": \"'\", \"xanchor\": \"left\", \"xshift\": 5, \"opacity\": 1}, {\"showarrow\": false, \"x\": 4.7125444412231445, \"y\": 2.33701491355896, \"z\": -0.1376967579126358, \"text\": \"first\", \"xanchor\": \"left\", \"xshift\": 5, \"opacity\": 1}, {\"showarrow\": false, \"x\": 5.092857360839844, \"y\": 2.2756054401397705, \"z\": 0.26329678297042847, \"text\": \"about\", \"xanchor\": \"left\", \"xshift\": 5, \"opacity\": 1}, {\"showarrow\": false, \"x\": 5.150915145874023, \"y\": 2.353262424468994, \"z\": 0.503757655620575, \"text\": \"up\", \"xanchor\": \"left\", \"xshift\": 5, \"opacity\": 1}, {\"showarrow\": false, \"x\": 4.675726890563965, \"y\": 3.092359781265259, \"z\": -0.0889829769730568, \"text\": \"when\", \"xanchor\": \"left\", \"xshift\": 5, \"opacity\": 1}, {\"showarrow\": false, \"x\": 4.941305637359619, \"y\": 2.3532304763793945, \"z\": 0.10425152629613876, \"text\": \"year\", \"xanchor\": \"left\", \"xshift\": 5, \"opacity\": 1}, {\"showarrow\": false, \"x\": 4.938770771026611, \"y\": 2.18780517578125, \"z\": -0.183915376663208, \"text\": \"there\", \"xanchor\": \"left\", \"xshift\": 5, \"opacity\": 1}, {\"showarrow\": false, \"x\": 5.144018650054932, \"y\": 2.284372091293335, \"z\": 0.3323412239551544, \"text\": \"all\", \"xanchor\": \"left\", \"xshift\": 5, \"opacity\": 1}, {\"showarrow\": false, \"x\": 4.565847873687744, \"y\": 3.067829132080078, \"z\": -0.690118134021759, \"text\": \"--\", \"xanchor\": \"left\", \"xshift\": 5, \"opacity\": 1}, {\"showarrow\": false, \"x\": 5.0229926109313965, \"y\": 2.781018018722534, \"z\": 0.47337573766708374, \"text\": \"out\", \"xanchor\": \"left\", \"xshift\": 5, \"opacity\": 1}, {\"showarrow\": false, \"x\": 4.4531474113464355, \"y\": 2.8897690773010254, \"z\": -0.1649594008922577, \"text\": \"she\", \"xanchor\": \"left\", \"xshift\": 5, \"opacity\": 1}, {\"showarrow\": false, \"x\": 4.933539390563965, \"y\": 2.2319679260253906, \"z\": -0.10656285285949707, \"text\": \"other\", \"xanchor\": \"left\", \"xshift\": 5, \"opacity\": 1}, {\"showarrow\": false, \"x\": 5.052079677581787, \"y\": 1.842821717262268, \"z\": -0.42025232315063477, \"text\": \"people\", \"xanchor\": \"left\", \"xshift\": 5, \"opacity\": 1}, {\"showarrow\": false, \"x\": 4.760455131530762, \"y\": 3.090169906616211, \"z\": 0.36769363284111023, \"text\": \"n't\", \"xanchor\": \"left\", \"xshift\": 5, \"opacity\": 1}, {\"showarrow\": false, \"x\": 4.36307430267334, \"y\": 3.0225796699523926, \"z\": 0.2902856469154358, \"text\": \"her\", \"xanchor\": \"left\", \"xshift\": 5, \"opacity\": 1}, {\"showarrow\": false, \"x\": 4.781530380249023, \"y\": 1.7614456415176392, \"z\": 0.5797637701034546, \"text\": \"percent\", \"xanchor\": \"left\", \"xshift\": 5, \"opacity\": 1}, {\"showarrow\": false, \"x\": 5.282629489898682, \"y\": 1.8122483491897583, \"z\": 0.6353185176849365, \"text\": \"than\", \"xanchor\": \"left\", \"xshift\": 5, \"opacity\": 1}, {\"showarrow\": false, \"x\": 5.112536907196045, \"y\": 2.0932095050811768, \"z\": 0.05624081566929817, \"text\": \"over\", \"xanchor\": \"left\", \"xshift\": 5, \"opacity\": 1}, {\"showarrow\": false, \"x\": 5.299345970153809, \"y\": 1.7450952529907227, \"z\": -0.5254566669464111, \"text\": \"into\", \"xanchor\": \"left\", \"xshift\": 5, \"opacity\": 1}, {\"showarrow\": false, \"x\": 4.941040992736816, \"y\": 2.6344363689422607, \"z\": -0.20118345320224762, \"text\": \"last\", \"xanchor\": \"left\", \"xshift\": 5, \"opacity\": 1}, {\"showarrow\": false, \"x\": 5.293012619018555, \"y\": 1.8885185718536377, \"z\": 0.22570021450519562, \"text\": \"some\", \"xanchor\": \"left\", \"xshift\": 5, \"opacity\": 1}, {\"showarrow\": false, \"x\": 4.525221347808838, \"y\": 2.3504135608673096, \"z\": -0.7555304765701294, \"text\": \"government\", \"xanchor\": \"left\", \"xshift\": 5, \"opacity\": 1}, {\"showarrow\": false, \"x\": 4.761252403259277, \"y\": 2.437911033630371, \"z\": 0.3041490912437439, \"text\": \"time\", \"xanchor\": \"left\", \"xshift\": 5, \"opacity\": 1}, {\"showarrow\": false, \"x\": 4.993053913116455, \"y\": 1.7504148483276367, \"z\": 1.2213619947433472, \"text\": \"$\", \"xanchor\": \"left\", \"xshift\": 5, \"opacity\": 1}, {\"showarrow\": false, \"x\": 4.889562606811523, \"y\": 2.4028961658477783, \"z\": 0.485332190990448, \"text\": \"you\", \"xanchor\": \"left\", \"xshift\": 5, \"opacity\": 1}, {\"showarrow\": false, \"x\": 4.875858306884766, \"y\": 2.4746646881103516, \"z\": -0.031358737498521805, \"text\": \"years\", \"xanchor\": \"left\", \"xshift\": 5, \"opacity\": 1}, {\"showarrow\": false, \"x\": 4.752821922302246, \"y\": 2.6594161987304688, \"z\": 0.05985260754823685, \"text\": \"if\", \"xanchor\": \"left\", \"xshift\": 5, \"opacity\": 1}, {\"showarrow\": false, \"x\": 4.737203598022461, \"y\": 2.3636972904205322, \"z\": 0.13132494688034058, \"text\": \"no\", \"xanchor\": \"left\", \"xshift\": 5, \"opacity\": 1}, {\"showarrow\": false, \"x\": 4.7914018630981445, \"y\": 1.9989060163497925, \"z\": 0.0648396760225296, \"text\": \"world\", \"xanchor\": \"left\", \"xshift\": 5, \"opacity\": 1}, {\"showarrow\": false, \"x\": 4.692521095275879, \"y\": 2.0292766094207764, \"z\": 0.21412694454193115, \"text\": \"can\", \"xanchor\": \"left\", \"xshift\": 5, \"opacity\": 1}, {\"showarrow\": false, \"x\": 5.079331874847412, \"y\": 2.2274317741394043, \"z\": 0.30150625109672546, \"text\": \"three\", \"xanchor\": \"left\", \"xshift\": 5, \"opacity\": 1}, {\"showarrow\": false, \"x\": 4.651036739349365, \"y\": 2.4091413021087646, \"z\": -0.3843264877796173, \"text\": \"do\", \"xanchor\": \"left\", \"xshift\": 5, \"opacity\": 1}, {\"showarrow\": false, \"x\": 4.014493465423584, \"y\": 2.459599494934082, \"z\": -0.18343834578990936, \"text\": \";\", \"xanchor\": \"left\", \"xshift\": 5, \"opacity\": 1}, {\"showarrow\": false, \"x\": 3.471311569213867, \"y\": 4.301771640777588, \"z\": -0.8891674876213074, \"text\": \"president\", \"xanchor\": \"left\", \"xshift\": 5, \"opacity\": 1}, {\"showarrow\": false, \"x\": 4.940758228302002, \"y\": 2.0835204124450684, \"z\": 0.17809155583381653, \"text\": \"only\", \"xanchor\": \"left\", \"xshift\": 5, \"opacity\": 1}, {\"showarrow\": false, \"x\": 4.260919094085693, \"y\": 1.9704641103744507, \"z\": -2.1505842208862305, \"text\": \"state\", \"xanchor\": \"left\", \"xshift\": 5, \"opacity\": 1}, {\"showarrow\": false, \"x\": 5.073211193084717, \"y\": 1.605770468711853, \"z\": 0.5237267017364502, \"text\": \"million\", \"xanchor\": \"left\", \"xshift\": 5, \"opacity\": 1}, {\"showarrow\": false, \"x\": 4.7939252853393555, \"y\": 2.700995445251465, \"z\": 0.1427236795425415, \"text\": \"could\", \"xanchor\": \"left\", \"xshift\": 5, \"opacity\": 1}, {\"showarrow\": false, \"x\": 4.537331581115723, \"y\": 2.202362060546875, \"z\": 0.6127512454986572, \"text\": \"us\", \"xanchor\": \"left\", \"xshift\": 5, \"opacity\": 1}, {\"showarrow\": false, \"x\": 4.946932792663574, \"y\": 1.8150817155838013, \"z\": -0.07184753566980362, \"text\": \"most\", \"xanchor\": \"left\", \"xshift\": 5, \"opacity\": 1}, {\"showarrow\": false, \"x\": 4.724257469177246, \"y\": 2.264376401901245, \"z\": 0.2751544415950775, \"text\": \"_\", \"xanchor\": \"left\", \"xshift\": 5, \"opacity\": 1}, {\"showarrow\": false, \"x\": 4.67711067199707, \"y\": 2.147813081741333, \"z\": -0.3938615620136261, \"text\": \"against\", \"xanchor\": \"left\", \"xshift\": 5, \"opacity\": 1}, {\"showarrow\": false, \"x\": 4.213457107543945, \"y\": 2.562113046646118, \"z\": 0.3173389732837677, \"text\": \"u.s.\", \"xanchor\": \"left\", \"xshift\": 5, \"opacity\": 1}, {\"showarrow\": false, \"x\": 4.816038131713867, \"y\": 2.3744893074035645, \"z\": 0.300810307264328, \"text\": \"so\", \"xanchor\": \"left\", \"xshift\": 5, \"opacity\": 1}, {\"showarrow\": false, \"x\": 4.917011260986328, \"y\": 2.3593318462371826, \"z\": 0.6209301948547363, \"text\": \"them\", \"xanchor\": \"left\", \"xshift\": 5, \"opacity\": 1}, {\"showarrow\": false, \"x\": 4.670029163360596, \"y\": 2.965496301651001, \"z\": -0.090379498898983, \"text\": \"what\", \"xanchor\": \"left\", \"xshift\": 5, \"opacity\": 1}, {\"showarrow\": false, \"x\": 4.398110389709473, \"y\": 3.3189268112182617, \"z\": 0.28157296776771545, \"text\": \"him\", \"xanchor\": \"left\", \"xshift\": 5, \"opacity\": 1}, {\"showarrow\": false, \"x\": 4.166689872741699, \"y\": 2.3035671710968018, \"z\": -0.6288166642189026, \"text\": \"united\", \"xanchor\": \"left\", \"xshift\": 5, \"opacity\": 1}, {\"showarrow\": false, \"x\": 4.781399726867676, \"y\": 2.122328281402588, \"z\": -0.3817870616912842, \"text\": \"during\", \"xanchor\": \"left\", \"xshift\": 5, \"opacity\": 1}, {\"showarrow\": false, \"x\": 4.892107963562012, \"y\": 2.4680802822113037, \"z\": -0.12337594479322433, \"text\": \"before\", \"xanchor\": \"left\", \"xshift\": 5, \"opacity\": 1}, {\"showarrow\": false, \"x\": 4.561856746673584, \"y\": 2.14446759223938, \"z\": -0.3363281488418579, \"text\": \"may\", \"xanchor\": \"left\", \"xshift\": 5, \"opacity\": 1}, {\"showarrow\": false, \"x\": 4.945490837097168, \"y\": 2.271040916442871, \"z\": -0.4163814187049866, \"text\": \"since\", \"xanchor\": \"left\", \"xshift\": 5, \"opacity\": 1}, {\"showarrow\": false, \"x\": 5.0270514488220215, \"y\": 1.9548503160476685, \"z\": 0.07048188149929047, \"text\": \"many\", \"xanchor\": \"left\", \"xshift\": 5, \"opacity\": 1}, {\"showarrow\": false, \"x\": 4.496513843536377, \"y\": 2.515183687210083, \"z\": 0.07212764024734497, \"text\": \"while\", \"xanchor\": \"left\", \"xshift\": 5, \"opacity\": 1}, {\"showarrow\": false, \"x\": 4.860043525695801, \"y\": 1.8954837322235107, \"z\": -1.7191883325576782, \"text\": \"where\", \"xanchor\": \"left\", \"xshift\": 5, \"opacity\": 1}, {\"showarrow\": false, \"x\": 4.273285388946533, \"y\": 2.072840929031372, \"z\": -0.5823857188224792, \"text\": \"states\", \"xanchor\": \"left\", \"xshift\": 5, \"opacity\": 1}, {\"showarrow\": false, \"x\": 4.863221645355225, \"y\": 2.3999433517456055, \"z\": -0.09616610407829285, \"text\": \"because\", \"xanchor\": \"left\", \"xshift\": 5, \"opacity\": 1}, {\"showarrow\": false, \"x\": 4.735185623168945, \"y\": 2.2634198665618896, \"z\": -0.7227006554603577, \"text\": \"now\", \"xanchor\": \"left\", \"xshift\": 5, \"opacity\": 1}, {\"showarrow\": false, \"x\": 4.815072059631348, \"y\": 1.5517265796661377, \"z\": -2.756875991821289, \"text\": \"city\", \"xanchor\": \"left\", \"xshift\": 5, \"opacity\": 1}, {\"showarrow\": false, \"x\": 4.353819370269775, \"y\": 2.8323705196380615, \"z\": 0.24869628250598907, \"text\": \"made\", \"xanchor\": \"left\", \"xshift\": 5, \"opacity\": 1}, {\"showarrow\": false, \"x\": 4.509240627288818, \"y\": 2.7202298641204834, \"z\": -0.18533705174922943, \"text\": \"like\", \"xanchor\": \"left\", \"xshift\": 5, \"opacity\": 1}, {\"showarrow\": false, \"x\": 4.96712589263916, \"y\": 1.590242624282837, \"z\": -0.878240704536438, \"text\": \"between\", \"xanchor\": \"left\", \"xshift\": 5, \"opacity\": 1}, {\"showarrow\": false, \"x\": 4.188361644744873, \"y\": 3.222860336303711, \"z\": -0.07850518077611923, \"text\": \"did\", \"xanchor\": \"left\", \"xshift\": 5, \"opacity\": 1}, {\"showarrow\": false, \"x\": 5.0260491371154785, \"y\": 2.2313244342803955, \"z\": 0.13008920848369598, \"text\": \"just\", \"xanchor\": \"left\", \"xshift\": 5, \"opacity\": 1}, {\"showarrow\": false, \"x\": 4.287115097045898, \"y\": 1.8406070470809937, \"z\": -1.5417428016662598, \"text\": \"national\", \"xanchor\": \"left\", \"xshift\": 5, \"opacity\": 1}, {\"showarrow\": false, \"x\": 4.708962917327881, \"y\": 2.1872894763946533, \"z\": -0.014852706342935562, \"text\": \"day\", \"xanchor\": \"left\", \"xshift\": 5, \"opacity\": 1}, {\"showarrow\": false, \"x\": 4.667102336883545, \"y\": 1.7526817321777344, \"z\": -0.8294883966445923, \"text\": \"country\", \"xanchor\": \"left\", \"xshift\": 5, \"opacity\": 1}, {\"showarrow\": false, \"x\": 4.542707920074463, \"y\": 2.5828723907470703, \"z\": -0.3603734076023102, \"text\": \"under\", \"xanchor\": \"left\", \"xshift\": 5, \"opacity\": 1}, {\"showarrow\": false, \"x\": 4.533205986022949, \"y\": 2.1310744285583496, \"z\": -0.1142972782254219, \"text\": \"such\", \"xanchor\": \"left\", \"xshift\": 5, \"opacity\": 1}, {\"showarrow\": false, \"x\": 4.385119915008545, \"y\": 2.364382028579712, \"z\": -0.19653673470020294, \"text\": \"second\", \"xanchor\": \"left\", \"xshift\": 5, \"opacity\": 1}, {\"showarrow\": false, \"x\": 4.47513484954834, \"y\": 2.706256628036499, \"z\": -0.47660961747169495, \"text\": \"then\", \"xanchor\": \"left\", \"xshift\": 5, \"opacity\": 1}, {\"showarrow\": false, \"x\": 4.160508155822754, \"y\": 2.5528104305267334, \"z\": -0.5789089798927307, \"text\": \"company\", \"xanchor\": \"left\", \"xshift\": 5, \"opacity\": 1}, {\"showarrow\": false, \"x\": 4.313721179962158, \"y\": 2.152989149093628, \"z\": -0.9122028946876526, \"text\": \"group\", \"xanchor\": \"left\", \"xshift\": 5, \"opacity\": 1}, {\"showarrow\": false, \"x\": 4.9663591384887695, \"y\": 1.9915786981582642, \"z\": 0.48430338501930237, \"text\": \"any\", \"xanchor\": \"left\", \"xshift\": 5, \"opacity\": 1}, {\"showarrow\": false, \"x\": 4.930641174316406, \"y\": 1.5617986917495728, \"z\": -0.4163784384727478, \"text\": \"through\", \"xanchor\": \"left\", \"xshift\": 5, \"opacity\": 1}, {\"showarrow\": false, \"x\": 4.330804347991943, \"y\": 1.3914178609848022, \"z\": -0.9156548380851746, \"text\": \"china\", \"xanchor\": \"left\", \"xshift\": 5, \"opacity\": 1}, {\"showarrow\": false, \"x\": 5.136242389678955, \"y\": 2.115351438522339, \"z\": 0.4199819564819336, \"text\": \"four\", \"xanchor\": \"left\", \"xshift\": 5, \"opacity\": 1}, {\"showarrow\": false, \"x\": 4.730784893035889, \"y\": 2.3152332305908203, \"z\": -0.14491026103496552, \"text\": \"being\", \"xanchor\": \"left\", \"xshift\": 5, \"opacity\": 1}, {\"showarrow\": false, \"x\": 4.897209167480469, \"y\": 2.313080310821533, \"z\": 0.5420252084732056, \"text\": \"down\", \"xanchor\": \"left\", \"xshift\": 5, \"opacity\": 1}, {\"showarrow\": false, \"x\": 4.65153169631958, \"y\": 1.8496681451797485, \"z\": -0.20137856900691986, \"text\": \"war\", \"xanchor\": \"left\", \"xshift\": 5, \"opacity\": 1}, {\"showarrow\": false, \"x\": 4.753171920776367, \"y\": 2.7674219608306885, \"z\": 0.1315680891275406, \"text\": \"back\", \"xanchor\": \"left\", \"xshift\": 5, \"opacity\": 1}, {\"showarrow\": false, \"x\": 4.89260721206665, \"y\": 2.5128607749938965, \"z\": 0.29790762066841125, \"text\": \"off\", \"xanchor\": \"left\", \"xshift\": 5, \"opacity\": 1}, {\"showarrow\": false, \"x\": 4.335403919219971, \"y\": 1.604041337966919, \"z\": -2.186817169189453, \"text\": \"south\", \"xanchor\": \"left\", \"xshift\": 5, \"opacity\": 1}, {\"showarrow\": false, \"x\": 4.2125043869018555, \"y\": 2.3202617168426514, \"z\": 0.35181277990341187, \"text\": \"american\", \"xanchor\": \"left\", \"xshift\": 5, \"opacity\": 1}, {\"showarrow\": false, \"x\": 2.194267988204956, \"y\": 4.613776206970215, \"z\": -0.6385652422904968, \"text\": \"minister\", \"xanchor\": \"left\", \"xshift\": 5, \"opacity\": 1}, {\"showarrow\": false, \"x\": 3.932183265686035, \"y\": 2.752328395843506, \"z\": -1.553863763809204, \"text\": \"police\", \"xanchor\": \"left\", \"xshift\": 5, \"opacity\": 1}, {\"showarrow\": false, \"x\": 4.643117904663086, \"y\": 2.2577247619628906, \"z\": -0.36591988801956177, \"text\": \"well\", \"xanchor\": \"left\", \"xshift\": 5, \"opacity\": 1}, {\"showarrow\": false, \"x\": 4.361049175262451, \"y\": 2.3827948570251465, \"z\": -0.19939075410366058, \"text\": \"including\", \"xanchor\": \"left\", \"xshift\": 5, \"opacity\": 1}, {\"showarrow\": false, \"x\": 4.351019859313965, \"y\": 2.6282176971435547, \"z\": -0.43846410512924194, \"text\": \"team\", \"xanchor\": \"left\", \"xshift\": 5, \"opacity\": 1}, {\"showarrow\": false, \"x\": 4.407783508300781, \"y\": 2.1101298332214355, \"z\": -0.8069119453430176, \"text\": \"international\", \"xanchor\": \"left\", \"xshift\": 5, \"opacity\": 1}, {\"showarrow\": false, \"x\": 4.6508378982543945, \"y\": 2.5136425495147705, \"z\": -0.05082347244024277, \"text\": \"week\", \"xanchor\": \"left\", \"xshift\": 5, \"opacity\": 1}, {\"showarrow\": false, \"x\": 4.466568470001221, \"y\": 2.5258352756500244, \"z\": -1.1074748039245605, \"text\": \"officials\", \"xanchor\": \"left\", \"xshift\": 5, \"opacity\": 1}, {\"showarrow\": false, \"x\": 4.750868320465088, \"y\": 2.2936758995056152, \"z\": 0.04204745590686798, \"text\": \"still\", \"xanchor\": \"left\", \"xshift\": 5, \"opacity\": 1}, {\"showarrow\": false, \"x\": 4.397651672363281, \"y\": 2.5150370597839355, \"z\": -0.20326757431030273, \"text\": \"both\", \"xanchor\": \"left\", \"xshift\": 5, \"opacity\": 1}, {\"showarrow\": false, \"x\": 4.87606954574585, \"y\": 2.305211067199707, \"z\": 0.43717965483665466, \"text\": \"even\", \"xanchor\": \"left\", \"xshift\": 5, \"opacity\": 1}, {\"showarrow\": false, \"x\": 4.617319583892822, \"y\": 1.5203083753585815, \"z\": -0.7498093843460083, \"text\": \"high\", \"xanchor\": \"left\", \"xshift\": 5, \"opacity\": 1}, {\"showarrow\": false, \"x\": 4.7243571281433105, \"y\": 1.5675214529037476, \"z\": -1.6085641384124756, \"text\": \"part\", \"xanchor\": \"left\", \"xshift\": 5, \"opacity\": 1}, {\"showarrow\": false, \"x\": 2.6247570514678955, \"y\": 4.354806900024414, \"z\": -1.2544468641281128, \"text\": \"told\", \"xanchor\": \"left\", \"xshift\": 5, \"opacity\": 1}, {\"showarrow\": false, \"x\": 5.063212871551514, \"y\": 2.187272310256958, \"z\": 0.6422839760780334, \"text\": \"those\", \"xanchor\": \"left\", \"xshift\": 5, \"opacity\": 1}, {\"showarrow\": false, \"x\": 4.720518112182617, \"y\": 2.0264360904693604, \"z\": 0.05121491849422455, \"text\": \"end\", \"xanchor\": \"left\", \"xshift\": 5, \"opacity\": 1}, {\"showarrow\": false, \"x\": 3.4103097915649414, \"y\": 3.6517159938812256, \"z\": -1.327439308166504, \"text\": \"former\", \"xanchor\": \"left\", \"xshift\": 5, \"opacity\": 1}, {\"showarrow\": false, \"x\": 5.049830436706543, \"y\": 1.6526249647140503, \"z\": 0.3247855007648468, \"text\": \"these\", \"xanchor\": \"left\", \"xshift\": 5, \"opacity\": 1}, {\"showarrow\": false, \"x\": 4.791534900665283, \"y\": 2.1091227531433105, \"z\": 0.48703131079673767, \"text\": \"make\", \"xanchor\": \"left\", \"xshift\": 5, \"opacity\": 1}, {\"showarrow\": false, \"x\": 4.917709827423096, \"y\": 1.534881830215454, \"z\": 1.1532248258590698, \"text\": \"billion\", \"xanchor\": \"left\", \"xshift\": 5, \"opacity\": 1}, {\"showarrow\": false, \"x\": 4.216007709503174, \"y\": 2.441807270050049, \"z\": 0.1349196434020996, \"text\": \"work\", \"xanchor\": \"left\", \"xshift\": 5, \"opacity\": 1}, {\"showarrow\": false, \"x\": 4.824935436248779, \"y\": 2.0461020469665527, \"z\": 0.3119930028915405, \"text\": \"our\", \"xanchor\": \"left\", \"xshift\": 5, \"opacity\": 1}, {\"showarrow\": false, \"x\": 4.4419779777526855, \"y\": 2.074309825897217, \"z\": -0.5636692643165588, \"text\": \"home\", \"xanchor\": \"left\", \"xshift\": 5, \"opacity\": 1}, {\"showarrow\": false, \"x\": 4.303041458129883, \"y\": 1.7399981021881104, \"z\": -1.6293588876724243, \"text\": \"school\", \"xanchor\": \"left\", \"xshift\": 5, \"opacity\": 1}, {\"showarrow\": false, \"x\": 4.034034252166748, \"y\": 2.2558815479278564, \"z\": -0.5727651715278625, \"text\": \"party\", \"xanchor\": \"left\", \"xshift\": 5, \"opacity\": 1}, {\"showarrow\": false, \"x\": 4.0769572257995605, \"y\": 2.5015828609466553, \"z\": -0.4724234342575073, \"text\": \"house\", \"xanchor\": \"left\", \"xshift\": 5, \"opacity\": 1}, {\"showarrow\": false, \"x\": 4.0526909828186035, \"y\": 2.6183767318725586, \"z\": -0.292469322681427, \"text\": \"old\", \"xanchor\": \"left\", \"xshift\": 5, \"opacity\": 1}, {\"showarrow\": false, \"x\": 4.12070894241333, \"y\": 2.9025027751922607, \"z\": -0.6692937016487122, \"text\": \"later\", \"xanchor\": \"left\", \"xshift\": 5, \"opacity\": 1}, {\"showarrow\": false, \"x\": 4.685903549194336, \"y\": 2.4566867351531982, \"z\": 0.5519512891769409, \"text\": \"get\", \"xanchor\": \"left\", \"xshift\": 5, \"opacity\": 1}, {\"showarrow\": false, \"x\": 4.544290065765381, \"y\": 2.307378053665161, \"z\": -0.1341952681541443, \"text\": \"another\", \"xanchor\": \"left\", \"xshift\": 5, \"opacity\": 1}, {\"showarrow\": false, \"x\": 4.262948989868164, \"y\": 2.775517225265503, \"z\": -0.46321260929107666, \"text\": \"tuesday\", \"xanchor\": \"left\", \"xshift\": 5, \"opacity\": 1}, {\"showarrow\": false, \"x\": 3.771401882171631, \"y\": 2.2989203929901123, \"z\": -0.5117247700691223, \"text\": \"news\", \"xanchor\": \"left\", \"xshift\": 5, \"opacity\": 1}, {\"showarrow\": false, \"x\": 4.810268878936768, \"y\": 2.1414270401000977, \"z\": 0.19382426142692566, \"text\": \"long\", \"xanchor\": \"left\", \"xshift\": 5, \"opacity\": 1}, {\"showarrow\": false, \"x\": 4.998775482177734, \"y\": 2.070037603378296, \"z\": 0.438678115606308, \"text\": \"five\", \"xanchor\": \"left\", \"xshift\": 5, \"opacity\": 1}, {\"showarrow\": false, \"x\": 3.8582303524017334, \"y\": 2.3504724502563477, \"z\": -1.0999118089675903, \"text\": \"called\", \"xanchor\": \"left\", \"xshift\": 5, \"opacity\": 1}, {\"showarrow\": false, \"x\": 4.484417915344238, \"y\": 1.3914005756378174, \"z\": -0.43179044127464294, \"text\": \"1\", \"xanchor\": \"left\", \"xshift\": 5, \"opacity\": 1}, {\"showarrow\": false, \"x\": 4.29542875289917, \"y\": 2.7530384063720703, \"z\": -0.5320255756378174, \"text\": \"wednesday\", \"xanchor\": \"left\", \"xshift\": 5, \"opacity\": 1}, {\"showarrow\": false, \"x\": 4.507875919342041, \"y\": 1.892241358757019, \"z\": -0.540963888168335, \"text\": \"military\", \"xanchor\": \"left\", \"xshift\": 5, \"opacity\": 1}, {\"showarrow\": false, \"x\": 4.734809398651123, \"y\": 2.2210018634796143, \"z\": -0.11863908916711807, \"text\": \"way\", \"xanchor\": \"left\", \"xshift\": 5, \"opacity\": 1}, {\"showarrow\": false, \"x\": 4.62615442276001, \"y\": 1.8239318132400513, \"z\": -0.04754721000790596, \"text\": \"used\", \"xanchor\": \"left\", \"xshift\": 5, \"opacity\": 1}, {\"showarrow\": false, \"x\": 4.8655104637146, \"y\": 2.2145638465881348, \"z\": 0.11399532109498978, \"text\": \"much\", \"xanchor\": \"left\", \"xshift\": 5, \"opacity\": 1}, {\"showarrow\": false, \"x\": 4.757149696350098, \"y\": 2.12890362739563, \"z\": -0.21505917608737946, \"text\": \"next\", \"xanchor\": \"left\", \"xshift\": 5, \"opacity\": 1}, {\"showarrow\": false, \"x\": 4.244951248168945, \"y\": 2.7317848205566406, \"z\": -0.49043554067611694, \"text\": \"monday\", \"xanchor\": \"left\", \"xshift\": 5, \"opacity\": 1}, {\"showarrow\": false, \"x\": 4.237460613250732, \"y\": 2.700826644897461, \"z\": -0.47358420491218567, \"text\": \"thursday\", \"xanchor\": \"left\", \"xshift\": 5, \"opacity\": 1}, {\"showarrow\": false, \"x\": 4.35973596572876, \"y\": 2.584836959838867, \"z\": -0.395705908536911, \"text\": \"friday\", \"xanchor\": \"left\", \"xshift\": 5, \"opacity\": 1}, {\"showarrow\": false, \"x\": 4.762360572814941, \"y\": 1.8955172300338745, \"z\": 0.6772105693817139, \"text\": \"game\", \"xanchor\": \"left\", \"xshift\": 5, \"opacity\": 1}, {\"showarrow\": false, \"x\": 4.383679389953613, \"y\": 2.4075675010681152, \"z\": -0.7000426054000854, \"text\": \"here\", \"xanchor\": \"left\", \"xshift\": 5, \"opacity\": 1}, {\"showarrow\": false, \"x\": 4.3539628982543945, \"y\": 2.4074759483337402, \"z\": 0.16589905321598053, \"text\": \"?\", \"xanchor\": \"left\", \"xshift\": 5, \"opacity\": 1}, {\"showarrow\": false, \"x\": 4.566112518310547, \"y\": 2.454089641571045, \"z\": -0.03767711669206619, \"text\": \"should\", \"xanchor\": \"left\", \"xshift\": 5, \"opacity\": 1}, {\"showarrow\": false, \"x\": 4.735493183135986, \"y\": 2.2680678367614746, \"z\": 0.03973398357629776, \"text\": \"take\", \"xanchor\": \"left\", \"xshift\": 5, \"opacity\": 1}, {\"showarrow\": false, \"x\": 4.397828578948975, \"y\": 2.329845428466797, \"z\": 0.004366805776953697, \"text\": \"very\", \"xanchor\": \"left\", \"xshift\": 5, \"opacity\": 1}, {\"showarrow\": false, \"x\": 4.7072434425354, \"y\": 2.466478109359741, \"z\": 0.35214242339134216, \"text\": \"my\", \"xanchor\": \"left\", \"xshift\": 5, \"opacity\": 1}, {\"showarrow\": false, \"x\": 4.456636905670166, \"y\": 1.297829031944275, \"z\": -2.341529607772827, \"text\": \"north\", \"xanchor\": \"left\", \"xshift\": 5, \"opacity\": 1}, {\"showarrow\": false, \"x\": 4.083706855773926, \"y\": 2.171898365020752, \"z\": -0.27283453941345215, \"text\": \"security\", \"xanchor\": \"left\", \"xshift\": 5, \"opacity\": 1}, {\"showarrow\": false, \"x\": 4.49833345413208, \"y\": 1.8971593379974365, \"z\": 0.1927243024110794, \"text\": \"season\", \"xanchor\": \"left\", \"xshift\": 5, \"opacity\": 1}, {\"showarrow\": false, \"x\": 4.075562000274658, \"y\": 2.3445587158203125, \"z\": -0.5034441947937012, \"text\": \"york\", \"xanchor\": \"left\", \"xshift\": 5, \"opacity\": 1}, {\"showarrow\": false, \"x\": 4.58231782913208, \"y\": 2.7462737560272217, \"z\": 0.35169699788093567, \"text\": \"how\", \"xanchor\": \"left\", \"xshift\": 5, \"opacity\": 1}, {\"showarrow\": false, \"x\": 4.375085353851318, \"y\": 1.748065710067749, \"z\": -0.41583794355392456, \"text\": \"public\", \"xanchor\": \"left\", \"xshift\": 5, \"opacity\": 1}, {\"showarrow\": false, \"x\": 4.65294075012207, \"y\": 2.07099986076355, \"z\": -0.12340379506349564, \"text\": \"early\", \"xanchor\": \"left\", \"xshift\": 5, \"opacity\": 1}, {\"showarrow\": false, \"x\": 3.5955379009246826, \"y\": 2.633871555328369, \"z\": -0.7874086499214172, \"text\": \"according\", \"xanchor\": \"left\", \"xshift\": 5, \"opacity\": 1}, {\"showarrow\": false, \"x\": 4.819390773773193, \"y\": 2.139211416244507, \"z\": -0.2673487663269043, \"text\": \"several\", \"xanchor\": \"left\", \"xshift\": 5, \"opacity\": 1}, {\"showarrow\": false, \"x\": 4.167627811431885, \"y\": 2.428044557571411, \"z\": -1.220737099647522, \"text\": \"court\", \"xanchor\": \"left\", \"xshift\": 5, \"opacity\": 1}, {\"showarrow\": false, \"x\": 4.425386905670166, \"y\": 2.6263813972473145, \"z\": -0.26549381017684937, \"text\": \"say\", \"xanchor\": \"left\", \"xshift\": 5, \"opacity\": 1}, {\"showarrow\": false, \"x\": 5.110354423522949, \"y\": 1.4102680683135986, \"z\": -0.329421728849411, \"text\": \"around\", \"xanchor\": \"left\", \"xshift\": 5, \"opacity\": 1}, {\"showarrow\": false, \"x\": 3.2350738048553467, \"y\": 2.879243850708008, \"z\": 0.3148847818374634, \"text\": \"foreign\", \"xanchor\": \"left\", \"xshift\": 5, \"opacity\": 1}, {\"showarrow\": false, \"x\": 4.684028625488281, \"y\": 1.8150752782821655, \"z\": 0.422325074672699, \"text\": \"10\", \"xanchor\": \"left\", \"xshift\": 5, \"opacity\": 1}, {\"showarrow\": false, \"x\": 4.755550861358643, \"y\": 1.8801968097686768, \"z\": -0.4039188027381897, \"text\": \"until\", \"xanchor\": \"left\", \"xshift\": 5, \"opacity\": 1}, {\"showarrow\": false, \"x\": 4.414773464202881, \"y\": 1.973650336265564, \"z\": 0.4953639507293701, \"text\": \"set\", \"xanchor\": \"left\", \"xshift\": 5, \"opacity\": 1}, {\"showarrow\": false, \"x\": 4.408890247344971, \"y\": 2.0924253463745117, \"z\": -0.19617010653018951, \"text\": \"political\", \"xanchor\": \"left\", \"xshift\": 5, \"opacity\": 1}, {\"showarrow\": false, \"x\": 3.0382206439971924, \"y\": 3.8056609630584717, \"z\": -0.28383880853652954, \"text\": \"says\", \"xanchor\": \"left\", \"xshift\": 5, \"opacity\": 1}, {\"showarrow\": false, \"x\": 4.357215404510498, \"y\": 1.7812095880508423, \"z\": -0.14443254470825195, \"text\": \"market\", \"xanchor\": \"left\", \"xshift\": 5, \"opacity\": 1}, {\"showarrow\": false, \"x\": 4.154040813446045, \"y\": 2.446223020553589, \"z\": -0.40172821283340454, \"text\": \"however\", \"xanchor\": \"left\", \"xshift\": 5, \"opacity\": 1}, {\"showarrow\": false, \"x\": 3.7366762161254883, \"y\": 2.6852335929870605, \"z\": -0.34474068880081177, \"text\": \"family\", \"xanchor\": \"left\", \"xshift\": 5, \"opacity\": 1}, {\"showarrow\": false, \"x\": 4.342345714569092, \"y\": 2.28562068939209, \"z\": 0.22942404448986053, \"text\": \"life\", \"xanchor\": \"left\", \"xshift\": 5, \"opacity\": 1}, {\"showarrow\": false, \"x\": 4.863308906555176, \"y\": 2.1336848735809326, \"z\": 0.0290699265897274, \"text\": \"same\", \"xanchor\": \"left\", \"xshift\": 5, \"opacity\": 1}, {\"showarrow\": false, \"x\": 2.898312568664551, \"y\": 3.7468936443328857, \"z\": -1.0916285514831543, \"text\": \"general\", \"xanchor\": \"left\", \"xshift\": 5, \"opacity\": 1}, {\"showarrow\": false, \"x\": 3.7689602375030518, \"y\": 1.793006181716919, \"z\": -1.1446014642715454, \"text\": \"\\u2013\", \"xanchor\": \"left\", \"xshift\": 5, \"opacity\": 1}, {\"showarrow\": false, \"x\": 4.157364845275879, \"y\": 2.5967867374420166, \"z\": -0.051916394382715225, \"text\": \"left\", \"xanchor\": \"left\", \"xshift\": 5, \"opacity\": 1}, {\"showarrow\": false, \"x\": 4.332235813140869, \"y\": 2.453969955444336, \"z\": 0.2505549490451813, \"text\": \"good\", \"xanchor\": \"left\", \"xshift\": 5, \"opacity\": 1}, {\"showarrow\": false, \"x\": 4.2436842918396, \"y\": 2.3249053955078125, \"z\": -0.07899650931358337, \"text\": \"top\", \"xanchor\": \"left\", \"xshift\": 5, \"opacity\": 1}, {\"showarrow\": false, \"x\": 4.053337097167969, \"y\": 2.413198232650757, \"z\": -2.688415288925171, \"text\": \"university\", \"xanchor\": \"left\", \"xshift\": 5, \"opacity\": 1}, {\"showarrow\": false, \"x\": 4.568185329437256, \"y\": 2.2176640033721924, \"z\": 0.20591425895690918, \"text\": \"going\", \"xanchor\": \"left\", \"xshift\": 5, \"opacity\": 1}, {\"showarrow\": false, \"x\": 4.458015441894531, \"y\": 1.5024714469909668, \"z\": 0.4177057147026062, \"text\": \"number\", \"xanchor\": \"left\", \"xshift\": 5, \"opacity\": 1}, {\"showarrow\": false, \"x\": 4.112184047698975, \"y\": 2.2703826427459717, \"z\": -0.9230666756629944, \"text\": \"major\", \"xanchor\": \"left\", \"xshift\": 5, \"opacity\": 1}, {\"showarrow\": false, \"x\": 3.985570192337036, \"y\": 2.057464361190796, \"z\": -1.5437780618667603, \"text\": \"known\", \"xanchor\": \"left\", \"xshift\": 5, \"opacity\": 1}, {\"showarrow\": false, \"x\": 4.038834095001221, \"y\": 2.219677448272705, \"z\": 0.9652987718582153, \"text\": \"points\", \"xanchor\": \"left\", \"xshift\": 5, \"opacity\": 1}, {\"showarrow\": false, \"x\": 3.8014636039733887, \"y\": 2.4375009536743164, \"z\": -0.3060963749885559, \"text\": \"won\", \"xanchor\": \"left\", \"xshift\": 5, \"opacity\": 1}, {\"showarrow\": false, \"x\": 4.963571548461914, \"y\": 1.964255452156067, \"z\": 0.5921461582183838, \"text\": \"six\", \"xanchor\": \"left\", \"xshift\": 5, \"opacity\": 1}, {\"showarrow\": false, \"x\": 4.607851982116699, \"y\": 2.2537014484405518, \"z\": 0.03314930945634842, \"text\": \"month\", \"xanchor\": \"left\", \"xshift\": 5, \"opacity\": 1}, {\"showarrow\": false, \"x\": 4.45352840423584, \"y\": 1.2389119863510132, \"z\": 1.1940432786941528, \"text\": \"dollars\", \"xanchor\": \"left\", \"xshift\": 5, \"opacity\": 1}, {\"showarrow\": false, \"x\": 3.8302161693573, \"y\": 1.928436517715454, \"z\": -1.4096746444702148, \"text\": \"bank\", \"xanchor\": \"left\", \"xshift\": 5, \"opacity\": 1}, {\"showarrow\": false, \"x\": 4.488245964050293, \"y\": 1.518540859222412, \"z\": -0.24649851024150848, \"text\": \"2\", \"xanchor\": \"left\", \"xshift\": 5, \"opacity\": 1}, {\"showarrow\": false, \"x\": 4.125180721282959, \"y\": 1.9911046028137207, \"z\": -0.2174845039844513, \"text\": \"iraq\", \"xanchor\": \"left\", \"xshift\": 5, \"opacity\": 1}, {\"showarrow\": false, \"x\": 4.780884265899658, \"y\": 1.4826236963272095, \"z\": 0.4625973105430603, \"text\": \"use\", \"xanchor\": \"left\", \"xshift\": 5, \"opacity\": 1}, {\"showarrow\": false, \"x\": 4.229859352111816, \"y\": 2.137843132019043, \"z\": -0.2995556890964508, \"text\": \"members\", \"xanchor\": \"left\", \"xshift\": 5, \"opacity\": 1}, {\"showarrow\": false, \"x\": 4.918049335479736, \"y\": 1.6531871557235718, \"z\": 0.5291500091552734, \"text\": \"each\", \"xanchor\": \"left\", \"xshift\": 5, \"opacity\": 1}, {\"showarrow\": false, \"x\": 4.489038467407227, \"y\": 1.1216269731521606, \"z\": -2.2902119159698486, \"text\": \"area\", \"xanchor\": \"left\", \"xshift\": 5, \"opacity\": 1}, {\"showarrow\": false, \"x\": 4.209103584289551, \"y\": 2.3858144283294678, \"z\": -0.5369288325309753, \"text\": \"found\", \"xanchor\": \"left\", \"xshift\": 5, \"opacity\": 1}, {\"showarrow\": false, \"x\": 3.6701278686523438, \"y\": 2.387709617614746, \"z\": -1.0683938264846802, \"text\": \"official\", \"xanchor\": \"left\", \"xshift\": 5, \"opacity\": 1}, {\"showarrow\": false, \"x\": 4.410510540008545, \"y\": 2.209196090698242, \"z\": -0.7263235449790955, \"text\": \"sunday\", \"xanchor\": \"left\", \"xshift\": 5, \"opacity\": 1}, {\"showarrow\": false, \"x\": 4.645298957824707, \"y\": 1.6009087562561035, \"z\": -0.7077509164810181, \"text\": \"place\", \"xanchor\": \"left\", \"xshift\": 5, \"opacity\": 1}, {\"showarrow\": false, \"x\": 4.508079528808594, \"y\": 2.1113131046295166, \"z\": 0.12484732270240784, \"text\": \"go\", \"xanchor\": \"left\", \"xshift\": 5, \"opacity\": 1}, {\"showarrow\": false, \"x\": 4.3003387451171875, \"y\": 1.9533979892730713, \"z\": -1.3151018619537354, \"text\": \"based\", \"xanchor\": \"left\", \"xshift\": 5, \"opacity\": 1}, {\"showarrow\": false, \"x\": 4.4363484382629395, \"y\": 2.066624164581299, \"z\": 0.07025690376758575, \"text\": \"among\", \"xanchor\": \"left\", \"xshift\": 5, \"opacity\": 1}, {\"showarrow\": false, \"x\": 4.128358840942383, \"y\": 2.245885133743286, \"z\": 0.10554059594869614, \"text\": \"third\", \"xanchor\": \"left\", \"xshift\": 5, \"opacity\": 1}, {\"showarrow\": false, \"x\": 4.247020721435547, \"y\": 2.1885180473327637, \"z\": 0.17074090242385864, \"text\": \"times\", \"xanchor\": \"left\", \"xshift\": 5, \"opacity\": 1}, {\"showarrow\": false, \"x\": 4.081913948059082, \"y\": 2.8093647956848145, \"z\": -0.20614401996135712, \"text\": \"took\", \"xanchor\": \"left\", \"xshift\": 5, \"opacity\": 1}, {\"showarrow\": false, \"x\": 4.437952518463135, \"y\": 2.6106183528900146, \"z\": 0.196597158908844, \"text\": \"right\", \"xanchor\": \"left\", \"xshift\": 5, \"opacity\": 1}, {\"showarrow\": false, \"x\": 4.753405570983887, \"y\": 1.9817759990692139, \"z\": 0.1994810253381729, \"text\": \"days\", \"xanchor\": \"left\", \"xshift\": 5, \"opacity\": 1}, {\"showarrow\": false, \"x\": 4.124959945678711, \"y\": 1.2778615951538086, \"z\": -1.136204719543457, \"text\": \"local\", \"xanchor\": \"left\", \"xshift\": 5, \"opacity\": 1}, {\"showarrow\": false, \"x\": 4.123745441436768, \"y\": 1.9816629886627197, \"z\": -0.24188509583473206, \"text\": \"economic\", \"xanchor\": \"left\", \"xshift\": 5, \"opacity\": 1}, {\"showarrow\": false, \"x\": 4.673676490783691, \"y\": 1.5071437358856201, \"z\": -0.07836030423641205, \"text\": \"countries\", \"xanchor\": \"left\", \"xshift\": 5, \"opacity\": 1}, {\"showarrow\": false, \"x\": 4.373965740203857, \"y\": 2.2470510005950928, \"z\": -0.37697210907936096, \"text\": \"see\", \"xanchor\": \"left\", \"xshift\": 5, \"opacity\": 1}, {\"showarrow\": false, \"x\": 4.169399261474609, \"y\": 2.3159446716308594, \"z\": 0.4665609300136566, \"text\": \"best\", \"xanchor\": \"left\", \"xshift\": 5, \"opacity\": 1}, {\"showarrow\": false, \"x\": 3.400379180908203, \"y\": 2.7475433349609375, \"z\": -0.5061944127082825, \"text\": \"report\", \"xanchor\": \"left\", \"xshift\": 5, \"opacity\": 1}, {\"showarrow\": false, \"x\": 3.8213882446289062, \"y\": 2.6061737537384033, \"z\": -0.574068009853363, \"text\": \"killed\", \"xanchor\": \"left\", \"xshift\": 5, \"opacity\": 1}, {\"showarrow\": false, \"x\": 4.40842342376709, \"y\": 1.8011736869812012, \"z\": -0.878103494644165, \"text\": \"held\", \"xanchor\": \"left\", \"xshift\": 5, \"opacity\": 1}, {\"showarrow\": false, \"x\": 4.287320137023926, \"y\": 1.9928381443023682, \"z\": -0.2628556191921234, \"text\": \"business\", \"xanchor\": \"left\", \"xshift\": 5, \"opacity\": 1}, {\"showarrow\": false, \"x\": 4.222295761108398, \"y\": 1.5245614051818848, \"z\": -2.2219746112823486, \"text\": \"west\", \"xanchor\": \"left\", \"xshift\": 5, \"opacity\": 1}, {\"showarrow\": false, \"x\": 4.107801914215088, \"y\": 2.553513526916504, \"z\": -0.2009725272655487, \"text\": \"does\", \"xanchor\": \"left\", \"xshift\": 5, \"opacity\": 1}, {\"showarrow\": false, \"x\": 4.692800521850586, \"y\": 2.127920150756836, \"z\": 0.4001438617706299, \"text\": \"own\", \"xanchor\": \"left\", \"xshift\": 5, \"opacity\": 1}, {\"showarrow\": false, \"x\": 4.014171123504639, \"y\": 0.703749418258667, \"z\": 0.31140968203544617, \"text\": \"%\", \"xanchor\": \"left\", \"xshift\": 5, \"opacity\": 1}, {\"showarrow\": false, \"x\": 4.261556148529053, \"y\": 2.633272886276245, \"z\": -0.24913889169692993, \"text\": \"came\", \"xanchor\": \"left\", \"xshift\": 5, \"opacity\": 1}, {\"showarrow\": false, \"x\": 4.0672926902771, \"y\": 2.487339735031128, \"z\": -0.5023407936096191, \"text\": \"law\", \"xanchor\": \"left\", \"xshift\": 5, \"opacity\": 1}, {\"showarrow\": false, \"x\": 4.605917453765869, \"y\": 2.343879461288452, \"z\": 0.3754079043865204, \"text\": \"months\", \"xanchor\": \"left\", \"xshift\": 5, \"opacity\": 1}, {\"showarrow\": false, \"x\": 4.567727565765381, \"y\": 1.5244765281677246, \"z\": 0.2444131225347519, \"text\": \"women\", \"xanchor\": \"left\", \"xshift\": 5, \"opacity\": 1}, {\"showarrow\": false, \"x\": 4.498388767242432, \"y\": 2.1637256145477295, \"z\": 0.8016120195388794, \"text\": \"'re\", \"xanchor\": \"left\", \"xshift\": 5, \"opacity\": 1}, {\"showarrow\": false, \"x\": 4.5681633949279785, \"y\": 1.8059442043304443, \"z\": -0.28663909435272217, \"text\": \"power\", \"xanchor\": \"left\", \"xshift\": 5, \"opacity\": 1}, {\"showarrow\": false, \"x\": 4.214108943939209, \"y\": 2.8398940563201904, \"z\": 0.08453455567359924, \"text\": \"think\", \"xanchor\": \"left\", \"xshift\": 5, \"opacity\": 1}, {\"showarrow\": false, \"x\": 3.951046943664551, \"y\": 1.3479527235031128, \"z\": -0.14678631722927094, \"text\": \"service\", \"xanchor\": \"left\", \"xshift\": 5, \"opacity\": 1}, {\"showarrow\": false, \"x\": 4.19658088684082, \"y\": 2.341705322265625, \"z\": 0.4328007400035858, \"text\": \"children\", \"xanchor\": \"left\", \"xshift\": 5, \"opacity\": 1}, {\"showarrow\": false, \"x\": 3.939517021179199, \"y\": 2.662404775619507, \"z\": 0.4422439932823181, \"text\": \"bush\", \"xanchor\": \"left\", \"xshift\": 5, \"opacity\": 1}, {\"showarrow\": false, \"x\": 4.18776798248291, \"y\": 2.2467195987701416, \"z\": 0.09463553130626678, \"text\": \"show\", \"xanchor\": \"left\", \"xshift\": 5, \"opacity\": 1}, {\"showarrow\": false, \"x\": 3.1048011779785156, \"y\": 1.960681438446045, \"z\": -0.6349505186080933, \"text\": \"/\", \"xanchor\": \"left\", \"xshift\": 5, \"opacity\": 1}, {\"showarrow\": false, \"x\": 4.287907123565674, \"y\": 2.3328263759613037, \"z\": -0.0010898400796577334, \"text\": \"help\", \"xanchor\": \"left\", \"xshift\": 5, \"opacity\": 1}, {\"showarrow\": false, \"x\": 2.496884822845459, \"y\": 4.556063175201416, \"z\": -1.7897043228149414, \"text\": \"chief\", \"xanchor\": \"left\", \"xshift\": 5, \"opacity\": 1}, {\"showarrow\": false, \"x\": 4.355184555053711, \"y\": 2.2009384632110596, \"z\": -0.8163132071495056, \"text\": \"saturday\", \"xanchor\": \"left\", \"xshift\": 5, \"opacity\": 1}, {\"showarrow\": false, \"x\": 4.683149814605713, \"y\": 0.9682967662811279, \"z\": -0.3634205758571625, \"text\": \"system\", \"xanchor\": \"left\", \"xshift\": 5, \"opacity\": 1}, {\"showarrow\": false, \"x\": 2.617359161376953, \"y\": 4.310896873474121, \"z\": 0.02641294337809086, \"text\": \"john\", \"xanchor\": \"left\", \"xshift\": 5, \"opacity\": 1}, {\"showarrow\": false, \"x\": 4.12067985534668, \"y\": 1.8817390203475952, \"z\": 0.06803293526172638, \"text\": \"support\", \"xanchor\": \"left\", \"xshift\": 5, \"opacity\": 1}, {\"showarrow\": false, \"x\": 4.52719783782959, \"y\": 1.8870466947555542, \"z\": 0.5004991292953491, \"text\": \"series\", \"xanchor\": \"left\", \"xshift\": 5, \"opacity\": 1}, {\"showarrow\": false, \"x\": 4.262484550476074, \"y\": 2.2572178840637207, \"z\": -0.0032544166315346956, \"text\": \"play\", \"xanchor\": \"left\", \"xshift\": 5, \"opacity\": 1}, {\"showarrow\": false, \"x\": 3.8617327213287354, \"y\": 2.6449532508850098, \"z\": -1.0773712396621704, \"text\": \"office\", \"xanchor\": \"left\", \"xshift\": 5, \"opacity\": 1}, {\"showarrow\": false, \"x\": 4.456711769104004, \"y\": 1.8771135807037354, \"z\": -0.5308107137680054, \"text\": \"following\", \"xanchor\": \"left\", \"xshift\": 5, \"opacity\": 1}, {\"showarrow\": false, \"x\": 4.013160228729248, \"y\": 2.7916176319122314, \"z\": 0.2506905496120453, \"text\": \"me\", \"xanchor\": \"left\", \"xshift\": 5, \"opacity\": 1}, {\"showarrow\": false, \"x\": 3.882232904434204, \"y\": 2.5410475730895996, \"z\": -0.99125075340271, \"text\": \"meeting\", \"xanchor\": \"left\", \"xshift\": 5, \"opacity\": 1}, {\"showarrow\": false, \"x\": 4.253842830657959, \"y\": 2.4034037590026855, \"z\": -0.006593017838895321, \"text\": \"expected\", \"xanchor\": \"left\", \"xshift\": 5, \"opacity\": 1}, {\"showarrow\": false, \"x\": 4.214905738830566, \"y\": 2.6009480953216553, \"z\": -0.2186080813407898, \"text\": \"late\", \"xanchor\": \"left\", \"xshift\": 5, \"opacity\": 1}, {\"showarrow\": false, \"x\": 3.695899248123169, \"y\": 2.584826946258545, \"z\": -0.7067129611968994, \"text\": \"washington\", \"xanchor\": \"left\", \"xshift\": 5, \"opacity\": 1}, {\"showarrow\": false, \"x\": 4.827032089233398, \"y\": 1.5321491956710815, \"z\": 0.5629355907440186, \"text\": \"games\", \"xanchor\": \"left\", \"xshift\": 5, \"opacity\": 1}, {\"showarrow\": false, \"x\": 4.511822700500488, \"y\": 1.821513295173645, \"z\": 0.1932940036058426, \"text\": \"european\", \"xanchor\": \"left\", \"xshift\": 5, \"opacity\": 1}, {\"showarrow\": false, \"x\": 4.322577476501465, \"y\": 1.613959550857544, \"z\": -0.8775862455368042, \"text\": \"league\", \"xanchor\": \"left\", \"xshift\": 5, \"opacity\": 1}, {\"showarrow\": false, \"x\": 3.6674046516418457, \"y\": 2.133031129837036, \"z\": -0.9792546629905701, \"text\": \"reported\", \"xanchor\": \"left\", \"xshift\": 5, \"opacity\": 1}, {\"showarrow\": false, \"x\": 4.603315830230713, \"y\": 1.6058392524719238, \"z\": 0.12663088738918304, \"text\": \"final\", \"xanchor\": \"left\", \"xshift\": 5, \"opacity\": 1}, {\"showarrow\": false, \"x\": 3.216233968734741, \"y\": 3.1917953491210938, \"z\": 0.3623296618461609, \"text\": \"added\", \"xanchor\": \"left\", \"xshift\": 5, \"opacity\": 1}, {\"showarrow\": false, \"x\": 4.59336519241333, \"y\": 2.0330896377563477, \"z\": 0.6695057153701782, \"text\": \"without\", \"xanchor\": \"left\", \"xshift\": 5, \"opacity\": 1}, {\"showarrow\": false, \"x\": 4.02921199798584, \"y\": 2.1900558471679688, \"z\": 0.12517288327217102, \"text\": \"british\", \"xanchor\": \"left\", \"xshift\": 5, \"opacity\": 1}, {\"showarrow\": false, \"x\": 4.201934337615967, \"y\": 2.59145188331604, \"z\": 0.37352052330970764, \"text\": \"white\", \"xanchor\": \"left\", \"xshift\": 5, \"opacity\": 1}, {\"showarrow\": false, \"x\": 4.629168510437012, \"y\": 1.592909574508667, \"z\": -0.4490460753440857, \"text\": \"history\", \"xanchor\": \"left\", \"xshift\": 5, \"opacity\": 1}]}}, {\"showLink\": true, \"linkText\": \"Export to plot.ly\"})});</script>"
      ],
      "text/vnd.plotly.v1+html": [
       "<div id=\"1ff775f0-2d2d-4e03-8245-f58f40afef4e\" style=\"height: 525px; width: 100%;\" class=\"plotly-graph-div\"></div><script type=\"text/javascript\">require([\"plotly\"], function(Plotly) { window.PLOTLYENV=window.PLOTLYENV || {};window.PLOTLYENV.BASE_URL=\"https://plot.ly\";Plotly.newPlot(\"1ff775f0-2d2d-4e03-8245-f58f40afef4e\", [{\"type\": \"scatter3d\", \"x\": [5.216967582702637, 4.079722881317139, 4.607768535614014, 5.049288749694824, 5.046916961669922, 4.548707008361816, 5.170193672180176, 5.011414051055908, 3.8968915939331055, 4.346786975860596, 5.020096778869629, 4.99492073059082, 4.861939430236816, 5.128436088562012, 4.501960277557373, 4.212862968444824, 2.8938283920288086, 4.7888102531433105, 4.772055149078369, 4.556411266326904, 5.20567512512207, 4.023972034454346, 4.94092321395874, 3.708509922027588, 4.037136554718018, 5.071026802062988, 4.587432861328125, 3.812596082687378, 4.4702558517456055, 4.520071506500244, 4.985276222229004, 4.551344394683838, 5.112781524658203, 5.227019786834717, 4.774053573608398, 4.938425064086914, 4.895444393157959, 4.922308921813965, 3.9254441261291504, 5.297741413116455, 4.4883646965026855, 4.706274509429932, 5.170941352844238, 4.791145324707031, 5.452670097351074, 4.32422399520874, 5.024126052856445, 5.528177738189697, 4.917052745819092, 4.780513286590576, 4.929819107055664, 4.853209495544434, 4.177886962890625, 4.869473934173584, 4.769846439361572, 5.128317356109619, 5.249835014343262, 4.378663063049316, 4.7125444412231445, 5.092857360839844, 5.150915145874023, 4.675726890563965, 4.941305637359619, 4.938770771026611, 5.144018650054932, 4.565847873687744, 5.0229926109313965, 4.4531474113464355, 4.933539390563965, 5.052079677581787, 4.760455131530762, 4.36307430267334, 4.781530380249023, 5.282629489898682, 5.112536907196045, 5.299345970153809, 4.941040992736816, 5.293012619018555, 4.525221347808838, 4.761252403259277, 4.993053913116455, 4.889562606811523, 4.875858306884766, 4.752821922302246, 4.737203598022461, 4.7914018630981445, 4.692521095275879, 5.079331874847412, 4.651036739349365, 4.014493465423584, 3.471311569213867, 4.940758228302002, 4.260919094085693, 5.073211193084717, 4.7939252853393555, 4.537331581115723, 4.946932792663574, 4.724257469177246, 4.67711067199707, 4.213457107543945, 4.816038131713867, 4.917011260986328, 4.670029163360596, 4.398110389709473, 4.166689872741699, 4.781399726867676, 4.892107963562012, 4.561856746673584, 4.945490837097168, 5.0270514488220215, 4.496513843536377, 4.860043525695801, 4.273285388946533, 4.863221645355225, 4.735185623168945, 4.815072059631348, 4.353819370269775, 4.509240627288818, 4.96712589263916, 4.188361644744873, 5.0260491371154785, 4.287115097045898, 4.708962917327881, 4.667102336883545, 4.542707920074463, 4.533205986022949, 4.385119915008545, 4.47513484954834, 4.160508155822754, 4.313721179962158, 4.9663591384887695, 4.930641174316406, 4.330804347991943, 5.136242389678955, 4.730784893035889, 4.897209167480469, 4.65153169631958, 4.753171920776367, 4.89260721206665, 4.335403919219971, 4.2125043869018555, 2.194267988204956, 3.932183265686035, 4.643117904663086, 4.361049175262451, 4.351019859313965, 4.407783508300781, 4.6508378982543945, 4.466568470001221, 4.750868320465088, 4.397651672363281, 4.87606954574585, 4.617319583892822, 4.7243571281433105, 2.6247570514678955, 5.063212871551514, 4.720518112182617, 3.4103097915649414, 5.049830436706543, 4.791534900665283, 4.917709827423096, 4.216007709503174, 4.824935436248779, 4.4419779777526855, 4.303041458129883, 4.034034252166748, 4.0769572257995605, 4.0526909828186035, 4.12070894241333, 4.685903549194336, 4.544290065765381, 4.262948989868164, 3.771401882171631, 4.810268878936768, 4.998775482177734, 3.8582303524017334, 4.484417915344238, 4.29542875289917, 4.507875919342041, 4.734809398651123, 4.62615442276001, 4.8655104637146, 4.757149696350098, 4.244951248168945, 4.237460613250732, 4.35973596572876, 4.762360572814941, 4.383679389953613, 4.3539628982543945, 4.566112518310547, 4.735493183135986, 4.397828578948975, 4.7072434425354, 4.456636905670166, 4.083706855773926, 4.49833345413208, 4.075562000274658, 4.58231782913208, 4.375085353851318, 4.65294075012207, 3.5955379009246826, 4.819390773773193, 4.167627811431885, 4.425386905670166, 5.110354423522949, 3.2350738048553467, 4.684028625488281, 4.755550861358643, 4.414773464202881, 4.408890247344971, 3.0382206439971924, 4.357215404510498, 4.154040813446045, 3.7366762161254883, 4.342345714569092, 4.863308906555176, 2.898312568664551, 3.7689602375030518, 4.157364845275879, 4.332235813140869, 4.2436842918396, 4.053337097167969, 4.568185329437256, 4.458015441894531, 4.112184047698975, 3.985570192337036, 4.038834095001221, 3.8014636039733887, 4.963571548461914, 4.607851982116699, 4.45352840423584, 3.8302161693573, 4.488245964050293, 4.125180721282959, 4.780884265899658, 4.229859352111816, 4.918049335479736, 4.489038467407227, 4.209103584289551, 3.6701278686523438, 4.410510540008545, 4.645298957824707, 4.508079528808594, 4.3003387451171875, 4.4363484382629395, 4.128358840942383, 4.247020721435547, 4.081913948059082, 4.437952518463135, 4.753405570983887, 4.124959945678711, 4.123745441436768, 4.673676490783691, 4.373965740203857, 4.169399261474609, 3.400379180908203, 3.8213882446289062, 4.40842342376709, 4.287320137023926, 4.222295761108398, 4.107801914215088, 4.692800521850586, 4.014171123504639, 4.261556148529053, 4.0672926902771, 4.605917453765869, 4.567727565765381, 4.498388767242432, 4.5681633949279785, 4.214108943939209, 3.951046943664551, 4.19658088684082, 3.939517021179199, 4.18776798248291, 3.1048011779785156, 4.287907123565674, 2.496884822845459, 4.355184555053711, 4.683149814605713, 2.617359161376953, 4.12067985534668, 4.52719783782959, 4.262484550476074, 3.8617327213287354, 4.456711769104004, 4.013160228729248, 3.882232904434204, 4.253842830657959, 4.214905738830566, 3.695899248123169, 4.827032089233398, 4.511822700500488, 4.322577476501465, 3.6674046516418457, 4.603315830230713, 3.216233968734741, 4.59336519241333, 4.02921199798584, 4.201934337615967, 4.629168510437012], \"y\": [2.0715253353118896, 3.0711798667907715, 2.4524827003479004, 2.1028945446014404, 2.349575996398926, 2.6890344619750977, 1.9252305030822754, 2.3231635093688965, 2.540642023086548, 3.4942843914031982, 2.403280019760132, 3.156994104385376, 3.192488431930542, 2.1550769805908203, 2.2899997234344482, 3.12158203125, 5.085710525512695, 2.681976318359375, 3.2402446269989014, 2.5599477291107178, 2.279451370239258, 3.3659815788269043, 1.951338768005371, 2.2808291912078857, 2.0566916465759277, 2.044612407684326, 3.474882125854492, 3.8462538719177246, 3.0696606636047363, 2.231208324432373, 2.546231746673584, 3.1511309146881104, 1.8548325300216675, 2.721656084060669, 2.9968771934509277, 2.3290958404541016, 2.862355947494507, 2.3302009105682373, 4.004362106323242, 2.4741320610046387, 3.530055284500122, 3.1656668186187744, 1.9242379665374756, 2.6731913089752197, 1.8981014490127563, 2.4321413040161133, 1.3908820152282715, 1.3742468357086182, 2.437164783477783, 2.878380060195923, 2.220299243927002, 2.802443504333496, 2.9526915550231934, 2.8874220848083496, 2.7934703826904297, 2.3822479248046875, 1.9296460151672363, 2.8623452186584473, 2.33701491355896, 2.2756054401397705, 2.353262424468994, 3.092359781265259, 2.3532304763793945, 2.18780517578125, 2.284372091293335, 3.067829132080078, 2.781018018722534, 2.8897690773010254, 2.2319679260253906, 1.842821717262268, 3.090169906616211, 3.0225796699523926, 1.7614456415176392, 1.8122483491897583, 2.0932095050811768, 1.7450952529907227, 2.6344363689422607, 1.8885185718536377, 2.3504135608673096, 2.437911033630371, 1.7504148483276367, 2.4028961658477783, 2.4746646881103516, 2.6594161987304688, 2.3636972904205322, 1.9989060163497925, 2.0292766094207764, 2.2274317741394043, 2.4091413021087646, 2.459599494934082, 4.301771640777588, 2.0835204124450684, 1.9704641103744507, 1.605770468711853, 2.700995445251465, 2.202362060546875, 1.8150817155838013, 2.264376401901245, 2.147813081741333, 2.562113046646118, 2.3744893074035645, 2.3593318462371826, 2.965496301651001, 3.3189268112182617, 2.3035671710968018, 2.122328281402588, 2.4680802822113037, 2.14446759223938, 2.271040916442871, 1.9548503160476685, 2.515183687210083, 1.8954837322235107, 2.072840929031372, 2.3999433517456055, 2.2634198665618896, 1.5517265796661377, 2.8323705196380615, 2.7202298641204834, 1.590242624282837, 3.222860336303711, 2.2313244342803955, 1.8406070470809937, 2.1872894763946533, 1.7526817321777344, 2.5828723907470703, 2.1310744285583496, 2.364382028579712, 2.706256628036499, 2.5528104305267334, 2.152989149093628, 1.9915786981582642, 1.5617986917495728, 1.3914178609848022, 2.115351438522339, 2.3152332305908203, 2.313080310821533, 1.8496681451797485, 2.7674219608306885, 2.5128607749938965, 1.604041337966919, 2.3202617168426514, 4.613776206970215, 2.752328395843506, 2.2577247619628906, 2.3827948570251465, 2.6282176971435547, 2.1101298332214355, 2.5136425495147705, 2.5258352756500244, 2.2936758995056152, 2.5150370597839355, 2.305211067199707, 1.5203083753585815, 1.5675214529037476, 4.354806900024414, 2.187272310256958, 2.0264360904693604, 3.6517159938812256, 1.6526249647140503, 2.1091227531433105, 1.534881830215454, 2.441807270050049, 2.0461020469665527, 2.074309825897217, 1.7399981021881104, 2.2558815479278564, 2.5015828609466553, 2.6183767318725586, 2.9025027751922607, 2.4566867351531982, 2.307378053665161, 2.775517225265503, 2.2989203929901123, 2.1414270401000977, 2.070037603378296, 2.3504724502563477, 1.3914005756378174, 2.7530384063720703, 1.892241358757019, 2.2210018634796143, 1.8239318132400513, 2.2145638465881348, 2.12890362739563, 2.7317848205566406, 2.700826644897461, 2.584836959838867, 1.8955172300338745, 2.4075675010681152, 2.4074759483337402, 2.454089641571045, 2.2680678367614746, 2.329845428466797, 2.466478109359741, 1.297829031944275, 2.171898365020752, 1.8971593379974365, 2.3445587158203125, 2.7462737560272217, 1.748065710067749, 2.07099986076355, 2.633871555328369, 2.139211416244507, 2.428044557571411, 2.6263813972473145, 1.4102680683135986, 2.879243850708008, 1.8150752782821655, 1.8801968097686768, 1.973650336265564, 2.0924253463745117, 3.8056609630584717, 1.7812095880508423, 2.446223020553589, 2.6852335929870605, 2.28562068939209, 2.1336848735809326, 3.7468936443328857, 1.793006181716919, 2.5967867374420166, 2.453969955444336, 2.3249053955078125, 2.413198232650757, 2.2176640033721924, 1.5024714469909668, 2.2703826427459717, 2.057464361190796, 2.219677448272705, 2.4375009536743164, 1.964255452156067, 2.2537014484405518, 1.2389119863510132, 1.928436517715454, 1.518540859222412, 1.9911046028137207, 1.4826236963272095, 2.137843132019043, 1.6531871557235718, 1.1216269731521606, 2.3858144283294678, 2.387709617614746, 2.209196090698242, 1.6009087562561035, 2.1113131046295166, 1.9533979892730713, 2.066624164581299, 2.245885133743286, 2.1885180473327637, 2.8093647956848145, 2.6106183528900146, 1.9817759990692139, 1.2778615951538086, 1.9816629886627197, 1.5071437358856201, 2.2470510005950928, 2.3159446716308594, 2.7475433349609375, 2.6061737537384033, 1.8011736869812012, 1.9928381443023682, 1.5245614051818848, 2.553513526916504, 2.127920150756836, 0.703749418258667, 2.633272886276245, 2.487339735031128, 2.343879461288452, 1.5244765281677246, 2.1637256145477295, 1.8059442043304443, 2.8398940563201904, 1.3479527235031128, 2.341705322265625, 2.662404775619507, 2.2467195987701416, 1.960681438446045, 2.3328263759613037, 4.556063175201416, 2.2009384632110596, 0.9682967662811279, 4.310896873474121, 1.8817390203475952, 1.8870466947555542, 2.2572178840637207, 2.6449532508850098, 1.8771135807037354, 2.7916176319122314, 2.5410475730895996, 2.4034037590026855, 2.6009480953216553, 2.584826946258545, 1.5321491956710815, 1.821513295173645, 1.613959550857544, 2.133031129837036, 1.6058392524719238, 3.1917953491210938, 2.0330896377563477, 2.1900558471679688, 2.59145188331604, 1.592909574508667], \"z\": [-1.0411882400512695, -0.7820123434066772, -0.4707377254962921, -1.1973633766174316, -0.31591150164604187, -0.49693867564201355, -1.5195250511169434, -0.15560950338840485, -0.9452044367790222, -0.8259484171867371, -0.010254917666316032, -0.5427168607711792, -0.19757670164108276, -0.39532145857810974, -1.4158155918121338, -0.6713814735412598, -0.8577430248260498, 0.1735670566558838, -0.40621039271354675, -0.5295460820198059, -0.4750240743160248, -0.18493568897247314, -1.0775752067565918, -0.944581151008606, -0.96592116355896, -0.7548046112060547, 0.12143953144550323, 0.061667587608098984, 0.00795269850641489, -0.302045613527298, 0.0028459897730499506, -0.746656060218811, -0.005585001781582832, 0.029876060783863068, 0.030983060598373413, 0.182613804936409, -0.01869153045117855, -0.4555211365222931, 0.09413222968578339, 0.01037440076470375, -0.05292215570807457, -0.18998396396636963, -0.7636980414390564, -0.21979980170726776, 0.4764302372932434, -0.4625760018825531, 0.24620772898197174, -0.4978443682193756, -0.20573736727237701, -0.26420778036117554, -0.34035053849220276, -0.33937811851501465, -0.7942090630531311, 0.03965192288160324, -0.08843903243541718, 0.2571178674697876, 0.6257534027099609, -0.6783136129379272, -0.1376967579126358, 0.26329678297042847, 0.503757655620575, -0.0889829769730568, 0.10425152629613876, -0.183915376663208, 0.3323412239551544, -0.690118134021759, 0.47337573766708374, -0.1649594008922577, -0.10656285285949707, -0.42025232315063477, 0.36769363284111023, 0.2902856469154358, 0.5797637701034546, 0.6353185176849365, 0.05624081566929817, -0.5254566669464111, -0.20118345320224762, 0.22570021450519562, -0.7555304765701294, 0.3041490912437439, 1.2213619947433472, 0.485332190990448, -0.031358737498521805, 0.05985260754823685, 0.13132494688034058, 0.0648396760225296, 0.21412694454193115, 0.30150625109672546, -0.3843264877796173, -0.18343834578990936, -0.8891674876213074, 0.17809155583381653, -2.1505842208862305, 0.5237267017364502, 0.1427236795425415, 0.6127512454986572, -0.07184753566980362, 0.2751544415950775, -0.3938615620136261, 0.3173389732837677, 0.300810307264328, 0.6209301948547363, -0.090379498898983, 0.28157296776771545, -0.6288166642189026, -0.3817870616912842, -0.12337594479322433, -0.3363281488418579, -0.4163814187049866, 0.07048188149929047, 0.07212764024734497, -1.7191883325576782, -0.5823857188224792, -0.09616610407829285, -0.7227006554603577, -2.756875991821289, 0.24869628250598907, -0.18533705174922943, -0.878240704536438, -0.07850518077611923, 0.13008920848369598, -1.5417428016662598, -0.014852706342935562, -0.8294883966445923, -0.3603734076023102, -0.1142972782254219, -0.19653673470020294, -0.47660961747169495, -0.5789089798927307, -0.9122028946876526, 0.48430338501930237, -0.4163784384727478, -0.9156548380851746, 0.4199819564819336, -0.14491026103496552, 0.5420252084732056, -0.20137856900691986, 0.1315680891275406, 0.29790762066841125, -2.186817169189453, 0.35181277990341187, -0.6385652422904968, -1.553863763809204, -0.36591988801956177, -0.19939075410366058, -0.43846410512924194, -0.8069119453430176, -0.05082347244024277, -1.1074748039245605, 0.04204745590686798, -0.20326757431030273, 0.43717965483665466, -0.7498093843460083, -1.6085641384124756, -1.2544468641281128, 0.6422839760780334, 0.05121491849422455, -1.327439308166504, 0.3247855007648468, 0.48703131079673767, 1.1532248258590698, 0.1349196434020996, 0.3119930028915405, -0.5636692643165588, -1.6293588876724243, -0.5727651715278625, -0.4724234342575073, -0.292469322681427, -0.6692937016487122, 0.5519512891769409, -0.1341952681541443, -0.46321260929107666, -0.5117247700691223, 0.19382426142692566, 0.438678115606308, -1.0999118089675903, -0.43179044127464294, -0.5320255756378174, -0.540963888168335, -0.11863908916711807, -0.04754721000790596, 0.11399532109498978, -0.21505917608737946, -0.49043554067611694, -0.47358420491218567, -0.395705908536911, 0.6772105693817139, -0.7000426054000854, 0.16589905321598053, -0.03767711669206619, 0.03973398357629776, 0.004366805776953697, 0.35214242339134216, -2.341529607772827, -0.27283453941345215, 0.1927243024110794, -0.5034441947937012, 0.35169699788093567, -0.41583794355392456, -0.12340379506349564, -0.7874086499214172, -0.2673487663269043, -1.220737099647522, -0.26549381017684937, -0.329421728849411, 0.3148847818374634, 0.422325074672699, -0.4039188027381897, 0.4953639507293701, -0.19617010653018951, -0.28383880853652954, -0.14443254470825195, -0.40172821283340454, -0.34474068880081177, 0.22942404448986053, 0.0290699265897274, -1.0916285514831543, -1.1446014642715454, -0.051916394382715225, 0.2505549490451813, -0.07899650931358337, -2.688415288925171, 0.20591425895690918, 0.4177057147026062, -0.9230666756629944, -1.5437780618667603, 0.9652987718582153, -0.3060963749885559, 0.5921461582183838, 0.03314930945634842, 1.1940432786941528, -1.4096746444702148, -0.24649851024150848, -0.2174845039844513, 0.4625973105430603, -0.2995556890964508, 0.5291500091552734, -2.2902119159698486, -0.5369288325309753, -1.0683938264846802, -0.7263235449790955, -0.7077509164810181, 0.12484732270240784, -1.3151018619537354, 0.07025690376758575, 0.10554059594869614, 0.17074090242385864, -0.20614401996135712, 0.196597158908844, 0.1994810253381729, -1.136204719543457, -0.24188509583473206, -0.07836030423641205, -0.37697210907936096, 0.4665609300136566, -0.5061944127082825, -0.574068009853363, -0.878103494644165, -0.2628556191921234, -2.2219746112823486, -0.2009725272655487, 0.4001438617706299, 0.31140968203544617, -0.24913889169692993, -0.5023407936096191, 0.3754079043865204, 0.2444131225347519, 0.8016120195388794, -0.28663909435272217, 0.08453455567359924, -0.14678631722927094, 0.4328007400035858, 0.4422439932823181, 0.09463553130626678, -0.6349505186080933, -0.0010898400796577334, -1.7897043228149414, -0.8163132071495056, -0.3634205758571625, 0.02641294337809086, 0.06803293526172638, 0.5004991292953491, -0.0032544166315346956, -1.0773712396621704, -0.5308107137680054, 0.2506905496120453, -0.99125075340271, -0.006593017838895321, -0.2186080813407898, -0.7067129611968994, 0.5629355907440186, 0.1932940036058426, -0.8775862455368042, -0.9792546629905701, 0.12663088738918304, 0.3623296618461609, 0.6695057153701782, 0.12517288327217102, 0.37352052330970764, -0.4490460753440857], \"mode\": \"markers\", \"marker\": {\"size\": 4, \"opacity\": 0.8}, \"text\": [\"the\", \",\", \".\", \"of\", \"to\", \"and\", \"in\", \"a\", \"\\\"\", \"'s\", \"for\", \"-\", \"that\", \"on\", \"is\", \"was\", \"said\", \"with\", \"he\", \"as\", \"it\", \"by\", \"at\", \"(\", \")\", \"from\", \"his\", \"''\", \"``\", \"an\", \"be\", \"has\", \"are\", \"have\", \"but\", \"were\", \"not\", \"this\", \"who\", \"they\", \"had\", \"i\", \"which\", \"will\", \"their\", \":\", \"or\", \"its\", \"one\", \"after\", \"new\", \"been\", \"also\", \"we\", \"would\", \"two\", \"more\", \"'\", \"first\", \"about\", \"up\", \"when\", \"year\", \"there\", \"all\", \"--\", \"out\", \"she\", \"other\", \"people\", \"n't\", \"her\", \"percent\", \"than\", \"over\", \"into\", \"last\", \"some\", \"government\", \"time\", \"$\", \"you\", \"years\", \"if\", \"no\", \"world\", \"can\", \"three\", \"do\", \";\", \"president\", \"only\", \"state\", \"million\", \"could\", \"us\", \"most\", \"_\", \"against\", \"u.s.\", \"so\", \"them\", \"what\", \"him\", \"united\", \"during\", \"before\", \"may\", \"since\", \"many\", \"while\", \"where\", \"states\", \"because\", \"now\", \"city\", \"made\", \"like\", \"between\", \"did\", \"just\", \"national\", \"day\", \"country\", \"under\", \"such\", \"second\", \"then\", \"company\", \"group\", \"any\", \"through\", \"china\", \"four\", \"being\", \"down\", \"war\", \"back\", \"off\", \"south\", \"american\", \"minister\", \"police\", \"well\", \"including\", \"team\", \"international\", \"week\", \"officials\", \"still\", \"both\", \"even\", \"high\", \"part\", \"told\", \"those\", \"end\", \"former\", \"these\", \"make\", \"billion\", \"work\", \"our\", \"home\", \"school\", \"party\", \"house\", \"old\", \"later\", \"get\", \"another\", \"tuesday\", \"news\", \"long\", \"five\", \"called\", \"1\", \"wednesday\", \"military\", \"way\", \"used\", \"much\", \"next\", \"monday\", \"thursday\", \"friday\", \"game\", \"here\", \"?\", \"should\", \"take\", \"very\", \"my\", \"north\", \"security\", \"season\", \"york\", \"how\", \"public\", \"early\", \"according\", \"several\", \"court\", \"say\", \"around\", \"foreign\", \"10\", \"until\", \"set\", \"political\", \"says\", \"market\", \"however\", \"family\", \"life\", \"same\", \"general\", \"\\u2013\", \"left\", \"good\", \"top\", \"university\", \"going\", \"number\", \"major\", \"known\", \"points\", \"won\", \"six\", \"month\", \"dollars\", \"bank\", \"2\", \"iraq\", \"use\", \"members\", \"each\", \"area\", \"found\", \"official\", \"sunday\", \"place\", \"go\", \"based\", \"among\", \"third\", \"times\", \"took\", \"right\", \"days\", \"local\", \"economic\", \"countries\", \"see\", \"best\", \"report\", \"killed\", \"held\", \"business\", \"west\", \"does\", \"own\", \"%\", \"came\", \"law\", \"months\", \"women\", \"'re\", \"power\", \"think\", \"service\", \"children\", \"bush\", \"show\", \"/\", \"help\", \"chief\", \"saturday\", \"system\", \"john\", \"support\", \"series\", \"play\", \"office\", \"following\", \"me\", \"meeting\", \"expected\", \"late\", \"washington\", \"games\", \"european\", \"league\", \"reported\", \"final\", \"added\", \"without\", \"british\", \"white\", \"history\"]}], {\"margin\": {\"l\": 0, \"r\": 0, \"b\": 0, \"t\": 0}, \"scene\": {\"xaxis\": {\"title\": \"1st Principle Component\"}, \"yaxis\": {\"title\": \"2nd Principle Component\"}, \"zaxis\": {\"title\": \"3rd Principel Component\"}, \"annotations\": [{\"showarrow\": false, \"x\": 5.216967582702637, \"y\": 2.0715253353118896, \"z\": -1.0411882400512695, \"text\": \"the\", \"xanchor\": \"left\", \"xshift\": 5, \"opacity\": 1}, {\"showarrow\": false, \"x\": 4.079722881317139, \"y\": 3.0711798667907715, \"z\": -0.7820123434066772, \"text\": \",\", \"xanchor\": \"left\", \"xshift\": 5, \"opacity\": 1}, {\"showarrow\": false, \"x\": 4.607768535614014, \"y\": 2.4524827003479004, \"z\": -0.4707377254962921, \"text\": \".\", \"xanchor\": \"left\", \"xshift\": 5, \"opacity\": 1}, {\"showarrow\": false, \"x\": 5.049288749694824, \"y\": 2.1028945446014404, \"z\": -1.1973633766174316, \"text\": \"of\", \"xanchor\": \"left\", \"xshift\": 5, \"opacity\": 1}, {\"showarrow\": false, \"x\": 5.046916961669922, \"y\": 2.349575996398926, \"z\": -0.31591150164604187, \"text\": \"to\", \"xanchor\": \"left\", \"xshift\": 5, \"opacity\": 1}, {\"showarrow\": false, \"x\": 4.548707008361816, \"y\": 2.6890344619750977, \"z\": -0.49693867564201355, \"text\": \"and\", \"xanchor\": \"left\", \"xshift\": 5, \"opacity\": 1}, {\"showarrow\": false, \"x\": 5.170193672180176, \"y\": 1.9252305030822754, \"z\": -1.5195250511169434, \"text\": \"in\", \"xanchor\": \"left\", \"xshift\": 5, \"opacity\": 1}, {\"showarrow\": false, \"x\": 5.011414051055908, \"y\": 2.3231635093688965, \"z\": -0.15560950338840485, \"text\": \"a\", \"xanchor\": \"left\", \"xshift\": 5, \"opacity\": 1}, {\"showarrow\": false, \"x\": 3.8968915939331055, \"y\": 2.540642023086548, \"z\": -0.9452044367790222, \"text\": \"\\\"\", \"xanchor\": \"left\", \"xshift\": 5, \"opacity\": 1}, {\"showarrow\": false, \"x\": 4.346786975860596, \"y\": 3.4942843914031982, \"z\": -0.8259484171867371, \"text\": \"'s\", \"xanchor\": \"left\", \"xshift\": 5, \"opacity\": 1}, {\"showarrow\": false, \"x\": 5.020096778869629, \"y\": 2.403280019760132, \"z\": -0.010254917666316032, \"text\": \"for\", \"xanchor\": \"left\", \"xshift\": 5, \"opacity\": 1}, {\"showarrow\": false, \"x\": 4.99492073059082, \"y\": 3.156994104385376, \"z\": -0.5427168607711792, \"text\": \"-\", \"xanchor\": \"left\", \"xshift\": 5, \"opacity\": 1}, {\"showarrow\": false, \"x\": 4.861939430236816, \"y\": 3.192488431930542, \"z\": -0.19757670164108276, \"text\": \"that\", \"xanchor\": \"left\", \"xshift\": 5, \"opacity\": 1}, {\"showarrow\": false, \"x\": 5.128436088562012, \"y\": 2.1550769805908203, \"z\": -0.39532145857810974, \"text\": \"on\", \"xanchor\": \"left\", \"xshift\": 5, \"opacity\": 1}, {\"showarrow\": false, \"x\": 4.501960277557373, \"y\": 2.2899997234344482, \"z\": -1.4158155918121338, \"text\": \"is\", \"xanchor\": \"left\", \"xshift\": 5, \"opacity\": 1}, {\"showarrow\": false, \"x\": 4.212862968444824, \"y\": 3.12158203125, \"z\": -0.6713814735412598, \"text\": \"was\", \"xanchor\": \"left\", \"xshift\": 5, \"opacity\": 1}, {\"showarrow\": false, \"x\": 2.8938283920288086, \"y\": 5.085710525512695, \"z\": -0.8577430248260498, \"text\": \"said\", \"xanchor\": \"left\", \"xshift\": 5, \"opacity\": 1}, {\"showarrow\": false, \"x\": 4.7888102531433105, \"y\": 2.681976318359375, \"z\": 0.1735670566558838, \"text\": \"with\", \"xanchor\": \"left\", \"xshift\": 5, \"opacity\": 1}, {\"showarrow\": false, \"x\": 4.772055149078369, \"y\": 3.2402446269989014, \"z\": -0.40621039271354675, \"text\": \"he\", \"xanchor\": \"left\", \"xshift\": 5, \"opacity\": 1}, {\"showarrow\": false, \"x\": 4.556411266326904, \"y\": 2.5599477291107178, \"z\": -0.5295460820198059, \"text\": \"as\", \"xanchor\": \"left\", \"xshift\": 5, \"opacity\": 1}, {\"showarrow\": false, \"x\": 5.20567512512207, \"y\": 2.279451370239258, \"z\": -0.4750240743160248, \"text\": \"it\", \"xanchor\": \"left\", \"xshift\": 5, \"opacity\": 1}, {\"showarrow\": false, \"x\": 4.023972034454346, \"y\": 3.3659815788269043, \"z\": -0.18493568897247314, \"text\": \"by\", \"xanchor\": \"left\", \"xshift\": 5, \"opacity\": 1}, {\"showarrow\": false, \"x\": 4.94092321395874, \"y\": 1.951338768005371, \"z\": -1.0775752067565918, \"text\": \"at\", \"xanchor\": \"left\", \"xshift\": 5, \"opacity\": 1}, {\"showarrow\": false, \"x\": 3.708509922027588, \"y\": 2.2808291912078857, \"z\": -0.944581151008606, \"text\": \"(\", \"xanchor\": \"left\", \"xshift\": 5, \"opacity\": 1}, {\"showarrow\": false, \"x\": 4.037136554718018, \"y\": 2.0566916465759277, \"z\": -0.96592116355896, \"text\": \")\", \"xanchor\": \"left\", \"xshift\": 5, \"opacity\": 1}, {\"showarrow\": false, \"x\": 5.071026802062988, \"y\": 2.044612407684326, \"z\": -0.7548046112060547, \"text\": \"from\", \"xanchor\": \"left\", \"xshift\": 5, \"opacity\": 1}, {\"showarrow\": false, \"x\": 4.587432861328125, \"y\": 3.474882125854492, \"z\": 0.12143953144550323, \"text\": \"his\", \"xanchor\": \"left\", \"xshift\": 5, \"opacity\": 1}, {\"showarrow\": false, \"x\": 3.812596082687378, \"y\": 3.8462538719177246, \"z\": 0.061667587608098984, \"text\": \"''\", \"xanchor\": \"left\", \"xshift\": 5, \"opacity\": 1}, {\"showarrow\": false, \"x\": 4.4702558517456055, \"y\": 3.0696606636047363, \"z\": 0.00795269850641489, \"text\": \"``\", \"xanchor\": \"left\", \"xshift\": 5, \"opacity\": 1}, {\"showarrow\": false, \"x\": 4.520071506500244, \"y\": 2.231208324432373, \"z\": -0.302045613527298, \"text\": \"an\", \"xanchor\": \"left\", \"xshift\": 5, \"opacity\": 1}, {\"showarrow\": false, \"x\": 4.985276222229004, \"y\": 2.546231746673584, \"z\": 0.0028459897730499506, \"text\": \"be\", \"xanchor\": \"left\", \"xshift\": 5, \"opacity\": 1}, {\"showarrow\": false, \"x\": 4.551344394683838, \"y\": 3.1511309146881104, \"z\": -0.746656060218811, \"text\": \"has\", \"xanchor\": \"left\", \"xshift\": 5, \"opacity\": 1}, {\"showarrow\": false, \"x\": 5.112781524658203, \"y\": 1.8548325300216675, \"z\": -0.005585001781582832, \"text\": \"are\", \"xanchor\": \"left\", \"xshift\": 5, \"opacity\": 1}, {\"showarrow\": false, \"x\": 5.227019786834717, \"y\": 2.721656084060669, \"z\": 0.029876060783863068, \"text\": \"have\", \"xanchor\": \"left\", \"xshift\": 5, \"opacity\": 1}, {\"showarrow\": false, \"x\": 4.774053573608398, \"y\": 2.9968771934509277, \"z\": 0.030983060598373413, \"text\": \"but\", \"xanchor\": \"left\", \"xshift\": 5, \"opacity\": 1}, {\"showarrow\": false, \"x\": 4.938425064086914, \"y\": 2.3290958404541016, \"z\": 0.182613804936409, \"text\": \"were\", \"xanchor\": \"left\", \"xshift\": 5, \"opacity\": 1}, {\"showarrow\": false, \"x\": 4.895444393157959, \"y\": 2.862355947494507, \"z\": -0.01869153045117855, \"text\": \"not\", \"xanchor\": \"left\", \"xshift\": 5, \"opacity\": 1}, {\"showarrow\": false, \"x\": 4.922308921813965, \"y\": 2.3302009105682373, \"z\": -0.4555211365222931, \"text\": \"this\", \"xanchor\": \"left\", \"xshift\": 5, \"opacity\": 1}, {\"showarrow\": false, \"x\": 3.9254441261291504, \"y\": 4.004362106323242, \"z\": 0.09413222968578339, \"text\": \"who\", \"xanchor\": \"left\", \"xshift\": 5, \"opacity\": 1}, {\"showarrow\": false, \"x\": 5.297741413116455, \"y\": 2.4741320610046387, \"z\": 0.01037440076470375, \"text\": \"they\", \"xanchor\": \"left\", \"xshift\": 5, \"opacity\": 1}, {\"showarrow\": false, \"x\": 4.4883646965026855, \"y\": 3.530055284500122, \"z\": -0.05292215570807457, \"text\": \"had\", \"xanchor\": \"left\", \"xshift\": 5, \"opacity\": 1}, {\"showarrow\": false, \"x\": 4.706274509429932, \"y\": 3.1656668186187744, \"z\": -0.18998396396636963, \"text\": \"i\", \"xanchor\": \"left\", \"xshift\": 5, \"opacity\": 1}, {\"showarrow\": false, \"x\": 5.170941352844238, \"y\": 1.9242379665374756, \"z\": -0.7636980414390564, \"text\": \"which\", \"xanchor\": \"left\", \"xshift\": 5, \"opacity\": 1}, {\"showarrow\": false, \"x\": 4.791145324707031, \"y\": 2.6731913089752197, \"z\": -0.21979980170726776, \"text\": \"will\", \"xanchor\": \"left\", \"xshift\": 5, \"opacity\": 1}, {\"showarrow\": false, \"x\": 5.452670097351074, \"y\": 1.8981014490127563, \"z\": 0.4764302372932434, \"text\": \"their\", \"xanchor\": \"left\", \"xshift\": 5, \"opacity\": 1}, {\"showarrow\": false, \"x\": 4.32422399520874, \"y\": 2.4321413040161133, \"z\": -0.4625760018825531, \"text\": \":\", \"xanchor\": \"left\", \"xshift\": 5, \"opacity\": 1}, {\"showarrow\": false, \"x\": 5.024126052856445, \"y\": 1.3908820152282715, \"z\": 0.24620772898197174, \"text\": \"or\", \"xanchor\": \"left\", \"xshift\": 5, \"opacity\": 1}, {\"showarrow\": false, \"x\": 5.528177738189697, \"y\": 1.3742468357086182, \"z\": -0.4978443682193756, \"text\": \"its\", \"xanchor\": \"left\", \"xshift\": 5, \"opacity\": 1}, {\"showarrow\": false, \"x\": 4.917052745819092, \"y\": 2.437164783477783, \"z\": -0.20573736727237701, \"text\": \"one\", \"xanchor\": \"left\", \"xshift\": 5, \"opacity\": 1}, {\"showarrow\": false, \"x\": 4.780513286590576, \"y\": 2.878380060195923, \"z\": -0.26420778036117554, \"text\": \"after\", \"xanchor\": \"left\", \"xshift\": 5, \"opacity\": 1}, {\"showarrow\": false, \"x\": 4.929819107055664, \"y\": 2.220299243927002, \"z\": -0.34035053849220276, \"text\": \"new\", \"xanchor\": \"left\", \"xshift\": 5, \"opacity\": 1}, {\"showarrow\": false, \"x\": 4.853209495544434, \"y\": 2.802443504333496, \"z\": -0.33937811851501465, \"text\": \"been\", \"xanchor\": \"left\", \"xshift\": 5, \"opacity\": 1}, {\"showarrow\": false, \"x\": 4.177886962890625, \"y\": 2.9526915550231934, \"z\": -0.7942090630531311, \"text\": \"also\", \"xanchor\": \"left\", \"xshift\": 5, \"opacity\": 1}, {\"showarrow\": false, \"x\": 4.869473934173584, \"y\": 2.8874220848083496, \"z\": 0.03965192288160324, \"text\": \"we\", \"xanchor\": \"left\", \"xshift\": 5, \"opacity\": 1}, {\"showarrow\": false, \"x\": 4.769846439361572, \"y\": 2.7934703826904297, \"z\": -0.08843903243541718, \"text\": \"would\", \"xanchor\": \"left\", \"xshift\": 5, \"opacity\": 1}, {\"showarrow\": false, \"x\": 5.128317356109619, \"y\": 2.3822479248046875, \"z\": 0.2571178674697876, \"text\": \"two\", \"xanchor\": \"left\", \"xshift\": 5, \"opacity\": 1}, {\"showarrow\": false, \"x\": 5.249835014343262, \"y\": 1.9296460151672363, \"z\": 0.6257534027099609, \"text\": \"more\", \"xanchor\": \"left\", \"xshift\": 5, \"opacity\": 1}, {\"showarrow\": false, \"x\": 4.378663063049316, \"y\": 2.8623452186584473, \"z\": -0.6783136129379272, \"text\": \"'\", \"xanchor\": \"left\", \"xshift\": 5, \"opacity\": 1}, {\"showarrow\": false, \"x\": 4.7125444412231445, \"y\": 2.33701491355896, \"z\": -0.1376967579126358, \"text\": \"first\", \"xanchor\": \"left\", \"xshift\": 5, \"opacity\": 1}, {\"showarrow\": false, \"x\": 5.092857360839844, \"y\": 2.2756054401397705, \"z\": 0.26329678297042847, \"text\": \"about\", \"xanchor\": \"left\", \"xshift\": 5, \"opacity\": 1}, {\"showarrow\": false, \"x\": 5.150915145874023, \"y\": 2.353262424468994, \"z\": 0.503757655620575, \"text\": \"up\", \"xanchor\": \"left\", \"xshift\": 5, \"opacity\": 1}, {\"showarrow\": false, \"x\": 4.675726890563965, \"y\": 3.092359781265259, \"z\": -0.0889829769730568, \"text\": \"when\", \"xanchor\": \"left\", \"xshift\": 5, \"opacity\": 1}, {\"showarrow\": false, \"x\": 4.941305637359619, \"y\": 2.3532304763793945, \"z\": 0.10425152629613876, \"text\": \"year\", \"xanchor\": \"left\", \"xshift\": 5, \"opacity\": 1}, {\"showarrow\": false, \"x\": 4.938770771026611, \"y\": 2.18780517578125, \"z\": -0.183915376663208, \"text\": \"there\", \"xanchor\": \"left\", \"xshift\": 5, \"opacity\": 1}, {\"showarrow\": false, \"x\": 5.144018650054932, \"y\": 2.284372091293335, \"z\": 0.3323412239551544, \"text\": \"all\", \"xanchor\": \"left\", \"xshift\": 5, \"opacity\": 1}, {\"showarrow\": false, \"x\": 4.565847873687744, \"y\": 3.067829132080078, \"z\": -0.690118134021759, \"text\": \"--\", \"xanchor\": \"left\", \"xshift\": 5, \"opacity\": 1}, {\"showarrow\": false, \"x\": 5.0229926109313965, \"y\": 2.781018018722534, \"z\": 0.47337573766708374, \"text\": \"out\", \"xanchor\": \"left\", \"xshift\": 5, \"opacity\": 1}, {\"showarrow\": false, \"x\": 4.4531474113464355, \"y\": 2.8897690773010254, \"z\": -0.1649594008922577, \"text\": \"she\", \"xanchor\": \"left\", \"xshift\": 5, \"opacity\": 1}, {\"showarrow\": false, \"x\": 4.933539390563965, \"y\": 2.2319679260253906, \"z\": -0.10656285285949707, \"text\": \"other\", \"xanchor\": \"left\", \"xshift\": 5, \"opacity\": 1}, {\"showarrow\": false, \"x\": 5.052079677581787, \"y\": 1.842821717262268, \"z\": -0.42025232315063477, \"text\": \"people\", \"xanchor\": \"left\", \"xshift\": 5, \"opacity\": 1}, {\"showarrow\": false, \"x\": 4.760455131530762, \"y\": 3.090169906616211, \"z\": 0.36769363284111023, \"text\": \"n't\", \"xanchor\": \"left\", \"xshift\": 5, \"opacity\": 1}, {\"showarrow\": false, \"x\": 4.36307430267334, \"y\": 3.0225796699523926, \"z\": 0.2902856469154358, \"text\": \"her\", \"xanchor\": \"left\", \"xshift\": 5, \"opacity\": 1}, {\"showarrow\": false, \"x\": 4.781530380249023, \"y\": 1.7614456415176392, \"z\": 0.5797637701034546, \"text\": \"percent\", \"xanchor\": \"left\", \"xshift\": 5, \"opacity\": 1}, {\"showarrow\": false, \"x\": 5.282629489898682, \"y\": 1.8122483491897583, \"z\": 0.6353185176849365, \"text\": \"than\", \"xanchor\": \"left\", \"xshift\": 5, \"opacity\": 1}, {\"showarrow\": false, \"x\": 5.112536907196045, \"y\": 2.0932095050811768, \"z\": 0.05624081566929817, \"text\": \"over\", \"xanchor\": \"left\", \"xshift\": 5, \"opacity\": 1}, {\"showarrow\": false, \"x\": 5.299345970153809, \"y\": 1.7450952529907227, \"z\": -0.5254566669464111, \"text\": \"into\", \"xanchor\": \"left\", \"xshift\": 5, \"opacity\": 1}, {\"showarrow\": false, \"x\": 4.941040992736816, \"y\": 2.6344363689422607, \"z\": -0.20118345320224762, \"text\": \"last\", \"xanchor\": \"left\", \"xshift\": 5, \"opacity\": 1}, {\"showarrow\": false, \"x\": 5.293012619018555, \"y\": 1.8885185718536377, \"z\": 0.22570021450519562, \"text\": \"some\", \"xanchor\": \"left\", \"xshift\": 5, \"opacity\": 1}, {\"showarrow\": false, \"x\": 4.525221347808838, \"y\": 2.3504135608673096, \"z\": -0.7555304765701294, \"text\": \"government\", \"xanchor\": \"left\", \"xshift\": 5, \"opacity\": 1}, {\"showarrow\": false, \"x\": 4.761252403259277, \"y\": 2.437911033630371, \"z\": 0.3041490912437439, \"text\": \"time\", \"xanchor\": \"left\", \"xshift\": 5, \"opacity\": 1}, {\"showarrow\": false, \"x\": 4.993053913116455, \"y\": 1.7504148483276367, \"z\": 1.2213619947433472, \"text\": \"$\", \"xanchor\": \"left\", \"xshift\": 5, \"opacity\": 1}, {\"showarrow\": false, \"x\": 4.889562606811523, \"y\": 2.4028961658477783, \"z\": 0.485332190990448, \"text\": \"you\", \"xanchor\": \"left\", \"xshift\": 5, \"opacity\": 1}, {\"showarrow\": false, \"x\": 4.875858306884766, \"y\": 2.4746646881103516, \"z\": -0.031358737498521805, \"text\": \"years\", \"xanchor\": \"left\", \"xshift\": 5, \"opacity\": 1}, {\"showarrow\": false, \"x\": 4.752821922302246, \"y\": 2.6594161987304688, \"z\": 0.05985260754823685, \"text\": \"if\", \"xanchor\": \"left\", \"xshift\": 5, \"opacity\": 1}, {\"showarrow\": false, \"x\": 4.737203598022461, \"y\": 2.3636972904205322, \"z\": 0.13132494688034058, \"text\": \"no\", \"xanchor\": \"left\", \"xshift\": 5, \"opacity\": 1}, {\"showarrow\": false, \"x\": 4.7914018630981445, \"y\": 1.9989060163497925, \"z\": 0.0648396760225296, \"text\": \"world\", \"xanchor\": \"left\", \"xshift\": 5, \"opacity\": 1}, {\"showarrow\": false, \"x\": 4.692521095275879, \"y\": 2.0292766094207764, \"z\": 0.21412694454193115, \"text\": \"can\", \"xanchor\": \"left\", \"xshift\": 5, \"opacity\": 1}, {\"showarrow\": false, \"x\": 5.079331874847412, \"y\": 2.2274317741394043, \"z\": 0.30150625109672546, \"text\": \"three\", \"xanchor\": \"left\", \"xshift\": 5, \"opacity\": 1}, {\"showarrow\": false, \"x\": 4.651036739349365, \"y\": 2.4091413021087646, \"z\": -0.3843264877796173, \"text\": \"do\", \"xanchor\": \"left\", \"xshift\": 5, \"opacity\": 1}, {\"showarrow\": false, \"x\": 4.014493465423584, \"y\": 2.459599494934082, \"z\": -0.18343834578990936, \"text\": \";\", \"xanchor\": \"left\", \"xshift\": 5, \"opacity\": 1}, {\"showarrow\": false, \"x\": 3.471311569213867, \"y\": 4.301771640777588, \"z\": -0.8891674876213074, \"text\": \"president\", \"xanchor\": \"left\", \"xshift\": 5, \"opacity\": 1}, {\"showarrow\": false, \"x\": 4.940758228302002, \"y\": 2.0835204124450684, \"z\": 0.17809155583381653, \"text\": \"only\", \"xanchor\": \"left\", \"xshift\": 5, \"opacity\": 1}, {\"showarrow\": false, \"x\": 4.260919094085693, \"y\": 1.9704641103744507, \"z\": -2.1505842208862305, \"text\": \"state\", \"xanchor\": \"left\", \"xshift\": 5, \"opacity\": 1}, {\"showarrow\": false, \"x\": 5.073211193084717, \"y\": 1.605770468711853, \"z\": 0.5237267017364502, \"text\": \"million\", \"xanchor\": \"left\", \"xshift\": 5, \"opacity\": 1}, {\"showarrow\": false, \"x\": 4.7939252853393555, \"y\": 2.700995445251465, \"z\": 0.1427236795425415, \"text\": \"could\", \"xanchor\": \"left\", \"xshift\": 5, \"opacity\": 1}, {\"showarrow\": false, \"x\": 4.537331581115723, \"y\": 2.202362060546875, \"z\": 0.6127512454986572, \"text\": \"us\", \"xanchor\": \"left\", \"xshift\": 5, \"opacity\": 1}, {\"showarrow\": false, \"x\": 4.946932792663574, \"y\": 1.8150817155838013, \"z\": -0.07184753566980362, \"text\": \"most\", \"xanchor\": \"left\", \"xshift\": 5, \"opacity\": 1}, {\"showarrow\": false, \"x\": 4.724257469177246, \"y\": 2.264376401901245, \"z\": 0.2751544415950775, \"text\": \"_\", \"xanchor\": \"left\", \"xshift\": 5, \"opacity\": 1}, {\"showarrow\": false, \"x\": 4.67711067199707, \"y\": 2.147813081741333, \"z\": -0.3938615620136261, \"text\": \"against\", \"xanchor\": \"left\", \"xshift\": 5, \"opacity\": 1}, {\"showarrow\": false, \"x\": 4.213457107543945, \"y\": 2.562113046646118, \"z\": 0.3173389732837677, \"text\": \"u.s.\", \"xanchor\": \"left\", \"xshift\": 5, \"opacity\": 1}, {\"showarrow\": false, \"x\": 4.816038131713867, \"y\": 2.3744893074035645, \"z\": 0.300810307264328, \"text\": \"so\", \"xanchor\": \"left\", \"xshift\": 5, \"opacity\": 1}, {\"showarrow\": false, \"x\": 4.917011260986328, \"y\": 2.3593318462371826, \"z\": 0.6209301948547363, \"text\": \"them\", \"xanchor\": \"left\", \"xshift\": 5, \"opacity\": 1}, {\"showarrow\": false, \"x\": 4.670029163360596, \"y\": 2.965496301651001, \"z\": -0.090379498898983, \"text\": \"what\", \"xanchor\": \"left\", \"xshift\": 5, \"opacity\": 1}, {\"showarrow\": false, \"x\": 4.398110389709473, \"y\": 3.3189268112182617, \"z\": 0.28157296776771545, \"text\": \"him\", \"xanchor\": \"left\", \"xshift\": 5, \"opacity\": 1}, {\"showarrow\": false, \"x\": 4.166689872741699, \"y\": 2.3035671710968018, \"z\": -0.6288166642189026, \"text\": \"united\", \"xanchor\": \"left\", \"xshift\": 5, \"opacity\": 1}, {\"showarrow\": false, \"x\": 4.781399726867676, \"y\": 2.122328281402588, \"z\": -0.3817870616912842, \"text\": \"during\", \"xanchor\": \"left\", \"xshift\": 5, \"opacity\": 1}, {\"showarrow\": false, \"x\": 4.892107963562012, \"y\": 2.4680802822113037, \"z\": -0.12337594479322433, \"text\": \"before\", \"xanchor\": \"left\", \"xshift\": 5, \"opacity\": 1}, {\"showarrow\": false, \"x\": 4.561856746673584, \"y\": 2.14446759223938, \"z\": -0.3363281488418579, \"text\": \"may\", \"xanchor\": \"left\", \"xshift\": 5, \"opacity\": 1}, {\"showarrow\": false, \"x\": 4.945490837097168, \"y\": 2.271040916442871, \"z\": -0.4163814187049866, \"text\": \"since\", \"xanchor\": \"left\", \"xshift\": 5, \"opacity\": 1}, {\"showarrow\": false, \"x\": 5.0270514488220215, \"y\": 1.9548503160476685, \"z\": 0.07048188149929047, \"text\": \"many\", \"xanchor\": \"left\", \"xshift\": 5, \"opacity\": 1}, {\"showarrow\": false, \"x\": 4.496513843536377, \"y\": 2.515183687210083, \"z\": 0.07212764024734497, \"text\": \"while\", \"xanchor\": \"left\", \"xshift\": 5, \"opacity\": 1}, {\"showarrow\": false, \"x\": 4.860043525695801, \"y\": 1.8954837322235107, \"z\": -1.7191883325576782, \"text\": \"where\", \"xanchor\": \"left\", \"xshift\": 5, \"opacity\": 1}, {\"showarrow\": false, \"x\": 4.273285388946533, \"y\": 2.072840929031372, \"z\": -0.5823857188224792, \"text\": \"states\", \"xanchor\": \"left\", \"xshift\": 5, \"opacity\": 1}, {\"showarrow\": false, \"x\": 4.863221645355225, \"y\": 2.3999433517456055, \"z\": -0.09616610407829285, \"text\": \"because\", \"xanchor\": \"left\", \"xshift\": 5, \"opacity\": 1}, {\"showarrow\": false, \"x\": 4.735185623168945, \"y\": 2.2634198665618896, \"z\": -0.7227006554603577, \"text\": \"now\", \"xanchor\": \"left\", \"xshift\": 5, \"opacity\": 1}, {\"showarrow\": false, \"x\": 4.815072059631348, \"y\": 1.5517265796661377, \"z\": -2.756875991821289, \"text\": \"city\", \"xanchor\": \"left\", \"xshift\": 5, \"opacity\": 1}, {\"showarrow\": false, \"x\": 4.353819370269775, \"y\": 2.8323705196380615, \"z\": 0.24869628250598907, \"text\": \"made\", \"xanchor\": \"left\", \"xshift\": 5, \"opacity\": 1}, {\"showarrow\": false, \"x\": 4.509240627288818, \"y\": 2.7202298641204834, \"z\": -0.18533705174922943, \"text\": \"like\", \"xanchor\": \"left\", \"xshift\": 5, \"opacity\": 1}, {\"showarrow\": false, \"x\": 4.96712589263916, \"y\": 1.590242624282837, \"z\": -0.878240704536438, \"text\": \"between\", \"xanchor\": \"left\", \"xshift\": 5, \"opacity\": 1}, {\"showarrow\": false, \"x\": 4.188361644744873, \"y\": 3.222860336303711, \"z\": -0.07850518077611923, \"text\": \"did\", \"xanchor\": \"left\", \"xshift\": 5, \"opacity\": 1}, {\"showarrow\": false, \"x\": 5.0260491371154785, \"y\": 2.2313244342803955, \"z\": 0.13008920848369598, \"text\": \"just\", \"xanchor\": \"left\", \"xshift\": 5, \"opacity\": 1}, {\"showarrow\": false, \"x\": 4.287115097045898, \"y\": 1.8406070470809937, \"z\": -1.5417428016662598, \"text\": \"national\", \"xanchor\": \"left\", \"xshift\": 5, \"opacity\": 1}, {\"showarrow\": false, \"x\": 4.708962917327881, \"y\": 2.1872894763946533, \"z\": -0.014852706342935562, \"text\": \"day\", \"xanchor\": \"left\", \"xshift\": 5, \"opacity\": 1}, {\"showarrow\": false, \"x\": 4.667102336883545, \"y\": 1.7526817321777344, \"z\": -0.8294883966445923, \"text\": \"country\", \"xanchor\": \"left\", \"xshift\": 5, \"opacity\": 1}, {\"showarrow\": false, \"x\": 4.542707920074463, \"y\": 2.5828723907470703, \"z\": -0.3603734076023102, \"text\": \"under\", \"xanchor\": \"left\", \"xshift\": 5, \"opacity\": 1}, {\"showarrow\": false, \"x\": 4.533205986022949, \"y\": 2.1310744285583496, \"z\": -0.1142972782254219, \"text\": \"such\", \"xanchor\": \"left\", \"xshift\": 5, \"opacity\": 1}, {\"showarrow\": false, \"x\": 4.385119915008545, \"y\": 2.364382028579712, \"z\": -0.19653673470020294, \"text\": \"second\", \"xanchor\": \"left\", \"xshift\": 5, \"opacity\": 1}, {\"showarrow\": false, \"x\": 4.47513484954834, \"y\": 2.706256628036499, \"z\": -0.47660961747169495, \"text\": \"then\", \"xanchor\": \"left\", \"xshift\": 5, \"opacity\": 1}, {\"showarrow\": false, \"x\": 4.160508155822754, \"y\": 2.5528104305267334, \"z\": -0.5789089798927307, \"text\": \"company\", \"xanchor\": \"left\", \"xshift\": 5, \"opacity\": 1}, {\"showarrow\": false, \"x\": 4.313721179962158, \"y\": 2.152989149093628, \"z\": -0.9122028946876526, \"text\": \"group\", \"xanchor\": \"left\", \"xshift\": 5, \"opacity\": 1}, {\"showarrow\": false, \"x\": 4.9663591384887695, \"y\": 1.9915786981582642, \"z\": 0.48430338501930237, \"text\": \"any\", \"xanchor\": \"left\", \"xshift\": 5, \"opacity\": 1}, {\"showarrow\": false, \"x\": 4.930641174316406, \"y\": 1.5617986917495728, \"z\": -0.4163784384727478, \"text\": \"through\", \"xanchor\": \"left\", \"xshift\": 5, \"opacity\": 1}, {\"showarrow\": false, \"x\": 4.330804347991943, \"y\": 1.3914178609848022, \"z\": -0.9156548380851746, \"text\": \"china\", \"xanchor\": \"left\", \"xshift\": 5, \"opacity\": 1}, {\"showarrow\": false, \"x\": 5.136242389678955, \"y\": 2.115351438522339, \"z\": 0.4199819564819336, \"text\": \"four\", \"xanchor\": \"left\", \"xshift\": 5, \"opacity\": 1}, {\"showarrow\": false, \"x\": 4.730784893035889, \"y\": 2.3152332305908203, \"z\": -0.14491026103496552, \"text\": \"being\", \"xanchor\": \"left\", \"xshift\": 5, \"opacity\": 1}, {\"showarrow\": false, \"x\": 4.897209167480469, \"y\": 2.313080310821533, \"z\": 0.5420252084732056, \"text\": \"down\", \"xanchor\": \"left\", \"xshift\": 5, \"opacity\": 1}, {\"showarrow\": false, \"x\": 4.65153169631958, \"y\": 1.8496681451797485, \"z\": -0.20137856900691986, \"text\": \"war\", \"xanchor\": \"left\", \"xshift\": 5, \"opacity\": 1}, {\"showarrow\": false, \"x\": 4.753171920776367, \"y\": 2.7674219608306885, \"z\": 0.1315680891275406, \"text\": \"back\", \"xanchor\": \"left\", \"xshift\": 5, \"opacity\": 1}, {\"showarrow\": false, \"x\": 4.89260721206665, \"y\": 2.5128607749938965, \"z\": 0.29790762066841125, \"text\": \"off\", \"xanchor\": \"left\", \"xshift\": 5, \"opacity\": 1}, {\"showarrow\": false, \"x\": 4.335403919219971, \"y\": 1.604041337966919, \"z\": -2.186817169189453, \"text\": \"south\", \"xanchor\": \"left\", \"xshift\": 5, \"opacity\": 1}, {\"showarrow\": false, \"x\": 4.2125043869018555, \"y\": 2.3202617168426514, \"z\": 0.35181277990341187, \"text\": \"american\", \"xanchor\": \"left\", \"xshift\": 5, \"opacity\": 1}, {\"showarrow\": false, \"x\": 2.194267988204956, \"y\": 4.613776206970215, \"z\": -0.6385652422904968, \"text\": \"minister\", \"xanchor\": \"left\", \"xshift\": 5, \"opacity\": 1}, {\"showarrow\": false, \"x\": 3.932183265686035, \"y\": 2.752328395843506, \"z\": -1.553863763809204, \"text\": \"police\", \"xanchor\": \"left\", \"xshift\": 5, \"opacity\": 1}, {\"showarrow\": false, \"x\": 4.643117904663086, \"y\": 2.2577247619628906, \"z\": -0.36591988801956177, \"text\": \"well\", \"xanchor\": \"left\", \"xshift\": 5, \"opacity\": 1}, {\"showarrow\": false, \"x\": 4.361049175262451, \"y\": 2.3827948570251465, \"z\": -0.19939075410366058, \"text\": \"including\", \"xanchor\": \"left\", \"xshift\": 5, \"opacity\": 1}, {\"showarrow\": false, \"x\": 4.351019859313965, \"y\": 2.6282176971435547, \"z\": -0.43846410512924194, \"text\": \"team\", \"xanchor\": \"left\", \"xshift\": 5, \"opacity\": 1}, {\"showarrow\": false, \"x\": 4.407783508300781, \"y\": 2.1101298332214355, \"z\": -0.8069119453430176, \"text\": \"international\", \"xanchor\": \"left\", \"xshift\": 5, \"opacity\": 1}, {\"showarrow\": false, \"x\": 4.6508378982543945, \"y\": 2.5136425495147705, \"z\": -0.05082347244024277, \"text\": \"week\", \"xanchor\": \"left\", \"xshift\": 5, \"opacity\": 1}, {\"showarrow\": false, \"x\": 4.466568470001221, \"y\": 2.5258352756500244, \"z\": -1.1074748039245605, \"text\": \"officials\", \"xanchor\": \"left\", \"xshift\": 5, \"opacity\": 1}, {\"showarrow\": false, \"x\": 4.750868320465088, \"y\": 2.2936758995056152, \"z\": 0.04204745590686798, \"text\": \"still\", \"xanchor\": \"left\", \"xshift\": 5, \"opacity\": 1}, {\"showarrow\": false, \"x\": 4.397651672363281, \"y\": 2.5150370597839355, \"z\": -0.20326757431030273, \"text\": \"both\", \"xanchor\": \"left\", \"xshift\": 5, \"opacity\": 1}, {\"showarrow\": false, \"x\": 4.87606954574585, \"y\": 2.305211067199707, \"z\": 0.43717965483665466, \"text\": \"even\", \"xanchor\": \"left\", \"xshift\": 5, \"opacity\": 1}, {\"showarrow\": false, \"x\": 4.617319583892822, \"y\": 1.5203083753585815, \"z\": -0.7498093843460083, \"text\": \"high\", \"xanchor\": \"left\", \"xshift\": 5, \"opacity\": 1}, {\"showarrow\": false, \"x\": 4.7243571281433105, \"y\": 1.5675214529037476, \"z\": -1.6085641384124756, \"text\": \"part\", \"xanchor\": \"left\", \"xshift\": 5, \"opacity\": 1}, {\"showarrow\": false, \"x\": 2.6247570514678955, \"y\": 4.354806900024414, \"z\": -1.2544468641281128, \"text\": \"told\", \"xanchor\": \"left\", \"xshift\": 5, \"opacity\": 1}, {\"showarrow\": false, \"x\": 5.063212871551514, \"y\": 2.187272310256958, \"z\": 0.6422839760780334, \"text\": \"those\", \"xanchor\": \"left\", \"xshift\": 5, \"opacity\": 1}, {\"showarrow\": false, \"x\": 4.720518112182617, \"y\": 2.0264360904693604, \"z\": 0.05121491849422455, \"text\": \"end\", \"xanchor\": \"left\", \"xshift\": 5, \"opacity\": 1}, {\"showarrow\": false, \"x\": 3.4103097915649414, \"y\": 3.6517159938812256, \"z\": -1.327439308166504, \"text\": \"former\", \"xanchor\": \"left\", \"xshift\": 5, \"opacity\": 1}, {\"showarrow\": false, \"x\": 5.049830436706543, \"y\": 1.6526249647140503, \"z\": 0.3247855007648468, \"text\": \"these\", \"xanchor\": \"left\", \"xshift\": 5, \"opacity\": 1}, {\"showarrow\": false, \"x\": 4.791534900665283, \"y\": 2.1091227531433105, \"z\": 0.48703131079673767, \"text\": \"make\", \"xanchor\": \"left\", \"xshift\": 5, \"opacity\": 1}, {\"showarrow\": false, \"x\": 4.917709827423096, \"y\": 1.534881830215454, \"z\": 1.1532248258590698, \"text\": \"billion\", \"xanchor\": \"left\", \"xshift\": 5, \"opacity\": 1}, {\"showarrow\": false, \"x\": 4.216007709503174, \"y\": 2.441807270050049, \"z\": 0.1349196434020996, \"text\": \"work\", \"xanchor\": \"left\", \"xshift\": 5, \"opacity\": 1}, {\"showarrow\": false, \"x\": 4.824935436248779, \"y\": 2.0461020469665527, \"z\": 0.3119930028915405, \"text\": \"our\", \"xanchor\": \"left\", \"xshift\": 5, \"opacity\": 1}, {\"showarrow\": false, \"x\": 4.4419779777526855, \"y\": 2.074309825897217, \"z\": -0.5636692643165588, \"text\": \"home\", \"xanchor\": \"left\", \"xshift\": 5, \"opacity\": 1}, {\"showarrow\": false, \"x\": 4.303041458129883, \"y\": 1.7399981021881104, \"z\": -1.6293588876724243, \"text\": \"school\", \"xanchor\": \"left\", \"xshift\": 5, \"opacity\": 1}, {\"showarrow\": false, \"x\": 4.034034252166748, \"y\": 2.2558815479278564, \"z\": -0.5727651715278625, \"text\": \"party\", \"xanchor\": \"left\", \"xshift\": 5, \"opacity\": 1}, {\"showarrow\": false, \"x\": 4.0769572257995605, \"y\": 2.5015828609466553, \"z\": -0.4724234342575073, \"text\": \"house\", \"xanchor\": \"left\", \"xshift\": 5, \"opacity\": 1}, {\"showarrow\": false, \"x\": 4.0526909828186035, \"y\": 2.6183767318725586, \"z\": -0.292469322681427, \"text\": \"old\", \"xanchor\": \"left\", \"xshift\": 5, \"opacity\": 1}, {\"showarrow\": false, \"x\": 4.12070894241333, \"y\": 2.9025027751922607, \"z\": -0.6692937016487122, \"text\": \"later\", \"xanchor\": \"left\", \"xshift\": 5, \"opacity\": 1}, {\"showarrow\": false, \"x\": 4.685903549194336, \"y\": 2.4566867351531982, \"z\": 0.5519512891769409, \"text\": \"get\", \"xanchor\": \"left\", \"xshift\": 5, \"opacity\": 1}, {\"showarrow\": false, \"x\": 4.544290065765381, \"y\": 2.307378053665161, \"z\": -0.1341952681541443, \"text\": \"another\", \"xanchor\": \"left\", \"xshift\": 5, \"opacity\": 1}, {\"showarrow\": false, \"x\": 4.262948989868164, \"y\": 2.775517225265503, \"z\": -0.46321260929107666, \"text\": \"tuesday\", \"xanchor\": \"left\", \"xshift\": 5, \"opacity\": 1}, {\"showarrow\": false, \"x\": 3.771401882171631, \"y\": 2.2989203929901123, \"z\": -0.5117247700691223, \"text\": \"news\", \"xanchor\": \"left\", \"xshift\": 5, \"opacity\": 1}, {\"showarrow\": false, \"x\": 4.810268878936768, \"y\": 2.1414270401000977, \"z\": 0.19382426142692566, \"text\": \"long\", \"xanchor\": \"left\", \"xshift\": 5, \"opacity\": 1}, {\"showarrow\": false, \"x\": 4.998775482177734, \"y\": 2.070037603378296, \"z\": 0.438678115606308, \"text\": \"five\", \"xanchor\": \"left\", \"xshift\": 5, \"opacity\": 1}, {\"showarrow\": false, \"x\": 3.8582303524017334, \"y\": 2.3504724502563477, \"z\": -1.0999118089675903, \"text\": \"called\", \"xanchor\": \"left\", \"xshift\": 5, \"opacity\": 1}, {\"showarrow\": false, \"x\": 4.484417915344238, \"y\": 1.3914005756378174, \"z\": -0.43179044127464294, \"text\": \"1\", \"xanchor\": \"left\", \"xshift\": 5, \"opacity\": 1}, {\"showarrow\": false, \"x\": 4.29542875289917, \"y\": 2.7530384063720703, \"z\": -0.5320255756378174, \"text\": \"wednesday\", \"xanchor\": \"left\", \"xshift\": 5, \"opacity\": 1}, {\"showarrow\": false, \"x\": 4.507875919342041, \"y\": 1.892241358757019, \"z\": -0.540963888168335, \"text\": \"military\", \"xanchor\": \"left\", \"xshift\": 5, \"opacity\": 1}, {\"showarrow\": false, \"x\": 4.734809398651123, \"y\": 2.2210018634796143, \"z\": -0.11863908916711807, \"text\": \"way\", \"xanchor\": \"left\", \"xshift\": 5, \"opacity\": 1}, {\"showarrow\": false, \"x\": 4.62615442276001, \"y\": 1.8239318132400513, \"z\": -0.04754721000790596, \"text\": \"used\", \"xanchor\": \"left\", \"xshift\": 5, \"opacity\": 1}, {\"showarrow\": false, \"x\": 4.8655104637146, \"y\": 2.2145638465881348, \"z\": 0.11399532109498978, \"text\": \"much\", \"xanchor\": \"left\", \"xshift\": 5, \"opacity\": 1}, {\"showarrow\": false, \"x\": 4.757149696350098, \"y\": 2.12890362739563, \"z\": -0.21505917608737946, \"text\": \"next\", \"xanchor\": \"left\", \"xshift\": 5, \"opacity\": 1}, {\"showarrow\": false, \"x\": 4.244951248168945, \"y\": 2.7317848205566406, \"z\": -0.49043554067611694, \"text\": \"monday\", \"xanchor\": \"left\", \"xshift\": 5, \"opacity\": 1}, {\"showarrow\": false, \"x\": 4.237460613250732, \"y\": 2.700826644897461, \"z\": -0.47358420491218567, \"text\": \"thursday\", \"xanchor\": \"left\", \"xshift\": 5, \"opacity\": 1}, {\"showarrow\": false, \"x\": 4.35973596572876, \"y\": 2.584836959838867, \"z\": -0.395705908536911, \"text\": \"friday\", \"xanchor\": \"left\", \"xshift\": 5, \"opacity\": 1}, {\"showarrow\": false, \"x\": 4.762360572814941, \"y\": 1.8955172300338745, \"z\": 0.6772105693817139, \"text\": \"game\", \"xanchor\": \"left\", \"xshift\": 5, \"opacity\": 1}, {\"showarrow\": false, \"x\": 4.383679389953613, \"y\": 2.4075675010681152, \"z\": -0.7000426054000854, \"text\": \"here\", \"xanchor\": \"left\", \"xshift\": 5, \"opacity\": 1}, {\"showarrow\": false, \"x\": 4.3539628982543945, \"y\": 2.4074759483337402, \"z\": 0.16589905321598053, \"text\": \"?\", \"xanchor\": \"left\", \"xshift\": 5, \"opacity\": 1}, {\"showarrow\": false, \"x\": 4.566112518310547, \"y\": 2.454089641571045, \"z\": -0.03767711669206619, \"text\": \"should\", \"xanchor\": \"left\", \"xshift\": 5, \"opacity\": 1}, {\"showarrow\": false, \"x\": 4.735493183135986, \"y\": 2.2680678367614746, \"z\": 0.03973398357629776, \"text\": \"take\", \"xanchor\": \"left\", \"xshift\": 5, \"opacity\": 1}, {\"showarrow\": false, \"x\": 4.397828578948975, \"y\": 2.329845428466797, \"z\": 0.004366805776953697, \"text\": \"very\", \"xanchor\": \"left\", \"xshift\": 5, \"opacity\": 1}, {\"showarrow\": false, \"x\": 4.7072434425354, \"y\": 2.466478109359741, \"z\": 0.35214242339134216, \"text\": \"my\", \"xanchor\": \"left\", \"xshift\": 5, \"opacity\": 1}, {\"showarrow\": false, \"x\": 4.456636905670166, \"y\": 1.297829031944275, \"z\": -2.341529607772827, \"text\": \"north\", \"xanchor\": \"left\", \"xshift\": 5, \"opacity\": 1}, {\"showarrow\": false, \"x\": 4.083706855773926, \"y\": 2.171898365020752, \"z\": -0.27283453941345215, \"text\": \"security\", \"xanchor\": \"left\", \"xshift\": 5, \"opacity\": 1}, {\"showarrow\": false, \"x\": 4.49833345413208, \"y\": 1.8971593379974365, \"z\": 0.1927243024110794, \"text\": \"season\", \"xanchor\": \"left\", \"xshift\": 5, \"opacity\": 1}, {\"showarrow\": false, \"x\": 4.075562000274658, \"y\": 2.3445587158203125, \"z\": -0.5034441947937012, \"text\": \"york\", \"xanchor\": \"left\", \"xshift\": 5, \"opacity\": 1}, {\"showarrow\": false, \"x\": 4.58231782913208, \"y\": 2.7462737560272217, \"z\": 0.35169699788093567, \"text\": \"how\", \"xanchor\": \"left\", \"xshift\": 5, \"opacity\": 1}, {\"showarrow\": false, \"x\": 4.375085353851318, \"y\": 1.748065710067749, \"z\": -0.41583794355392456, \"text\": \"public\", \"xanchor\": \"left\", \"xshift\": 5, \"opacity\": 1}, {\"showarrow\": false, \"x\": 4.65294075012207, \"y\": 2.07099986076355, \"z\": -0.12340379506349564, \"text\": \"early\", \"xanchor\": \"left\", \"xshift\": 5, \"opacity\": 1}, {\"showarrow\": false, \"x\": 3.5955379009246826, \"y\": 2.633871555328369, \"z\": -0.7874086499214172, \"text\": \"according\", \"xanchor\": \"left\", \"xshift\": 5, \"opacity\": 1}, {\"showarrow\": false, \"x\": 4.819390773773193, \"y\": 2.139211416244507, \"z\": -0.2673487663269043, \"text\": \"several\", \"xanchor\": \"left\", \"xshift\": 5, \"opacity\": 1}, {\"showarrow\": false, \"x\": 4.167627811431885, \"y\": 2.428044557571411, \"z\": -1.220737099647522, \"text\": \"court\", \"xanchor\": \"left\", \"xshift\": 5, \"opacity\": 1}, {\"showarrow\": false, \"x\": 4.425386905670166, \"y\": 2.6263813972473145, \"z\": -0.26549381017684937, \"text\": \"say\", \"xanchor\": \"left\", \"xshift\": 5, \"opacity\": 1}, {\"showarrow\": false, \"x\": 5.110354423522949, \"y\": 1.4102680683135986, \"z\": -0.329421728849411, \"text\": \"around\", \"xanchor\": \"left\", \"xshift\": 5, \"opacity\": 1}, {\"showarrow\": false, \"x\": 3.2350738048553467, \"y\": 2.879243850708008, \"z\": 0.3148847818374634, \"text\": \"foreign\", \"xanchor\": \"left\", \"xshift\": 5, \"opacity\": 1}, {\"showarrow\": false, \"x\": 4.684028625488281, \"y\": 1.8150752782821655, \"z\": 0.422325074672699, \"text\": \"10\", \"xanchor\": \"left\", \"xshift\": 5, \"opacity\": 1}, {\"showarrow\": false, \"x\": 4.755550861358643, \"y\": 1.8801968097686768, \"z\": -0.4039188027381897, \"text\": \"until\", \"xanchor\": \"left\", \"xshift\": 5, \"opacity\": 1}, {\"showarrow\": false, \"x\": 4.414773464202881, \"y\": 1.973650336265564, \"z\": 0.4953639507293701, \"text\": \"set\", \"xanchor\": \"left\", \"xshift\": 5, \"opacity\": 1}, {\"showarrow\": false, \"x\": 4.408890247344971, \"y\": 2.0924253463745117, \"z\": -0.19617010653018951, \"text\": \"political\", \"xanchor\": \"left\", \"xshift\": 5, \"opacity\": 1}, {\"showarrow\": false, \"x\": 3.0382206439971924, \"y\": 3.8056609630584717, \"z\": -0.28383880853652954, \"text\": \"says\", \"xanchor\": \"left\", \"xshift\": 5, \"opacity\": 1}, {\"showarrow\": false, \"x\": 4.357215404510498, \"y\": 1.7812095880508423, \"z\": -0.14443254470825195, \"text\": \"market\", \"xanchor\": \"left\", \"xshift\": 5, \"opacity\": 1}, {\"showarrow\": false, \"x\": 4.154040813446045, \"y\": 2.446223020553589, \"z\": -0.40172821283340454, \"text\": \"however\", \"xanchor\": \"left\", \"xshift\": 5, \"opacity\": 1}, {\"showarrow\": false, \"x\": 3.7366762161254883, \"y\": 2.6852335929870605, \"z\": -0.34474068880081177, \"text\": \"family\", \"xanchor\": \"left\", \"xshift\": 5, \"opacity\": 1}, {\"showarrow\": false, \"x\": 4.342345714569092, \"y\": 2.28562068939209, \"z\": 0.22942404448986053, \"text\": \"life\", \"xanchor\": \"left\", \"xshift\": 5, \"opacity\": 1}, {\"showarrow\": false, \"x\": 4.863308906555176, \"y\": 2.1336848735809326, \"z\": 0.0290699265897274, \"text\": \"same\", \"xanchor\": \"left\", \"xshift\": 5, \"opacity\": 1}, {\"showarrow\": false, \"x\": 2.898312568664551, \"y\": 3.7468936443328857, \"z\": -1.0916285514831543, \"text\": \"general\", \"xanchor\": \"left\", \"xshift\": 5, \"opacity\": 1}, {\"showarrow\": false, \"x\": 3.7689602375030518, \"y\": 1.793006181716919, \"z\": -1.1446014642715454, \"text\": \"\\u2013\", \"xanchor\": \"left\", \"xshift\": 5, \"opacity\": 1}, {\"showarrow\": false, \"x\": 4.157364845275879, \"y\": 2.5967867374420166, \"z\": -0.051916394382715225, \"text\": \"left\", \"xanchor\": \"left\", \"xshift\": 5, \"opacity\": 1}, {\"showarrow\": false, \"x\": 4.332235813140869, \"y\": 2.453969955444336, \"z\": 0.2505549490451813, \"text\": \"good\", \"xanchor\": \"left\", \"xshift\": 5, \"opacity\": 1}, {\"showarrow\": false, \"x\": 4.2436842918396, \"y\": 2.3249053955078125, \"z\": -0.07899650931358337, \"text\": \"top\", \"xanchor\": \"left\", \"xshift\": 5, \"opacity\": 1}, {\"showarrow\": false, \"x\": 4.053337097167969, \"y\": 2.413198232650757, \"z\": -2.688415288925171, \"text\": \"university\", \"xanchor\": \"left\", \"xshift\": 5, \"opacity\": 1}, {\"showarrow\": false, \"x\": 4.568185329437256, \"y\": 2.2176640033721924, \"z\": 0.20591425895690918, \"text\": \"going\", \"xanchor\": \"left\", \"xshift\": 5, \"opacity\": 1}, {\"showarrow\": false, \"x\": 4.458015441894531, \"y\": 1.5024714469909668, \"z\": 0.4177057147026062, \"text\": \"number\", \"xanchor\": \"left\", \"xshift\": 5, \"opacity\": 1}, {\"showarrow\": false, \"x\": 4.112184047698975, \"y\": 2.2703826427459717, \"z\": -0.9230666756629944, \"text\": \"major\", \"xanchor\": \"left\", \"xshift\": 5, \"opacity\": 1}, {\"showarrow\": false, \"x\": 3.985570192337036, \"y\": 2.057464361190796, \"z\": -1.5437780618667603, \"text\": \"known\", \"xanchor\": \"left\", \"xshift\": 5, \"opacity\": 1}, {\"showarrow\": false, \"x\": 4.038834095001221, \"y\": 2.219677448272705, \"z\": 0.9652987718582153, \"text\": \"points\", \"xanchor\": \"left\", \"xshift\": 5, \"opacity\": 1}, {\"showarrow\": false, \"x\": 3.8014636039733887, \"y\": 2.4375009536743164, \"z\": -0.3060963749885559, \"text\": \"won\", \"xanchor\": \"left\", \"xshift\": 5, \"opacity\": 1}, {\"showarrow\": false, \"x\": 4.963571548461914, \"y\": 1.964255452156067, \"z\": 0.5921461582183838, \"text\": \"six\", \"xanchor\": \"left\", \"xshift\": 5, \"opacity\": 1}, {\"showarrow\": false, \"x\": 4.607851982116699, \"y\": 2.2537014484405518, \"z\": 0.03314930945634842, \"text\": \"month\", \"xanchor\": \"left\", \"xshift\": 5, \"opacity\": 1}, {\"showarrow\": false, \"x\": 4.45352840423584, \"y\": 1.2389119863510132, \"z\": 1.1940432786941528, \"text\": \"dollars\", \"xanchor\": \"left\", \"xshift\": 5, \"opacity\": 1}, {\"showarrow\": false, \"x\": 3.8302161693573, \"y\": 1.928436517715454, \"z\": -1.4096746444702148, \"text\": \"bank\", \"xanchor\": \"left\", \"xshift\": 5, \"opacity\": 1}, {\"showarrow\": false, \"x\": 4.488245964050293, \"y\": 1.518540859222412, \"z\": -0.24649851024150848, \"text\": \"2\", \"xanchor\": \"left\", \"xshift\": 5, \"opacity\": 1}, {\"showarrow\": false, \"x\": 4.125180721282959, \"y\": 1.9911046028137207, \"z\": -0.2174845039844513, \"text\": \"iraq\", \"xanchor\": \"left\", \"xshift\": 5, \"opacity\": 1}, {\"showarrow\": false, \"x\": 4.780884265899658, \"y\": 1.4826236963272095, \"z\": 0.4625973105430603, \"text\": \"use\", \"xanchor\": \"left\", \"xshift\": 5, \"opacity\": 1}, {\"showarrow\": false, \"x\": 4.229859352111816, \"y\": 2.137843132019043, \"z\": -0.2995556890964508, \"text\": \"members\", \"xanchor\": \"left\", \"xshift\": 5, \"opacity\": 1}, {\"showarrow\": false, \"x\": 4.918049335479736, \"y\": 1.6531871557235718, \"z\": 0.5291500091552734, \"text\": \"each\", \"xanchor\": \"left\", \"xshift\": 5, \"opacity\": 1}, {\"showarrow\": false, \"x\": 4.489038467407227, \"y\": 1.1216269731521606, \"z\": -2.2902119159698486, \"text\": \"area\", \"xanchor\": \"left\", \"xshift\": 5, \"opacity\": 1}, {\"showarrow\": false, \"x\": 4.209103584289551, \"y\": 2.3858144283294678, \"z\": -0.5369288325309753, \"text\": \"found\", \"xanchor\": \"left\", \"xshift\": 5, \"opacity\": 1}, {\"showarrow\": false, \"x\": 3.6701278686523438, \"y\": 2.387709617614746, \"z\": -1.0683938264846802, \"text\": \"official\", \"xanchor\": \"left\", \"xshift\": 5, \"opacity\": 1}, {\"showarrow\": false, \"x\": 4.410510540008545, \"y\": 2.209196090698242, \"z\": -0.7263235449790955, \"text\": \"sunday\", \"xanchor\": \"left\", \"xshift\": 5, \"opacity\": 1}, {\"showarrow\": false, \"x\": 4.645298957824707, \"y\": 1.6009087562561035, \"z\": -0.7077509164810181, \"text\": \"place\", \"xanchor\": \"left\", \"xshift\": 5, \"opacity\": 1}, {\"showarrow\": false, \"x\": 4.508079528808594, \"y\": 2.1113131046295166, \"z\": 0.12484732270240784, \"text\": \"go\", \"xanchor\": \"left\", \"xshift\": 5, \"opacity\": 1}, {\"showarrow\": false, \"x\": 4.3003387451171875, \"y\": 1.9533979892730713, \"z\": -1.3151018619537354, \"text\": \"based\", \"xanchor\": \"left\", \"xshift\": 5, \"opacity\": 1}, {\"showarrow\": false, \"x\": 4.4363484382629395, \"y\": 2.066624164581299, \"z\": 0.07025690376758575, \"text\": \"among\", \"xanchor\": \"left\", \"xshift\": 5, \"opacity\": 1}, {\"showarrow\": false, \"x\": 4.128358840942383, \"y\": 2.245885133743286, \"z\": 0.10554059594869614, \"text\": \"third\", \"xanchor\": \"left\", \"xshift\": 5, \"opacity\": 1}, {\"showarrow\": false, \"x\": 4.247020721435547, \"y\": 2.1885180473327637, \"z\": 0.17074090242385864, \"text\": \"times\", \"xanchor\": \"left\", \"xshift\": 5, \"opacity\": 1}, {\"showarrow\": false, \"x\": 4.081913948059082, \"y\": 2.8093647956848145, \"z\": -0.20614401996135712, \"text\": \"took\", \"xanchor\": \"left\", \"xshift\": 5, \"opacity\": 1}, {\"showarrow\": false, \"x\": 4.437952518463135, \"y\": 2.6106183528900146, \"z\": 0.196597158908844, \"text\": \"right\", \"xanchor\": \"left\", \"xshift\": 5, \"opacity\": 1}, {\"showarrow\": false, \"x\": 4.753405570983887, \"y\": 1.9817759990692139, \"z\": 0.1994810253381729, \"text\": \"days\", \"xanchor\": \"left\", \"xshift\": 5, \"opacity\": 1}, {\"showarrow\": false, \"x\": 4.124959945678711, \"y\": 1.2778615951538086, \"z\": -1.136204719543457, \"text\": \"local\", \"xanchor\": \"left\", \"xshift\": 5, \"opacity\": 1}, {\"showarrow\": false, \"x\": 4.123745441436768, \"y\": 1.9816629886627197, \"z\": -0.24188509583473206, \"text\": \"economic\", \"xanchor\": \"left\", \"xshift\": 5, \"opacity\": 1}, {\"showarrow\": false, \"x\": 4.673676490783691, \"y\": 1.5071437358856201, \"z\": -0.07836030423641205, \"text\": \"countries\", \"xanchor\": \"left\", \"xshift\": 5, \"opacity\": 1}, {\"showarrow\": false, \"x\": 4.373965740203857, \"y\": 2.2470510005950928, \"z\": -0.37697210907936096, \"text\": \"see\", \"xanchor\": \"left\", \"xshift\": 5, \"opacity\": 1}, {\"showarrow\": false, \"x\": 4.169399261474609, \"y\": 2.3159446716308594, \"z\": 0.4665609300136566, \"text\": \"best\", \"xanchor\": \"left\", \"xshift\": 5, \"opacity\": 1}, {\"showarrow\": false, \"x\": 3.400379180908203, \"y\": 2.7475433349609375, \"z\": -0.5061944127082825, \"text\": \"report\", \"xanchor\": \"left\", \"xshift\": 5, \"opacity\": 1}, {\"showarrow\": false, \"x\": 3.8213882446289062, \"y\": 2.6061737537384033, \"z\": -0.574068009853363, \"text\": \"killed\", \"xanchor\": \"left\", \"xshift\": 5, \"opacity\": 1}, {\"showarrow\": false, \"x\": 4.40842342376709, \"y\": 1.8011736869812012, \"z\": -0.878103494644165, \"text\": \"held\", \"xanchor\": \"left\", \"xshift\": 5, \"opacity\": 1}, {\"showarrow\": false, \"x\": 4.287320137023926, \"y\": 1.9928381443023682, \"z\": -0.2628556191921234, \"text\": \"business\", \"xanchor\": \"left\", \"xshift\": 5, \"opacity\": 1}, {\"showarrow\": false, \"x\": 4.222295761108398, \"y\": 1.5245614051818848, \"z\": -2.2219746112823486, \"text\": \"west\", \"xanchor\": \"left\", \"xshift\": 5, \"opacity\": 1}, {\"showarrow\": false, \"x\": 4.107801914215088, \"y\": 2.553513526916504, \"z\": -0.2009725272655487, \"text\": \"does\", \"xanchor\": \"left\", \"xshift\": 5, \"opacity\": 1}, {\"showarrow\": false, \"x\": 4.692800521850586, \"y\": 2.127920150756836, \"z\": 0.4001438617706299, \"text\": \"own\", \"xanchor\": \"left\", \"xshift\": 5, \"opacity\": 1}, {\"showarrow\": false, \"x\": 4.014171123504639, \"y\": 0.703749418258667, \"z\": 0.31140968203544617, \"text\": \"%\", \"xanchor\": \"left\", \"xshift\": 5, \"opacity\": 1}, {\"showarrow\": false, \"x\": 4.261556148529053, \"y\": 2.633272886276245, \"z\": -0.24913889169692993, \"text\": \"came\", \"xanchor\": \"left\", \"xshift\": 5, \"opacity\": 1}, {\"showarrow\": false, \"x\": 4.0672926902771, \"y\": 2.487339735031128, \"z\": -0.5023407936096191, \"text\": \"law\", \"xanchor\": \"left\", \"xshift\": 5, \"opacity\": 1}, {\"showarrow\": false, \"x\": 4.605917453765869, \"y\": 2.343879461288452, \"z\": 0.3754079043865204, \"text\": \"months\", \"xanchor\": \"left\", \"xshift\": 5, \"opacity\": 1}, {\"showarrow\": false, \"x\": 4.567727565765381, \"y\": 1.5244765281677246, \"z\": 0.2444131225347519, \"text\": \"women\", \"xanchor\": \"left\", \"xshift\": 5, \"opacity\": 1}, {\"showarrow\": false, \"x\": 4.498388767242432, \"y\": 2.1637256145477295, \"z\": 0.8016120195388794, \"text\": \"'re\", \"xanchor\": \"left\", \"xshift\": 5, \"opacity\": 1}, {\"showarrow\": false, \"x\": 4.5681633949279785, \"y\": 1.8059442043304443, \"z\": -0.28663909435272217, \"text\": \"power\", \"xanchor\": \"left\", \"xshift\": 5, \"opacity\": 1}, {\"showarrow\": false, \"x\": 4.214108943939209, \"y\": 2.8398940563201904, \"z\": 0.08453455567359924, \"text\": \"think\", \"xanchor\": \"left\", \"xshift\": 5, \"opacity\": 1}, {\"showarrow\": false, \"x\": 3.951046943664551, \"y\": 1.3479527235031128, \"z\": -0.14678631722927094, \"text\": \"service\", \"xanchor\": \"left\", \"xshift\": 5, \"opacity\": 1}, {\"showarrow\": false, \"x\": 4.19658088684082, \"y\": 2.341705322265625, \"z\": 0.4328007400035858, \"text\": \"children\", \"xanchor\": \"left\", \"xshift\": 5, \"opacity\": 1}, {\"showarrow\": false, \"x\": 3.939517021179199, \"y\": 2.662404775619507, \"z\": 0.4422439932823181, \"text\": \"bush\", \"xanchor\": \"left\", \"xshift\": 5, \"opacity\": 1}, {\"showarrow\": false, \"x\": 4.18776798248291, \"y\": 2.2467195987701416, \"z\": 0.09463553130626678, \"text\": \"show\", \"xanchor\": \"left\", \"xshift\": 5, \"opacity\": 1}, {\"showarrow\": false, \"x\": 3.1048011779785156, \"y\": 1.960681438446045, \"z\": -0.6349505186080933, \"text\": \"/\", \"xanchor\": \"left\", \"xshift\": 5, \"opacity\": 1}, {\"showarrow\": false, \"x\": 4.287907123565674, \"y\": 2.3328263759613037, \"z\": -0.0010898400796577334, \"text\": \"help\", \"xanchor\": \"left\", \"xshift\": 5, \"opacity\": 1}, {\"showarrow\": false, \"x\": 2.496884822845459, \"y\": 4.556063175201416, \"z\": -1.7897043228149414, \"text\": \"chief\", \"xanchor\": \"left\", \"xshift\": 5, \"opacity\": 1}, {\"showarrow\": false, \"x\": 4.355184555053711, \"y\": 2.2009384632110596, \"z\": -0.8163132071495056, \"text\": \"saturday\", \"xanchor\": \"left\", \"xshift\": 5, \"opacity\": 1}, {\"showarrow\": false, \"x\": 4.683149814605713, \"y\": 0.9682967662811279, \"z\": -0.3634205758571625, \"text\": \"system\", \"xanchor\": \"left\", \"xshift\": 5, \"opacity\": 1}, {\"showarrow\": false, \"x\": 2.617359161376953, \"y\": 4.310896873474121, \"z\": 0.02641294337809086, \"text\": \"john\", \"xanchor\": \"left\", \"xshift\": 5, \"opacity\": 1}, {\"showarrow\": false, \"x\": 4.12067985534668, \"y\": 1.8817390203475952, \"z\": 0.06803293526172638, \"text\": \"support\", \"xanchor\": \"left\", \"xshift\": 5, \"opacity\": 1}, {\"showarrow\": false, \"x\": 4.52719783782959, \"y\": 1.8870466947555542, \"z\": 0.5004991292953491, \"text\": \"series\", \"xanchor\": \"left\", \"xshift\": 5, \"opacity\": 1}, {\"showarrow\": false, \"x\": 4.262484550476074, \"y\": 2.2572178840637207, \"z\": -0.0032544166315346956, \"text\": \"play\", \"xanchor\": \"left\", \"xshift\": 5, \"opacity\": 1}, {\"showarrow\": false, \"x\": 3.8617327213287354, \"y\": 2.6449532508850098, \"z\": -1.0773712396621704, \"text\": \"office\", \"xanchor\": \"left\", \"xshift\": 5, \"opacity\": 1}, {\"showarrow\": false, \"x\": 4.456711769104004, \"y\": 1.8771135807037354, \"z\": -0.5308107137680054, \"text\": \"following\", \"xanchor\": \"left\", \"xshift\": 5, \"opacity\": 1}, {\"showarrow\": false, \"x\": 4.013160228729248, \"y\": 2.7916176319122314, \"z\": 0.2506905496120453, \"text\": \"me\", \"xanchor\": \"left\", \"xshift\": 5, \"opacity\": 1}, {\"showarrow\": false, \"x\": 3.882232904434204, \"y\": 2.5410475730895996, \"z\": -0.99125075340271, \"text\": \"meeting\", \"xanchor\": \"left\", \"xshift\": 5, \"opacity\": 1}, {\"showarrow\": false, \"x\": 4.253842830657959, \"y\": 2.4034037590026855, \"z\": -0.006593017838895321, \"text\": \"expected\", \"xanchor\": \"left\", \"xshift\": 5, \"opacity\": 1}, {\"showarrow\": false, \"x\": 4.214905738830566, \"y\": 2.6009480953216553, \"z\": -0.2186080813407898, \"text\": \"late\", \"xanchor\": \"left\", \"xshift\": 5, \"opacity\": 1}, {\"showarrow\": false, \"x\": 3.695899248123169, \"y\": 2.584826946258545, \"z\": -0.7067129611968994, \"text\": \"washington\", \"xanchor\": \"left\", \"xshift\": 5, \"opacity\": 1}, {\"showarrow\": false, \"x\": 4.827032089233398, \"y\": 1.5321491956710815, \"z\": 0.5629355907440186, \"text\": \"games\", \"xanchor\": \"left\", \"xshift\": 5, \"opacity\": 1}, {\"showarrow\": false, \"x\": 4.511822700500488, \"y\": 1.821513295173645, \"z\": 0.1932940036058426, \"text\": \"european\", \"xanchor\": \"left\", \"xshift\": 5, \"opacity\": 1}, {\"showarrow\": false, \"x\": 4.322577476501465, \"y\": 1.613959550857544, \"z\": -0.8775862455368042, \"text\": \"league\", \"xanchor\": \"left\", \"xshift\": 5, \"opacity\": 1}, {\"showarrow\": false, \"x\": 3.6674046516418457, \"y\": 2.133031129837036, \"z\": -0.9792546629905701, \"text\": \"reported\", \"xanchor\": \"left\", \"xshift\": 5, \"opacity\": 1}, {\"showarrow\": false, \"x\": 4.603315830230713, \"y\": 1.6058392524719238, \"z\": 0.12663088738918304, \"text\": \"final\", \"xanchor\": \"left\", \"xshift\": 5, \"opacity\": 1}, {\"showarrow\": false, \"x\": 3.216233968734741, \"y\": 3.1917953491210938, \"z\": 0.3623296618461609, \"text\": \"added\", \"xanchor\": \"left\", \"xshift\": 5, \"opacity\": 1}, {\"showarrow\": false, \"x\": 4.59336519241333, \"y\": 2.0330896377563477, \"z\": 0.6695057153701782, \"text\": \"without\", \"xanchor\": \"left\", \"xshift\": 5, \"opacity\": 1}, {\"showarrow\": false, \"x\": 4.02921199798584, \"y\": 2.1900558471679688, \"z\": 0.12517288327217102, \"text\": \"british\", \"xanchor\": \"left\", \"xshift\": 5, \"opacity\": 1}, {\"showarrow\": false, \"x\": 4.201934337615967, \"y\": 2.59145188331604, \"z\": 0.37352052330970764, \"text\": \"white\", \"xanchor\": \"left\", \"xshift\": 5, \"opacity\": 1}, {\"showarrow\": false, \"x\": 4.629168510437012, \"y\": 1.592909574508667, \"z\": -0.4490460753440857, \"text\": \"history\", \"xanchor\": \"left\", \"xshift\": 5, \"opacity\": 1}]}}, {\"showLink\": true, \"linkText\": \"Export to plot.ly\"})});</script>"
      ]
     },
     "metadata": {},
     "output_type": "display_data"
    }
   ],
   "source": [
    "trace1 = go.Scatter3d(x=pca_result_df[\"x\"], y=pca_result_df[\"y\"], z=pca_result_df[\"z\"],\n",
    "                      mode='markers', marker={\"size\": 4, \"opacity\": 0.8},\n",
    "                      text=pca_result_df[\"word\"])\n",
    "data = [trace1]\n",
    "\n",
    "layout = go.Layout(margin={\"l\": 0, \"r\": 0, \"b\": 0, \"t\": 0}, \n",
    "                   scene={\"xaxis\": {\"title\": \"1st Principle Component\"}, \n",
    "                          \"yaxis\": {\"title\": \"2nd Principle Component\"}, \n",
    "                          \"zaxis\": {\"title\": \"3rd Principel Component\"},\n",
    "                          \"annotations\": [{\"showarrow\": False,\n",
    "                                           \"x\": row[\"x\"],\n",
    "                                           \"y\": row[\"y\"],\n",
    "                                           \"z\": row[\"z\"],\n",
    "                                           \"text\": row[\"word\"],\n",
    "                                           \"xanchor\": \"left\",\n",
    "                                           \"xshift\": 5,\n",
    "                                           \"opacity\": 1} for _, row in pca_result_df.iterrows()]})\n",
    "\n",
    "iplot(go.Figure(data=data, layout=layout))"
   ]
  },
  {
   "cell_type": "code",
   "execution_count": 27,
   "metadata": {},
   "outputs": [],
   "source": [
    "pca_result_df = pd.DataFrame([pca_result[:,0], pca_result[:,1], pca_result[:,2]]).T\n",
    "pca_result_df.columns = [\"x\", \"y\", \"z\"]\n",
    "pca_result_df[\"word\"] = list(glove_vectors.vocab)"
   ]
  },
  {
   "cell_type": "code",
   "execution_count": 28,
   "metadata": {},
   "outputs": [],
   "source": [
    "pca_result_df = pca_result_df[pca_result_df[\"word\"].isin([\"king\", \"queen\", \"uncle\", \"aunt\", \"man\", \"woman\"])]"
   ]
  },
  {
   "cell_type": "code",
   "execution_count": 29,
   "metadata": {},
   "outputs": [
    {
     "data": {
      "text/html": [
       "<div>\n",
       "<style scoped>\n",
       "    .dataframe tbody tr th:only-of-type {\n",
       "        vertical-align: middle;\n",
       "    }\n",
       "\n",
       "    .dataframe tbody tr th {\n",
       "        vertical-align: top;\n",
       "    }\n",
       "\n",
       "    .dataframe thead th {\n",
       "        text-align: right;\n",
       "    }\n",
       "</style>\n",
       "<table border=\"1\" class=\"dataframe\">\n",
       "  <thead>\n",
       "    <tr style=\"text-align: right;\">\n",
       "      <th></th>\n",
       "      <th>x</th>\n",
       "      <th>y</th>\n",
       "      <th>z</th>\n",
       "      <th>word</th>\n",
       "    </tr>\n",
       "  </thead>\n",
       "  <tbody>\n",
       "    <tr>\n",
       "      <th>300</th>\n",
       "      <td>4.164795</td>\n",
       "      <td>2.869480</td>\n",
       "      <td>-0.076412</td>\n",
       "      <td>man</td>\n",
       "    </tr>\n",
       "    <tr>\n",
       "      <th>691</th>\n",
       "      <td>3.350322</td>\n",
       "      <td>3.133873</td>\n",
       "      <td>-1.148513</td>\n",
       "      <td>king</td>\n",
       "    </tr>\n",
       "    <tr>\n",
       "      <th>787</th>\n",
       "      <td>3.934626</td>\n",
       "      <td>2.170757</td>\n",
       "      <td>-0.023347</td>\n",
       "      <td>woman</td>\n",
       "    </tr>\n",
       "    <tr>\n",
       "      <th>2060</th>\n",
       "      <td>3.360914</td>\n",
       "      <td>1.810852</td>\n",
       "      <td>-1.060087</td>\n",
       "      <td>queen</td>\n",
       "    </tr>\n",
       "    <tr>\n",
       "      <th>5152</th>\n",
       "      <td>1.837812</td>\n",
       "      <td>3.200901</td>\n",
       "      <td>-0.300916</td>\n",
       "      <td>uncle</td>\n",
       "    </tr>\n",
       "    <tr>\n",
       "      <th>9651</th>\n",
       "      <td>1.592711</td>\n",
       "      <td>2.367068</td>\n",
       "      <td>-0.390790</td>\n",
       "      <td>aunt</td>\n",
       "    </tr>\n",
       "  </tbody>\n",
       "</table>\n",
       "</div>"
      ],
      "text/plain": [
       "             x         y         z   word\n",
       "300   4.164795  2.869480 -0.076412    man\n",
       "691   3.350322  3.133873 -1.148513   king\n",
       "787   3.934626  2.170757 -0.023347  woman\n",
       "2060  3.360914  1.810852 -1.060087  queen\n",
       "5152  1.837812  3.200901 -0.300916  uncle\n",
       "9651  1.592711  2.367068 -0.390790   aunt"
      ]
     },
     "execution_count": 29,
     "metadata": {},
     "output_type": "execute_result"
    }
   ],
   "source": [
    "pca_result_df"
   ]
  },
  {
   "cell_type": "code",
   "execution_count": 30,
   "metadata": {},
   "outputs": [
    {
     "data": {
      "application/vnd.plotly.v1+json": {
       "data": [
        {
         "marker": {
          "opacity": 0.8,
          "size": 4
         },
         "mode": "markers",
         "text": [
          "man",
          "king",
          "woman",
          "queen",
          "uncle",
          "aunt"
         ],
         "type": "scatter3d",
         "uid": "e42e85",
         "x": [
          4.164794921875,
          3.3503222465515137,
          3.934626340866089,
          3.3609139919281006,
          1.837811827659607,
          1.592711329460144
         ],
         "y": [
          2.8694796562194824,
          3.1338729858398438,
          2.170757293701172,
          1.8108519315719604,
          3.2009012699127197,
          2.367068290710449
         ],
         "z": [
          -0.07641217857599258,
          -1.1485134363174438,
          -0.023347090929746628,
          -1.0600872039794922,
          -0.3009164333343506,
          -0.3907904624938965
         ]
        }
       ],
       "layout": {
        "autosize": true,
        "margin": {
         "b": 0,
         "l": 0,
         "r": 0,
         "t": 0
        },
        "scene": {
         "annotations": [
          {
           "opacity": 1,
           "showarrow": false,
           "text": "man",
           "x": 4.164794921875,
           "xanchor": "left",
           "xshift": 5,
           "y": 2.8694796562194824,
           "z": -0.07641217857599258
          },
          {
           "opacity": 1,
           "showarrow": false,
           "text": "king",
           "x": 3.3503222465515137,
           "xanchor": "left",
           "xshift": 5,
           "y": 3.1338729858398438,
           "z": -1.1485134363174438
          },
          {
           "opacity": 1,
           "showarrow": false,
           "text": "woman",
           "x": 3.934626340866089,
           "xanchor": "left",
           "xshift": 5,
           "y": 2.170757293701172,
           "z": -0.023347090929746628
          },
          {
           "opacity": 1,
           "showarrow": false,
           "text": "queen",
           "x": 3.3609139919281006,
           "xanchor": "left",
           "xshift": 5,
           "y": 1.8108519315719604,
           "z": -1.0600872039794922
          },
          {
           "opacity": 1,
           "showarrow": false,
           "text": "uncle",
           "x": 1.837811827659607,
           "xanchor": "left",
           "xshift": 5,
           "y": 3.2009012699127197,
           "z": -0.3009164333343506
          },
          {
           "opacity": 1,
           "showarrow": false,
           "text": "aunt",
           "x": 1.592711329460144,
           "xanchor": "left",
           "xshift": 5,
           "y": 2.367068290710449,
           "z": -0.3907904624938965
          }
         ],
         "aspectmode": "auto",
         "aspectratio": {
          "x": 1.617239734124146,
          "y": 0.8740163146280292,
          "z": 0.7074667894256913
         },
         "camera": {
          "center": {
           "x": 0,
           "y": 0,
           "z": 0
          },
          "eye": {
           "x": 0.3286866667091812,
           "y": 0.009340607644599198,
           "z": 2.1399480900658405
          },
          "up": {
           "x": 0,
           "y": 0,
           "z": 1
          }
         },
         "xaxis": {
          "title": "1st Principle Component",
          "type": "linear"
         },
         "yaxis": {
          "title": "2nd Principle Component",
          "type": "linear"
         },
         "zaxis": {
          "title": "3rd Principel Component",
          "type": "linear"
         }
        }
       }
      },
      "text/html": [
       "<div id=\"0d1f6df0-ac3d-42a0-b466-fffbe8c7b4fb\" style=\"height: 525px; width: 100%;\" class=\"plotly-graph-div\"></div><script type=\"text/javascript\">require([\"plotly\"], function(Plotly) { window.PLOTLYENV=window.PLOTLYENV || {};window.PLOTLYENV.BASE_URL=\"https://plot.ly\";Plotly.newPlot(\"0d1f6df0-ac3d-42a0-b466-fffbe8c7b4fb\", [{\"type\": \"scatter3d\", \"x\": [4.164794921875, 3.3503222465515137, 3.934626340866089, 3.3609139919281006, 1.837811827659607, 1.592711329460144], \"y\": [2.8694796562194824, 3.1338729858398438, 2.170757293701172, 1.8108519315719604, 3.2009012699127197, 2.367068290710449], \"z\": [-0.07641217857599258, -1.1485134363174438, -0.023347090929746628, -1.0600872039794922, -0.3009164333343506, -0.3907904624938965], \"mode\": \"markers\", \"marker\": {\"size\": 4, \"opacity\": 0.8}, \"text\": [\"man\", \"king\", \"woman\", \"queen\", \"uncle\", \"aunt\"]}], {\"margin\": {\"l\": 0, \"r\": 0, \"b\": 0, \"t\": 0}, \"scene\": {\"xaxis\": {\"title\": \"1st Principle Component\"}, \"yaxis\": {\"title\": \"2nd Principle Component\"}, \"zaxis\": {\"title\": \"3rd Principel Component\"}, \"annotations\": [{\"showarrow\": false, \"x\": 4.164794921875, \"y\": 2.8694796562194824, \"z\": -0.07641217857599258, \"text\": \"man\", \"xanchor\": \"left\", \"xshift\": 5, \"opacity\": 1}, {\"showarrow\": false, \"x\": 3.3503222465515137, \"y\": 3.1338729858398438, \"z\": -1.1485134363174438, \"text\": \"king\", \"xanchor\": \"left\", \"xshift\": 5, \"opacity\": 1}, {\"showarrow\": false, \"x\": 3.934626340866089, \"y\": 2.170757293701172, \"z\": -0.023347090929746628, \"text\": \"woman\", \"xanchor\": \"left\", \"xshift\": 5, \"opacity\": 1}, {\"showarrow\": false, \"x\": 3.3609139919281006, \"y\": 1.8108519315719604, \"z\": -1.0600872039794922, \"text\": \"queen\", \"xanchor\": \"left\", \"xshift\": 5, \"opacity\": 1}, {\"showarrow\": false, \"x\": 1.837811827659607, \"y\": 3.2009012699127197, \"z\": -0.3009164333343506, \"text\": \"uncle\", \"xanchor\": \"left\", \"xshift\": 5, \"opacity\": 1}, {\"showarrow\": false, \"x\": 1.592711329460144, \"y\": 2.367068290710449, \"z\": -0.3907904624938965, \"text\": \"aunt\", \"xanchor\": \"left\", \"xshift\": 5, \"opacity\": 1}]}}, {\"showLink\": true, \"linkText\": \"Export to plot.ly\"})});</script>"
      ],
      "text/vnd.plotly.v1+html": [
       "<div id=\"0d1f6df0-ac3d-42a0-b466-fffbe8c7b4fb\" style=\"height: 525px; width: 100%;\" class=\"plotly-graph-div\"></div><script type=\"text/javascript\">require([\"plotly\"], function(Plotly) { window.PLOTLYENV=window.PLOTLYENV || {};window.PLOTLYENV.BASE_URL=\"https://plot.ly\";Plotly.newPlot(\"0d1f6df0-ac3d-42a0-b466-fffbe8c7b4fb\", [{\"type\": \"scatter3d\", \"x\": [4.164794921875, 3.3503222465515137, 3.934626340866089, 3.3609139919281006, 1.837811827659607, 1.592711329460144], \"y\": [2.8694796562194824, 3.1338729858398438, 2.170757293701172, 1.8108519315719604, 3.2009012699127197, 2.367068290710449], \"z\": [-0.07641217857599258, -1.1485134363174438, -0.023347090929746628, -1.0600872039794922, -0.3009164333343506, -0.3907904624938965], \"mode\": \"markers\", \"marker\": {\"size\": 4, \"opacity\": 0.8}, \"text\": [\"man\", \"king\", \"woman\", \"queen\", \"uncle\", \"aunt\"]}], {\"margin\": {\"l\": 0, \"r\": 0, \"b\": 0, \"t\": 0}, \"scene\": {\"xaxis\": {\"title\": \"1st Principle Component\"}, \"yaxis\": {\"title\": \"2nd Principle Component\"}, \"zaxis\": {\"title\": \"3rd Principel Component\"}, \"annotations\": [{\"showarrow\": false, \"x\": 4.164794921875, \"y\": 2.8694796562194824, \"z\": -0.07641217857599258, \"text\": \"man\", \"xanchor\": \"left\", \"xshift\": 5, \"opacity\": 1}, {\"showarrow\": false, \"x\": 3.3503222465515137, \"y\": 3.1338729858398438, \"z\": -1.1485134363174438, \"text\": \"king\", \"xanchor\": \"left\", \"xshift\": 5, \"opacity\": 1}, {\"showarrow\": false, \"x\": 3.934626340866089, \"y\": 2.170757293701172, \"z\": -0.023347090929746628, \"text\": \"woman\", \"xanchor\": \"left\", \"xshift\": 5, \"opacity\": 1}, {\"showarrow\": false, \"x\": 3.3609139919281006, \"y\": 1.8108519315719604, \"z\": -1.0600872039794922, \"text\": \"queen\", \"xanchor\": \"left\", \"xshift\": 5, \"opacity\": 1}, {\"showarrow\": false, \"x\": 1.837811827659607, \"y\": 3.2009012699127197, \"z\": -0.3009164333343506, \"text\": \"uncle\", \"xanchor\": \"left\", \"xshift\": 5, \"opacity\": 1}, {\"showarrow\": false, \"x\": 1.592711329460144, \"y\": 2.367068290710449, \"z\": -0.3907904624938965, \"text\": \"aunt\", \"xanchor\": \"left\", \"xshift\": 5, \"opacity\": 1}]}}, {\"showLink\": true, \"linkText\": \"Export to plot.ly\"})});</script>"
      ]
     },
     "metadata": {},
     "output_type": "display_data"
    }
   ],
   "source": [
    "trace1 = go.Scatter3d(x=pca_result_df[\"x\"], y=pca_result_df[\"y\"], z=pca_result_df[\"z\"],\n",
    "                      mode='markers', marker={\"size\": 4, \"opacity\": 0.8},\n",
    "                      text=pca_result_df[\"word\"])\n",
    "data = [trace1]\n",
    "\n",
    "layout = go.Layout(margin={\"l\": 0, \"r\": 0, \"b\": 0, \"t\": 0}, \n",
    "                   scene={\"xaxis\": {\"title\": \"1st Principle Component\"}, \n",
    "                          \"yaxis\": {\"title\": \"2nd Principle Component\"}, \n",
    "                          \"zaxis\": {\"title\": \"3rd Principel Component\"},\n",
    "                          \"annotations\": [{\"showarrow\": False,\n",
    "                                           \"x\": row[\"x\"],\n",
    "                                           \"y\": row[\"y\"],\n",
    "                                           \"z\": row[\"z\"],\n",
    "                                           \"text\": row[\"word\"],\n",
    "                                           \"xanchor\": \"left\",\n",
    "                                           \"xshift\": 5,\n",
    "                                           \"opacity\": 1} for _, row in pca_result_df.iterrows()]})\n",
    "\n",
    "iplot(go.Figure(data=data, layout=layout))"
   ]
  },
  {
   "cell_type": "markdown",
   "metadata": {},
   "source": [
    "## 02. Sentiment Analysis our pre-built embeddings"
   ]
  },
  {
   "cell_type": "code",
   "execution_count": 31,
   "metadata": {},
   "outputs": [],
   "source": [
    "documents = [\"oh my god! So good. Philly grinder!\",\n",
    "             \"This is one of the best pizza's in town. The 7 cheese pizza is A mazing.... stuffed churros, yum. Great upbeat staff. I could eat here every night.\",\n",
    "             \"I'm telling you YOUR SERVICE STINKS AND YOU'D RETAIN MORE CUSTOMERS IF YOU'D JUST TEACH THEM TO USE THE PHONE PROPERLY AND TAKE AN ORDER PROPERLY.\",\n",
    "             \"My favorite Fort Collins pizza place! I always go for the south of the border. They also have the best spicy ranch.\",\n",
    "             \"Nope. Don't do it. Ordered a pizza over 2 hours ago and it still hasn't shown up.\",\n",
    "             \"My favorite pizza place in fort collins! I always order South of the border with cream cheese the staff are awesome. One time the pizza deliver guy came super late. He apologized and gave us restaurant credit.\"]\n",
    "\n",
    "labels = np.array([1, 1, 0, 1, 1, 0])"
   ]
  },
  {
   "cell_type": "code",
   "execution_count": 32,
   "metadata": {},
   "outputs": [],
   "source": [
    "encoded_documents = []\n",
    "for line in documents:\n",
    "    line = strip_punctuation(line)\n",
    "    encoded = []\n",
    "    for word in line.split():\n",
    "        try:\n",
    "            encoded.append(glove_vectors.vocab[word].index)\n",
    "        except:\n",
    "            encoded.append(0)\n",
    "    encoded_documents.append(encoded)"
   ]
  },
  {
   "cell_type": "code",
   "execution_count": 33,
   "metadata": {},
   "outputs": [
    {
     "data": {
      "text/plain": [
       "[3202, 192, 1533, 0, 219, 0, 39890]"
      ]
     },
     "execution_count": 33,
     "metadata": {},
     "output_type": "execute_result"
    }
   ],
   "source": [
    "encoded_documents[0]"
   ]
  },
  {
   "cell_type": "code",
   "execution_count": 34,
   "metadata": {},
   "outputs": [],
   "source": [
    "max_length = max([len(i.split()) for i in documents])"
   ]
  },
  {
   "cell_type": "code",
   "execution_count": 35,
   "metadata": {},
   "outputs": [
    {
     "data": {
      "text/plain": [
       "37"
      ]
     },
     "execution_count": 35,
     "metadata": {},
     "output_type": "execute_result"
    }
   ],
   "source": [
    "max_length"
   ]
  },
  {
   "cell_type": "code",
   "execution_count": 36,
   "metadata": {},
   "outputs": [],
   "source": [
    "padded_documents = pad_sequences(encoded_documents, maxlen=max_length, padding='post')"
   ]
  },
  {
   "cell_type": "code",
   "execution_count": 37,
   "metadata": {},
   "outputs": [
    {
     "data": {
      "text/plain": [
       "array([ 3202,   192,  1533,     0,   219,     0, 39890,     0,     0,\n",
       "           0,     0,     0,     0,     0,     0,     0,     0,     0,\n",
       "           0,     0,     0,     0,     0,     0,     0,     0,     0,\n",
       "           0,     0,     0,     0,     0,     0,     0,     0,     0,\n",
       "           0], dtype=int32)"
      ]
     },
     "execution_count": 37,
     "metadata": {},
     "output_type": "execute_result"
    }
   ],
   "source": [
    "padded_documents[0]"
   ]
  },
  {
   "cell_type": "code",
   "execution_count": 38,
   "metadata": {},
   "outputs": [],
   "source": [
    "embedding_input_dim = glove_vectors[glove_vectors.vocab].shape[0]\n",
    "embedding_output_dim = glove_vectors[glove_vectors.vocab].shape[1]"
   ]
  },
  {
   "cell_type": "code",
   "execution_count": 39,
   "metadata": {},
   "outputs": [
    {
     "data": {
      "text/plain": [
       "400000"
      ]
     },
     "execution_count": 39,
     "metadata": {},
     "output_type": "execute_result"
    }
   ],
   "source": [
    "embedding_input_dim"
   ]
  },
  {
   "cell_type": "code",
   "execution_count": 40,
   "metadata": {},
   "outputs": [
    {
     "data": {
      "text/plain": [
       "50"
      ]
     },
     "execution_count": 40,
     "metadata": {},
     "output_type": "execute_result"
    }
   ],
   "source": [
    "embedding_output_dim"
   ]
  },
  {
   "cell_type": "code",
   "execution_count": 41,
   "metadata": {},
   "outputs": [
    {
     "data": {
      "text/plain": [
       "0.0003093615814577788"
      ]
     },
     "execution_count": 41,
     "metadata": {},
     "output_type": "execute_result"
    }
   ],
   "source": [
    "model = Sequential()\n",
    "model.add(Embedding(input_dim=embedding_input_dim, output_dim=embedding_output_dim, weights=[glove_vectors[glove_vectors.vocab]], input_length=max_length))\n",
    "model.add(Flatten())\n",
    "model.add(Dense(128, activation=\"relu\"))\n",
    "model.add(Dense(1, activation='sigmoid'))\n",
    "model.compile(loss=\"binary_crossentropy\", optimizer=\"adam\")\n",
    "model.fit(padded_documents, labels, epochs=50, verbose=0)\n",
    "model.evaluate(padded_documents, labels, verbose=3)"
   ]
  },
  {
   "cell_type": "code",
   "execution_count": 42,
   "metadata": {},
   "outputs": [],
   "source": [
    "model.save(\"model.h5\")\n",
    "model = load_model(\"model.h5\")"
   ]
  },
  {
   "cell_type": "code",
   "execution_count": 43,
   "metadata": {},
   "outputs": [
    {
     "data": {
      "text/plain": [
       "array([[9.9987817e-01],\n",
       "       [9.9998033e-01],\n",
       "       [1.4585104e-03],\n",
       "       [9.9992275e-01],\n",
       "       [9.9982244e-01],\n",
       "       [2.5677042e-07]], dtype=float32)"
      ]
     },
     "execution_count": 43,
     "metadata": {},
     "output_type": "execute_result"
    }
   ],
   "source": [
    "model.predict(padded_documents)"
   ]
  },
  {
   "cell_type": "code",
   "execution_count": 44,
   "metadata": {},
   "outputs": [
    {
     "data": {
      "text/plain": [
       "array([[1],\n",
       "       [1],\n",
       "       [0],\n",
       "       [1],\n",
       "       [1],\n",
       "       [0]], dtype=int32)"
      ]
     },
     "execution_count": 44,
     "metadata": {},
     "output_type": "execute_result"
    }
   ],
   "source": [
    "model.predict_classes(padded_documents)"
   ]
  },
  {
   "cell_type": "code",
   "execution_count": 45,
   "metadata": {},
   "outputs": [
    {
     "data": {
      "text/plain": [
       "array([1, 1, 0, 1, 1, 0])"
      ]
     },
     "execution_count": 45,
     "metadata": {},
     "output_type": "execute_result"
    }
   ],
   "source": [
    "labels"
   ]
  },
  {
   "cell_type": "code",
   "execution_count": 46,
   "metadata": {},
   "outputs": [
    {
     "data": {
      "text/plain": [
       "1.0"
      ]
     },
     "execution_count": 46,
     "metadata": {},
     "output_type": "execute_result"
    }
   ],
   "source": [
    "accuracy_score(labels, model.predict_classes(padded_documents))"
   ]
  },
  {
   "cell_type": "markdown",
   "metadata": {},
   "source": [
    "### Create an example document"
   ]
  },
  {
   "cell_type": "code",
   "execution_count": 47,
   "metadata": {},
   "outputs": [],
   "source": [
    "documents = [\"The pizza is great, I would highly recommend it\",\n",
    "             \"The pizza is bad\"]"
   ]
  },
  {
   "cell_type": "code",
   "execution_count": 48,
   "metadata": {},
   "outputs": [],
   "source": [
    "encoded_documents = []\n",
    "for line in documents:\n",
    "    line = strip_punctuation(line)\n",
    "    encoded = []\n",
    "    for word in line.split():\n",
    "        try:\n",
    "            encoded.append(glove_vectors.vocab[word].index)\n",
    "        except:\n",
    "            encoded.append(0)\n",
    "    encoded_documents.append(encoded)"
   ]
  },
  {
   "cell_type": "code",
   "execution_count": 49,
   "metadata": {},
   "outputs": [
    {
     "data": {
      "text/plain": [
       "[0, 9388, 14, 353, 0, 54, 1786, 7546, 20]"
      ]
     },
     "execution_count": 49,
     "metadata": {},
     "output_type": "execute_result"
    }
   ],
   "source": [
    "encoded_documents[0]"
   ]
  },
  {
   "cell_type": "code",
   "execution_count": 50,
   "metadata": {},
   "outputs": [],
   "source": [
    "padded_documents = pad_sequences(encoded_documents, maxlen=max_length, padding='post')"
   ]
  },
  {
   "cell_type": "code",
   "execution_count": 51,
   "metadata": {},
   "outputs": [
    {
     "data": {
      "text/plain": [
       "array([   0, 9388,   14,  353,    0,   54, 1786, 7546,   20,    0,    0,\n",
       "          0,    0,    0,    0,    0,    0,    0,    0,    0,    0,    0,\n",
       "          0,    0,    0,    0,    0,    0,    0,    0,    0,    0,    0,\n",
       "          0,    0,    0,    0], dtype=int32)"
      ]
     },
     "execution_count": 51,
     "metadata": {},
     "output_type": "execute_result"
    }
   ],
   "source": [
    "padded_documents[0]"
   ]
  },
  {
   "cell_type": "code",
   "execution_count": 52,
   "metadata": {},
   "outputs": [
    {
     "data": {
      "text/plain": [
       "array([[1],\n",
       "       [0]], dtype=int32)"
      ]
     },
     "execution_count": 52,
     "metadata": {},
     "output_type": "execute_result"
    }
   ],
   "source": [
    "model.predict_classes(padded_documents)"
   ]
  },
  {
   "cell_type": "markdown",
   "metadata": {},
   "source": [
    "## Embedding Projector\n",
    "\n",
    "https://projector.tensorflow.org/"
   ]
  },
  {
   "cell_type": "code",
   "execution_count": null,
   "metadata": {},
   "outputs": [],
   "source": []
  }
 ],
 "metadata": {
  "kernelspec": {
   "display_name": "word_embeddings",
   "language": "python",
   "name": "word_embeddings"
  },
  "language_info": {
   "codemirror_mode": {
    "name": "ipython",
    "version": 3
   },
   "file_extension": ".py",
   "mimetype": "text/x-python",
   "name": "python",
   "nbconvert_exporter": "python",
   "pygments_lexer": "ipython3",
   "version": "3.6.4"
  }
 },
 "nbformat": 4,
 "nbformat_minor": 2
}
