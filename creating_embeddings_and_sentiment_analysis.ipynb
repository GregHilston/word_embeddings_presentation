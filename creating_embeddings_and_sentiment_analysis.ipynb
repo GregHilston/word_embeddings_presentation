{
 "cells": [
  {
   "cell_type": "code",
   "execution_count": 1,
   "metadata": {},
   "outputs": [
    {
     "name": "stderr",
     "output_type": "stream",
     "text": [
      "Using TensorFlow backend.\n"
     ]
    },
    {
     "data": {
      "text/html": [
       "<script>requirejs.config({paths: { 'plotly': ['https://cdn.plot.ly/plotly-latest.min']},});if(!window.Plotly) {{require(['plotly'],function(plotly) {window.Plotly=plotly;});}}</script>"
      ],
      "text/vnd.plotly.v1+html": [
       "<script>requirejs.config({paths: { 'plotly': ['https://cdn.plot.ly/plotly-latest.min']},});if(!window.Plotly) {{require(['plotly'],function(plotly) {window.Plotly=plotly;});}}</script>"
      ]
     },
     "metadata": {},
     "output_type": "display_data"
    }
   ],
   "source": [
    "import pandas as pd\n",
    "import numpy as np\n",
    "\n",
    "from sklearn.metrics import accuracy_score\n",
    "\n",
    "import gensim\n",
    "from gensim.models import Word2Vec\n",
    "from gensim.models import KeyedVectors\n",
    "from gensim.parsing.preprocessing import strip_punctuation\n",
    "\n",
    "from sklearn.decomposition import PCA\n",
    "\n",
    "from keras.preprocessing.sequence import pad_sequences\n",
    "from keras.models import Sequential\n",
    "from keras.layers import Dense\n",
    "from keras.layers import Flatten\n",
    "from keras.layers.embeddings import Embedding\n",
    "from keras.models import load_model\n",
    "\n",
    "from plotly.offline import download_plotlyjs, init_notebook_mode, plot, iplot\n",
    "import plotly.graph_objs as go\n",
    "init_notebook_mode(True)"
   ]
  },
  {
   "cell_type": "markdown",
   "metadata": {},
   "source": [
    "## 01. Build your own embeddings & using pre-existing embeddings"
   ]
  },
  {
   "cell_type": "markdown",
   "metadata": {},
   "source": [
    "### Build your own embeddings"
   ]
  },
  {
   "cell_type": "code",
   "execution_count": 2,
   "metadata": {},
   "outputs": [],
   "source": [
    "sentences = [[\"this\", \"is\", \"the\", \"first\", \"sentence\", \"for\", \"word2vec\"],\n",
    "             [\"this\", \"is\", \"the\", \"second\", \"sentence\", \"for\", \"word2vec\"]]"
   ]
  },
  {
   "cell_type": "code",
   "execution_count": 3,
   "metadata": {},
   "outputs": [],
   "source": [
    "# sg: 1 for skip-gram, 2 for CBOW\n",
    "# alpha: learning rate\n",
    "# window: windows size for skip-grams or CBOW\n",
    "# min_count: any word counts that are less than this are ignored\n",
    "# size: dimensions for each word\n",
    "model = Word2Vec(sentences, alpha=0.025, window=5, min_count=1, sg=1, size=10)"
   ]
  },
  {
   "cell_type": "code",
   "execution_count": 4,
   "metadata": {},
   "outputs": [
    {
     "name": "stdout",
     "output_type": "stream",
     "text": [
      "Word2Vec(vocab=8, size=10, alpha=0.025)\n"
     ]
    }
   ],
   "source": [
    "print(model)"
   ]
  },
  {
   "cell_type": "code",
   "execution_count": 5,
   "metadata": {},
   "outputs": [
    {
     "name": "stdout",
     "output_type": "stream",
     "text": [
      "['this', 'is', 'the', 'first', 'sentence', 'for', 'word2vec', 'second']\n"
     ]
    }
   ],
   "source": [
    "print(list(model.wv.vocab))"
   ]
  },
  {
   "cell_type": "code",
   "execution_count": 6,
   "metadata": {},
   "outputs": [
    {
     "data": {
      "text/plain": [
       "array([[ 0.0252312 ,  0.02013404,  0.0214923 ,  0.00263448,  0.01042301,\n",
       "         0.03848768, -0.02364977, -0.01105659, -0.03465864,  0.01656245],\n",
       "       [ 0.02091155, -0.02967838,  0.01292858, -0.03467149,  0.04431187,\n",
       "        -0.01508507, -0.04757995, -0.03514276,  0.00977588,  0.0227128 ],\n",
       "       [-0.01478777, -0.02572875,  0.02042815,  0.01532631,  0.02637147,\n",
       "        -0.02083855,  0.00792016,  0.01655993,  0.0479192 ,  0.00823658],\n",
       "       [ 0.01490779,  0.02584932, -0.03051792, -0.04860388, -0.01748068,\n",
       "         0.04512254, -0.04027652,  0.04381217,  0.00112167, -0.00826722],\n",
       "       [ 0.02168082,  0.0338375 , -0.03494537,  0.04093472, -0.00176067,\n",
       "         0.00582241, -0.04751141,  0.01348697,  0.03560459, -0.00962873],\n",
       "       [-0.03781706, -0.03867743, -0.03649498, -0.0134535 , -0.02848131,\n",
       "        -0.01081789,  0.00266035,  0.04305999, -0.00649607, -0.00530395],\n",
       "       [-0.04443134,  0.04345368,  0.04157907, -0.04900191,  0.02736149,\n",
       "         0.01877012, -0.01018004, -0.03829909, -0.04833312,  0.03238093],\n",
       "       [ 0.01222189, -0.03660914, -0.01060614,  0.011612  , -0.01133634,\n",
       "         0.01395454,  0.01168704,  0.02238364,  0.01280425, -0.03931123]],\n",
       "      dtype=float32)"
      ]
     },
     "execution_count": 6,
     "metadata": {},
     "output_type": "execute_result"
    }
   ],
   "source": [
    "model.wv[model.wv.vocab]"
   ]
  },
  {
   "cell_type": "code",
   "execution_count": 7,
   "metadata": {},
   "outputs": [],
   "source": [
    "model.save('model.bin')"
   ]
  },
  {
   "cell_type": "code",
   "execution_count": 8,
   "metadata": {},
   "outputs": [],
   "source": [
    "model = Word2Vec.load('model.bin')"
   ]
  },
  {
   "cell_type": "code",
   "execution_count": 9,
   "metadata": {},
   "outputs": [],
   "source": [
    "pca = PCA(n_components=3)\n",
    "pca_result = pca.fit_transform(model.wv[model.wv.vocab])"
   ]
  },
  {
   "cell_type": "code",
   "execution_count": 10,
   "metadata": {},
   "outputs": [
    {
     "data": {
      "text/plain": [
       "array([0.39837837, 0.22384556, 0.17916888], dtype=float32)"
      ]
     },
     "execution_count": 10,
     "metadata": {},
     "output_type": "execute_result"
    }
   ],
   "source": [
    "pca.explained_variance_ratio_"
   ]
  },
  {
   "cell_type": "code",
   "execution_count": 11,
   "metadata": {},
   "outputs": [],
   "source": [
    "pca_result_df = pd.DataFrame([pca_result[:,0], pca_result[:,1], pca_result[:,2]]).T\n",
    "pca_result_df.columns = [\"x\", \"y\", \"z\"]\n",
    "pca_result_df[\"word\"] = list(model.wv.vocab)"
   ]
  },
  {
   "cell_type": "code",
   "execution_count": 12,
   "metadata": {},
   "outputs": [
    {
     "data": {
      "text/html": [
       "<div>\n",
       "<style scoped>\n",
       "    .dataframe tbody tr th:only-of-type {\n",
       "        vertical-align: middle;\n",
       "    }\n",
       "\n",
       "    .dataframe tbody tr th {\n",
       "        vertical-align: top;\n",
       "    }\n",
       "\n",
       "    .dataframe thead th {\n",
       "        text-align: right;\n",
       "    }\n",
       "</style>\n",
       "<table border=\"1\" class=\"dataframe\">\n",
       "  <thead>\n",
       "    <tr style=\"text-align: right;\">\n",
       "      <th></th>\n",
       "      <th>x</th>\n",
       "      <th>y</th>\n",
       "      <th>z</th>\n",
       "      <th>word</th>\n",
       "    </tr>\n",
       "  </thead>\n",
       "  <tbody>\n",
       "    <tr>\n",
       "      <th>0</th>\n",
       "      <td>0.042867</td>\n",
       "      <td>0.024495</td>\n",
       "      <td>-0.018991</td>\n",
       "      <td>this</td>\n",
       "    </tr>\n",
       "    <tr>\n",
       "      <th>1</th>\n",
       "      <td>0.038386</td>\n",
       "      <td>-0.043991</td>\n",
       "      <td>-0.034028</td>\n",
       "      <td>is</td>\n",
       "    </tr>\n",
       "    <tr>\n",
       "      <th>2</th>\n",
       "      <td>-0.026891</td>\n",
       "      <td>-0.064972</td>\n",
       "      <td>-0.007985</td>\n",
       "      <td>the</td>\n",
       "    </tr>\n",
       "    <tr>\n",
       "      <th>3</th>\n",
       "      <td>-0.012385</td>\n",
       "      <td>0.073182</td>\n",
       "      <td>0.011840</td>\n",
       "      <td>first</td>\n",
       "    </tr>\n",
       "    <tr>\n",
       "      <th>4</th>\n",
       "      <td>-0.042308</td>\n",
       "      <td>0.029931</td>\n",
       "      <td>-0.059509</td>\n",
       "      <td>sentence</td>\n",
       "    </tr>\n",
       "    <tr>\n",
       "      <th>5</th>\n",
       "      <td>-0.051368</td>\n",
       "      <td>-0.008007</td>\n",
       "      <td>0.063963</td>\n",
       "      <td>for</td>\n",
       "    </tr>\n",
       "    <tr>\n",
       "      <th>6</th>\n",
       "      <td>0.108087</td>\n",
       "      <td>0.000322</td>\n",
       "      <td>0.032475</td>\n",
       "      <td>word2vec</td>\n",
       "    </tr>\n",
       "    <tr>\n",
       "      <th>7</th>\n",
       "      <td>-0.056388</td>\n",
       "      <td>-0.010960</td>\n",
       "      <td>0.012236</td>\n",
       "      <td>second</td>\n",
       "    </tr>\n",
       "  </tbody>\n",
       "</table>\n",
       "</div>"
      ],
      "text/plain": [
       "          x         y         z      word\n",
       "0  0.042867  0.024495 -0.018991      this\n",
       "1  0.038386 -0.043991 -0.034028        is\n",
       "2 -0.026891 -0.064972 -0.007985       the\n",
       "3 -0.012385  0.073182  0.011840     first\n",
       "4 -0.042308  0.029931 -0.059509  sentence\n",
       "5 -0.051368 -0.008007  0.063963       for\n",
       "6  0.108087  0.000322  0.032475  word2vec\n",
       "7 -0.056388 -0.010960  0.012236    second"
      ]
     },
     "execution_count": 12,
     "metadata": {},
     "output_type": "execute_result"
    }
   ],
   "source": [
    "pca_result_df"
   ]
  },
  {
   "cell_type": "code",
   "execution_count": 13,
   "metadata": {},
   "outputs": [
    {
     "data": {
      "application/vnd.plotly.v1+json": {
       "data": [
        {
         "marker": {
          "opacity": 0.8,
          "size": 4
         },
         "mode": "markers",
         "text": [
          "this",
          "is",
          "the",
          "first",
          "sentence",
          "for",
          "word2vec",
          "second"
         ],
         "type": "scatter3d",
         "x": [
          0.042867254465818405,
          0.038385797291994095,
          -0.026891479268670082,
          -0.012385211884975433,
          -0.04230785369873047,
          -0.05136777088046074,
          0.10808718949556351,
          -0.05638793483376503
         ],
         "y": [
          0.024495447054505348,
          -0.04399125277996063,
          -0.06497233361005783,
          0.07318185269832611,
          0.029931439086794853,
          -0.008007182739675045,
          0.00032178431865759194,
          -0.010959750972688198
         ],
         "z": [
          -0.018991101533174515,
          -0.03402798995375633,
          -0.00798521377146244,
          0.011839763261377811,
          -0.05950918421149254,
          0.06396280229091644,
          0.03247464448213577,
          0.01223630178719759
         ]
        }
       ],
       "layout": {
        "margin": {
         "b": 0,
         "l": 0,
         "r": 0,
         "t": 0
        },
        "scene": {
         "annotations": [
          {
           "opacity": 1,
           "showarrow": false,
           "text": "this",
           "x": 0.042867254465818405,
           "xanchor": "left",
           "xshift": 5,
           "y": 0.024495447054505348,
           "z": -0.018991101533174515
          },
          {
           "opacity": 1,
           "showarrow": false,
           "text": "is",
           "x": 0.038385797291994095,
           "xanchor": "left",
           "xshift": 5,
           "y": -0.04399125277996063,
           "z": -0.03402798995375633
          },
          {
           "opacity": 1,
           "showarrow": false,
           "text": "the",
           "x": -0.026891479268670082,
           "xanchor": "left",
           "xshift": 5,
           "y": -0.06497233361005783,
           "z": -0.00798521377146244
          },
          {
           "opacity": 1,
           "showarrow": false,
           "text": "first",
           "x": -0.012385211884975433,
           "xanchor": "left",
           "xshift": 5,
           "y": 0.07318185269832611,
           "z": 0.011839763261377811
          },
          {
           "opacity": 1,
           "showarrow": false,
           "text": "sentence",
           "x": -0.04230785369873047,
           "xanchor": "left",
           "xshift": 5,
           "y": 0.029931439086794853,
           "z": -0.05950918421149254
          },
          {
           "opacity": 1,
           "showarrow": false,
           "text": "for",
           "x": -0.05136777088046074,
           "xanchor": "left",
           "xshift": 5,
           "y": -0.008007182739675045,
           "z": 0.06396280229091644
          },
          {
           "opacity": 1,
           "showarrow": false,
           "text": "word2vec",
           "x": 0.10808718949556351,
           "xanchor": "left",
           "xshift": 5,
           "y": 0.00032178431865759194,
           "z": 0.03247464448213577
          },
          {
           "opacity": 1,
           "showarrow": false,
           "text": "second",
           "x": -0.05638793483376503,
           "xanchor": "left",
           "xshift": 5,
           "y": -0.010959750972688198,
           "z": 0.01223630178719759
          }
         ],
         "xaxis": {
          "title": "1st Principle Component"
         },
         "yaxis": {
          "title": "2nd Principle Component"
         },
         "zaxis": {
          "title": "3rd Principle Component"
         }
        }
       }
      },
      "text/html": [
       "<div id=\"04417597-449f-46e8-a40b-c7f522cc2697\" style=\"height: 525px; width: 100%;\" class=\"plotly-graph-div\"></div><script type=\"text/javascript\">require([\"plotly\"], function(Plotly) { window.PLOTLYENV=window.PLOTLYENV || {};window.PLOTLYENV.BASE_URL=\"http://type-here.com\";Plotly.newPlot(\"04417597-449f-46e8-a40b-c7f522cc2697\", [{\"type\": \"scatter3d\", \"x\": [0.042867254465818405, 0.038385797291994095, -0.026891479268670082, -0.012385211884975433, -0.04230785369873047, -0.05136777088046074, 0.10808718949556351, -0.05638793483376503], \"y\": [0.024495447054505348, -0.04399125277996063, -0.06497233361005783, 0.07318185269832611, 0.029931439086794853, -0.008007182739675045, 0.00032178431865759194, -0.010959750972688198], \"z\": [-0.018991101533174515, -0.03402798995375633, -0.00798521377146244, 0.011839763261377811, -0.05950918421149254, 0.06396280229091644, 0.03247464448213577, 0.01223630178719759], \"mode\": \"markers\", \"marker\": {\"size\": 4, \"opacity\": 0.8}, \"text\": [\"this\", \"is\", \"the\", \"first\", \"sentence\", \"for\", \"word2vec\", \"second\"]}], {\"margin\": {\"l\": 0, \"r\": 0, \"b\": 0, \"t\": 0}, \"scene\": {\"xaxis\": {\"title\": \"1st Principle Component\"}, \"yaxis\": {\"title\": \"2nd Principle Component\"}, \"zaxis\": {\"title\": \"3rd Principle Component\"}, \"annotations\": [{\"showarrow\": false, \"x\": 0.042867254465818405, \"y\": 0.024495447054505348, \"z\": -0.018991101533174515, \"text\": \"this\", \"xanchor\": \"left\", \"xshift\": 5, \"opacity\": 1}, {\"showarrow\": false, \"x\": 0.038385797291994095, \"y\": -0.04399125277996063, \"z\": -0.03402798995375633, \"text\": \"is\", \"xanchor\": \"left\", \"xshift\": 5, \"opacity\": 1}, {\"showarrow\": false, \"x\": -0.026891479268670082, \"y\": -0.06497233361005783, \"z\": -0.00798521377146244, \"text\": \"the\", \"xanchor\": \"left\", \"xshift\": 5, \"opacity\": 1}, {\"showarrow\": false, \"x\": -0.012385211884975433, \"y\": 0.07318185269832611, \"z\": 0.011839763261377811, \"text\": \"first\", \"xanchor\": \"left\", \"xshift\": 5, \"opacity\": 1}, {\"showarrow\": false, \"x\": -0.04230785369873047, \"y\": 0.029931439086794853, \"z\": -0.05950918421149254, \"text\": \"sentence\", \"xanchor\": \"left\", \"xshift\": 5, \"opacity\": 1}, {\"showarrow\": false, \"x\": -0.05136777088046074, \"y\": -0.008007182739675045, \"z\": 0.06396280229091644, \"text\": \"for\", \"xanchor\": \"left\", \"xshift\": 5, \"opacity\": 1}, {\"showarrow\": false, \"x\": 0.10808718949556351, \"y\": 0.00032178431865759194, \"z\": 0.03247464448213577, \"text\": \"word2vec\", \"xanchor\": \"left\", \"xshift\": 5, \"opacity\": 1}, {\"showarrow\": false, \"x\": -0.05638793483376503, \"y\": -0.010959750972688198, \"z\": 0.01223630178719759, \"text\": \"second\", \"xanchor\": \"left\", \"xshift\": 5, \"opacity\": 1}]}}, {\"showLink\": true, \"linkText\": \"Export to type-here.com\"})});</script>"
      ],
      "text/vnd.plotly.v1+html": [
       "<div id=\"04417597-449f-46e8-a40b-c7f522cc2697\" style=\"height: 525px; width: 100%;\" class=\"plotly-graph-div\"></div><script type=\"text/javascript\">require([\"plotly\"], function(Plotly) { window.PLOTLYENV=window.PLOTLYENV || {};window.PLOTLYENV.BASE_URL=\"http://type-here.com\";Plotly.newPlot(\"04417597-449f-46e8-a40b-c7f522cc2697\", [{\"type\": \"scatter3d\", \"x\": [0.042867254465818405, 0.038385797291994095, -0.026891479268670082, -0.012385211884975433, -0.04230785369873047, -0.05136777088046074, 0.10808718949556351, -0.05638793483376503], \"y\": [0.024495447054505348, -0.04399125277996063, -0.06497233361005783, 0.07318185269832611, 0.029931439086794853, -0.008007182739675045, 0.00032178431865759194, -0.010959750972688198], \"z\": [-0.018991101533174515, -0.03402798995375633, -0.00798521377146244, 0.011839763261377811, -0.05950918421149254, 0.06396280229091644, 0.03247464448213577, 0.01223630178719759], \"mode\": \"markers\", \"marker\": {\"size\": 4, \"opacity\": 0.8}, \"text\": [\"this\", \"is\", \"the\", \"first\", \"sentence\", \"for\", \"word2vec\", \"second\"]}], {\"margin\": {\"l\": 0, \"r\": 0, \"b\": 0, \"t\": 0}, \"scene\": {\"xaxis\": {\"title\": \"1st Principle Component\"}, \"yaxis\": {\"title\": \"2nd Principle Component\"}, \"zaxis\": {\"title\": \"3rd Principle Component\"}, \"annotations\": [{\"showarrow\": false, \"x\": 0.042867254465818405, \"y\": 0.024495447054505348, \"z\": -0.018991101533174515, \"text\": \"this\", \"xanchor\": \"left\", \"xshift\": 5, \"opacity\": 1}, {\"showarrow\": false, \"x\": 0.038385797291994095, \"y\": -0.04399125277996063, \"z\": -0.03402798995375633, \"text\": \"is\", \"xanchor\": \"left\", \"xshift\": 5, \"opacity\": 1}, {\"showarrow\": false, \"x\": -0.026891479268670082, \"y\": -0.06497233361005783, \"z\": -0.00798521377146244, \"text\": \"the\", \"xanchor\": \"left\", \"xshift\": 5, \"opacity\": 1}, {\"showarrow\": false, \"x\": -0.012385211884975433, \"y\": 0.07318185269832611, \"z\": 0.011839763261377811, \"text\": \"first\", \"xanchor\": \"left\", \"xshift\": 5, \"opacity\": 1}, {\"showarrow\": false, \"x\": -0.04230785369873047, \"y\": 0.029931439086794853, \"z\": -0.05950918421149254, \"text\": \"sentence\", \"xanchor\": \"left\", \"xshift\": 5, \"opacity\": 1}, {\"showarrow\": false, \"x\": -0.05136777088046074, \"y\": -0.008007182739675045, \"z\": 0.06396280229091644, \"text\": \"for\", \"xanchor\": \"left\", \"xshift\": 5, \"opacity\": 1}, {\"showarrow\": false, \"x\": 0.10808718949556351, \"y\": 0.00032178431865759194, \"z\": 0.03247464448213577, \"text\": \"word2vec\", \"xanchor\": \"left\", \"xshift\": 5, \"opacity\": 1}, {\"showarrow\": false, \"x\": -0.05638793483376503, \"y\": -0.010959750972688198, \"z\": 0.01223630178719759, \"text\": \"second\", \"xanchor\": \"left\", \"xshift\": 5, \"opacity\": 1}]}}, {\"showLink\": true, \"linkText\": \"Export to type-here.com\"})});</script>"
      ]
     },
     "metadata": {},
     "output_type": "display_data"
    }
   ],
   "source": [
    "trace1 = go.Scatter3d(x=pca_result_df[\"x\"], y=pca_result_df[\"y\"], z=pca_result_df[\"z\"],\n",
    "                      mode='markers', marker={\"size\": 4, \"opacity\": 0.8},\n",
    "                      text=pca_result_df[\"word\"])\n",
    "data = [trace1]\n",
    "\n",
    "layout = go.Layout(margin={\"l\": 0, \"r\": 0, \"b\": 0, \"t\": 0}, \n",
    "                   scene={\"xaxis\": {\"title\": \"1st Principle Component\"}, \n",
    "                          \"yaxis\": {\"title\": \"2nd Principle Component\"}, \n",
    "                          \"zaxis\": {\"title\": \"3rd Principle Component\"},\n",
    "                          \"annotations\": [{\"showarrow\": False,\n",
    "                                           \"x\": row[\"x\"],\n",
    "                                           \"y\": row[\"y\"],\n",
    "                                           \"z\": row[\"z\"],\n",
    "                                           \"text\": row[\"word\"],\n",
    "                                           \"xanchor\": \"left\",\n",
    "                                           \"xshift\": 5,\n",
    "                                           \"opacity\": 1} for _, row in pca_result_df.iterrows()]})\n",
    "\n",
    "iplot(go.Figure(data=data, layout=layout))"
   ]
  },
  {
   "cell_type": "markdown",
   "metadata": {},
   "source": [
    "### Use Stanford NLP Group's Glove Vectors"
   ]
  },
  {
   "cell_type": "code",
   "execution_count": 14,
   "metadata": {},
   "outputs": [],
   "source": [
    "# 6B tokens, 400K vocab, uncased, 50d vectors\n",
    "glove_vectors = KeyedVectors.load_word2vec_format('./vectors/word2vec.6B.50d.txt')"
   ]
  },
  {
   "cell_type": "code",
   "execution_count": 15,
   "metadata": {},
   "outputs": [
    {
     "name": "stdout",
     "output_type": "stream",
     "text": [
      "['the', ',', '.', 'of', 'to', 'and', 'in', 'a', '\"', \"'s\"]\n"
     ]
    }
   ],
   "source": [
    "print(list(glove_vectors.vocab)[0:10])"
   ]
  },
  {
   "cell_type": "code",
   "execution_count": 16,
   "metadata": {},
   "outputs": [
    {
     "data": {
      "text/plain": [
       "array([[ 0.418   ,  0.24968 , -0.41242 , ..., -0.18411 , -0.11514 ,\n",
       "        -0.78581 ],\n",
       "       [ 0.013441,  0.23682 , -0.16899 , ..., -0.56657 ,  0.044691,\n",
       "         0.30392 ],\n",
       "       [ 0.15164 ,  0.30177 , -0.16763 , ..., -0.35652 ,  0.016413,\n",
       "         0.10216 ],\n",
       "       ...,\n",
       "       [-0.51181 ,  0.058706,  1.0913  , ..., -0.25003 , -1.125   ,\n",
       "         1.5863  ],\n",
       "       [-0.75898 , -0.47426 ,  0.4737  , ...,  0.78954 , -0.014116,\n",
       "         0.6448  ],\n",
       "       [ 0.072617, -0.51393 ,  0.4728  , ..., -0.18907 , -0.59021 ,\n",
       "         0.55559 ]], dtype=float32)"
      ]
     },
     "execution_count": 16,
     "metadata": {},
     "output_type": "execute_result"
    }
   ],
   "source": [
    "glove_vectors[glove_vectors.vocab]"
   ]
  },
  {
   "cell_type": "code",
   "execution_count": 17,
   "metadata": {},
   "outputs": [],
   "source": [
    "pca = PCA(n_components=3)\n",
    "pca_result = pca.fit_transform(glove_vectors[glove_vectors.vocab])"
   ]
  },
  {
   "cell_type": "code",
   "execution_count": 18,
   "metadata": {},
   "outputs": [
    {
     "data": {
      "text/plain": [
       "array([0.05418369, 0.04413847, 0.03602274])"
      ]
     },
     "execution_count": 18,
     "metadata": {},
     "output_type": "execute_result"
    }
   ],
   "source": [
    "pca.explained_variance_ratio_"
   ]
  },
  {
   "cell_type": "code",
   "execution_count": 19,
   "metadata": {},
   "outputs": [],
   "source": [
    "pca_result_df = pd.DataFrame([pca_result[:,0], pca_result[:,1], pca_result[:,2]]).T\n",
    "pca_result_df.columns = [\"x\", \"y\", \"z\"]\n",
    "pca_result_df[\"word\"] = list(glove_vectors.vocab)"
   ]
  },
  {
   "cell_type": "code",
   "execution_count": 20,
   "metadata": {},
   "outputs": [],
   "source": [
    "pca_result_df = pca_result_df.head(300)"
   ]
  },
  {
   "cell_type": "code",
   "execution_count": 21,
   "metadata": {},
   "outputs": [
    {
     "data": {
      "text/html": [
       "<div>\n",
       "<style scoped>\n",
       "    .dataframe tbody tr th:only-of-type {\n",
       "        vertical-align: middle;\n",
       "    }\n",
       "\n",
       "    .dataframe tbody tr th {\n",
       "        vertical-align: top;\n",
       "    }\n",
       "\n",
       "    .dataframe thead th {\n",
       "        text-align: right;\n",
       "    }\n",
       "</style>\n",
       "<table border=\"1\" class=\"dataframe\">\n",
       "  <thead>\n",
       "    <tr style=\"text-align: right;\">\n",
       "      <th></th>\n",
       "      <th>x</th>\n",
       "      <th>y</th>\n",
       "      <th>z</th>\n",
       "      <th>word</th>\n",
       "    </tr>\n",
       "  </thead>\n",
       "  <tbody>\n",
       "    <tr>\n",
       "      <th>0</th>\n",
       "      <td>5.217883</td>\n",
       "      <td>2.070946</td>\n",
       "      <td>-1.058571</td>\n",
       "      <td>the</td>\n",
       "    </tr>\n",
       "    <tr>\n",
       "      <th>1</th>\n",
       "      <td>4.080164</td>\n",
       "      <td>3.066622</td>\n",
       "      <td>-0.724225</td>\n",
       "      <td>,</td>\n",
       "    </tr>\n",
       "    <tr>\n",
       "      <th>2</th>\n",
       "      <td>4.607367</td>\n",
       "      <td>2.446008</td>\n",
       "      <td>-0.396058</td>\n",
       "      <td>.</td>\n",
       "    </tr>\n",
       "    <tr>\n",
       "      <th>3</th>\n",
       "      <td>5.051972</td>\n",
       "      <td>2.094044</td>\n",
       "      <td>-1.148352</td>\n",
       "      <td>of</td>\n",
       "    </tr>\n",
       "    <tr>\n",
       "      <th>4</th>\n",
       "      <td>5.047372</td>\n",
       "      <td>2.344891</td>\n",
       "      <td>-0.247560</td>\n",
       "      <td>to</td>\n",
       "    </tr>\n",
       "    <tr>\n",
       "      <th>5</th>\n",
       "      <td>4.548764</td>\n",
       "      <td>2.682500</td>\n",
       "      <td>-0.435750</td>\n",
       "      <td>and</td>\n",
       "    </tr>\n",
       "    <tr>\n",
       "      <th>6</th>\n",
       "      <td>5.171853</td>\n",
       "      <td>1.915757</td>\n",
       "      <td>-1.470239</td>\n",
       "      <td>in</td>\n",
       "    </tr>\n",
       "    <tr>\n",
       "      <th>7</th>\n",
       "      <td>5.013679</td>\n",
       "      <td>2.319080</td>\n",
       "      <td>-0.123463</td>\n",
       "      <td>a</td>\n",
       "    </tr>\n",
       "    <tr>\n",
       "      <th>8</th>\n",
       "      <td>3.894762</td>\n",
       "      <td>2.546774</td>\n",
       "      <td>-0.950930</td>\n",
       "      <td>\"</td>\n",
       "    </tr>\n",
       "    <tr>\n",
       "      <th>9</th>\n",
       "      <td>4.349796</td>\n",
       "      <td>3.510722</td>\n",
       "      <td>-0.871976</td>\n",
       "      <td>'s</td>\n",
       "    </tr>\n",
       "  </tbody>\n",
       "</table>\n",
       "</div>"
      ],
      "text/plain": [
       "          x         y         z word\n",
       "0  5.217883  2.070946 -1.058571  the\n",
       "1  4.080164  3.066622 -0.724225    ,\n",
       "2  4.607367  2.446008 -0.396058    .\n",
       "3  5.051972  2.094044 -1.148352   of\n",
       "4  5.047372  2.344891 -0.247560   to\n",
       "5  4.548764  2.682500 -0.435750  and\n",
       "6  5.171853  1.915757 -1.470239   in\n",
       "7  5.013679  2.319080 -0.123463    a\n",
       "8  3.894762  2.546774 -0.950930    \"\n",
       "9  4.349796  3.510722 -0.871976   's"
      ]
     },
     "execution_count": 21,
     "metadata": {},
     "output_type": "execute_result"
    }
   ],
   "source": [
    "pca_result_df.head(10)"
   ]
  },
  {
   "cell_type": "code",
   "execution_count": 22,
   "metadata": {},
   "outputs": [
    {
     "data": {
      "application/vnd.plotly.v1+json": {
       "data": [
        {
         "marker": {
          "opacity": 0.8,
          "size": 4
         },
         "mode": "markers",
         "text": [
          "the",
          ",",
          ".",
          "of",
          "to",
          "and",
          "in",
          "a",
          "\"",
          "'s",
          "for",
          "-",
          "that",
          "on",
          "is",
          "was",
          "said",
          "with",
          "he",
          "as",
          "it",
          "by",
          "at",
          "(",
          ")",
          "from",
          "his",
          "''",
          "``",
          "an",
          "be",
          "has",
          "are",
          "have",
          "but",
          "were",
          "not",
          "this",
          "who",
          "they",
          "had",
          "i",
          "which",
          "will",
          "their",
          ":",
          "or",
          "its",
          "one",
          "after",
          "new",
          "been",
          "also",
          "we",
          "would",
          "two",
          "more",
          "'",
          "first",
          "about",
          "up",
          "when",
          "year",
          "there",
          "all",
          "--",
          "out",
          "she",
          "other",
          "people",
          "n't",
          "her",
          "percent",
          "than",
          "over",
          "into",
          "last",
          "some",
          "government",
          "time",
          "$",
          "you",
          "years",
          "if",
          "no",
          "world",
          "can",
          "three",
          "do",
          ";",
          "president",
          "only",
          "state",
          "million",
          "could",
          "us",
          "most",
          "_",
          "against",
          "u.s.",
          "so",
          "them",
          "what",
          "him",
          "united",
          "during",
          "before",
          "may",
          "since",
          "many",
          "while",
          "where",
          "states",
          "because",
          "now",
          "city",
          "made",
          "like",
          "between",
          "did",
          "just",
          "national",
          "day",
          "country",
          "under",
          "such",
          "second",
          "then",
          "company",
          "group",
          "any",
          "through",
          "china",
          "four",
          "being",
          "down",
          "war",
          "back",
          "off",
          "south",
          "american",
          "minister",
          "police",
          "well",
          "including",
          "team",
          "international",
          "week",
          "officials",
          "still",
          "both",
          "even",
          "high",
          "part",
          "told",
          "those",
          "end",
          "former",
          "these",
          "make",
          "billion",
          "work",
          "our",
          "home",
          "school",
          "party",
          "house",
          "old",
          "later",
          "get",
          "another",
          "tuesday",
          "news",
          "long",
          "five",
          "called",
          "1",
          "wednesday",
          "military",
          "way",
          "used",
          "much",
          "next",
          "monday",
          "thursday",
          "friday",
          "game",
          "here",
          "?",
          "should",
          "take",
          "very",
          "my",
          "north",
          "security",
          "season",
          "york",
          "how",
          "public",
          "early",
          "according",
          "several",
          "court",
          "say",
          "around",
          "foreign",
          "10",
          "until",
          "set",
          "political",
          "says",
          "market",
          "however",
          "family",
          "life",
          "same",
          "general",
          "–",
          "left",
          "good",
          "top",
          "university",
          "going",
          "number",
          "major",
          "known",
          "points",
          "won",
          "six",
          "month",
          "dollars",
          "bank",
          "2",
          "iraq",
          "use",
          "members",
          "each",
          "area",
          "found",
          "official",
          "sunday",
          "place",
          "go",
          "based",
          "among",
          "third",
          "times",
          "took",
          "right",
          "days",
          "local",
          "economic",
          "countries",
          "see",
          "best",
          "report",
          "killed",
          "held",
          "business",
          "west",
          "does",
          "own",
          "%",
          "came",
          "law",
          "months",
          "women",
          "'re",
          "power",
          "think",
          "service",
          "children",
          "bush",
          "show",
          "/",
          "help",
          "chief",
          "saturday",
          "system",
          "john",
          "support",
          "series",
          "play",
          "office",
          "following",
          "me",
          "meeting",
          "expected",
          "late",
          "washington",
          "games",
          "european",
          "league",
          "reported",
          "final",
          "added",
          "without",
          "british",
          "white",
          "history"
         ],
         "type": "scatter3d",
         "x": [
          5.2178826332092285,
          4.080163955688477,
          4.607367038726807,
          5.051972389221191,
          5.047371864318848,
          4.548764228820801,
          5.171853065490723,
          5.013679027557373,
          3.8947622776031494,
          4.349795818328857,
          5.019586086273193,
          4.995056629180908,
          4.863041400909424,
          5.127834796905518,
          4.5031819343566895,
          4.21574068069458,
          2.895820140838623,
          4.787626266479492,
          4.773887634277344,
          4.557002544403076,
          5.205573081970215,
          4.02437162399292,
          4.944502830505371,
          3.704150676727295,
          4.03278112411499,
          5.069934368133545,
          4.590205669403076,
          3.8114206790924072,
          4.46875524520874,
          4.523101329803467,
          4.986246109008789,
          4.552236557006836,
          5.110722541809082,
          5.225558757781982,
          4.773766994476318,
          4.937385082244873,
          4.89562463760376,
          4.922721862792969,
          3.9263429641723633,
          5.296085834503174,
          4.488701343536377,
          4.705794334411621,
          5.1714558601379395,
          4.791448593139648,
          5.45138692855835,
          4.320233345031738,
          5.023449897766113,
          5.530414581298828,
          4.917895793914795,
          4.781172752380371,
          4.930273532867432,
          4.853982925415039,
          4.178509712219238,
          4.867218971252441,
          4.770212650299072,
          5.127406120300293,
          5.2504801750183105,
          4.374081134796143,
          4.71268367767334,
          5.092301368713379,
          5.149620056152344,
          4.674875736236572,
          4.942036151885986,
          4.937905311584473,
          5.141549110412598,
          4.56583833694458,
          5.019871711730957,
          4.457321643829346,
          4.933334827423096,
          5.051964282989502,
          4.757823944091797,
          4.368105411529541,
          4.783598899841309,
          5.283315181732178,
          5.111250400543213,
          5.29787540435791,
          4.940832614898682,
          5.292090892791748,
          4.527088165283203,
          4.761722087860107,
          4.992644786834717,
          4.886549472808838,
          4.8770751953125,
          4.752091407775879,
          4.735993385314941,
          4.795853137969971,
          4.691144943237305,
          5.077899932861328,
          4.64803409576416,
          4.011398792266846,
          3.473130941390991,
          4.940255165100098,
          4.261643886566162,
          5.070796489715576,
          4.793835639953613,
          4.537652015686035,
          4.9478936195373535,
          4.722962379455566,
          4.675534248352051,
          4.21720027923584,
          4.816463947296143,
          4.9149651527404785,
          4.669689178466797,
          4.398906230926514,
          4.1666154861450195,
          4.782481670379639,
          4.891665458679199,
          4.562189102172852,
          4.945529460906982,
          5.026931285858154,
          4.497122764587402,
          4.860780239105225,
          4.275187015533447,
          4.864059925079346,
          4.735440731048584,
          4.815718173980713,
          4.353762149810791,
          4.507894039154053,
          4.967278480529785,
          4.187569618225098,
          5.023927688598633,
          4.287768363952637,
          4.7094831466674805,
          4.6671671867370605,
          4.544098377227783,
          4.534152030944824,
          4.385717391967773,
          4.474494934082031,
          4.165870666503906,
          4.314931869506836,
          4.967104911804199,
          4.930105686187744,
          4.339605808258057,
          5.134888648986816,
          4.731545925140381,
          4.896470546722412,
          4.652394771575928,
          4.750063896179199,
          4.890097141265869,
          4.334742546081543,
          4.214741230010986,
          2.197258472442627,
          3.9340438842773438,
          4.64332389831543,
          4.361494541168213,
          4.348050117492676,
          4.411818027496338,
          4.650645732879639,
          4.468663215637207,
          4.750858783721924,
          4.398144721984863,
          4.876686096191406,
          4.619489669799805,
          4.725464344024658,
          2.6265952587127686,
          5.062312602996826,
          4.718201637268066,
          3.4121336936950684,
          5.049242973327637,
          4.79095458984375,
          4.918956279754639,
          4.2191572189331055,
          4.825057506561279,
          4.4401726722717285,
          4.303912162780762,
          4.036200046539307,
          4.081459999084473,
          4.054792881011963,
          4.120891094207764,
          4.683141708374023,
          4.545617580413818,
          4.264697551727295,
          3.7698731422424316,
          4.812073707580566,
          4.997085094451904,
          3.858308792114258,
          4.479851245880127,
          4.297069072723389,
          4.512314319610596,
          4.734970569610596,
          4.626525402069092,
          4.865919589996338,
          4.757517337799072,
          4.246689319610596,
          4.239389419555664,
          4.361481189727783,
          4.754195690155029,
          4.385786056518555,
          4.35158634185791,
          4.5668511390686035,
          4.7363667488098145,
          4.400018692016602,
          4.707221508026123,
          4.455931663513184,
          4.086249828338623,
          4.49013614654541,
          4.077398300170898,
          4.582310199737549,
          4.379698753356934,
          4.653131484985352,
          3.5971579551696777,
          4.819587230682373,
          4.175404071807861,
          4.425426006317139,
          5.110074996948242,
          3.2390246391296387,
          4.681515693664551,
          4.754590034484863,
          4.416380405426025,
          4.412339687347412,
          3.0385701656341553,
          4.361115455627441,
          4.15492057800293,
          3.739661931991577,
          4.345252513885498,
          4.864373207092285,
          2.9015581607818604,
          3.7681710720062256,
          4.1544880867004395,
          4.331398010253906,
          4.245005130767822,
          4.056684970855713,
          4.5665602684021,
          4.459172248840332,
          4.114322185516357,
          3.986518144607544,
          4.03567361831665,
          3.8030996322631836,
          4.961667537689209,
          4.609411239624023,
          4.456545352935791,
          3.8336291313171387,
          4.482327461242676,
          4.124970436096191,
          4.781083583831787,
          4.230378150939941,
          4.917660236358643,
          4.487320899963379,
          4.209992408752441,
          3.672153949737549,
          4.409167766571045,
          4.6461310386657715,
          4.505756378173828,
          4.302409648895264,
          4.437122821807861,
          4.12890625,
          4.246614933013916,
          4.083444118499756,
          4.4358649253845215,
          4.752920150756836,
          4.125041961669922,
          4.127712726593018,
          4.6740498542785645,
          4.37303352355957,
          4.168416976928711,
          3.401319980621338,
          3.820361614227295,
          4.411803722381592,
          4.293152809143066,
          4.219047546386719,
          4.1071343421936035,
          4.693884372711182,
          4.0109148025512695,
          4.261250019073486,
          4.071909427642822,
          4.607010364532471,
          4.573031902313232,
          4.496438980102539,
          4.570049285888672,
          4.213707447052002,
          3.953650712966919,
          4.19566535949707,
          3.9409255981445312,
          4.187352180480957,
          3.098435640335083,
          4.2860283851623535,
          2.501636028289795,
          4.354288578033447,
          4.6849751472473145,
          2.6165950298309326,
          4.121442794799805,
          4.523322582244873,
          4.257070541381836,
          3.866569995880127,
          4.456691265106201,
          4.010591983795166,
          3.885617971420288,
          4.2550249099731445,
          4.215188980102539,
          3.6956558227539062,
          4.822420597076416,
          4.515860080718994,
          4.315235137939453,
          3.667271375656128,
          4.603273868560791,
          3.215358257293701,
          4.592963695526123,
          4.0335693359375,
          4.2002272605896,
          4.631114482879639
         ],
         "y": [
          2.070946455001831,
          3.066622018814087,
          2.4460084438323975,
          2.0940439701080322,
          2.344891309738159,
          2.6825003623962402,
          1.9157569408416748,
          2.319080114364624,
          2.546773910522461,
          3.5107216835021973,
          2.4039008617401123,
          3.1604366302490234,
          3.1892919540405273,
          2.158738613128662,
          2.282360076904297,
          3.1108717918395996,
          5.091142654418945,
          2.6761820316314697,
          3.227940559387207,
          2.5530459880828857,
          2.2760605812072754,
          3.3611459732055664,
          1.937423825263977,
          2.269376277923584,
          2.0446712970733643,
          2.0380942821502686,
          3.469371795654297,
          3.857792377471924,
          3.084557294845581,
          2.222385883331299,
          2.530836582183838,
          3.150235414505005,
          1.843488335609436,
          2.7170393466949463,
          2.990767478942871,
          2.317089796066284,
          2.8551361560821533,
          2.3247454166412354,
          4.005542278289795,
          2.4693210124969482,
          3.523098945617676,
          3.1591601371765137,
          1.9206010103225708,
          2.675534248352051,
          1.9069849252700806,
          2.4419102668762207,
          1.3781999349594116,
          1.379744529724121,
          2.4339232444763184,
          2.8760781288146973,
          2.228421926498413,
          2.791934013366699,
          2.9452199935913086,
          2.891317367553711,
          2.7919511795043945,
          2.3729429244995117,
          1.9154613018035889,
          2.8813862800598145,
          2.3363184928894043,
          2.27101469039917,
          2.3579483032226562,
          3.0870583057403564,
          2.3535900115966797,
          2.178570032119751,
          2.2891483306884766,
          3.0709025859832764,
          2.785637617111206,
          2.888289451599121,
          2.2260396480560303,
          1.847022533416748,
          3.097264051437378,
          3.0302629470825195,
          1.7641475200653076,
          1.7962274551391602,
          2.0879783630371094,
          1.7445112466812134,
          2.638535499572754,
          1.87891685962677,
          2.3563153743743896,
          2.433413505554199,
          1.7600023746490479,
          2.4111266136169434,
          2.46787166595459,
          2.654895067214966,
          2.363513469696045,
          2.0104639530181885,
          2.013894557952881,
          2.2201452255249023,
          2.4117701053619385,
          2.4508440494537354,
          4.312465190887451,
          2.0735814571380615,
          1.9698774814605713,
          1.6143949031829834,
          2.695683002471924,
          2.212541341781616,
          1.8066359758377075,
          2.2679789066314697,
          2.1388649940490723,
          2.5605368614196777,
          2.366381883621216,
          2.3577358722686768,
          2.970669746398926,
          3.3143179416656494,
          2.308798313140869,
          2.1059298515319824,
          2.4608235359191895,
          2.1275079250335693,
          2.2686145305633545,
          1.950107216835022,
          2.5117127895355225,
          1.888740062713623,
          2.0679080486297607,
          2.3942527770996094,
          2.2643017768859863,
          1.5527433156967163,
          2.823274612426758,
          2.728419542312622,
          1.5742791891098022,
          3.2211146354675293,
          2.232440710067749,
          1.859537124633789,
          2.1935460567474365,
          1.7743070125579834,
          2.5727615356445312,
          2.124203681945801,
          2.3620293140411377,
          2.6928811073303223,
          2.563824415206909,
          2.1685216426849365,
          1.9845471382141113,
          1.5605719089508057,
          1.3883297443389893,
          2.1072282791137695,
          2.30357027053833,
          2.316565752029419,
          1.839781403541565,
          2.773467540740967,
          2.5204906463623047,
          1.6098068952560425,
          2.3364040851593018,
          4.608575344085693,
          2.7502787113189697,
          2.2506468296051025,
          2.382450580596924,
          2.634830951690674,
          2.1262905597686768,
          2.5215330123901367,
          2.522796154022217,
          2.294142246246338,
          2.5040194988250732,
          2.2989211082458496,
          1.5037381649017334,
          1.5650684833526611,
          4.363831043243408,
          2.1830270290374756,
          2.0299863815307617,
          3.6561825275421143,
          1.6358048915863037,
          2.107966184616089,
          1.5362721681594849,
          2.431504964828491,
          2.064286470413208,
          2.0929372310638428,
          1.7360970973968506,
          2.2605299949645996,
          2.4974422454833984,
          2.6324963569641113,
          2.894443988800049,
          2.46476149559021,
          2.3059239387512207,
          2.7780911922454834,
          2.325554609298706,
          2.1277687549591064,
          2.066528797149658,
          2.3465051651000977,
          1.3772140741348267,
          2.7549993991851807,
          1.8727203607559204,
          2.222053289413452,
          1.798750877380371,
          2.2065041065216064,
          2.1299777030944824,
          2.7366366386413574,
          2.704669952392578,
          2.5883474349975586,
          1.9111961126327515,
          2.407566785812378,
          2.4148621559143066,
          2.4478816986083984,
          2.2681894302368164,
          2.311744451522827,
          2.482133150100708,
          1.296879768371582,
          2.171633005142212,
          1.9020010232925415,
          2.3497281074523926,
          2.747922897338867,
          1.7477471828460693,
          2.0664448738098145,
          2.632389545440674,
          2.128523349761963,
          2.418590545654297,
          2.6343834400177,
          1.3968497514724731,
          2.8740577697753906,
          1.8058981895446777,
          1.8647123575210571,
          1.9694554805755615,
          2.0876307487487793,
          3.819592237472534,
          1.7919328212738037,
          2.43211030960083,
          2.697018623352051,
          2.2969706058502197,
          2.125253915786743,
          3.7315995693206787,
          1.7525193691253662,
          2.59621262550354,
          2.459404706954956,
          2.322340488433838,
          2.3953909873962402,
          2.2237963676452637,
          1.4850369691848755,
          2.265657663345337,
          2.0481503009796143,
          2.2155709266662598,
          2.435089588165283,
          1.9589799642562866,
          2.256701946258545,
          1.2465490102767944,
          1.9344725608825684,
          1.5085393190383911,
          1.9883499145507812,
          1.4650987386703491,
          2.1361944675445557,
          1.6383519172668457,
          1.1181237697601318,
          2.3764431476593018,
          2.3975164890289307,
          2.216315507888794,
          1.5932550430297852,
          2.1234850883483887,
          1.9641536474227905,
          2.0671637058258057,
          2.24794602394104,
          2.1843554973602295,
          2.8035101890563965,
          2.614211320877075,
          1.980525255203247,
          1.284743070602417,
          1.9816077947616577,
          1.5056716203689575,
          2.2489724159240723,
          2.3283793926239014,
          2.757399082183838,
          2.6116435527801514,
          1.795408010482788,
          2.00433349609375,
          1.5356345176696777,
          2.558859348297119,
          2.138711452484131,
          0.7005130052566528,
          2.6349384784698486,
          2.4833662509918213,
          2.337803840637207,
          1.5229676961898804,
          2.169394016265869,
          1.7988924980163574,
          2.8432741165161133,
          1.3553332090377808,
          2.355170249938965,
          2.653068780899048,
          2.2602880001068115,
          1.9805867671966553,
          2.346952438354492,
          4.560297012329102,
          2.2034592628479004,
          0.9596021175384521,
          4.307602882385254,
          1.8797961473464966,
          1.9019438028335571,
          2.2618637084960938,
          2.645843505859375,
          1.8711014986038208,
          2.803164005279541,
          2.534452199935913,
          2.398972511291504,
          2.598238468170166,
          2.5898420810699463,
          1.5399757623672485,
          1.8185945749282837,
          1.6261955499649048,
          2.142603635787964,
          1.598456621170044,
          3.1878840923309326,
          2.028743267059326,
          2.200899362564087,
          2.588460922241211,
          1.603193759918213
         ],
         "z": [
          -1.0585708618164062,
          -0.7242254018783569,
          -0.3960582911968231,
          -1.148351788520813,
          -0.2475600242614746,
          -0.43575048446655273,
          -1.4702385663986206,
          -0.12346267700195312,
          -0.9509298801422119,
          -0.8719756603240967,
          0.02592506818473339,
          -0.4922875165939331,
          -0.12844283878803253,
          -0.3610430061817169,
          -1.303567886352539,
          -0.6610482931137085,
          -0.860348641872406,
          0.22870409488677979,
          -0.38212311267852783,
          -0.47116386890411377,
          -0.4118656516075134,
          -0.15876203775405884,
          -1.0082889795303345,
          -0.8639757633209229,
          -0.8848389983177185,
          -0.6935797333717346,
          0.1469135880470276,
          0.08389449119567871,
          0.01019576471298933,
          -0.23411798477172852,
          0.1248013898730278,
          -0.7029294371604919,
          0.11698328703641891,
          0.09254113584756851,
          0.09752873331308365,
          0.20646101236343384,
          0.07366552948951721,
          -0.36220240592956543,
          0.0866847038269043,
          0.08028656989336014,
          -0.0310906283557415,
          -0.12131775915622711,
          -0.7215238213539124,
          -0.1717761605978012,
          0.5028707981109619,
          -0.4041944742202759,
          0.37649455666542053,
          -0.5112227201461792,
          -0.15817739069461823,
          -0.25113987922668457,
          -0.3409225642681122,
          -0.27239590883255005,
          -0.7273156642913818,
          0.10537590086460114,
          -0.054702553898096085,
          0.299313485622406,
          0.7231321334838867,
          -0.6611437201499939,
          -0.15905709564685822,
          0.3468308448791504,
          0.5433729887008667,
          -0.03294345363974571,
          0.10503540188074112,
          -0.0920993760228157,
          0.37396734952926636,
          -0.6016637682914734,
          0.5059192180633545,
          -0.16639292240142822,
          -0.0339069627225399,
          -0.3677936792373657,
          0.43756303191185,
          0.289458692073822,
          0.5867879390716553,
          0.7351109385490417,
          0.0845438539981842,
          -0.4665961265563965,
          -0.20903107523918152,
          0.3014289438724518,
          -0.7858191132545471,
          0.37352949380874634,
          1.2481412887573242,
          0.5981608033180237,
          0.001452267519198358,
          0.17649491131305695,
          0.2115919440984726,
          -0.02641422487795353,
          0.4070308208465576,
          0.3364686369895935,
          -0.2986610233783722,
          -0.07968870550394058,
          -0.9592978954315186,
          0.25572869181632996,
          -2.13722825050354,
          0.5465436577796936,
          0.22724378108978271,
          0.6006151437759399,
          -0.004232018254697323,
          0.34064480662345886,
          -0.34345656633377075,
          0.2759147584438324,
          0.39008229970932007,
          0.7097261548042297,
          -0.0386916920542717,
          0.3498346209526062,
          -0.6640415787696838,
          -0.3339891731739044,
          -0.07815230637788773,
          -0.21215394139289856,
          -0.3796464204788208,
          0.12871623039245605,
          0.11623898148536682,
          -1.623279094696045,
          -0.5879612565040588,
          -0.005750241223722696,
          -0.6729226112365723,
          -2.6761980056762695,
          0.26563629508018494,
          -0.1456262320280075,
          -0.7772675156593323,
          -0.0425848513841629,
          0.20569008588790894,
          -1.653682827949524,
          -0.006716094445437193,
          -0.8681084513664246,
          -0.35837340354919434,
          -0.025252943858504295,
          -0.1900964230298996,
          -0.38880056142807007,
          -0.6963300108909607,
          -0.9949905872344971,
          0.593217670917511,
          -0.32688355445861816,
          -0.9464390277862549,
          0.4392050504684448,
          -0.07039099186658859,
          0.5725266337394714,
          -0.24072590470314026,
          0.1537345051765442,
          0.3013599216938019,
          -2.2252721786499023,
          0.20231324434280396,
          -0.635162353515625,
          -1.5053592920303345,
          -0.3050263524055481,
          -0.16796153783798218,
          -0.5228906869888306,
          -0.9119826555252075,
          -0.042366016656160355,
          -1.1191856861114502,
          0.08765128999948502,
          -0.13601814210414886,
          0.5177728533744812,
          -0.6206561326980591,
          -1.5967925786972046,
          -1.2705389261245728,
          0.7358153462409973,
          0.11649580299854279,
          -1.3659707307815552,
          0.45050501823425293,
          0.548595666885376,
          1.1274667978286743,
          0.15478037297725677,
          0.309195876121521,
          -0.4971223473548889,
          -1.5786821842193604,
          -0.6358272433280945,
          -0.4725551903247833,
          -0.3197431266307831,
          -0.6362414956092834,
          0.6197298765182495,
          -0.08618836849927902,
          -0.47160640358924866,
          -0.4928639531135559,
          0.2554307281970978,
          0.4660484492778778,
          -1.042258381843567,
          -0.33828622102737427,
          -0.5410668253898621,
          -0.5383549928665161,
          -0.05906711891293526,
          0.07635539025068283,
          0.20624472200870514,
          -0.18408574163913727,
          -0.4999394416809082,
          -0.49083182215690613,
          -0.4104382395744324,
          0.7678942680358887,
          -0.6735294461250305,
          0.23439933359622955,
          0.028694860637187958,
          0.06764485687017441,
          0.10203053057193756,
          0.3801271617412567,
          -2.3391871452331543,
          -0.19202451407909393,
          0.20856022834777832,
          -0.503764271736145,
          0.43292224407196045,
          -0.3607484698295593,
          -0.094345822930336,
          -0.7470020055770874,
          -0.20730885863304138,
          -1.2073791027069092,
          -0.24157965183258057,
          -0.22522087395191193,
          0.30898791551589966,
          0.507671594619751,
          -0.3427322804927826,
          0.5405950546264648,
          -0.15861839056015015,
          -0.2753155827522278,
          -0.10120654851198196,
          -0.32238534092903137,
          -0.30331140756607056,
          0.2684432566165924,
          0.09844698756933212,
          -1.0917377471923828,
          -1.03615140914917,
          -0.007867440581321716,
          0.2886132001876831,
          -0.08113952726125717,
          -2.6339004039764404,
          0.27449312806129456,
          0.5216522812843323,
          -0.8898939490318298,
          -1.4674996137619019,
          1.0773777961730957,
          -0.41697049140930176,
          0.6123390197753906,
          0.05370808020234108,
          1.2037854194641113,
          -1.3986788988113403,
          -0.1382392942905426,
          -0.14761319756507874,
          0.5901943445205688,
          -0.3253006637096405,
          0.6450236439704895,
          -2.1809239387512207,
          -0.45489701628685,
          -1.088150978088379,
          -0.7179429531097412,
          -0.6472966074943542,
          0.17857155203819275,
          -1.3472254276275635,
          0.09231339395046234,
          0.0978333130478859,
          0.25074303150177,
          -0.22038772702217102,
          0.2450249344110489,
          0.24215218424797058,
          -1.0949840545654297,
          -0.2312120646238327,
          -0.08197731524705887,
          -0.2887612283229828,
          0.4598720073699951,
          -0.48831257224082947,
          -0.5750774145126343,
          -0.8783842325210571,
          -0.282650887966156,
          -2.1917104721069336,
          -0.10842946171760559,
          0.4038226306438446,
          0.36471259593963623,
          -0.2574830651283264,
          -0.5166248679161072,
          0.4459858238697052,
          0.2061363309621811,
          0.872326672077179,
          -0.19701245427131653,
          0.12083979696035385,
          -0.1382598876953125,
          0.489434152841568,
          0.47540539503097534,
          0.16150188446044922,
          -0.5787109136581421,
          0.047591447830200195,
          -1.855475902557373,
          -0.8062918782234192,
          -0.2844606935977936,
          0.013759913854300976,
          0.09922471642494202,
          0.5115871429443359,
          0.07138222455978394,
          -1.0414170026779175,
          -0.47810691595077515,
          0.3122231364250183,
          -0.9895835518836975,
          0.038103047758340836,
          -0.1820414960384369,
          -0.6762931942939758,
          0.631252646446228,
          0.019094625487923622,
          -0.9087299704551697,
          -0.9762795567512512,
          0.12381497770547867,
          0.4435552954673767,
          0.7698224782943726,
          -0.08582614362239838,
          0.3591412901878357,
          -0.5110432505607605
         ]
        }
       ],
       "layout": {
        "margin": {
         "b": 0,
         "l": 0,
         "r": 0,
         "t": 0
        },
        "scene": {
         "annotations": [
          {
           "opacity": 1,
           "showarrow": false,
           "text": "the",
           "x": 5.2178826332092285,
           "xanchor": "left",
           "xshift": 5,
           "y": 2.070946455001831,
           "z": -1.0585708618164062
          },
          {
           "opacity": 1,
           "showarrow": false,
           "text": ",",
           "x": 4.080163955688477,
           "xanchor": "left",
           "xshift": 5,
           "y": 3.066622018814087,
           "z": -0.7242254018783569
          },
          {
           "opacity": 1,
           "showarrow": false,
           "text": ".",
           "x": 4.607367038726807,
           "xanchor": "left",
           "xshift": 5,
           "y": 2.4460084438323975,
           "z": -0.3960582911968231
          },
          {
           "opacity": 1,
           "showarrow": false,
           "text": "of",
           "x": 5.051972389221191,
           "xanchor": "left",
           "xshift": 5,
           "y": 2.0940439701080322,
           "z": -1.148351788520813
          },
          {
           "opacity": 1,
           "showarrow": false,
           "text": "to",
           "x": 5.047371864318848,
           "xanchor": "left",
           "xshift": 5,
           "y": 2.344891309738159,
           "z": -0.2475600242614746
          },
          {
           "opacity": 1,
           "showarrow": false,
           "text": "and",
           "x": 4.548764228820801,
           "xanchor": "left",
           "xshift": 5,
           "y": 2.6825003623962402,
           "z": -0.43575048446655273
          },
          {
           "opacity": 1,
           "showarrow": false,
           "text": "in",
           "x": 5.171853065490723,
           "xanchor": "left",
           "xshift": 5,
           "y": 1.9157569408416748,
           "z": -1.4702385663986206
          },
          {
           "opacity": 1,
           "showarrow": false,
           "text": "a",
           "x": 5.013679027557373,
           "xanchor": "left",
           "xshift": 5,
           "y": 2.319080114364624,
           "z": -0.12346267700195312
          },
          {
           "opacity": 1,
           "showarrow": false,
           "text": "\"",
           "x": 3.8947622776031494,
           "xanchor": "left",
           "xshift": 5,
           "y": 2.546773910522461,
           "z": -0.9509298801422119
          },
          {
           "opacity": 1,
           "showarrow": false,
           "text": "'s",
           "x": 4.349795818328857,
           "xanchor": "left",
           "xshift": 5,
           "y": 3.5107216835021973,
           "z": -0.8719756603240967
          },
          {
           "opacity": 1,
           "showarrow": false,
           "text": "for",
           "x": 5.019586086273193,
           "xanchor": "left",
           "xshift": 5,
           "y": 2.4039008617401123,
           "z": 0.02592506818473339
          },
          {
           "opacity": 1,
           "showarrow": false,
           "text": "-",
           "x": 4.995056629180908,
           "xanchor": "left",
           "xshift": 5,
           "y": 3.1604366302490234,
           "z": -0.4922875165939331
          },
          {
           "opacity": 1,
           "showarrow": false,
           "text": "that",
           "x": 4.863041400909424,
           "xanchor": "left",
           "xshift": 5,
           "y": 3.1892919540405273,
           "z": -0.12844283878803253
          },
          {
           "opacity": 1,
           "showarrow": false,
           "text": "on",
           "x": 5.127834796905518,
           "xanchor": "left",
           "xshift": 5,
           "y": 2.158738613128662,
           "z": -0.3610430061817169
          },
          {
           "opacity": 1,
           "showarrow": false,
           "text": "is",
           "x": 4.5031819343566895,
           "xanchor": "left",
           "xshift": 5,
           "y": 2.282360076904297,
           "z": -1.303567886352539
          },
          {
           "opacity": 1,
           "showarrow": false,
           "text": "was",
           "x": 4.21574068069458,
           "xanchor": "left",
           "xshift": 5,
           "y": 3.1108717918395996,
           "z": -0.6610482931137085
          },
          {
           "opacity": 1,
           "showarrow": false,
           "text": "said",
           "x": 2.895820140838623,
           "xanchor": "left",
           "xshift": 5,
           "y": 5.091142654418945,
           "z": -0.860348641872406
          },
          {
           "opacity": 1,
           "showarrow": false,
           "text": "with",
           "x": 4.787626266479492,
           "xanchor": "left",
           "xshift": 5,
           "y": 2.6761820316314697,
           "z": 0.22870409488677979
          },
          {
           "opacity": 1,
           "showarrow": false,
           "text": "he",
           "x": 4.773887634277344,
           "xanchor": "left",
           "xshift": 5,
           "y": 3.227940559387207,
           "z": -0.38212311267852783
          },
          {
           "opacity": 1,
           "showarrow": false,
           "text": "as",
           "x": 4.557002544403076,
           "xanchor": "left",
           "xshift": 5,
           "y": 2.5530459880828857,
           "z": -0.47116386890411377
          },
          {
           "opacity": 1,
           "showarrow": false,
           "text": "it",
           "x": 5.205573081970215,
           "xanchor": "left",
           "xshift": 5,
           "y": 2.2760605812072754,
           "z": -0.4118656516075134
          },
          {
           "opacity": 1,
           "showarrow": false,
           "text": "by",
           "x": 4.02437162399292,
           "xanchor": "left",
           "xshift": 5,
           "y": 3.3611459732055664,
           "z": -0.15876203775405884
          },
          {
           "opacity": 1,
           "showarrow": false,
           "text": "at",
           "x": 4.944502830505371,
           "xanchor": "left",
           "xshift": 5,
           "y": 1.937423825263977,
           "z": -1.0082889795303345
          },
          {
           "opacity": 1,
           "showarrow": false,
           "text": "(",
           "x": 3.704150676727295,
           "xanchor": "left",
           "xshift": 5,
           "y": 2.269376277923584,
           "z": -0.8639757633209229
          },
          {
           "opacity": 1,
           "showarrow": false,
           "text": ")",
           "x": 4.03278112411499,
           "xanchor": "left",
           "xshift": 5,
           "y": 2.0446712970733643,
           "z": -0.8848389983177185
          },
          {
           "opacity": 1,
           "showarrow": false,
           "text": "from",
           "x": 5.069934368133545,
           "xanchor": "left",
           "xshift": 5,
           "y": 2.0380942821502686,
           "z": -0.6935797333717346
          },
          {
           "opacity": 1,
           "showarrow": false,
           "text": "his",
           "x": 4.590205669403076,
           "xanchor": "left",
           "xshift": 5,
           "y": 3.469371795654297,
           "z": 0.1469135880470276
          },
          {
           "opacity": 1,
           "showarrow": false,
           "text": "''",
           "x": 3.8114206790924072,
           "xanchor": "left",
           "xshift": 5,
           "y": 3.857792377471924,
           "z": 0.08389449119567871
          },
          {
           "opacity": 1,
           "showarrow": false,
           "text": "``",
           "x": 4.46875524520874,
           "xanchor": "left",
           "xshift": 5,
           "y": 3.084557294845581,
           "z": 0.01019576471298933
          },
          {
           "opacity": 1,
           "showarrow": false,
           "text": "an",
           "x": 4.523101329803467,
           "xanchor": "left",
           "xshift": 5,
           "y": 2.222385883331299,
           "z": -0.23411798477172852
          },
          {
           "opacity": 1,
           "showarrow": false,
           "text": "be",
           "x": 4.986246109008789,
           "xanchor": "left",
           "xshift": 5,
           "y": 2.530836582183838,
           "z": 0.1248013898730278
          },
          {
           "opacity": 1,
           "showarrow": false,
           "text": "has",
           "x": 4.552236557006836,
           "xanchor": "left",
           "xshift": 5,
           "y": 3.150235414505005,
           "z": -0.7029294371604919
          },
          {
           "opacity": 1,
           "showarrow": false,
           "text": "are",
           "x": 5.110722541809082,
           "xanchor": "left",
           "xshift": 5,
           "y": 1.843488335609436,
           "z": 0.11698328703641891
          },
          {
           "opacity": 1,
           "showarrow": false,
           "text": "have",
           "x": 5.225558757781982,
           "xanchor": "left",
           "xshift": 5,
           "y": 2.7170393466949463,
           "z": 0.09254113584756851
          },
          {
           "opacity": 1,
           "showarrow": false,
           "text": "but",
           "x": 4.773766994476318,
           "xanchor": "left",
           "xshift": 5,
           "y": 2.990767478942871,
           "z": 0.09752873331308365
          },
          {
           "opacity": 1,
           "showarrow": false,
           "text": "were",
           "x": 4.937385082244873,
           "xanchor": "left",
           "xshift": 5,
           "y": 2.317089796066284,
           "z": 0.20646101236343384
          },
          {
           "opacity": 1,
           "showarrow": false,
           "text": "not",
           "x": 4.89562463760376,
           "xanchor": "left",
           "xshift": 5,
           "y": 2.8551361560821533,
           "z": 0.07366552948951721
          },
          {
           "opacity": 1,
           "showarrow": false,
           "text": "this",
           "x": 4.922721862792969,
           "xanchor": "left",
           "xshift": 5,
           "y": 2.3247454166412354,
           "z": -0.36220240592956543
          },
          {
           "opacity": 1,
           "showarrow": false,
           "text": "who",
           "x": 3.9263429641723633,
           "xanchor": "left",
           "xshift": 5,
           "y": 4.005542278289795,
           "z": 0.0866847038269043
          },
          {
           "opacity": 1,
           "showarrow": false,
           "text": "they",
           "x": 5.296085834503174,
           "xanchor": "left",
           "xshift": 5,
           "y": 2.4693210124969482,
           "z": 0.08028656989336014
          },
          {
           "opacity": 1,
           "showarrow": false,
           "text": "had",
           "x": 4.488701343536377,
           "xanchor": "left",
           "xshift": 5,
           "y": 3.523098945617676,
           "z": -0.0310906283557415
          },
          {
           "opacity": 1,
           "showarrow": false,
           "text": "i",
           "x": 4.705794334411621,
           "xanchor": "left",
           "xshift": 5,
           "y": 3.1591601371765137,
           "z": -0.12131775915622711
          },
          {
           "opacity": 1,
           "showarrow": false,
           "text": "which",
           "x": 5.1714558601379395,
           "xanchor": "left",
           "xshift": 5,
           "y": 1.9206010103225708,
           "z": -0.7215238213539124
          },
          {
           "opacity": 1,
           "showarrow": false,
           "text": "will",
           "x": 4.791448593139648,
           "xanchor": "left",
           "xshift": 5,
           "y": 2.675534248352051,
           "z": -0.1717761605978012
          },
          {
           "opacity": 1,
           "showarrow": false,
           "text": "their",
           "x": 5.45138692855835,
           "xanchor": "left",
           "xshift": 5,
           "y": 1.9069849252700806,
           "z": 0.5028707981109619
          },
          {
           "opacity": 1,
           "showarrow": false,
           "text": ":",
           "x": 4.320233345031738,
           "xanchor": "left",
           "xshift": 5,
           "y": 2.4419102668762207,
           "z": -0.4041944742202759
          },
          {
           "opacity": 1,
           "showarrow": false,
           "text": "or",
           "x": 5.023449897766113,
           "xanchor": "left",
           "xshift": 5,
           "y": 1.3781999349594116,
           "z": 0.37649455666542053
          },
          {
           "opacity": 1,
           "showarrow": false,
           "text": "its",
           "x": 5.530414581298828,
           "xanchor": "left",
           "xshift": 5,
           "y": 1.379744529724121,
           "z": -0.5112227201461792
          },
          {
           "opacity": 1,
           "showarrow": false,
           "text": "one",
           "x": 4.917895793914795,
           "xanchor": "left",
           "xshift": 5,
           "y": 2.4339232444763184,
           "z": -0.15817739069461823
          },
          {
           "opacity": 1,
           "showarrow": false,
           "text": "after",
           "x": 4.781172752380371,
           "xanchor": "left",
           "xshift": 5,
           "y": 2.8760781288146973,
           "z": -0.25113987922668457
          },
          {
           "opacity": 1,
           "showarrow": false,
           "text": "new",
           "x": 4.930273532867432,
           "xanchor": "left",
           "xshift": 5,
           "y": 2.228421926498413,
           "z": -0.3409225642681122
          },
          {
           "opacity": 1,
           "showarrow": false,
           "text": "been",
           "x": 4.853982925415039,
           "xanchor": "left",
           "xshift": 5,
           "y": 2.791934013366699,
           "z": -0.27239590883255005
          },
          {
           "opacity": 1,
           "showarrow": false,
           "text": "also",
           "x": 4.178509712219238,
           "xanchor": "left",
           "xshift": 5,
           "y": 2.9452199935913086,
           "z": -0.7273156642913818
          },
          {
           "opacity": 1,
           "showarrow": false,
           "text": "we",
           "x": 4.867218971252441,
           "xanchor": "left",
           "xshift": 5,
           "y": 2.891317367553711,
           "z": 0.10537590086460114
          },
          {
           "opacity": 1,
           "showarrow": false,
           "text": "would",
           "x": 4.770212650299072,
           "xanchor": "left",
           "xshift": 5,
           "y": 2.7919511795043945,
           "z": -0.054702553898096085
          },
          {
           "opacity": 1,
           "showarrow": false,
           "text": "two",
           "x": 5.127406120300293,
           "xanchor": "left",
           "xshift": 5,
           "y": 2.3729429244995117,
           "z": 0.299313485622406
          },
          {
           "opacity": 1,
           "showarrow": false,
           "text": "more",
           "x": 5.2504801750183105,
           "xanchor": "left",
           "xshift": 5,
           "y": 1.9154613018035889,
           "z": 0.7231321334838867
          },
          {
           "opacity": 1,
           "showarrow": false,
           "text": "'",
           "x": 4.374081134796143,
           "xanchor": "left",
           "xshift": 5,
           "y": 2.8813862800598145,
           "z": -0.6611437201499939
          },
          {
           "opacity": 1,
           "showarrow": false,
           "text": "first",
           "x": 4.71268367767334,
           "xanchor": "left",
           "xshift": 5,
           "y": 2.3363184928894043,
           "z": -0.15905709564685822
          },
          {
           "opacity": 1,
           "showarrow": false,
           "text": "about",
           "x": 5.092301368713379,
           "xanchor": "left",
           "xshift": 5,
           "y": 2.27101469039917,
           "z": 0.3468308448791504
          },
          {
           "opacity": 1,
           "showarrow": false,
           "text": "up",
           "x": 5.149620056152344,
           "xanchor": "left",
           "xshift": 5,
           "y": 2.3579483032226562,
           "z": 0.5433729887008667
          },
          {
           "opacity": 1,
           "showarrow": false,
           "text": "when",
           "x": 4.674875736236572,
           "xanchor": "left",
           "xshift": 5,
           "y": 3.0870583057403564,
           "z": -0.03294345363974571
          },
          {
           "opacity": 1,
           "showarrow": false,
           "text": "year",
           "x": 4.942036151885986,
           "xanchor": "left",
           "xshift": 5,
           "y": 2.3535900115966797,
           "z": 0.10503540188074112
          },
          {
           "opacity": 1,
           "showarrow": false,
           "text": "there",
           "x": 4.937905311584473,
           "xanchor": "left",
           "xshift": 5,
           "y": 2.178570032119751,
           "z": -0.0920993760228157
          },
          {
           "opacity": 1,
           "showarrow": false,
           "text": "all",
           "x": 5.141549110412598,
           "xanchor": "left",
           "xshift": 5,
           "y": 2.2891483306884766,
           "z": 0.37396734952926636
          },
          {
           "opacity": 1,
           "showarrow": false,
           "text": "--",
           "x": 4.56583833694458,
           "xanchor": "left",
           "xshift": 5,
           "y": 3.0709025859832764,
           "z": -0.6016637682914734
          },
          {
           "opacity": 1,
           "showarrow": false,
           "text": "out",
           "x": 5.019871711730957,
           "xanchor": "left",
           "xshift": 5,
           "y": 2.785637617111206,
           "z": 0.5059192180633545
          },
          {
           "opacity": 1,
           "showarrow": false,
           "text": "she",
           "x": 4.457321643829346,
           "xanchor": "left",
           "xshift": 5,
           "y": 2.888289451599121,
           "z": -0.16639292240142822
          },
          {
           "opacity": 1,
           "showarrow": false,
           "text": "other",
           "x": 4.933334827423096,
           "xanchor": "left",
           "xshift": 5,
           "y": 2.2260396480560303,
           "z": -0.0339069627225399
          },
          {
           "opacity": 1,
           "showarrow": false,
           "text": "people",
           "x": 5.051964282989502,
           "xanchor": "left",
           "xshift": 5,
           "y": 1.847022533416748,
           "z": -0.3677936792373657
          },
          {
           "opacity": 1,
           "showarrow": false,
           "text": "n't",
           "x": 4.757823944091797,
           "xanchor": "left",
           "xshift": 5,
           "y": 3.097264051437378,
           "z": 0.43756303191185
          },
          {
           "opacity": 1,
           "showarrow": false,
           "text": "her",
           "x": 4.368105411529541,
           "xanchor": "left",
           "xshift": 5,
           "y": 3.0302629470825195,
           "z": 0.289458692073822
          },
          {
           "opacity": 1,
           "showarrow": false,
           "text": "percent",
           "x": 4.783598899841309,
           "xanchor": "left",
           "xshift": 5,
           "y": 1.7641475200653076,
           "z": 0.5867879390716553
          },
          {
           "opacity": 1,
           "showarrow": false,
           "text": "than",
           "x": 5.283315181732178,
           "xanchor": "left",
           "xshift": 5,
           "y": 1.7962274551391602,
           "z": 0.7351109385490417
          },
          {
           "opacity": 1,
           "showarrow": false,
           "text": "over",
           "x": 5.111250400543213,
           "xanchor": "left",
           "xshift": 5,
           "y": 2.0879783630371094,
           "z": 0.0845438539981842
          },
          {
           "opacity": 1,
           "showarrow": false,
           "text": "into",
           "x": 5.29787540435791,
           "xanchor": "left",
           "xshift": 5,
           "y": 1.7445112466812134,
           "z": -0.4665961265563965
          },
          {
           "opacity": 1,
           "showarrow": false,
           "text": "last",
           "x": 4.940832614898682,
           "xanchor": "left",
           "xshift": 5,
           "y": 2.638535499572754,
           "z": -0.20903107523918152
          },
          {
           "opacity": 1,
           "showarrow": false,
           "text": "some",
           "x": 5.292090892791748,
           "xanchor": "left",
           "xshift": 5,
           "y": 1.87891685962677,
           "z": 0.3014289438724518
          },
          {
           "opacity": 1,
           "showarrow": false,
           "text": "government",
           "x": 4.527088165283203,
           "xanchor": "left",
           "xshift": 5,
           "y": 2.3563153743743896,
           "z": -0.7858191132545471
          },
          {
           "opacity": 1,
           "showarrow": false,
           "text": "time",
           "x": 4.761722087860107,
           "xanchor": "left",
           "xshift": 5,
           "y": 2.433413505554199,
           "z": 0.37352949380874634
          },
          {
           "opacity": 1,
           "showarrow": false,
           "text": "$",
           "x": 4.992644786834717,
           "xanchor": "left",
           "xshift": 5,
           "y": 1.7600023746490479,
           "z": 1.2481412887573242
          },
          {
           "opacity": 1,
           "showarrow": false,
           "text": "you",
           "x": 4.886549472808838,
           "xanchor": "left",
           "xshift": 5,
           "y": 2.4111266136169434,
           "z": 0.5981608033180237
          },
          {
           "opacity": 1,
           "showarrow": false,
           "text": "years",
           "x": 4.8770751953125,
           "xanchor": "left",
           "xshift": 5,
           "y": 2.46787166595459,
           "z": 0.001452267519198358
          },
          {
           "opacity": 1,
           "showarrow": false,
           "text": "if",
           "x": 4.752091407775879,
           "xanchor": "left",
           "xshift": 5,
           "y": 2.654895067214966,
           "z": 0.17649491131305695
          },
          {
           "opacity": 1,
           "showarrow": false,
           "text": "no",
           "x": 4.735993385314941,
           "xanchor": "left",
           "xshift": 5,
           "y": 2.363513469696045,
           "z": 0.2115919440984726
          },
          {
           "opacity": 1,
           "showarrow": false,
           "text": "world",
           "x": 4.795853137969971,
           "xanchor": "left",
           "xshift": 5,
           "y": 2.0104639530181885,
           "z": -0.02641422487795353
          },
          {
           "opacity": 1,
           "showarrow": false,
           "text": "can",
           "x": 4.691144943237305,
           "xanchor": "left",
           "xshift": 5,
           "y": 2.013894557952881,
           "z": 0.4070308208465576
          },
          {
           "opacity": 1,
           "showarrow": false,
           "text": "three",
           "x": 5.077899932861328,
           "xanchor": "left",
           "xshift": 5,
           "y": 2.2201452255249023,
           "z": 0.3364686369895935
          },
          {
           "opacity": 1,
           "showarrow": false,
           "text": "do",
           "x": 4.64803409576416,
           "xanchor": "left",
           "xshift": 5,
           "y": 2.4117701053619385,
           "z": -0.2986610233783722
          },
          {
           "opacity": 1,
           "showarrow": false,
           "text": ";",
           "x": 4.011398792266846,
           "xanchor": "left",
           "xshift": 5,
           "y": 2.4508440494537354,
           "z": -0.07968870550394058
          },
          {
           "opacity": 1,
           "showarrow": false,
           "text": "president",
           "x": 3.473130941390991,
           "xanchor": "left",
           "xshift": 5,
           "y": 4.312465190887451,
           "z": -0.9592978954315186
          },
          {
           "opacity": 1,
           "showarrow": false,
           "text": "only",
           "x": 4.940255165100098,
           "xanchor": "left",
           "xshift": 5,
           "y": 2.0735814571380615,
           "z": 0.25572869181632996
          },
          {
           "opacity": 1,
           "showarrow": false,
           "text": "state",
           "x": 4.261643886566162,
           "xanchor": "left",
           "xshift": 5,
           "y": 1.9698774814605713,
           "z": -2.13722825050354
          },
          {
           "opacity": 1,
           "showarrow": false,
           "text": "million",
           "x": 5.070796489715576,
           "xanchor": "left",
           "xshift": 5,
           "y": 1.6143949031829834,
           "z": 0.5465436577796936
          },
          {
           "opacity": 1,
           "showarrow": false,
           "text": "could",
           "x": 4.793835639953613,
           "xanchor": "left",
           "xshift": 5,
           "y": 2.695683002471924,
           "z": 0.22724378108978271
          },
          {
           "opacity": 1,
           "showarrow": false,
           "text": "us",
           "x": 4.537652015686035,
           "xanchor": "left",
           "xshift": 5,
           "y": 2.212541341781616,
           "z": 0.6006151437759399
          },
          {
           "opacity": 1,
           "showarrow": false,
           "text": "most",
           "x": 4.9478936195373535,
           "xanchor": "left",
           "xshift": 5,
           "y": 1.8066359758377075,
           "z": -0.004232018254697323
          },
          {
           "opacity": 1,
           "showarrow": false,
           "text": "_",
           "x": 4.722962379455566,
           "xanchor": "left",
           "xshift": 5,
           "y": 2.2679789066314697,
           "z": 0.34064480662345886
          },
          {
           "opacity": 1,
           "showarrow": false,
           "text": "against",
           "x": 4.675534248352051,
           "xanchor": "left",
           "xshift": 5,
           "y": 2.1388649940490723,
           "z": -0.34345656633377075
          },
          {
           "opacity": 1,
           "showarrow": false,
           "text": "u.s.",
           "x": 4.21720027923584,
           "xanchor": "left",
           "xshift": 5,
           "y": 2.5605368614196777,
           "z": 0.2759147584438324
          },
          {
           "opacity": 1,
           "showarrow": false,
           "text": "so",
           "x": 4.816463947296143,
           "xanchor": "left",
           "xshift": 5,
           "y": 2.366381883621216,
           "z": 0.39008229970932007
          },
          {
           "opacity": 1,
           "showarrow": false,
           "text": "them",
           "x": 4.9149651527404785,
           "xanchor": "left",
           "xshift": 5,
           "y": 2.3577358722686768,
           "z": 0.7097261548042297
          },
          {
           "opacity": 1,
           "showarrow": false,
           "text": "what",
           "x": 4.669689178466797,
           "xanchor": "left",
           "xshift": 5,
           "y": 2.970669746398926,
           "z": -0.0386916920542717
          },
          {
           "opacity": 1,
           "showarrow": false,
           "text": "him",
           "x": 4.398906230926514,
           "xanchor": "left",
           "xshift": 5,
           "y": 3.3143179416656494,
           "z": 0.3498346209526062
          },
          {
           "opacity": 1,
           "showarrow": false,
           "text": "united",
           "x": 4.1666154861450195,
           "xanchor": "left",
           "xshift": 5,
           "y": 2.308798313140869,
           "z": -0.6640415787696838
          },
          {
           "opacity": 1,
           "showarrow": false,
           "text": "during",
           "x": 4.782481670379639,
           "xanchor": "left",
           "xshift": 5,
           "y": 2.1059298515319824,
           "z": -0.3339891731739044
          },
          {
           "opacity": 1,
           "showarrow": false,
           "text": "before",
           "x": 4.891665458679199,
           "xanchor": "left",
           "xshift": 5,
           "y": 2.4608235359191895,
           "z": -0.07815230637788773
          },
          {
           "opacity": 1,
           "showarrow": false,
           "text": "may",
           "x": 4.562189102172852,
           "xanchor": "left",
           "xshift": 5,
           "y": 2.1275079250335693,
           "z": -0.21215394139289856
          },
          {
           "opacity": 1,
           "showarrow": false,
           "text": "since",
           "x": 4.945529460906982,
           "xanchor": "left",
           "xshift": 5,
           "y": 2.2686145305633545,
           "z": -0.3796464204788208
          },
          {
           "opacity": 1,
           "showarrow": false,
           "text": "many",
           "x": 5.026931285858154,
           "xanchor": "left",
           "xshift": 5,
           "y": 1.950107216835022,
           "z": 0.12871623039245605
          },
          {
           "opacity": 1,
           "showarrow": false,
           "text": "while",
           "x": 4.497122764587402,
           "xanchor": "left",
           "xshift": 5,
           "y": 2.5117127895355225,
           "z": 0.11623898148536682
          },
          {
           "opacity": 1,
           "showarrow": false,
           "text": "where",
           "x": 4.860780239105225,
           "xanchor": "left",
           "xshift": 5,
           "y": 1.888740062713623,
           "z": -1.623279094696045
          },
          {
           "opacity": 1,
           "showarrow": false,
           "text": "states",
           "x": 4.275187015533447,
           "xanchor": "left",
           "xshift": 5,
           "y": 2.0679080486297607,
           "z": -0.5879612565040588
          },
          {
           "opacity": 1,
           "showarrow": false,
           "text": "because",
           "x": 4.864059925079346,
           "xanchor": "left",
           "xshift": 5,
           "y": 2.3942527770996094,
           "z": -0.005750241223722696
          },
          {
           "opacity": 1,
           "showarrow": false,
           "text": "now",
           "x": 4.735440731048584,
           "xanchor": "left",
           "xshift": 5,
           "y": 2.2643017768859863,
           "z": -0.6729226112365723
          },
          {
           "opacity": 1,
           "showarrow": false,
           "text": "city",
           "x": 4.815718173980713,
           "xanchor": "left",
           "xshift": 5,
           "y": 1.5527433156967163,
           "z": -2.6761980056762695
          },
          {
           "opacity": 1,
           "showarrow": false,
           "text": "made",
           "x": 4.353762149810791,
           "xanchor": "left",
           "xshift": 5,
           "y": 2.823274612426758,
           "z": 0.26563629508018494
          },
          {
           "opacity": 1,
           "showarrow": false,
           "text": "like",
           "x": 4.507894039154053,
           "xanchor": "left",
           "xshift": 5,
           "y": 2.728419542312622,
           "z": -0.1456262320280075
          },
          {
           "opacity": 1,
           "showarrow": false,
           "text": "between",
           "x": 4.967278480529785,
           "xanchor": "left",
           "xshift": 5,
           "y": 1.5742791891098022,
           "z": -0.7772675156593323
          },
          {
           "opacity": 1,
           "showarrow": false,
           "text": "did",
           "x": 4.187569618225098,
           "xanchor": "left",
           "xshift": 5,
           "y": 3.2211146354675293,
           "z": -0.0425848513841629
          },
          {
           "opacity": 1,
           "showarrow": false,
           "text": "just",
           "x": 5.023927688598633,
           "xanchor": "left",
           "xshift": 5,
           "y": 2.232440710067749,
           "z": 0.20569008588790894
          },
          {
           "opacity": 1,
           "showarrow": false,
           "text": "national",
           "x": 4.287768363952637,
           "xanchor": "left",
           "xshift": 5,
           "y": 1.859537124633789,
           "z": -1.653682827949524
          },
          {
           "opacity": 1,
           "showarrow": false,
           "text": "day",
           "x": 4.7094831466674805,
           "xanchor": "left",
           "xshift": 5,
           "y": 2.1935460567474365,
           "z": -0.006716094445437193
          },
          {
           "opacity": 1,
           "showarrow": false,
           "text": "country",
           "x": 4.6671671867370605,
           "xanchor": "left",
           "xshift": 5,
           "y": 1.7743070125579834,
           "z": -0.8681084513664246
          },
          {
           "opacity": 1,
           "showarrow": false,
           "text": "under",
           "x": 4.544098377227783,
           "xanchor": "left",
           "xshift": 5,
           "y": 2.5727615356445312,
           "z": -0.35837340354919434
          },
          {
           "opacity": 1,
           "showarrow": false,
           "text": "such",
           "x": 4.534152030944824,
           "xanchor": "left",
           "xshift": 5,
           "y": 2.124203681945801,
           "z": -0.025252943858504295
          },
          {
           "opacity": 1,
           "showarrow": false,
           "text": "second",
           "x": 4.385717391967773,
           "xanchor": "left",
           "xshift": 5,
           "y": 2.3620293140411377,
           "z": -0.1900964230298996
          },
          {
           "opacity": 1,
           "showarrow": false,
           "text": "then",
           "x": 4.474494934082031,
           "xanchor": "left",
           "xshift": 5,
           "y": 2.6928811073303223,
           "z": -0.38880056142807007
          },
          {
           "opacity": 1,
           "showarrow": false,
           "text": "company",
           "x": 4.165870666503906,
           "xanchor": "left",
           "xshift": 5,
           "y": 2.563824415206909,
           "z": -0.6963300108909607
          },
          {
           "opacity": 1,
           "showarrow": false,
           "text": "group",
           "x": 4.314931869506836,
           "xanchor": "left",
           "xshift": 5,
           "y": 2.1685216426849365,
           "z": -0.9949905872344971
          },
          {
           "opacity": 1,
           "showarrow": false,
           "text": "any",
           "x": 4.967104911804199,
           "xanchor": "left",
           "xshift": 5,
           "y": 1.9845471382141113,
           "z": 0.593217670917511
          },
          {
           "opacity": 1,
           "showarrow": false,
           "text": "through",
           "x": 4.930105686187744,
           "xanchor": "left",
           "xshift": 5,
           "y": 1.5605719089508057,
           "z": -0.32688355445861816
          },
          {
           "opacity": 1,
           "showarrow": false,
           "text": "china",
           "x": 4.339605808258057,
           "xanchor": "left",
           "xshift": 5,
           "y": 1.3883297443389893,
           "z": -0.9464390277862549
          },
          {
           "opacity": 1,
           "showarrow": false,
           "text": "four",
           "x": 5.134888648986816,
           "xanchor": "left",
           "xshift": 5,
           "y": 2.1072282791137695,
           "z": 0.4392050504684448
          },
          {
           "opacity": 1,
           "showarrow": false,
           "text": "being",
           "x": 4.731545925140381,
           "xanchor": "left",
           "xshift": 5,
           "y": 2.30357027053833,
           "z": -0.07039099186658859
          },
          {
           "opacity": 1,
           "showarrow": false,
           "text": "down",
           "x": 4.896470546722412,
           "xanchor": "left",
           "xshift": 5,
           "y": 2.316565752029419,
           "z": 0.5725266337394714
          },
          {
           "opacity": 1,
           "showarrow": false,
           "text": "war",
           "x": 4.652394771575928,
           "xanchor": "left",
           "xshift": 5,
           "y": 1.839781403541565,
           "z": -0.24072590470314026
          },
          {
           "opacity": 1,
           "showarrow": false,
           "text": "back",
           "x": 4.750063896179199,
           "xanchor": "left",
           "xshift": 5,
           "y": 2.773467540740967,
           "z": 0.1537345051765442
          },
          {
           "opacity": 1,
           "showarrow": false,
           "text": "off",
           "x": 4.890097141265869,
           "xanchor": "left",
           "xshift": 5,
           "y": 2.5204906463623047,
           "z": 0.3013599216938019
          },
          {
           "opacity": 1,
           "showarrow": false,
           "text": "south",
           "x": 4.334742546081543,
           "xanchor": "left",
           "xshift": 5,
           "y": 1.6098068952560425,
           "z": -2.2252721786499023
          },
          {
           "opacity": 1,
           "showarrow": false,
           "text": "american",
           "x": 4.214741230010986,
           "xanchor": "left",
           "xshift": 5,
           "y": 2.3364040851593018,
           "z": 0.20231324434280396
          },
          {
           "opacity": 1,
           "showarrow": false,
           "text": "minister",
           "x": 2.197258472442627,
           "xanchor": "left",
           "xshift": 5,
           "y": 4.608575344085693,
           "z": -0.635162353515625
          },
          {
           "opacity": 1,
           "showarrow": false,
           "text": "police",
           "x": 3.9340438842773438,
           "xanchor": "left",
           "xshift": 5,
           "y": 2.7502787113189697,
           "z": -1.5053592920303345
          },
          {
           "opacity": 1,
           "showarrow": false,
           "text": "well",
           "x": 4.64332389831543,
           "xanchor": "left",
           "xshift": 5,
           "y": 2.2506468296051025,
           "z": -0.3050263524055481
          },
          {
           "opacity": 1,
           "showarrow": false,
           "text": "including",
           "x": 4.361494541168213,
           "xanchor": "left",
           "xshift": 5,
           "y": 2.382450580596924,
           "z": -0.16796153783798218
          },
          {
           "opacity": 1,
           "showarrow": false,
           "text": "team",
           "x": 4.348050117492676,
           "xanchor": "left",
           "xshift": 5,
           "y": 2.634830951690674,
           "z": -0.5228906869888306
          },
          {
           "opacity": 1,
           "showarrow": false,
           "text": "international",
           "x": 4.411818027496338,
           "xanchor": "left",
           "xshift": 5,
           "y": 2.1262905597686768,
           "z": -0.9119826555252075
          },
          {
           "opacity": 1,
           "showarrow": false,
           "text": "week",
           "x": 4.650645732879639,
           "xanchor": "left",
           "xshift": 5,
           "y": 2.5215330123901367,
           "z": -0.042366016656160355
          },
          {
           "opacity": 1,
           "showarrow": false,
           "text": "officials",
           "x": 4.468663215637207,
           "xanchor": "left",
           "xshift": 5,
           "y": 2.522796154022217,
           "z": -1.1191856861114502
          },
          {
           "opacity": 1,
           "showarrow": false,
           "text": "still",
           "x": 4.750858783721924,
           "xanchor": "left",
           "xshift": 5,
           "y": 2.294142246246338,
           "z": 0.08765128999948502
          },
          {
           "opacity": 1,
           "showarrow": false,
           "text": "both",
           "x": 4.398144721984863,
           "xanchor": "left",
           "xshift": 5,
           "y": 2.5040194988250732,
           "z": -0.13601814210414886
          },
          {
           "opacity": 1,
           "showarrow": false,
           "text": "even",
           "x": 4.876686096191406,
           "xanchor": "left",
           "xshift": 5,
           "y": 2.2989211082458496,
           "z": 0.5177728533744812
          },
          {
           "opacity": 1,
           "showarrow": false,
           "text": "high",
           "x": 4.619489669799805,
           "xanchor": "left",
           "xshift": 5,
           "y": 1.5037381649017334,
           "z": -0.6206561326980591
          },
          {
           "opacity": 1,
           "showarrow": false,
           "text": "part",
           "x": 4.725464344024658,
           "xanchor": "left",
           "xshift": 5,
           "y": 1.5650684833526611,
           "z": -1.5967925786972046
          },
          {
           "opacity": 1,
           "showarrow": false,
           "text": "told",
           "x": 2.6265952587127686,
           "xanchor": "left",
           "xshift": 5,
           "y": 4.363831043243408,
           "z": -1.2705389261245728
          },
          {
           "opacity": 1,
           "showarrow": false,
           "text": "those",
           "x": 5.062312602996826,
           "xanchor": "left",
           "xshift": 5,
           "y": 2.1830270290374756,
           "z": 0.7358153462409973
          },
          {
           "opacity": 1,
           "showarrow": false,
           "text": "end",
           "x": 4.718201637268066,
           "xanchor": "left",
           "xshift": 5,
           "y": 2.0299863815307617,
           "z": 0.11649580299854279
          },
          {
           "opacity": 1,
           "showarrow": false,
           "text": "former",
           "x": 3.4121336936950684,
           "xanchor": "left",
           "xshift": 5,
           "y": 3.6561825275421143,
           "z": -1.3659707307815552
          },
          {
           "opacity": 1,
           "showarrow": false,
           "text": "these",
           "x": 5.049242973327637,
           "xanchor": "left",
           "xshift": 5,
           "y": 1.6358048915863037,
           "z": 0.45050501823425293
          },
          {
           "opacity": 1,
           "showarrow": false,
           "text": "make",
           "x": 4.79095458984375,
           "xanchor": "left",
           "xshift": 5,
           "y": 2.107966184616089,
           "z": 0.548595666885376
          },
          {
           "opacity": 1,
           "showarrow": false,
           "text": "billion",
           "x": 4.918956279754639,
           "xanchor": "left",
           "xshift": 5,
           "y": 1.5362721681594849,
           "z": 1.1274667978286743
          },
          {
           "opacity": 1,
           "showarrow": false,
           "text": "work",
           "x": 4.2191572189331055,
           "xanchor": "left",
           "xshift": 5,
           "y": 2.431504964828491,
           "z": 0.15478037297725677
          },
          {
           "opacity": 1,
           "showarrow": false,
           "text": "our",
           "x": 4.825057506561279,
           "xanchor": "left",
           "xshift": 5,
           "y": 2.064286470413208,
           "z": 0.309195876121521
          },
          {
           "opacity": 1,
           "showarrow": false,
           "text": "home",
           "x": 4.4401726722717285,
           "xanchor": "left",
           "xshift": 5,
           "y": 2.0929372310638428,
           "z": -0.4971223473548889
          },
          {
           "opacity": 1,
           "showarrow": false,
           "text": "school",
           "x": 4.303912162780762,
           "xanchor": "left",
           "xshift": 5,
           "y": 1.7360970973968506,
           "z": -1.5786821842193604
          },
          {
           "opacity": 1,
           "showarrow": false,
           "text": "party",
           "x": 4.036200046539307,
           "xanchor": "left",
           "xshift": 5,
           "y": 2.2605299949645996,
           "z": -0.6358272433280945
          },
          {
           "opacity": 1,
           "showarrow": false,
           "text": "house",
           "x": 4.081459999084473,
           "xanchor": "left",
           "xshift": 5,
           "y": 2.4974422454833984,
           "z": -0.4725551903247833
          },
          {
           "opacity": 1,
           "showarrow": false,
           "text": "old",
           "x": 4.054792881011963,
           "xanchor": "left",
           "xshift": 5,
           "y": 2.6324963569641113,
           "z": -0.3197431266307831
          },
          {
           "opacity": 1,
           "showarrow": false,
           "text": "later",
           "x": 4.120891094207764,
           "xanchor": "left",
           "xshift": 5,
           "y": 2.894443988800049,
           "z": -0.6362414956092834
          },
          {
           "opacity": 1,
           "showarrow": false,
           "text": "get",
           "x": 4.683141708374023,
           "xanchor": "left",
           "xshift": 5,
           "y": 2.46476149559021,
           "z": 0.6197298765182495
          },
          {
           "opacity": 1,
           "showarrow": false,
           "text": "another",
           "x": 4.545617580413818,
           "xanchor": "left",
           "xshift": 5,
           "y": 2.3059239387512207,
           "z": -0.08618836849927902
          },
          {
           "opacity": 1,
           "showarrow": false,
           "text": "tuesday",
           "x": 4.264697551727295,
           "xanchor": "left",
           "xshift": 5,
           "y": 2.7780911922454834,
           "z": -0.47160640358924866
          },
          {
           "opacity": 1,
           "showarrow": false,
           "text": "news",
           "x": 3.7698731422424316,
           "xanchor": "left",
           "xshift": 5,
           "y": 2.325554609298706,
           "z": -0.4928639531135559
          },
          {
           "opacity": 1,
           "showarrow": false,
           "text": "long",
           "x": 4.812073707580566,
           "xanchor": "left",
           "xshift": 5,
           "y": 2.1277687549591064,
           "z": 0.2554307281970978
          },
          {
           "opacity": 1,
           "showarrow": false,
           "text": "five",
           "x": 4.997085094451904,
           "xanchor": "left",
           "xshift": 5,
           "y": 2.066528797149658,
           "z": 0.4660484492778778
          },
          {
           "opacity": 1,
           "showarrow": false,
           "text": "called",
           "x": 3.858308792114258,
           "xanchor": "left",
           "xshift": 5,
           "y": 2.3465051651000977,
           "z": -1.042258381843567
          },
          {
           "opacity": 1,
           "showarrow": false,
           "text": "1",
           "x": 4.479851245880127,
           "xanchor": "left",
           "xshift": 5,
           "y": 1.3772140741348267,
           "z": -0.33828622102737427
          },
          {
           "opacity": 1,
           "showarrow": false,
           "text": "wednesday",
           "x": 4.297069072723389,
           "xanchor": "left",
           "xshift": 5,
           "y": 2.7549993991851807,
           "z": -0.5410668253898621
          },
          {
           "opacity": 1,
           "showarrow": false,
           "text": "military",
           "x": 4.512314319610596,
           "xanchor": "left",
           "xshift": 5,
           "y": 1.8727203607559204,
           "z": -0.5383549928665161
          },
          {
           "opacity": 1,
           "showarrow": false,
           "text": "way",
           "x": 4.734970569610596,
           "xanchor": "left",
           "xshift": 5,
           "y": 2.222053289413452,
           "z": -0.05906711891293526
          },
          {
           "opacity": 1,
           "showarrow": false,
           "text": "used",
           "x": 4.626525402069092,
           "xanchor": "left",
           "xshift": 5,
           "y": 1.798750877380371,
           "z": 0.07635539025068283
          },
          {
           "opacity": 1,
           "showarrow": false,
           "text": "much",
           "x": 4.865919589996338,
           "xanchor": "left",
           "xshift": 5,
           "y": 2.2065041065216064,
           "z": 0.20624472200870514
          },
          {
           "opacity": 1,
           "showarrow": false,
           "text": "next",
           "x": 4.757517337799072,
           "xanchor": "left",
           "xshift": 5,
           "y": 2.1299777030944824,
           "z": -0.18408574163913727
          },
          {
           "opacity": 1,
           "showarrow": false,
           "text": "monday",
           "x": 4.246689319610596,
           "xanchor": "left",
           "xshift": 5,
           "y": 2.7366366386413574,
           "z": -0.4999394416809082
          },
          {
           "opacity": 1,
           "showarrow": false,
           "text": "thursday",
           "x": 4.239389419555664,
           "xanchor": "left",
           "xshift": 5,
           "y": 2.704669952392578,
           "z": -0.49083182215690613
          },
          {
           "opacity": 1,
           "showarrow": false,
           "text": "friday",
           "x": 4.361481189727783,
           "xanchor": "left",
           "xshift": 5,
           "y": 2.5883474349975586,
           "z": -0.4104382395744324
          },
          {
           "opacity": 1,
           "showarrow": false,
           "text": "game",
           "x": 4.754195690155029,
           "xanchor": "left",
           "xshift": 5,
           "y": 1.9111961126327515,
           "z": 0.7678942680358887
          },
          {
           "opacity": 1,
           "showarrow": false,
           "text": "here",
           "x": 4.385786056518555,
           "xanchor": "left",
           "xshift": 5,
           "y": 2.407566785812378,
           "z": -0.6735294461250305
          },
          {
           "opacity": 1,
           "showarrow": false,
           "text": "?",
           "x": 4.35158634185791,
           "xanchor": "left",
           "xshift": 5,
           "y": 2.4148621559143066,
           "z": 0.23439933359622955
          },
          {
           "opacity": 1,
           "showarrow": false,
           "text": "should",
           "x": 4.5668511390686035,
           "xanchor": "left",
           "xshift": 5,
           "y": 2.4478816986083984,
           "z": 0.028694860637187958
          },
          {
           "opacity": 1,
           "showarrow": false,
           "text": "take",
           "x": 4.7363667488098145,
           "xanchor": "left",
           "xshift": 5,
           "y": 2.2681894302368164,
           "z": 0.06764485687017441
          },
          {
           "opacity": 1,
           "showarrow": false,
           "text": "very",
           "x": 4.400018692016602,
           "xanchor": "left",
           "xshift": 5,
           "y": 2.311744451522827,
           "z": 0.10203053057193756
          },
          {
           "opacity": 1,
           "showarrow": false,
           "text": "my",
           "x": 4.707221508026123,
           "xanchor": "left",
           "xshift": 5,
           "y": 2.482133150100708,
           "z": 0.3801271617412567
          },
          {
           "opacity": 1,
           "showarrow": false,
           "text": "north",
           "x": 4.455931663513184,
           "xanchor": "left",
           "xshift": 5,
           "y": 1.296879768371582,
           "z": -2.3391871452331543
          },
          {
           "opacity": 1,
           "showarrow": false,
           "text": "security",
           "x": 4.086249828338623,
           "xanchor": "left",
           "xshift": 5,
           "y": 2.171633005142212,
           "z": -0.19202451407909393
          },
          {
           "opacity": 1,
           "showarrow": false,
           "text": "season",
           "x": 4.49013614654541,
           "xanchor": "left",
           "xshift": 5,
           "y": 1.9020010232925415,
           "z": 0.20856022834777832
          },
          {
           "opacity": 1,
           "showarrow": false,
           "text": "york",
           "x": 4.077398300170898,
           "xanchor": "left",
           "xshift": 5,
           "y": 2.3497281074523926,
           "z": -0.503764271736145
          },
          {
           "opacity": 1,
           "showarrow": false,
           "text": "how",
           "x": 4.582310199737549,
           "xanchor": "left",
           "xshift": 5,
           "y": 2.747922897338867,
           "z": 0.43292224407196045
          },
          {
           "opacity": 1,
           "showarrow": false,
           "text": "public",
           "x": 4.379698753356934,
           "xanchor": "left",
           "xshift": 5,
           "y": 1.7477471828460693,
           "z": -0.3607484698295593
          },
          {
           "opacity": 1,
           "showarrow": false,
           "text": "early",
           "x": 4.653131484985352,
           "xanchor": "left",
           "xshift": 5,
           "y": 2.0664448738098145,
           "z": -0.094345822930336
          },
          {
           "opacity": 1,
           "showarrow": false,
           "text": "according",
           "x": 3.5971579551696777,
           "xanchor": "left",
           "xshift": 5,
           "y": 2.632389545440674,
           "z": -0.7470020055770874
          },
          {
           "opacity": 1,
           "showarrow": false,
           "text": "several",
           "x": 4.819587230682373,
           "xanchor": "left",
           "xshift": 5,
           "y": 2.128523349761963,
           "z": -0.20730885863304138
          },
          {
           "opacity": 1,
           "showarrow": false,
           "text": "court",
           "x": 4.175404071807861,
           "xanchor": "left",
           "xshift": 5,
           "y": 2.418590545654297,
           "z": -1.2073791027069092
          },
          {
           "opacity": 1,
           "showarrow": false,
           "text": "say",
           "x": 4.425426006317139,
           "xanchor": "left",
           "xshift": 5,
           "y": 2.6343834400177,
           "z": -0.24157965183258057
          },
          {
           "opacity": 1,
           "showarrow": false,
           "text": "around",
           "x": 5.110074996948242,
           "xanchor": "left",
           "xshift": 5,
           "y": 1.3968497514724731,
           "z": -0.22522087395191193
          },
          {
           "opacity": 1,
           "showarrow": false,
           "text": "foreign",
           "x": 3.2390246391296387,
           "xanchor": "left",
           "xshift": 5,
           "y": 2.8740577697753906,
           "z": 0.30898791551589966
          },
          {
           "opacity": 1,
           "showarrow": false,
           "text": "10",
           "x": 4.681515693664551,
           "xanchor": "left",
           "xshift": 5,
           "y": 1.8058981895446777,
           "z": 0.507671594619751
          },
          {
           "opacity": 1,
           "showarrow": false,
           "text": "until",
           "x": 4.754590034484863,
           "xanchor": "left",
           "xshift": 5,
           "y": 1.8647123575210571,
           "z": -0.3427322804927826
          },
          {
           "opacity": 1,
           "showarrow": false,
           "text": "set",
           "x": 4.416380405426025,
           "xanchor": "left",
           "xshift": 5,
           "y": 1.9694554805755615,
           "z": 0.5405950546264648
          },
          {
           "opacity": 1,
           "showarrow": false,
           "text": "political",
           "x": 4.412339687347412,
           "xanchor": "left",
           "xshift": 5,
           "y": 2.0876307487487793,
           "z": -0.15861839056015015
          },
          {
           "opacity": 1,
           "showarrow": false,
           "text": "says",
           "x": 3.0385701656341553,
           "xanchor": "left",
           "xshift": 5,
           "y": 3.819592237472534,
           "z": -0.2753155827522278
          },
          {
           "opacity": 1,
           "showarrow": false,
           "text": "market",
           "x": 4.361115455627441,
           "xanchor": "left",
           "xshift": 5,
           "y": 1.7919328212738037,
           "z": -0.10120654851198196
          },
          {
           "opacity": 1,
           "showarrow": false,
           "text": "however",
           "x": 4.15492057800293,
           "xanchor": "left",
           "xshift": 5,
           "y": 2.43211030960083,
           "z": -0.32238534092903137
          },
          {
           "opacity": 1,
           "showarrow": false,
           "text": "family",
           "x": 3.739661931991577,
           "xanchor": "left",
           "xshift": 5,
           "y": 2.697018623352051,
           "z": -0.30331140756607056
          },
          {
           "opacity": 1,
           "showarrow": false,
           "text": "life",
           "x": 4.345252513885498,
           "xanchor": "left",
           "xshift": 5,
           "y": 2.2969706058502197,
           "z": 0.2684432566165924
          },
          {
           "opacity": 1,
           "showarrow": false,
           "text": "same",
           "x": 4.864373207092285,
           "xanchor": "left",
           "xshift": 5,
           "y": 2.125253915786743,
           "z": 0.09844698756933212
          },
          {
           "opacity": 1,
           "showarrow": false,
           "text": "general",
           "x": 2.9015581607818604,
           "xanchor": "left",
           "xshift": 5,
           "y": 3.7315995693206787,
           "z": -1.0917377471923828
          },
          {
           "opacity": 1,
           "showarrow": false,
           "text": "–",
           "x": 3.7681710720062256,
           "xanchor": "left",
           "xshift": 5,
           "y": 1.7525193691253662,
           "z": -1.03615140914917
          },
          {
           "opacity": 1,
           "showarrow": false,
           "text": "left",
           "x": 4.1544880867004395,
           "xanchor": "left",
           "xshift": 5,
           "y": 2.59621262550354,
           "z": -0.007867440581321716
          },
          {
           "opacity": 1,
           "showarrow": false,
           "text": "good",
           "x": 4.331398010253906,
           "xanchor": "left",
           "xshift": 5,
           "y": 2.459404706954956,
           "z": 0.2886132001876831
          },
          {
           "opacity": 1,
           "showarrow": false,
           "text": "top",
           "x": 4.245005130767822,
           "xanchor": "left",
           "xshift": 5,
           "y": 2.322340488433838,
           "z": -0.08113952726125717
          },
          {
           "opacity": 1,
           "showarrow": false,
           "text": "university",
           "x": 4.056684970855713,
           "xanchor": "left",
           "xshift": 5,
           "y": 2.3953909873962402,
           "z": -2.6339004039764404
          },
          {
           "opacity": 1,
           "showarrow": false,
           "text": "going",
           "x": 4.5665602684021,
           "xanchor": "left",
           "xshift": 5,
           "y": 2.2237963676452637,
           "z": 0.27449312806129456
          },
          {
           "opacity": 1,
           "showarrow": false,
           "text": "number",
           "x": 4.459172248840332,
           "xanchor": "left",
           "xshift": 5,
           "y": 1.4850369691848755,
           "z": 0.5216522812843323
          },
          {
           "opacity": 1,
           "showarrow": false,
           "text": "major",
           "x": 4.114322185516357,
           "xanchor": "left",
           "xshift": 5,
           "y": 2.265657663345337,
           "z": -0.8898939490318298
          },
          {
           "opacity": 1,
           "showarrow": false,
           "text": "known",
           "x": 3.986518144607544,
           "xanchor": "left",
           "xshift": 5,
           "y": 2.0481503009796143,
           "z": -1.4674996137619019
          },
          {
           "opacity": 1,
           "showarrow": false,
           "text": "points",
           "x": 4.03567361831665,
           "xanchor": "left",
           "xshift": 5,
           "y": 2.2155709266662598,
           "z": 1.0773777961730957
          },
          {
           "opacity": 1,
           "showarrow": false,
           "text": "won",
           "x": 3.8030996322631836,
           "xanchor": "left",
           "xshift": 5,
           "y": 2.435089588165283,
           "z": -0.41697049140930176
          },
          {
           "opacity": 1,
           "showarrow": false,
           "text": "six",
           "x": 4.961667537689209,
           "xanchor": "left",
           "xshift": 5,
           "y": 1.9589799642562866,
           "z": 0.6123390197753906
          },
          {
           "opacity": 1,
           "showarrow": false,
           "text": "month",
           "x": 4.609411239624023,
           "xanchor": "left",
           "xshift": 5,
           "y": 2.256701946258545,
           "z": 0.05370808020234108
          },
          {
           "opacity": 1,
           "showarrow": false,
           "text": "dollars",
           "x": 4.456545352935791,
           "xanchor": "left",
           "xshift": 5,
           "y": 1.2465490102767944,
           "z": 1.2037854194641113
          },
          {
           "opacity": 1,
           "showarrow": false,
           "text": "bank",
           "x": 3.8336291313171387,
           "xanchor": "left",
           "xshift": 5,
           "y": 1.9344725608825684,
           "z": -1.3986788988113403
          },
          {
           "opacity": 1,
           "showarrow": false,
           "text": "2",
           "x": 4.482327461242676,
           "xanchor": "left",
           "xshift": 5,
           "y": 1.5085393190383911,
           "z": -0.1382392942905426
          },
          {
           "opacity": 1,
           "showarrow": false,
           "text": "iraq",
           "x": 4.124970436096191,
           "xanchor": "left",
           "xshift": 5,
           "y": 1.9883499145507812,
           "z": -0.14761319756507874
          },
          {
           "opacity": 1,
           "showarrow": false,
           "text": "use",
           "x": 4.781083583831787,
           "xanchor": "left",
           "xshift": 5,
           "y": 1.4650987386703491,
           "z": 0.5901943445205688
          },
          {
           "opacity": 1,
           "showarrow": false,
           "text": "members",
           "x": 4.230378150939941,
           "xanchor": "left",
           "xshift": 5,
           "y": 2.1361944675445557,
           "z": -0.3253006637096405
          },
          {
           "opacity": 1,
           "showarrow": false,
           "text": "each",
           "x": 4.917660236358643,
           "xanchor": "left",
           "xshift": 5,
           "y": 1.6383519172668457,
           "z": 0.6450236439704895
          },
          {
           "opacity": 1,
           "showarrow": false,
           "text": "area",
           "x": 4.487320899963379,
           "xanchor": "left",
           "xshift": 5,
           "y": 1.1181237697601318,
           "z": -2.1809239387512207
          },
          {
           "opacity": 1,
           "showarrow": false,
           "text": "found",
           "x": 4.209992408752441,
           "xanchor": "left",
           "xshift": 5,
           "y": 2.3764431476593018,
           "z": -0.45489701628685
          },
          {
           "opacity": 1,
           "showarrow": false,
           "text": "official",
           "x": 3.672153949737549,
           "xanchor": "left",
           "xshift": 5,
           "y": 2.3975164890289307,
           "z": -1.088150978088379
          },
          {
           "opacity": 1,
           "showarrow": false,
           "text": "sunday",
           "x": 4.409167766571045,
           "xanchor": "left",
           "xshift": 5,
           "y": 2.216315507888794,
           "z": -0.7179429531097412
          },
          {
           "opacity": 1,
           "showarrow": false,
           "text": "place",
           "x": 4.6461310386657715,
           "xanchor": "left",
           "xshift": 5,
           "y": 1.5932550430297852,
           "z": -0.6472966074943542
          },
          {
           "opacity": 1,
           "showarrow": false,
           "text": "go",
           "x": 4.505756378173828,
           "xanchor": "left",
           "xshift": 5,
           "y": 2.1234850883483887,
           "z": 0.17857155203819275
          },
          {
           "opacity": 1,
           "showarrow": false,
           "text": "based",
           "x": 4.302409648895264,
           "xanchor": "left",
           "xshift": 5,
           "y": 1.9641536474227905,
           "z": -1.3472254276275635
          },
          {
           "opacity": 1,
           "showarrow": false,
           "text": "among",
           "x": 4.437122821807861,
           "xanchor": "left",
           "xshift": 5,
           "y": 2.0671637058258057,
           "z": 0.09231339395046234
          },
          {
           "opacity": 1,
           "showarrow": false,
           "text": "third",
           "x": 4.12890625,
           "xanchor": "left",
           "xshift": 5,
           "y": 2.24794602394104,
           "z": 0.0978333130478859
          },
          {
           "opacity": 1,
           "showarrow": false,
           "text": "times",
           "x": 4.246614933013916,
           "xanchor": "left",
           "xshift": 5,
           "y": 2.1843554973602295,
           "z": 0.25074303150177
          },
          {
           "opacity": 1,
           "showarrow": false,
           "text": "took",
           "x": 4.083444118499756,
           "xanchor": "left",
           "xshift": 5,
           "y": 2.8035101890563965,
           "z": -0.22038772702217102
          },
          {
           "opacity": 1,
           "showarrow": false,
           "text": "right",
           "x": 4.4358649253845215,
           "xanchor": "left",
           "xshift": 5,
           "y": 2.614211320877075,
           "z": 0.2450249344110489
          },
          {
           "opacity": 1,
           "showarrow": false,
           "text": "days",
           "x": 4.752920150756836,
           "xanchor": "left",
           "xshift": 5,
           "y": 1.980525255203247,
           "z": 0.24215218424797058
          },
          {
           "opacity": 1,
           "showarrow": false,
           "text": "local",
           "x": 4.125041961669922,
           "xanchor": "left",
           "xshift": 5,
           "y": 1.284743070602417,
           "z": -1.0949840545654297
          },
          {
           "opacity": 1,
           "showarrow": false,
           "text": "economic",
           "x": 4.127712726593018,
           "xanchor": "left",
           "xshift": 5,
           "y": 1.9816077947616577,
           "z": -0.2312120646238327
          },
          {
           "opacity": 1,
           "showarrow": false,
           "text": "countries",
           "x": 4.6740498542785645,
           "xanchor": "left",
           "xshift": 5,
           "y": 1.5056716203689575,
           "z": -0.08197731524705887
          },
          {
           "opacity": 1,
           "showarrow": false,
           "text": "see",
           "x": 4.37303352355957,
           "xanchor": "left",
           "xshift": 5,
           "y": 2.2489724159240723,
           "z": -0.2887612283229828
          },
          {
           "opacity": 1,
           "showarrow": false,
           "text": "best",
           "x": 4.168416976928711,
           "xanchor": "left",
           "xshift": 5,
           "y": 2.3283793926239014,
           "z": 0.4598720073699951
          },
          {
           "opacity": 1,
           "showarrow": false,
           "text": "report",
           "x": 3.401319980621338,
           "xanchor": "left",
           "xshift": 5,
           "y": 2.757399082183838,
           "z": -0.48831257224082947
          },
          {
           "opacity": 1,
           "showarrow": false,
           "text": "killed",
           "x": 3.820361614227295,
           "xanchor": "left",
           "xshift": 5,
           "y": 2.6116435527801514,
           "z": -0.5750774145126343
          },
          {
           "opacity": 1,
           "showarrow": false,
           "text": "held",
           "x": 4.411803722381592,
           "xanchor": "left",
           "xshift": 5,
           "y": 1.795408010482788,
           "z": -0.8783842325210571
          },
          {
           "opacity": 1,
           "showarrow": false,
           "text": "business",
           "x": 4.293152809143066,
           "xanchor": "left",
           "xshift": 5,
           "y": 2.00433349609375,
           "z": -0.282650887966156
          },
          {
           "opacity": 1,
           "showarrow": false,
           "text": "west",
           "x": 4.219047546386719,
           "xanchor": "left",
           "xshift": 5,
           "y": 1.5356345176696777,
           "z": -2.1917104721069336
          },
          {
           "opacity": 1,
           "showarrow": false,
           "text": "does",
           "x": 4.1071343421936035,
           "xanchor": "left",
           "xshift": 5,
           "y": 2.558859348297119,
           "z": -0.10842946171760559
          },
          {
           "opacity": 1,
           "showarrow": false,
           "text": "own",
           "x": 4.693884372711182,
           "xanchor": "left",
           "xshift": 5,
           "y": 2.138711452484131,
           "z": 0.4038226306438446
          },
          {
           "opacity": 1,
           "showarrow": false,
           "text": "%",
           "x": 4.0109148025512695,
           "xanchor": "left",
           "xshift": 5,
           "y": 0.7005130052566528,
           "z": 0.36471259593963623
          },
          {
           "opacity": 1,
           "showarrow": false,
           "text": "came",
           "x": 4.261250019073486,
           "xanchor": "left",
           "xshift": 5,
           "y": 2.6349384784698486,
           "z": -0.2574830651283264
          },
          {
           "opacity": 1,
           "showarrow": false,
           "text": "law",
           "x": 4.071909427642822,
           "xanchor": "left",
           "xshift": 5,
           "y": 2.4833662509918213,
           "z": -0.5166248679161072
          },
          {
           "opacity": 1,
           "showarrow": false,
           "text": "months",
           "x": 4.607010364532471,
           "xanchor": "left",
           "xshift": 5,
           "y": 2.337803840637207,
           "z": 0.4459858238697052
          },
          {
           "opacity": 1,
           "showarrow": false,
           "text": "women",
           "x": 4.573031902313232,
           "xanchor": "left",
           "xshift": 5,
           "y": 1.5229676961898804,
           "z": 0.2061363309621811
          },
          {
           "opacity": 1,
           "showarrow": false,
           "text": "'re",
           "x": 4.496438980102539,
           "xanchor": "left",
           "xshift": 5,
           "y": 2.169394016265869,
           "z": 0.872326672077179
          },
          {
           "opacity": 1,
           "showarrow": false,
           "text": "power",
           "x": 4.570049285888672,
           "xanchor": "left",
           "xshift": 5,
           "y": 1.7988924980163574,
           "z": -0.19701245427131653
          },
          {
           "opacity": 1,
           "showarrow": false,
           "text": "think",
           "x": 4.213707447052002,
           "xanchor": "left",
           "xshift": 5,
           "y": 2.8432741165161133,
           "z": 0.12083979696035385
          },
          {
           "opacity": 1,
           "showarrow": false,
           "text": "service",
           "x": 3.953650712966919,
           "xanchor": "left",
           "xshift": 5,
           "y": 1.3553332090377808,
           "z": -0.1382598876953125
          },
          {
           "opacity": 1,
           "showarrow": false,
           "text": "children",
           "x": 4.19566535949707,
           "xanchor": "left",
           "xshift": 5,
           "y": 2.355170249938965,
           "z": 0.489434152841568
          },
          {
           "opacity": 1,
           "showarrow": false,
           "text": "bush",
           "x": 3.9409255981445312,
           "xanchor": "left",
           "xshift": 5,
           "y": 2.653068780899048,
           "z": 0.47540539503097534
          },
          {
           "opacity": 1,
           "showarrow": false,
           "text": "show",
           "x": 4.187352180480957,
           "xanchor": "left",
           "xshift": 5,
           "y": 2.2602880001068115,
           "z": 0.16150188446044922
          },
          {
           "opacity": 1,
           "showarrow": false,
           "text": "/",
           "x": 3.098435640335083,
           "xanchor": "left",
           "xshift": 5,
           "y": 1.9805867671966553,
           "z": -0.5787109136581421
          },
          {
           "opacity": 1,
           "showarrow": false,
           "text": "help",
           "x": 4.2860283851623535,
           "xanchor": "left",
           "xshift": 5,
           "y": 2.346952438354492,
           "z": 0.047591447830200195
          },
          {
           "opacity": 1,
           "showarrow": false,
           "text": "chief",
           "x": 2.501636028289795,
           "xanchor": "left",
           "xshift": 5,
           "y": 4.560297012329102,
           "z": -1.855475902557373
          },
          {
           "opacity": 1,
           "showarrow": false,
           "text": "saturday",
           "x": 4.354288578033447,
           "xanchor": "left",
           "xshift": 5,
           "y": 2.2034592628479004,
           "z": -0.8062918782234192
          },
          {
           "opacity": 1,
           "showarrow": false,
           "text": "system",
           "x": 4.6849751472473145,
           "xanchor": "left",
           "xshift": 5,
           "y": 0.9596021175384521,
           "z": -0.2844606935977936
          },
          {
           "opacity": 1,
           "showarrow": false,
           "text": "john",
           "x": 2.6165950298309326,
           "xanchor": "left",
           "xshift": 5,
           "y": 4.307602882385254,
           "z": 0.013759913854300976
          },
          {
           "opacity": 1,
           "showarrow": false,
           "text": "support",
           "x": 4.121442794799805,
           "xanchor": "left",
           "xshift": 5,
           "y": 1.8797961473464966,
           "z": 0.09922471642494202
          },
          {
           "opacity": 1,
           "showarrow": false,
           "text": "series",
           "x": 4.523322582244873,
           "xanchor": "left",
           "xshift": 5,
           "y": 1.9019438028335571,
           "z": 0.5115871429443359
          },
          {
           "opacity": 1,
           "showarrow": false,
           "text": "play",
           "x": 4.257070541381836,
           "xanchor": "left",
           "xshift": 5,
           "y": 2.2618637084960938,
           "z": 0.07138222455978394
          },
          {
           "opacity": 1,
           "showarrow": false,
           "text": "office",
           "x": 3.866569995880127,
           "xanchor": "left",
           "xshift": 5,
           "y": 2.645843505859375,
           "z": -1.0414170026779175
          },
          {
           "opacity": 1,
           "showarrow": false,
           "text": "following",
           "x": 4.456691265106201,
           "xanchor": "left",
           "xshift": 5,
           "y": 1.8711014986038208,
           "z": -0.47810691595077515
          },
          {
           "opacity": 1,
           "showarrow": false,
           "text": "me",
           "x": 4.010591983795166,
           "xanchor": "left",
           "xshift": 5,
           "y": 2.803164005279541,
           "z": 0.3122231364250183
          },
          {
           "opacity": 1,
           "showarrow": false,
           "text": "meeting",
           "x": 3.885617971420288,
           "xanchor": "left",
           "xshift": 5,
           "y": 2.534452199935913,
           "z": -0.9895835518836975
          },
          {
           "opacity": 1,
           "showarrow": false,
           "text": "expected",
           "x": 4.2550249099731445,
           "xanchor": "left",
           "xshift": 5,
           "y": 2.398972511291504,
           "z": 0.038103047758340836
          },
          {
           "opacity": 1,
           "showarrow": false,
           "text": "late",
           "x": 4.215188980102539,
           "xanchor": "left",
           "xshift": 5,
           "y": 2.598238468170166,
           "z": -0.1820414960384369
          },
          {
           "opacity": 1,
           "showarrow": false,
           "text": "washington",
           "x": 3.6956558227539062,
           "xanchor": "left",
           "xshift": 5,
           "y": 2.5898420810699463,
           "z": -0.6762931942939758
          },
          {
           "opacity": 1,
           "showarrow": false,
           "text": "games",
           "x": 4.822420597076416,
           "xanchor": "left",
           "xshift": 5,
           "y": 1.5399757623672485,
           "z": 0.631252646446228
          },
          {
           "opacity": 1,
           "showarrow": false,
           "text": "european",
           "x": 4.515860080718994,
           "xanchor": "left",
           "xshift": 5,
           "y": 1.8185945749282837,
           "z": 0.019094625487923622
          },
          {
           "opacity": 1,
           "showarrow": false,
           "text": "league",
           "x": 4.315235137939453,
           "xanchor": "left",
           "xshift": 5,
           "y": 1.6261955499649048,
           "z": -0.9087299704551697
          },
          {
           "opacity": 1,
           "showarrow": false,
           "text": "reported",
           "x": 3.667271375656128,
           "xanchor": "left",
           "xshift": 5,
           "y": 2.142603635787964,
           "z": -0.9762795567512512
          },
          {
           "opacity": 1,
           "showarrow": false,
           "text": "final",
           "x": 4.603273868560791,
           "xanchor": "left",
           "xshift": 5,
           "y": 1.598456621170044,
           "z": 0.12381497770547867
          },
          {
           "opacity": 1,
           "showarrow": false,
           "text": "added",
           "x": 3.215358257293701,
           "xanchor": "left",
           "xshift": 5,
           "y": 3.1878840923309326,
           "z": 0.4435552954673767
          },
          {
           "opacity": 1,
           "showarrow": false,
           "text": "without",
           "x": 4.592963695526123,
           "xanchor": "left",
           "xshift": 5,
           "y": 2.028743267059326,
           "z": 0.7698224782943726
          },
          {
           "opacity": 1,
           "showarrow": false,
           "text": "british",
           "x": 4.0335693359375,
           "xanchor": "left",
           "xshift": 5,
           "y": 2.200899362564087,
           "z": -0.08582614362239838
          },
          {
           "opacity": 1,
           "showarrow": false,
           "text": "white",
           "x": 4.2002272605896,
           "xanchor": "left",
           "xshift": 5,
           "y": 2.588460922241211,
           "z": 0.3591412901878357
          },
          {
           "opacity": 1,
           "showarrow": false,
           "text": "history",
           "x": 4.631114482879639,
           "xanchor": "left",
           "xshift": 5,
           "y": 1.603193759918213,
           "z": -0.5110432505607605
          }
         ],
         "xaxis": {
          "title": "1st Principle Component"
         },
         "yaxis": {
          "title": "2nd Principle Component"
         },
         "zaxis": {
          "title": "3rd Principel Component"
         }
        }
       }
      },
      "text/html": [
       "<div id=\"e3043223-e739-49be-8adc-de7d8cb44962\" style=\"height: 525px; width: 100%;\" class=\"plotly-graph-div\"></div><script type=\"text/javascript\">require([\"plotly\"], function(Plotly) { window.PLOTLYENV=window.PLOTLYENV || {};window.PLOTLYENV.BASE_URL=\"http://type-here.com\";Plotly.newPlot(\"e3043223-e739-49be-8adc-de7d8cb44962\", [{\"type\": \"scatter3d\", \"x\": [5.2178826332092285, 4.080163955688477, 4.607367038726807, 5.051972389221191, 5.047371864318848, 4.548764228820801, 5.171853065490723, 5.013679027557373, 3.8947622776031494, 4.349795818328857, 5.019586086273193, 4.995056629180908, 4.863041400909424, 5.127834796905518, 4.5031819343566895, 4.21574068069458, 2.895820140838623, 4.787626266479492, 4.773887634277344, 4.557002544403076, 5.205573081970215, 4.02437162399292, 4.944502830505371, 3.704150676727295, 4.03278112411499, 5.069934368133545, 4.590205669403076, 3.8114206790924072, 4.46875524520874, 4.523101329803467, 4.986246109008789, 4.552236557006836, 5.110722541809082, 5.225558757781982, 4.773766994476318, 4.937385082244873, 4.89562463760376, 4.922721862792969, 3.9263429641723633, 5.296085834503174, 4.488701343536377, 4.705794334411621, 5.1714558601379395, 4.791448593139648, 5.45138692855835, 4.320233345031738, 5.023449897766113, 5.530414581298828, 4.917895793914795, 4.781172752380371, 4.930273532867432, 4.853982925415039, 4.178509712219238, 4.867218971252441, 4.770212650299072, 5.127406120300293, 5.2504801750183105, 4.374081134796143, 4.71268367767334, 5.092301368713379, 5.149620056152344, 4.674875736236572, 4.942036151885986, 4.937905311584473, 5.141549110412598, 4.56583833694458, 5.019871711730957, 4.457321643829346, 4.933334827423096, 5.051964282989502, 4.757823944091797, 4.368105411529541, 4.783598899841309, 5.283315181732178, 5.111250400543213, 5.29787540435791, 4.940832614898682, 5.292090892791748, 4.527088165283203, 4.761722087860107, 4.992644786834717, 4.886549472808838, 4.8770751953125, 4.752091407775879, 4.735993385314941, 4.795853137969971, 4.691144943237305, 5.077899932861328, 4.64803409576416, 4.011398792266846, 3.473130941390991, 4.940255165100098, 4.261643886566162, 5.070796489715576, 4.793835639953613, 4.537652015686035, 4.9478936195373535, 4.722962379455566, 4.675534248352051, 4.21720027923584, 4.816463947296143, 4.9149651527404785, 4.669689178466797, 4.398906230926514, 4.1666154861450195, 4.782481670379639, 4.891665458679199, 4.562189102172852, 4.945529460906982, 5.026931285858154, 4.497122764587402, 4.860780239105225, 4.275187015533447, 4.864059925079346, 4.735440731048584, 4.815718173980713, 4.353762149810791, 4.507894039154053, 4.967278480529785, 4.187569618225098, 5.023927688598633, 4.287768363952637, 4.7094831466674805, 4.6671671867370605, 4.544098377227783, 4.534152030944824, 4.385717391967773, 4.474494934082031, 4.165870666503906, 4.314931869506836, 4.967104911804199, 4.930105686187744, 4.339605808258057, 5.134888648986816, 4.731545925140381, 4.896470546722412, 4.652394771575928, 4.750063896179199, 4.890097141265869, 4.334742546081543, 4.214741230010986, 2.197258472442627, 3.9340438842773438, 4.64332389831543, 4.361494541168213, 4.348050117492676, 4.411818027496338, 4.650645732879639, 4.468663215637207, 4.750858783721924, 4.398144721984863, 4.876686096191406, 4.619489669799805, 4.725464344024658, 2.6265952587127686, 5.062312602996826, 4.718201637268066, 3.4121336936950684, 5.049242973327637, 4.79095458984375, 4.918956279754639, 4.2191572189331055, 4.825057506561279, 4.4401726722717285, 4.303912162780762, 4.036200046539307, 4.081459999084473, 4.054792881011963, 4.120891094207764, 4.683141708374023, 4.545617580413818, 4.264697551727295, 3.7698731422424316, 4.812073707580566, 4.997085094451904, 3.858308792114258, 4.479851245880127, 4.297069072723389, 4.512314319610596, 4.734970569610596, 4.626525402069092, 4.865919589996338, 4.757517337799072, 4.246689319610596, 4.239389419555664, 4.361481189727783, 4.754195690155029, 4.385786056518555, 4.35158634185791, 4.5668511390686035, 4.7363667488098145, 4.400018692016602, 4.707221508026123, 4.455931663513184, 4.086249828338623, 4.49013614654541, 4.077398300170898, 4.582310199737549, 4.379698753356934, 4.653131484985352, 3.5971579551696777, 4.819587230682373, 4.175404071807861, 4.425426006317139, 5.110074996948242, 3.2390246391296387, 4.681515693664551, 4.754590034484863, 4.416380405426025, 4.412339687347412, 3.0385701656341553, 4.361115455627441, 4.15492057800293, 3.739661931991577, 4.345252513885498, 4.864373207092285, 2.9015581607818604, 3.7681710720062256, 4.1544880867004395, 4.331398010253906, 4.245005130767822, 4.056684970855713, 4.5665602684021, 4.459172248840332, 4.114322185516357, 3.986518144607544, 4.03567361831665, 3.8030996322631836, 4.961667537689209, 4.609411239624023, 4.456545352935791, 3.8336291313171387, 4.482327461242676, 4.124970436096191, 4.781083583831787, 4.230378150939941, 4.917660236358643, 4.487320899963379, 4.209992408752441, 3.672153949737549, 4.409167766571045, 4.6461310386657715, 4.505756378173828, 4.302409648895264, 4.437122821807861, 4.12890625, 4.246614933013916, 4.083444118499756, 4.4358649253845215, 4.752920150756836, 4.125041961669922, 4.127712726593018, 4.6740498542785645, 4.37303352355957, 4.168416976928711, 3.401319980621338, 3.820361614227295, 4.411803722381592, 4.293152809143066, 4.219047546386719, 4.1071343421936035, 4.693884372711182, 4.0109148025512695, 4.261250019073486, 4.071909427642822, 4.607010364532471, 4.573031902313232, 4.496438980102539, 4.570049285888672, 4.213707447052002, 3.953650712966919, 4.19566535949707, 3.9409255981445312, 4.187352180480957, 3.098435640335083, 4.2860283851623535, 2.501636028289795, 4.354288578033447, 4.6849751472473145, 2.6165950298309326, 4.121442794799805, 4.523322582244873, 4.257070541381836, 3.866569995880127, 4.456691265106201, 4.010591983795166, 3.885617971420288, 4.2550249099731445, 4.215188980102539, 3.6956558227539062, 4.822420597076416, 4.515860080718994, 4.315235137939453, 3.667271375656128, 4.603273868560791, 3.215358257293701, 4.592963695526123, 4.0335693359375, 4.2002272605896, 4.631114482879639], \"y\": [2.070946455001831, 3.066622018814087, 2.4460084438323975, 2.0940439701080322, 2.344891309738159, 2.6825003623962402, 1.9157569408416748, 2.319080114364624, 2.546773910522461, 3.5107216835021973, 2.4039008617401123, 3.1604366302490234, 3.1892919540405273, 2.158738613128662, 2.282360076904297, 3.1108717918395996, 5.091142654418945, 2.6761820316314697, 3.227940559387207, 2.5530459880828857, 2.2760605812072754, 3.3611459732055664, 1.937423825263977, 2.269376277923584, 2.0446712970733643, 2.0380942821502686, 3.469371795654297, 3.857792377471924, 3.084557294845581, 2.222385883331299, 2.530836582183838, 3.150235414505005, 1.843488335609436, 2.7170393466949463, 2.990767478942871, 2.317089796066284, 2.8551361560821533, 2.3247454166412354, 4.005542278289795, 2.4693210124969482, 3.523098945617676, 3.1591601371765137, 1.9206010103225708, 2.675534248352051, 1.9069849252700806, 2.4419102668762207, 1.3781999349594116, 1.379744529724121, 2.4339232444763184, 2.8760781288146973, 2.228421926498413, 2.791934013366699, 2.9452199935913086, 2.891317367553711, 2.7919511795043945, 2.3729429244995117, 1.9154613018035889, 2.8813862800598145, 2.3363184928894043, 2.27101469039917, 2.3579483032226562, 3.0870583057403564, 2.3535900115966797, 2.178570032119751, 2.2891483306884766, 3.0709025859832764, 2.785637617111206, 2.888289451599121, 2.2260396480560303, 1.847022533416748, 3.097264051437378, 3.0302629470825195, 1.7641475200653076, 1.7962274551391602, 2.0879783630371094, 1.7445112466812134, 2.638535499572754, 1.87891685962677, 2.3563153743743896, 2.433413505554199, 1.7600023746490479, 2.4111266136169434, 2.46787166595459, 2.654895067214966, 2.363513469696045, 2.0104639530181885, 2.013894557952881, 2.2201452255249023, 2.4117701053619385, 2.4508440494537354, 4.312465190887451, 2.0735814571380615, 1.9698774814605713, 1.6143949031829834, 2.695683002471924, 2.212541341781616, 1.8066359758377075, 2.2679789066314697, 2.1388649940490723, 2.5605368614196777, 2.366381883621216, 2.3577358722686768, 2.970669746398926, 3.3143179416656494, 2.308798313140869, 2.1059298515319824, 2.4608235359191895, 2.1275079250335693, 2.2686145305633545, 1.950107216835022, 2.5117127895355225, 1.888740062713623, 2.0679080486297607, 2.3942527770996094, 2.2643017768859863, 1.5527433156967163, 2.823274612426758, 2.728419542312622, 1.5742791891098022, 3.2211146354675293, 2.232440710067749, 1.859537124633789, 2.1935460567474365, 1.7743070125579834, 2.5727615356445312, 2.124203681945801, 2.3620293140411377, 2.6928811073303223, 2.563824415206909, 2.1685216426849365, 1.9845471382141113, 1.5605719089508057, 1.3883297443389893, 2.1072282791137695, 2.30357027053833, 2.316565752029419, 1.839781403541565, 2.773467540740967, 2.5204906463623047, 1.6098068952560425, 2.3364040851593018, 4.608575344085693, 2.7502787113189697, 2.2506468296051025, 2.382450580596924, 2.634830951690674, 2.1262905597686768, 2.5215330123901367, 2.522796154022217, 2.294142246246338, 2.5040194988250732, 2.2989211082458496, 1.5037381649017334, 1.5650684833526611, 4.363831043243408, 2.1830270290374756, 2.0299863815307617, 3.6561825275421143, 1.6358048915863037, 2.107966184616089, 1.5362721681594849, 2.431504964828491, 2.064286470413208, 2.0929372310638428, 1.7360970973968506, 2.2605299949645996, 2.4974422454833984, 2.6324963569641113, 2.894443988800049, 2.46476149559021, 2.3059239387512207, 2.7780911922454834, 2.325554609298706, 2.1277687549591064, 2.066528797149658, 2.3465051651000977, 1.3772140741348267, 2.7549993991851807, 1.8727203607559204, 2.222053289413452, 1.798750877380371, 2.2065041065216064, 2.1299777030944824, 2.7366366386413574, 2.704669952392578, 2.5883474349975586, 1.9111961126327515, 2.407566785812378, 2.4148621559143066, 2.4478816986083984, 2.2681894302368164, 2.311744451522827, 2.482133150100708, 1.296879768371582, 2.171633005142212, 1.9020010232925415, 2.3497281074523926, 2.747922897338867, 1.7477471828460693, 2.0664448738098145, 2.632389545440674, 2.128523349761963, 2.418590545654297, 2.6343834400177, 1.3968497514724731, 2.8740577697753906, 1.8058981895446777, 1.8647123575210571, 1.9694554805755615, 2.0876307487487793, 3.819592237472534, 1.7919328212738037, 2.43211030960083, 2.697018623352051, 2.2969706058502197, 2.125253915786743, 3.7315995693206787, 1.7525193691253662, 2.59621262550354, 2.459404706954956, 2.322340488433838, 2.3953909873962402, 2.2237963676452637, 1.4850369691848755, 2.265657663345337, 2.0481503009796143, 2.2155709266662598, 2.435089588165283, 1.9589799642562866, 2.256701946258545, 1.2465490102767944, 1.9344725608825684, 1.5085393190383911, 1.9883499145507812, 1.4650987386703491, 2.1361944675445557, 1.6383519172668457, 1.1181237697601318, 2.3764431476593018, 2.3975164890289307, 2.216315507888794, 1.5932550430297852, 2.1234850883483887, 1.9641536474227905, 2.0671637058258057, 2.24794602394104, 2.1843554973602295, 2.8035101890563965, 2.614211320877075, 1.980525255203247, 1.284743070602417, 1.9816077947616577, 1.5056716203689575, 2.2489724159240723, 2.3283793926239014, 2.757399082183838, 2.6116435527801514, 1.795408010482788, 2.00433349609375, 1.5356345176696777, 2.558859348297119, 2.138711452484131, 0.7005130052566528, 2.6349384784698486, 2.4833662509918213, 2.337803840637207, 1.5229676961898804, 2.169394016265869, 1.7988924980163574, 2.8432741165161133, 1.3553332090377808, 2.355170249938965, 2.653068780899048, 2.2602880001068115, 1.9805867671966553, 2.346952438354492, 4.560297012329102, 2.2034592628479004, 0.9596021175384521, 4.307602882385254, 1.8797961473464966, 1.9019438028335571, 2.2618637084960938, 2.645843505859375, 1.8711014986038208, 2.803164005279541, 2.534452199935913, 2.398972511291504, 2.598238468170166, 2.5898420810699463, 1.5399757623672485, 1.8185945749282837, 1.6261955499649048, 2.142603635787964, 1.598456621170044, 3.1878840923309326, 2.028743267059326, 2.200899362564087, 2.588460922241211, 1.603193759918213], \"z\": [-1.0585708618164062, -0.7242254018783569, -0.3960582911968231, -1.148351788520813, -0.2475600242614746, -0.43575048446655273, -1.4702385663986206, -0.12346267700195312, -0.9509298801422119, -0.8719756603240967, 0.02592506818473339, -0.4922875165939331, -0.12844283878803253, -0.3610430061817169, -1.303567886352539, -0.6610482931137085, -0.860348641872406, 0.22870409488677979, -0.38212311267852783, -0.47116386890411377, -0.4118656516075134, -0.15876203775405884, -1.0082889795303345, -0.8639757633209229, -0.8848389983177185, -0.6935797333717346, 0.1469135880470276, 0.08389449119567871, 0.01019576471298933, -0.23411798477172852, 0.1248013898730278, -0.7029294371604919, 0.11698328703641891, 0.09254113584756851, 0.09752873331308365, 0.20646101236343384, 0.07366552948951721, -0.36220240592956543, 0.0866847038269043, 0.08028656989336014, -0.0310906283557415, -0.12131775915622711, -0.7215238213539124, -0.1717761605978012, 0.5028707981109619, -0.4041944742202759, 0.37649455666542053, -0.5112227201461792, -0.15817739069461823, -0.25113987922668457, -0.3409225642681122, -0.27239590883255005, -0.7273156642913818, 0.10537590086460114, -0.054702553898096085, 0.299313485622406, 0.7231321334838867, -0.6611437201499939, -0.15905709564685822, 0.3468308448791504, 0.5433729887008667, -0.03294345363974571, 0.10503540188074112, -0.0920993760228157, 0.37396734952926636, -0.6016637682914734, 0.5059192180633545, -0.16639292240142822, -0.0339069627225399, -0.3677936792373657, 0.43756303191185, 0.289458692073822, 0.5867879390716553, 0.7351109385490417, 0.0845438539981842, -0.4665961265563965, -0.20903107523918152, 0.3014289438724518, -0.7858191132545471, 0.37352949380874634, 1.2481412887573242, 0.5981608033180237, 0.001452267519198358, 0.17649491131305695, 0.2115919440984726, -0.02641422487795353, 0.4070308208465576, 0.3364686369895935, -0.2986610233783722, -0.07968870550394058, -0.9592978954315186, 0.25572869181632996, -2.13722825050354, 0.5465436577796936, 0.22724378108978271, 0.6006151437759399, -0.004232018254697323, 0.34064480662345886, -0.34345656633377075, 0.2759147584438324, 0.39008229970932007, 0.7097261548042297, -0.0386916920542717, 0.3498346209526062, -0.6640415787696838, -0.3339891731739044, -0.07815230637788773, -0.21215394139289856, -0.3796464204788208, 0.12871623039245605, 0.11623898148536682, -1.623279094696045, -0.5879612565040588, -0.005750241223722696, -0.6729226112365723, -2.6761980056762695, 0.26563629508018494, -0.1456262320280075, -0.7772675156593323, -0.0425848513841629, 0.20569008588790894, -1.653682827949524, -0.006716094445437193, -0.8681084513664246, -0.35837340354919434, -0.025252943858504295, -0.1900964230298996, -0.38880056142807007, -0.6963300108909607, -0.9949905872344971, 0.593217670917511, -0.32688355445861816, -0.9464390277862549, 0.4392050504684448, -0.07039099186658859, 0.5725266337394714, -0.24072590470314026, 0.1537345051765442, 0.3013599216938019, -2.2252721786499023, 0.20231324434280396, -0.635162353515625, -1.5053592920303345, -0.3050263524055481, -0.16796153783798218, -0.5228906869888306, -0.9119826555252075, -0.042366016656160355, -1.1191856861114502, 0.08765128999948502, -0.13601814210414886, 0.5177728533744812, -0.6206561326980591, -1.5967925786972046, -1.2705389261245728, 0.7358153462409973, 0.11649580299854279, -1.3659707307815552, 0.45050501823425293, 0.548595666885376, 1.1274667978286743, 0.15478037297725677, 0.309195876121521, -0.4971223473548889, -1.5786821842193604, -0.6358272433280945, -0.4725551903247833, -0.3197431266307831, -0.6362414956092834, 0.6197298765182495, -0.08618836849927902, -0.47160640358924866, -0.4928639531135559, 0.2554307281970978, 0.4660484492778778, -1.042258381843567, -0.33828622102737427, -0.5410668253898621, -0.5383549928665161, -0.05906711891293526, 0.07635539025068283, 0.20624472200870514, -0.18408574163913727, -0.4999394416809082, -0.49083182215690613, -0.4104382395744324, 0.7678942680358887, -0.6735294461250305, 0.23439933359622955, 0.028694860637187958, 0.06764485687017441, 0.10203053057193756, 0.3801271617412567, -2.3391871452331543, -0.19202451407909393, 0.20856022834777832, -0.503764271736145, 0.43292224407196045, -0.3607484698295593, -0.094345822930336, -0.7470020055770874, -0.20730885863304138, -1.2073791027069092, -0.24157965183258057, -0.22522087395191193, 0.30898791551589966, 0.507671594619751, -0.3427322804927826, 0.5405950546264648, -0.15861839056015015, -0.2753155827522278, -0.10120654851198196, -0.32238534092903137, -0.30331140756607056, 0.2684432566165924, 0.09844698756933212, -1.0917377471923828, -1.03615140914917, -0.007867440581321716, 0.2886132001876831, -0.08113952726125717, -2.6339004039764404, 0.27449312806129456, 0.5216522812843323, -0.8898939490318298, -1.4674996137619019, 1.0773777961730957, -0.41697049140930176, 0.6123390197753906, 0.05370808020234108, 1.2037854194641113, -1.3986788988113403, -0.1382392942905426, -0.14761319756507874, 0.5901943445205688, -0.3253006637096405, 0.6450236439704895, -2.1809239387512207, -0.45489701628685, -1.088150978088379, -0.7179429531097412, -0.6472966074943542, 0.17857155203819275, -1.3472254276275635, 0.09231339395046234, 0.0978333130478859, 0.25074303150177, -0.22038772702217102, 0.2450249344110489, 0.24215218424797058, -1.0949840545654297, -0.2312120646238327, -0.08197731524705887, -0.2887612283229828, 0.4598720073699951, -0.48831257224082947, -0.5750774145126343, -0.8783842325210571, -0.282650887966156, -2.1917104721069336, -0.10842946171760559, 0.4038226306438446, 0.36471259593963623, -0.2574830651283264, -0.5166248679161072, 0.4459858238697052, 0.2061363309621811, 0.872326672077179, -0.19701245427131653, 0.12083979696035385, -0.1382598876953125, 0.489434152841568, 0.47540539503097534, 0.16150188446044922, -0.5787109136581421, 0.047591447830200195, -1.855475902557373, -0.8062918782234192, -0.2844606935977936, 0.013759913854300976, 0.09922471642494202, 0.5115871429443359, 0.07138222455978394, -1.0414170026779175, -0.47810691595077515, 0.3122231364250183, -0.9895835518836975, 0.038103047758340836, -0.1820414960384369, -0.6762931942939758, 0.631252646446228, 0.019094625487923622, -0.9087299704551697, -0.9762795567512512, 0.12381497770547867, 0.4435552954673767, 0.7698224782943726, -0.08582614362239838, 0.3591412901878357, -0.5110432505607605], \"mode\": \"markers\", \"marker\": {\"size\": 4, \"opacity\": 0.8}, \"text\": [\"the\", \",\", \".\", \"of\", \"to\", \"and\", \"in\", \"a\", \"\\\"\", \"'s\", \"for\", \"-\", \"that\", \"on\", \"is\", \"was\", \"said\", \"with\", \"he\", \"as\", \"it\", \"by\", \"at\", \"(\", \")\", \"from\", \"his\", \"''\", \"``\", \"an\", \"be\", \"has\", \"are\", \"have\", \"but\", \"were\", \"not\", \"this\", \"who\", \"they\", \"had\", \"i\", \"which\", \"will\", \"their\", \":\", \"or\", \"its\", \"one\", \"after\", \"new\", \"been\", \"also\", \"we\", \"would\", \"two\", \"more\", \"'\", \"first\", \"about\", \"up\", \"when\", \"year\", \"there\", \"all\", \"--\", \"out\", \"she\", \"other\", \"people\", \"n't\", \"her\", \"percent\", \"than\", \"over\", \"into\", \"last\", \"some\", \"government\", \"time\", \"$\", \"you\", \"years\", \"if\", \"no\", \"world\", \"can\", \"three\", \"do\", \";\", \"president\", \"only\", \"state\", \"million\", \"could\", \"us\", \"most\", \"_\", \"against\", \"u.s.\", \"so\", \"them\", \"what\", \"him\", \"united\", \"during\", \"before\", \"may\", \"since\", \"many\", \"while\", \"where\", \"states\", \"because\", \"now\", \"city\", \"made\", \"like\", \"between\", \"did\", \"just\", \"national\", \"day\", \"country\", \"under\", \"such\", \"second\", \"then\", \"company\", \"group\", \"any\", \"through\", \"china\", \"four\", \"being\", \"down\", \"war\", \"back\", \"off\", \"south\", \"american\", \"minister\", \"police\", \"well\", \"including\", \"team\", \"international\", \"week\", \"officials\", \"still\", \"both\", \"even\", \"high\", \"part\", \"told\", \"those\", \"end\", \"former\", \"these\", \"make\", \"billion\", \"work\", \"our\", \"home\", \"school\", \"party\", \"house\", \"old\", \"later\", \"get\", \"another\", \"tuesday\", \"news\", \"long\", \"five\", \"called\", \"1\", \"wednesday\", \"military\", \"way\", \"used\", \"much\", \"next\", \"monday\", \"thursday\", \"friday\", \"game\", \"here\", \"?\", \"should\", \"take\", \"very\", \"my\", \"north\", \"security\", \"season\", \"york\", \"how\", \"public\", \"early\", \"according\", \"several\", \"court\", \"say\", \"around\", \"foreign\", \"10\", \"until\", \"set\", \"political\", \"says\", \"market\", \"however\", \"family\", \"life\", \"same\", \"general\", \"\\u2013\", \"left\", \"good\", \"top\", \"university\", \"going\", \"number\", \"major\", \"known\", \"points\", \"won\", \"six\", \"month\", \"dollars\", \"bank\", \"2\", \"iraq\", \"use\", \"members\", \"each\", \"area\", \"found\", \"official\", \"sunday\", \"place\", \"go\", \"based\", \"among\", \"third\", \"times\", \"took\", \"right\", \"days\", \"local\", \"economic\", \"countries\", \"see\", \"best\", \"report\", \"killed\", \"held\", \"business\", \"west\", \"does\", \"own\", \"%\", \"came\", \"law\", \"months\", \"women\", \"'re\", \"power\", \"think\", \"service\", \"children\", \"bush\", \"show\", \"/\", \"help\", \"chief\", \"saturday\", \"system\", \"john\", \"support\", \"series\", \"play\", \"office\", \"following\", \"me\", \"meeting\", \"expected\", \"late\", \"washington\", \"games\", \"european\", \"league\", \"reported\", \"final\", \"added\", \"without\", \"british\", \"white\", \"history\"]}], {\"margin\": {\"l\": 0, \"r\": 0, \"b\": 0, \"t\": 0}, \"scene\": {\"xaxis\": {\"title\": \"1st Principle Component\"}, \"yaxis\": {\"title\": \"2nd Principle Component\"}, \"zaxis\": {\"title\": \"3rd Principel Component\"}, \"annotations\": [{\"showarrow\": false, \"x\": 5.2178826332092285, \"y\": 2.070946455001831, \"z\": -1.0585708618164062, \"text\": \"the\", \"xanchor\": \"left\", \"xshift\": 5, \"opacity\": 1}, {\"showarrow\": false, \"x\": 4.080163955688477, \"y\": 3.066622018814087, \"z\": -0.7242254018783569, \"text\": \",\", \"xanchor\": \"left\", \"xshift\": 5, \"opacity\": 1}, {\"showarrow\": false, \"x\": 4.607367038726807, \"y\": 2.4460084438323975, \"z\": -0.3960582911968231, \"text\": \".\", \"xanchor\": \"left\", \"xshift\": 5, \"opacity\": 1}, {\"showarrow\": false, \"x\": 5.051972389221191, \"y\": 2.0940439701080322, \"z\": -1.148351788520813, \"text\": \"of\", \"xanchor\": \"left\", \"xshift\": 5, \"opacity\": 1}, {\"showarrow\": false, \"x\": 5.047371864318848, \"y\": 2.344891309738159, \"z\": -0.2475600242614746, \"text\": \"to\", \"xanchor\": \"left\", \"xshift\": 5, \"opacity\": 1}, {\"showarrow\": false, \"x\": 4.548764228820801, \"y\": 2.6825003623962402, \"z\": -0.43575048446655273, \"text\": \"and\", \"xanchor\": \"left\", \"xshift\": 5, \"opacity\": 1}, {\"showarrow\": false, \"x\": 5.171853065490723, \"y\": 1.9157569408416748, \"z\": -1.4702385663986206, \"text\": \"in\", \"xanchor\": \"left\", \"xshift\": 5, \"opacity\": 1}, {\"showarrow\": false, \"x\": 5.013679027557373, \"y\": 2.319080114364624, \"z\": -0.12346267700195312, \"text\": \"a\", \"xanchor\": \"left\", \"xshift\": 5, \"opacity\": 1}, {\"showarrow\": false, \"x\": 3.8947622776031494, \"y\": 2.546773910522461, \"z\": -0.9509298801422119, \"text\": \"\\\"\", \"xanchor\": \"left\", \"xshift\": 5, \"opacity\": 1}, {\"showarrow\": false, \"x\": 4.349795818328857, \"y\": 3.5107216835021973, \"z\": -0.8719756603240967, \"text\": \"'s\", \"xanchor\": \"left\", \"xshift\": 5, \"opacity\": 1}, {\"showarrow\": false, \"x\": 5.019586086273193, \"y\": 2.4039008617401123, \"z\": 0.02592506818473339, \"text\": \"for\", \"xanchor\": \"left\", \"xshift\": 5, \"opacity\": 1}, {\"showarrow\": false, \"x\": 4.995056629180908, \"y\": 3.1604366302490234, \"z\": -0.4922875165939331, \"text\": \"-\", \"xanchor\": \"left\", \"xshift\": 5, \"opacity\": 1}, {\"showarrow\": false, \"x\": 4.863041400909424, \"y\": 3.1892919540405273, \"z\": -0.12844283878803253, \"text\": \"that\", \"xanchor\": \"left\", \"xshift\": 5, \"opacity\": 1}, {\"showarrow\": false, \"x\": 5.127834796905518, \"y\": 2.158738613128662, \"z\": -0.3610430061817169, \"text\": \"on\", \"xanchor\": \"left\", \"xshift\": 5, \"opacity\": 1}, {\"showarrow\": false, \"x\": 4.5031819343566895, \"y\": 2.282360076904297, \"z\": -1.303567886352539, \"text\": \"is\", \"xanchor\": \"left\", \"xshift\": 5, \"opacity\": 1}, {\"showarrow\": false, \"x\": 4.21574068069458, \"y\": 3.1108717918395996, \"z\": -0.6610482931137085, \"text\": \"was\", \"xanchor\": \"left\", \"xshift\": 5, \"opacity\": 1}, {\"showarrow\": false, \"x\": 2.895820140838623, \"y\": 5.091142654418945, \"z\": -0.860348641872406, \"text\": \"said\", \"xanchor\": \"left\", \"xshift\": 5, \"opacity\": 1}, {\"showarrow\": false, \"x\": 4.787626266479492, \"y\": 2.6761820316314697, \"z\": 0.22870409488677979, \"text\": \"with\", \"xanchor\": \"left\", \"xshift\": 5, \"opacity\": 1}, {\"showarrow\": false, \"x\": 4.773887634277344, \"y\": 3.227940559387207, \"z\": -0.38212311267852783, \"text\": \"he\", \"xanchor\": \"left\", \"xshift\": 5, \"opacity\": 1}, {\"showarrow\": false, \"x\": 4.557002544403076, \"y\": 2.5530459880828857, \"z\": -0.47116386890411377, \"text\": \"as\", \"xanchor\": \"left\", \"xshift\": 5, \"opacity\": 1}, {\"showarrow\": false, \"x\": 5.205573081970215, \"y\": 2.2760605812072754, \"z\": -0.4118656516075134, \"text\": \"it\", \"xanchor\": \"left\", \"xshift\": 5, \"opacity\": 1}, {\"showarrow\": false, \"x\": 4.02437162399292, \"y\": 3.3611459732055664, \"z\": -0.15876203775405884, \"text\": \"by\", \"xanchor\": \"left\", \"xshift\": 5, \"opacity\": 1}, {\"showarrow\": false, \"x\": 4.944502830505371, \"y\": 1.937423825263977, \"z\": -1.0082889795303345, \"text\": \"at\", \"xanchor\": \"left\", \"xshift\": 5, \"opacity\": 1}, {\"showarrow\": false, \"x\": 3.704150676727295, \"y\": 2.269376277923584, \"z\": -0.8639757633209229, \"text\": \"(\", \"xanchor\": \"left\", \"xshift\": 5, \"opacity\": 1}, {\"showarrow\": false, \"x\": 4.03278112411499, \"y\": 2.0446712970733643, \"z\": -0.8848389983177185, \"text\": \")\", \"xanchor\": \"left\", \"xshift\": 5, \"opacity\": 1}, {\"showarrow\": false, \"x\": 5.069934368133545, \"y\": 2.0380942821502686, \"z\": -0.6935797333717346, \"text\": \"from\", \"xanchor\": \"left\", \"xshift\": 5, \"opacity\": 1}, {\"showarrow\": false, \"x\": 4.590205669403076, \"y\": 3.469371795654297, \"z\": 0.1469135880470276, \"text\": \"his\", \"xanchor\": \"left\", \"xshift\": 5, \"opacity\": 1}, {\"showarrow\": false, \"x\": 3.8114206790924072, \"y\": 3.857792377471924, \"z\": 0.08389449119567871, \"text\": \"''\", \"xanchor\": \"left\", \"xshift\": 5, \"opacity\": 1}, {\"showarrow\": false, \"x\": 4.46875524520874, \"y\": 3.084557294845581, \"z\": 0.01019576471298933, \"text\": \"``\", \"xanchor\": \"left\", \"xshift\": 5, \"opacity\": 1}, {\"showarrow\": false, \"x\": 4.523101329803467, \"y\": 2.222385883331299, \"z\": -0.23411798477172852, \"text\": \"an\", \"xanchor\": \"left\", \"xshift\": 5, \"opacity\": 1}, {\"showarrow\": false, \"x\": 4.986246109008789, \"y\": 2.530836582183838, \"z\": 0.1248013898730278, \"text\": \"be\", \"xanchor\": \"left\", \"xshift\": 5, \"opacity\": 1}, {\"showarrow\": false, \"x\": 4.552236557006836, \"y\": 3.150235414505005, \"z\": -0.7029294371604919, \"text\": \"has\", \"xanchor\": \"left\", \"xshift\": 5, \"opacity\": 1}, {\"showarrow\": false, \"x\": 5.110722541809082, \"y\": 1.843488335609436, \"z\": 0.11698328703641891, \"text\": \"are\", \"xanchor\": \"left\", \"xshift\": 5, \"opacity\": 1}, {\"showarrow\": false, \"x\": 5.225558757781982, \"y\": 2.7170393466949463, \"z\": 0.09254113584756851, \"text\": \"have\", \"xanchor\": \"left\", \"xshift\": 5, \"opacity\": 1}, {\"showarrow\": false, \"x\": 4.773766994476318, \"y\": 2.990767478942871, \"z\": 0.09752873331308365, \"text\": \"but\", \"xanchor\": \"left\", \"xshift\": 5, \"opacity\": 1}, {\"showarrow\": false, \"x\": 4.937385082244873, \"y\": 2.317089796066284, \"z\": 0.20646101236343384, \"text\": \"were\", \"xanchor\": \"left\", \"xshift\": 5, \"opacity\": 1}, {\"showarrow\": false, \"x\": 4.89562463760376, \"y\": 2.8551361560821533, \"z\": 0.07366552948951721, \"text\": \"not\", \"xanchor\": \"left\", \"xshift\": 5, \"opacity\": 1}, {\"showarrow\": false, \"x\": 4.922721862792969, \"y\": 2.3247454166412354, \"z\": -0.36220240592956543, \"text\": \"this\", \"xanchor\": \"left\", \"xshift\": 5, \"opacity\": 1}, {\"showarrow\": false, \"x\": 3.9263429641723633, \"y\": 4.005542278289795, \"z\": 0.0866847038269043, \"text\": \"who\", \"xanchor\": \"left\", \"xshift\": 5, \"opacity\": 1}, {\"showarrow\": false, \"x\": 5.296085834503174, \"y\": 2.4693210124969482, \"z\": 0.08028656989336014, \"text\": \"they\", \"xanchor\": \"left\", \"xshift\": 5, \"opacity\": 1}, {\"showarrow\": false, \"x\": 4.488701343536377, \"y\": 3.523098945617676, \"z\": -0.0310906283557415, \"text\": \"had\", \"xanchor\": \"left\", \"xshift\": 5, \"opacity\": 1}, {\"showarrow\": false, \"x\": 4.705794334411621, \"y\": 3.1591601371765137, \"z\": -0.12131775915622711, \"text\": \"i\", \"xanchor\": \"left\", \"xshift\": 5, \"opacity\": 1}, {\"showarrow\": false, \"x\": 5.1714558601379395, \"y\": 1.9206010103225708, \"z\": -0.7215238213539124, \"text\": \"which\", \"xanchor\": \"left\", \"xshift\": 5, \"opacity\": 1}, {\"showarrow\": false, \"x\": 4.791448593139648, \"y\": 2.675534248352051, \"z\": -0.1717761605978012, \"text\": \"will\", \"xanchor\": \"left\", \"xshift\": 5, \"opacity\": 1}, {\"showarrow\": false, \"x\": 5.45138692855835, \"y\": 1.9069849252700806, \"z\": 0.5028707981109619, \"text\": \"their\", \"xanchor\": \"left\", \"xshift\": 5, \"opacity\": 1}, {\"showarrow\": false, \"x\": 4.320233345031738, \"y\": 2.4419102668762207, \"z\": -0.4041944742202759, \"text\": \":\", \"xanchor\": \"left\", \"xshift\": 5, \"opacity\": 1}, {\"showarrow\": false, \"x\": 5.023449897766113, \"y\": 1.3781999349594116, \"z\": 0.37649455666542053, \"text\": \"or\", \"xanchor\": \"left\", \"xshift\": 5, \"opacity\": 1}, {\"showarrow\": false, \"x\": 5.530414581298828, \"y\": 1.379744529724121, \"z\": -0.5112227201461792, \"text\": \"its\", \"xanchor\": \"left\", \"xshift\": 5, \"opacity\": 1}, {\"showarrow\": false, \"x\": 4.917895793914795, \"y\": 2.4339232444763184, \"z\": -0.15817739069461823, \"text\": \"one\", \"xanchor\": \"left\", \"xshift\": 5, \"opacity\": 1}, {\"showarrow\": false, \"x\": 4.781172752380371, \"y\": 2.8760781288146973, \"z\": -0.25113987922668457, \"text\": \"after\", \"xanchor\": \"left\", \"xshift\": 5, \"opacity\": 1}, {\"showarrow\": false, \"x\": 4.930273532867432, \"y\": 2.228421926498413, \"z\": -0.3409225642681122, \"text\": \"new\", \"xanchor\": \"left\", \"xshift\": 5, \"opacity\": 1}, {\"showarrow\": false, \"x\": 4.853982925415039, \"y\": 2.791934013366699, \"z\": -0.27239590883255005, \"text\": \"been\", \"xanchor\": \"left\", \"xshift\": 5, \"opacity\": 1}, {\"showarrow\": false, \"x\": 4.178509712219238, \"y\": 2.9452199935913086, \"z\": -0.7273156642913818, \"text\": \"also\", \"xanchor\": \"left\", \"xshift\": 5, \"opacity\": 1}, {\"showarrow\": false, \"x\": 4.867218971252441, \"y\": 2.891317367553711, \"z\": 0.10537590086460114, \"text\": \"we\", \"xanchor\": \"left\", \"xshift\": 5, \"opacity\": 1}, {\"showarrow\": false, \"x\": 4.770212650299072, \"y\": 2.7919511795043945, \"z\": -0.054702553898096085, \"text\": \"would\", \"xanchor\": \"left\", \"xshift\": 5, \"opacity\": 1}, {\"showarrow\": false, \"x\": 5.127406120300293, \"y\": 2.3729429244995117, \"z\": 0.299313485622406, \"text\": \"two\", \"xanchor\": \"left\", \"xshift\": 5, \"opacity\": 1}, {\"showarrow\": false, \"x\": 5.2504801750183105, \"y\": 1.9154613018035889, \"z\": 0.7231321334838867, \"text\": \"more\", \"xanchor\": \"left\", \"xshift\": 5, \"opacity\": 1}, {\"showarrow\": false, \"x\": 4.374081134796143, \"y\": 2.8813862800598145, \"z\": -0.6611437201499939, \"text\": \"'\", \"xanchor\": \"left\", \"xshift\": 5, \"opacity\": 1}, {\"showarrow\": false, \"x\": 4.71268367767334, \"y\": 2.3363184928894043, \"z\": -0.15905709564685822, \"text\": \"first\", \"xanchor\": \"left\", \"xshift\": 5, \"opacity\": 1}, {\"showarrow\": false, \"x\": 5.092301368713379, \"y\": 2.27101469039917, \"z\": 0.3468308448791504, \"text\": \"about\", \"xanchor\": \"left\", \"xshift\": 5, \"opacity\": 1}, {\"showarrow\": false, \"x\": 5.149620056152344, \"y\": 2.3579483032226562, \"z\": 0.5433729887008667, \"text\": \"up\", \"xanchor\": \"left\", \"xshift\": 5, \"opacity\": 1}, {\"showarrow\": false, \"x\": 4.674875736236572, \"y\": 3.0870583057403564, \"z\": -0.03294345363974571, \"text\": \"when\", \"xanchor\": \"left\", \"xshift\": 5, \"opacity\": 1}, {\"showarrow\": false, \"x\": 4.942036151885986, \"y\": 2.3535900115966797, \"z\": 0.10503540188074112, \"text\": \"year\", \"xanchor\": \"left\", \"xshift\": 5, \"opacity\": 1}, {\"showarrow\": false, \"x\": 4.937905311584473, \"y\": 2.178570032119751, \"z\": -0.0920993760228157, \"text\": \"there\", \"xanchor\": \"left\", \"xshift\": 5, \"opacity\": 1}, {\"showarrow\": false, \"x\": 5.141549110412598, \"y\": 2.2891483306884766, \"z\": 0.37396734952926636, \"text\": \"all\", \"xanchor\": \"left\", \"xshift\": 5, \"opacity\": 1}, {\"showarrow\": false, \"x\": 4.56583833694458, \"y\": 3.0709025859832764, \"z\": -0.6016637682914734, \"text\": \"--\", \"xanchor\": \"left\", \"xshift\": 5, \"opacity\": 1}, {\"showarrow\": false, \"x\": 5.019871711730957, \"y\": 2.785637617111206, \"z\": 0.5059192180633545, \"text\": \"out\", \"xanchor\": \"left\", \"xshift\": 5, \"opacity\": 1}, {\"showarrow\": false, \"x\": 4.457321643829346, \"y\": 2.888289451599121, \"z\": -0.16639292240142822, \"text\": \"she\", \"xanchor\": \"left\", \"xshift\": 5, \"opacity\": 1}, {\"showarrow\": false, \"x\": 4.933334827423096, \"y\": 2.2260396480560303, \"z\": -0.0339069627225399, \"text\": \"other\", \"xanchor\": \"left\", \"xshift\": 5, \"opacity\": 1}, {\"showarrow\": false, \"x\": 5.051964282989502, \"y\": 1.847022533416748, \"z\": -0.3677936792373657, \"text\": \"people\", \"xanchor\": \"left\", \"xshift\": 5, \"opacity\": 1}, {\"showarrow\": false, \"x\": 4.757823944091797, \"y\": 3.097264051437378, \"z\": 0.43756303191185, \"text\": \"n't\", \"xanchor\": \"left\", \"xshift\": 5, \"opacity\": 1}, {\"showarrow\": false, \"x\": 4.368105411529541, \"y\": 3.0302629470825195, \"z\": 0.289458692073822, \"text\": \"her\", \"xanchor\": \"left\", \"xshift\": 5, \"opacity\": 1}, {\"showarrow\": false, \"x\": 4.783598899841309, \"y\": 1.7641475200653076, \"z\": 0.5867879390716553, \"text\": \"percent\", \"xanchor\": \"left\", \"xshift\": 5, \"opacity\": 1}, {\"showarrow\": false, \"x\": 5.283315181732178, \"y\": 1.7962274551391602, \"z\": 0.7351109385490417, \"text\": \"than\", \"xanchor\": \"left\", \"xshift\": 5, \"opacity\": 1}, {\"showarrow\": false, \"x\": 5.111250400543213, \"y\": 2.0879783630371094, \"z\": 0.0845438539981842, \"text\": \"over\", \"xanchor\": \"left\", \"xshift\": 5, \"opacity\": 1}, {\"showarrow\": false, \"x\": 5.29787540435791, \"y\": 1.7445112466812134, \"z\": -0.4665961265563965, \"text\": \"into\", \"xanchor\": \"left\", \"xshift\": 5, \"opacity\": 1}, {\"showarrow\": false, \"x\": 4.940832614898682, \"y\": 2.638535499572754, \"z\": -0.20903107523918152, \"text\": \"last\", \"xanchor\": \"left\", \"xshift\": 5, \"opacity\": 1}, {\"showarrow\": false, \"x\": 5.292090892791748, \"y\": 1.87891685962677, \"z\": 0.3014289438724518, \"text\": \"some\", \"xanchor\": \"left\", \"xshift\": 5, \"opacity\": 1}, {\"showarrow\": false, \"x\": 4.527088165283203, \"y\": 2.3563153743743896, \"z\": -0.7858191132545471, \"text\": \"government\", \"xanchor\": \"left\", \"xshift\": 5, \"opacity\": 1}, {\"showarrow\": false, \"x\": 4.761722087860107, \"y\": 2.433413505554199, \"z\": 0.37352949380874634, \"text\": \"time\", \"xanchor\": \"left\", \"xshift\": 5, \"opacity\": 1}, {\"showarrow\": false, \"x\": 4.992644786834717, \"y\": 1.7600023746490479, \"z\": 1.2481412887573242, \"text\": \"$\", \"xanchor\": \"left\", \"xshift\": 5, \"opacity\": 1}, {\"showarrow\": false, \"x\": 4.886549472808838, \"y\": 2.4111266136169434, \"z\": 0.5981608033180237, \"text\": \"you\", \"xanchor\": \"left\", \"xshift\": 5, \"opacity\": 1}, {\"showarrow\": false, \"x\": 4.8770751953125, \"y\": 2.46787166595459, \"z\": 0.001452267519198358, \"text\": \"years\", \"xanchor\": \"left\", \"xshift\": 5, \"opacity\": 1}, {\"showarrow\": false, \"x\": 4.752091407775879, \"y\": 2.654895067214966, \"z\": 0.17649491131305695, \"text\": \"if\", \"xanchor\": \"left\", \"xshift\": 5, \"opacity\": 1}, {\"showarrow\": false, \"x\": 4.735993385314941, \"y\": 2.363513469696045, \"z\": 0.2115919440984726, \"text\": \"no\", \"xanchor\": \"left\", \"xshift\": 5, \"opacity\": 1}, {\"showarrow\": false, \"x\": 4.795853137969971, \"y\": 2.0104639530181885, \"z\": -0.02641422487795353, \"text\": \"world\", \"xanchor\": \"left\", \"xshift\": 5, \"opacity\": 1}, {\"showarrow\": false, \"x\": 4.691144943237305, \"y\": 2.013894557952881, \"z\": 0.4070308208465576, \"text\": \"can\", \"xanchor\": \"left\", \"xshift\": 5, \"opacity\": 1}, {\"showarrow\": false, \"x\": 5.077899932861328, \"y\": 2.2201452255249023, \"z\": 0.3364686369895935, \"text\": \"three\", \"xanchor\": \"left\", \"xshift\": 5, \"opacity\": 1}, {\"showarrow\": false, \"x\": 4.64803409576416, \"y\": 2.4117701053619385, \"z\": -0.2986610233783722, \"text\": \"do\", \"xanchor\": \"left\", \"xshift\": 5, \"opacity\": 1}, {\"showarrow\": false, \"x\": 4.011398792266846, \"y\": 2.4508440494537354, \"z\": -0.07968870550394058, \"text\": \";\", \"xanchor\": \"left\", \"xshift\": 5, \"opacity\": 1}, {\"showarrow\": false, \"x\": 3.473130941390991, \"y\": 4.312465190887451, \"z\": -0.9592978954315186, \"text\": \"president\", \"xanchor\": \"left\", \"xshift\": 5, \"opacity\": 1}, {\"showarrow\": false, \"x\": 4.940255165100098, \"y\": 2.0735814571380615, \"z\": 0.25572869181632996, \"text\": \"only\", \"xanchor\": \"left\", \"xshift\": 5, \"opacity\": 1}, {\"showarrow\": false, \"x\": 4.261643886566162, \"y\": 1.9698774814605713, \"z\": -2.13722825050354, \"text\": \"state\", \"xanchor\": \"left\", \"xshift\": 5, \"opacity\": 1}, {\"showarrow\": false, \"x\": 5.070796489715576, \"y\": 1.6143949031829834, \"z\": 0.5465436577796936, \"text\": \"million\", \"xanchor\": \"left\", \"xshift\": 5, \"opacity\": 1}, {\"showarrow\": false, \"x\": 4.793835639953613, \"y\": 2.695683002471924, \"z\": 0.22724378108978271, \"text\": \"could\", \"xanchor\": \"left\", \"xshift\": 5, \"opacity\": 1}, {\"showarrow\": false, \"x\": 4.537652015686035, \"y\": 2.212541341781616, \"z\": 0.6006151437759399, \"text\": \"us\", \"xanchor\": \"left\", \"xshift\": 5, \"opacity\": 1}, {\"showarrow\": false, \"x\": 4.9478936195373535, \"y\": 1.8066359758377075, \"z\": -0.004232018254697323, \"text\": \"most\", \"xanchor\": \"left\", \"xshift\": 5, \"opacity\": 1}, {\"showarrow\": false, \"x\": 4.722962379455566, \"y\": 2.2679789066314697, \"z\": 0.34064480662345886, \"text\": \"_\", \"xanchor\": \"left\", \"xshift\": 5, \"opacity\": 1}, {\"showarrow\": false, \"x\": 4.675534248352051, \"y\": 2.1388649940490723, \"z\": -0.34345656633377075, \"text\": \"against\", \"xanchor\": \"left\", \"xshift\": 5, \"opacity\": 1}, {\"showarrow\": false, \"x\": 4.21720027923584, \"y\": 2.5605368614196777, \"z\": 0.2759147584438324, \"text\": \"u.s.\", \"xanchor\": \"left\", \"xshift\": 5, \"opacity\": 1}, {\"showarrow\": false, \"x\": 4.816463947296143, \"y\": 2.366381883621216, \"z\": 0.39008229970932007, \"text\": \"so\", \"xanchor\": \"left\", \"xshift\": 5, \"opacity\": 1}, {\"showarrow\": false, \"x\": 4.9149651527404785, \"y\": 2.3577358722686768, \"z\": 0.7097261548042297, \"text\": \"them\", \"xanchor\": \"left\", \"xshift\": 5, \"opacity\": 1}, {\"showarrow\": false, \"x\": 4.669689178466797, \"y\": 2.970669746398926, \"z\": -0.0386916920542717, \"text\": \"what\", \"xanchor\": \"left\", \"xshift\": 5, \"opacity\": 1}, {\"showarrow\": false, \"x\": 4.398906230926514, \"y\": 3.3143179416656494, \"z\": 0.3498346209526062, \"text\": \"him\", \"xanchor\": \"left\", \"xshift\": 5, \"opacity\": 1}, {\"showarrow\": false, \"x\": 4.1666154861450195, \"y\": 2.308798313140869, \"z\": -0.6640415787696838, \"text\": \"united\", \"xanchor\": \"left\", \"xshift\": 5, \"opacity\": 1}, {\"showarrow\": false, \"x\": 4.782481670379639, \"y\": 2.1059298515319824, \"z\": -0.3339891731739044, \"text\": \"during\", \"xanchor\": \"left\", \"xshift\": 5, \"opacity\": 1}, {\"showarrow\": false, \"x\": 4.891665458679199, \"y\": 2.4608235359191895, \"z\": -0.07815230637788773, \"text\": \"before\", \"xanchor\": \"left\", \"xshift\": 5, \"opacity\": 1}, {\"showarrow\": false, \"x\": 4.562189102172852, \"y\": 2.1275079250335693, \"z\": -0.21215394139289856, \"text\": \"may\", \"xanchor\": \"left\", \"xshift\": 5, \"opacity\": 1}, {\"showarrow\": false, \"x\": 4.945529460906982, \"y\": 2.2686145305633545, \"z\": -0.3796464204788208, \"text\": \"since\", \"xanchor\": \"left\", \"xshift\": 5, \"opacity\": 1}, {\"showarrow\": false, \"x\": 5.026931285858154, \"y\": 1.950107216835022, \"z\": 0.12871623039245605, \"text\": \"many\", \"xanchor\": \"left\", \"xshift\": 5, \"opacity\": 1}, {\"showarrow\": false, \"x\": 4.497122764587402, \"y\": 2.5117127895355225, \"z\": 0.11623898148536682, \"text\": \"while\", \"xanchor\": \"left\", \"xshift\": 5, \"opacity\": 1}, {\"showarrow\": false, \"x\": 4.860780239105225, \"y\": 1.888740062713623, \"z\": -1.623279094696045, \"text\": \"where\", \"xanchor\": \"left\", \"xshift\": 5, \"opacity\": 1}, {\"showarrow\": false, \"x\": 4.275187015533447, \"y\": 2.0679080486297607, \"z\": -0.5879612565040588, \"text\": \"states\", \"xanchor\": \"left\", \"xshift\": 5, \"opacity\": 1}, {\"showarrow\": false, \"x\": 4.864059925079346, \"y\": 2.3942527770996094, \"z\": -0.005750241223722696, \"text\": \"because\", \"xanchor\": \"left\", \"xshift\": 5, \"opacity\": 1}, {\"showarrow\": false, \"x\": 4.735440731048584, \"y\": 2.2643017768859863, \"z\": -0.6729226112365723, \"text\": \"now\", \"xanchor\": \"left\", \"xshift\": 5, \"opacity\": 1}, {\"showarrow\": false, \"x\": 4.815718173980713, \"y\": 1.5527433156967163, \"z\": -2.6761980056762695, \"text\": \"city\", \"xanchor\": \"left\", \"xshift\": 5, \"opacity\": 1}, {\"showarrow\": false, \"x\": 4.353762149810791, \"y\": 2.823274612426758, \"z\": 0.26563629508018494, \"text\": \"made\", \"xanchor\": \"left\", \"xshift\": 5, \"opacity\": 1}, {\"showarrow\": false, \"x\": 4.507894039154053, \"y\": 2.728419542312622, \"z\": -0.1456262320280075, \"text\": \"like\", \"xanchor\": \"left\", \"xshift\": 5, \"opacity\": 1}, {\"showarrow\": false, \"x\": 4.967278480529785, \"y\": 1.5742791891098022, \"z\": -0.7772675156593323, \"text\": \"between\", \"xanchor\": \"left\", \"xshift\": 5, \"opacity\": 1}, {\"showarrow\": false, \"x\": 4.187569618225098, \"y\": 3.2211146354675293, \"z\": -0.0425848513841629, \"text\": \"did\", \"xanchor\": \"left\", \"xshift\": 5, \"opacity\": 1}, {\"showarrow\": false, \"x\": 5.023927688598633, \"y\": 2.232440710067749, \"z\": 0.20569008588790894, \"text\": \"just\", \"xanchor\": \"left\", \"xshift\": 5, \"opacity\": 1}, {\"showarrow\": false, \"x\": 4.287768363952637, \"y\": 1.859537124633789, \"z\": -1.653682827949524, \"text\": \"national\", \"xanchor\": \"left\", \"xshift\": 5, \"opacity\": 1}, {\"showarrow\": false, \"x\": 4.7094831466674805, \"y\": 2.1935460567474365, \"z\": -0.006716094445437193, \"text\": \"day\", \"xanchor\": \"left\", \"xshift\": 5, \"opacity\": 1}, {\"showarrow\": false, \"x\": 4.6671671867370605, \"y\": 1.7743070125579834, \"z\": -0.8681084513664246, \"text\": \"country\", \"xanchor\": \"left\", \"xshift\": 5, \"opacity\": 1}, {\"showarrow\": false, \"x\": 4.544098377227783, \"y\": 2.5727615356445312, \"z\": -0.35837340354919434, \"text\": \"under\", \"xanchor\": \"left\", \"xshift\": 5, \"opacity\": 1}, {\"showarrow\": false, \"x\": 4.534152030944824, \"y\": 2.124203681945801, \"z\": -0.025252943858504295, \"text\": \"such\", \"xanchor\": \"left\", \"xshift\": 5, \"opacity\": 1}, {\"showarrow\": false, \"x\": 4.385717391967773, \"y\": 2.3620293140411377, \"z\": -0.1900964230298996, \"text\": \"second\", \"xanchor\": \"left\", \"xshift\": 5, \"opacity\": 1}, {\"showarrow\": false, \"x\": 4.474494934082031, \"y\": 2.6928811073303223, \"z\": -0.38880056142807007, \"text\": \"then\", \"xanchor\": \"left\", \"xshift\": 5, \"opacity\": 1}, {\"showarrow\": false, \"x\": 4.165870666503906, \"y\": 2.563824415206909, \"z\": -0.6963300108909607, \"text\": \"company\", \"xanchor\": \"left\", \"xshift\": 5, \"opacity\": 1}, {\"showarrow\": false, \"x\": 4.314931869506836, \"y\": 2.1685216426849365, \"z\": -0.9949905872344971, \"text\": \"group\", \"xanchor\": \"left\", \"xshift\": 5, \"opacity\": 1}, {\"showarrow\": false, \"x\": 4.967104911804199, \"y\": 1.9845471382141113, \"z\": 0.593217670917511, \"text\": \"any\", \"xanchor\": \"left\", \"xshift\": 5, \"opacity\": 1}, {\"showarrow\": false, \"x\": 4.930105686187744, \"y\": 1.5605719089508057, \"z\": -0.32688355445861816, \"text\": \"through\", \"xanchor\": \"left\", \"xshift\": 5, \"opacity\": 1}, {\"showarrow\": false, \"x\": 4.339605808258057, \"y\": 1.3883297443389893, \"z\": -0.9464390277862549, \"text\": \"china\", \"xanchor\": \"left\", \"xshift\": 5, \"opacity\": 1}, {\"showarrow\": false, \"x\": 5.134888648986816, \"y\": 2.1072282791137695, \"z\": 0.4392050504684448, \"text\": \"four\", \"xanchor\": \"left\", \"xshift\": 5, \"opacity\": 1}, {\"showarrow\": false, \"x\": 4.731545925140381, \"y\": 2.30357027053833, \"z\": -0.07039099186658859, \"text\": \"being\", \"xanchor\": \"left\", \"xshift\": 5, \"opacity\": 1}, {\"showarrow\": false, \"x\": 4.896470546722412, \"y\": 2.316565752029419, \"z\": 0.5725266337394714, \"text\": \"down\", \"xanchor\": \"left\", \"xshift\": 5, \"opacity\": 1}, {\"showarrow\": false, \"x\": 4.652394771575928, \"y\": 1.839781403541565, \"z\": -0.24072590470314026, \"text\": \"war\", \"xanchor\": \"left\", \"xshift\": 5, \"opacity\": 1}, {\"showarrow\": false, \"x\": 4.750063896179199, \"y\": 2.773467540740967, \"z\": 0.1537345051765442, \"text\": \"back\", \"xanchor\": \"left\", \"xshift\": 5, \"opacity\": 1}, {\"showarrow\": false, \"x\": 4.890097141265869, \"y\": 2.5204906463623047, \"z\": 0.3013599216938019, \"text\": \"off\", \"xanchor\": \"left\", \"xshift\": 5, \"opacity\": 1}, {\"showarrow\": false, \"x\": 4.334742546081543, \"y\": 1.6098068952560425, \"z\": -2.2252721786499023, \"text\": \"south\", \"xanchor\": \"left\", \"xshift\": 5, \"opacity\": 1}, {\"showarrow\": false, \"x\": 4.214741230010986, \"y\": 2.3364040851593018, \"z\": 0.20231324434280396, \"text\": \"american\", \"xanchor\": \"left\", \"xshift\": 5, \"opacity\": 1}, {\"showarrow\": false, \"x\": 2.197258472442627, \"y\": 4.608575344085693, \"z\": -0.635162353515625, \"text\": \"minister\", \"xanchor\": \"left\", \"xshift\": 5, \"opacity\": 1}, {\"showarrow\": false, \"x\": 3.9340438842773438, \"y\": 2.7502787113189697, \"z\": -1.5053592920303345, \"text\": \"police\", \"xanchor\": \"left\", \"xshift\": 5, \"opacity\": 1}, {\"showarrow\": false, \"x\": 4.64332389831543, \"y\": 2.2506468296051025, \"z\": -0.3050263524055481, \"text\": \"well\", \"xanchor\": \"left\", \"xshift\": 5, \"opacity\": 1}, {\"showarrow\": false, \"x\": 4.361494541168213, \"y\": 2.382450580596924, \"z\": -0.16796153783798218, \"text\": \"including\", \"xanchor\": \"left\", \"xshift\": 5, \"opacity\": 1}, {\"showarrow\": false, \"x\": 4.348050117492676, \"y\": 2.634830951690674, \"z\": -0.5228906869888306, \"text\": \"team\", \"xanchor\": \"left\", \"xshift\": 5, \"opacity\": 1}, {\"showarrow\": false, \"x\": 4.411818027496338, \"y\": 2.1262905597686768, \"z\": -0.9119826555252075, \"text\": \"international\", \"xanchor\": \"left\", \"xshift\": 5, \"opacity\": 1}, {\"showarrow\": false, \"x\": 4.650645732879639, \"y\": 2.5215330123901367, \"z\": -0.042366016656160355, \"text\": \"week\", \"xanchor\": \"left\", \"xshift\": 5, \"opacity\": 1}, {\"showarrow\": false, \"x\": 4.468663215637207, \"y\": 2.522796154022217, \"z\": -1.1191856861114502, \"text\": \"officials\", \"xanchor\": \"left\", \"xshift\": 5, \"opacity\": 1}, {\"showarrow\": false, \"x\": 4.750858783721924, \"y\": 2.294142246246338, \"z\": 0.08765128999948502, \"text\": \"still\", \"xanchor\": \"left\", \"xshift\": 5, \"opacity\": 1}, {\"showarrow\": false, \"x\": 4.398144721984863, \"y\": 2.5040194988250732, \"z\": -0.13601814210414886, \"text\": \"both\", \"xanchor\": \"left\", \"xshift\": 5, \"opacity\": 1}, {\"showarrow\": false, \"x\": 4.876686096191406, \"y\": 2.2989211082458496, \"z\": 0.5177728533744812, \"text\": \"even\", \"xanchor\": \"left\", \"xshift\": 5, \"opacity\": 1}, {\"showarrow\": false, \"x\": 4.619489669799805, \"y\": 1.5037381649017334, \"z\": -0.6206561326980591, \"text\": \"high\", \"xanchor\": \"left\", \"xshift\": 5, \"opacity\": 1}, {\"showarrow\": false, \"x\": 4.725464344024658, \"y\": 1.5650684833526611, \"z\": -1.5967925786972046, \"text\": \"part\", \"xanchor\": \"left\", \"xshift\": 5, \"opacity\": 1}, {\"showarrow\": false, \"x\": 2.6265952587127686, \"y\": 4.363831043243408, \"z\": -1.2705389261245728, \"text\": \"told\", \"xanchor\": \"left\", \"xshift\": 5, \"opacity\": 1}, {\"showarrow\": false, \"x\": 5.062312602996826, \"y\": 2.1830270290374756, \"z\": 0.7358153462409973, \"text\": \"those\", \"xanchor\": \"left\", \"xshift\": 5, \"opacity\": 1}, {\"showarrow\": false, \"x\": 4.718201637268066, \"y\": 2.0299863815307617, \"z\": 0.11649580299854279, \"text\": \"end\", \"xanchor\": \"left\", \"xshift\": 5, \"opacity\": 1}, {\"showarrow\": false, \"x\": 3.4121336936950684, \"y\": 3.6561825275421143, \"z\": -1.3659707307815552, \"text\": \"former\", \"xanchor\": \"left\", \"xshift\": 5, \"opacity\": 1}, {\"showarrow\": false, \"x\": 5.049242973327637, \"y\": 1.6358048915863037, \"z\": 0.45050501823425293, \"text\": \"these\", \"xanchor\": \"left\", \"xshift\": 5, \"opacity\": 1}, {\"showarrow\": false, \"x\": 4.79095458984375, \"y\": 2.107966184616089, \"z\": 0.548595666885376, \"text\": \"make\", \"xanchor\": \"left\", \"xshift\": 5, \"opacity\": 1}, {\"showarrow\": false, \"x\": 4.918956279754639, \"y\": 1.5362721681594849, \"z\": 1.1274667978286743, \"text\": \"billion\", \"xanchor\": \"left\", \"xshift\": 5, \"opacity\": 1}, {\"showarrow\": false, \"x\": 4.2191572189331055, \"y\": 2.431504964828491, \"z\": 0.15478037297725677, \"text\": \"work\", \"xanchor\": \"left\", \"xshift\": 5, \"opacity\": 1}, {\"showarrow\": false, \"x\": 4.825057506561279, \"y\": 2.064286470413208, \"z\": 0.309195876121521, \"text\": \"our\", \"xanchor\": \"left\", \"xshift\": 5, \"opacity\": 1}, {\"showarrow\": false, \"x\": 4.4401726722717285, \"y\": 2.0929372310638428, \"z\": -0.4971223473548889, \"text\": \"home\", \"xanchor\": \"left\", \"xshift\": 5, \"opacity\": 1}, {\"showarrow\": false, \"x\": 4.303912162780762, \"y\": 1.7360970973968506, \"z\": -1.5786821842193604, \"text\": \"school\", \"xanchor\": \"left\", \"xshift\": 5, \"opacity\": 1}, {\"showarrow\": false, \"x\": 4.036200046539307, \"y\": 2.2605299949645996, \"z\": -0.6358272433280945, \"text\": \"party\", \"xanchor\": \"left\", \"xshift\": 5, \"opacity\": 1}, {\"showarrow\": false, \"x\": 4.081459999084473, \"y\": 2.4974422454833984, \"z\": -0.4725551903247833, \"text\": \"house\", \"xanchor\": \"left\", \"xshift\": 5, \"opacity\": 1}, {\"showarrow\": false, \"x\": 4.054792881011963, \"y\": 2.6324963569641113, \"z\": -0.3197431266307831, \"text\": \"old\", \"xanchor\": \"left\", \"xshift\": 5, \"opacity\": 1}, {\"showarrow\": false, \"x\": 4.120891094207764, \"y\": 2.894443988800049, \"z\": -0.6362414956092834, \"text\": \"later\", \"xanchor\": \"left\", \"xshift\": 5, \"opacity\": 1}, {\"showarrow\": false, \"x\": 4.683141708374023, \"y\": 2.46476149559021, \"z\": 0.6197298765182495, \"text\": \"get\", \"xanchor\": \"left\", \"xshift\": 5, \"opacity\": 1}, {\"showarrow\": false, \"x\": 4.545617580413818, \"y\": 2.3059239387512207, \"z\": -0.08618836849927902, \"text\": \"another\", \"xanchor\": \"left\", \"xshift\": 5, \"opacity\": 1}, {\"showarrow\": false, \"x\": 4.264697551727295, \"y\": 2.7780911922454834, \"z\": -0.47160640358924866, \"text\": \"tuesday\", \"xanchor\": \"left\", \"xshift\": 5, \"opacity\": 1}, {\"showarrow\": false, \"x\": 3.7698731422424316, \"y\": 2.325554609298706, \"z\": -0.4928639531135559, \"text\": \"news\", \"xanchor\": \"left\", \"xshift\": 5, \"opacity\": 1}, {\"showarrow\": false, \"x\": 4.812073707580566, \"y\": 2.1277687549591064, \"z\": 0.2554307281970978, \"text\": \"long\", \"xanchor\": \"left\", \"xshift\": 5, \"opacity\": 1}, {\"showarrow\": false, \"x\": 4.997085094451904, \"y\": 2.066528797149658, \"z\": 0.4660484492778778, \"text\": \"five\", \"xanchor\": \"left\", \"xshift\": 5, \"opacity\": 1}, {\"showarrow\": false, \"x\": 3.858308792114258, \"y\": 2.3465051651000977, \"z\": -1.042258381843567, \"text\": \"called\", \"xanchor\": \"left\", \"xshift\": 5, \"opacity\": 1}, {\"showarrow\": false, \"x\": 4.479851245880127, \"y\": 1.3772140741348267, \"z\": -0.33828622102737427, \"text\": \"1\", \"xanchor\": \"left\", \"xshift\": 5, \"opacity\": 1}, {\"showarrow\": false, \"x\": 4.297069072723389, \"y\": 2.7549993991851807, \"z\": -0.5410668253898621, \"text\": \"wednesday\", \"xanchor\": \"left\", \"xshift\": 5, \"opacity\": 1}, {\"showarrow\": false, \"x\": 4.512314319610596, \"y\": 1.8727203607559204, \"z\": -0.5383549928665161, \"text\": \"military\", \"xanchor\": \"left\", \"xshift\": 5, \"opacity\": 1}, {\"showarrow\": false, \"x\": 4.734970569610596, \"y\": 2.222053289413452, \"z\": -0.05906711891293526, \"text\": \"way\", \"xanchor\": \"left\", \"xshift\": 5, \"opacity\": 1}, {\"showarrow\": false, \"x\": 4.626525402069092, \"y\": 1.798750877380371, \"z\": 0.07635539025068283, \"text\": \"used\", \"xanchor\": \"left\", \"xshift\": 5, \"opacity\": 1}, {\"showarrow\": false, \"x\": 4.865919589996338, \"y\": 2.2065041065216064, \"z\": 0.20624472200870514, \"text\": \"much\", \"xanchor\": \"left\", \"xshift\": 5, \"opacity\": 1}, {\"showarrow\": false, \"x\": 4.757517337799072, \"y\": 2.1299777030944824, \"z\": -0.18408574163913727, \"text\": \"next\", \"xanchor\": \"left\", \"xshift\": 5, \"opacity\": 1}, {\"showarrow\": false, \"x\": 4.246689319610596, \"y\": 2.7366366386413574, \"z\": -0.4999394416809082, \"text\": \"monday\", \"xanchor\": \"left\", \"xshift\": 5, \"opacity\": 1}, {\"showarrow\": false, \"x\": 4.239389419555664, \"y\": 2.704669952392578, \"z\": -0.49083182215690613, \"text\": \"thursday\", \"xanchor\": \"left\", \"xshift\": 5, \"opacity\": 1}, {\"showarrow\": false, \"x\": 4.361481189727783, \"y\": 2.5883474349975586, \"z\": -0.4104382395744324, \"text\": \"friday\", \"xanchor\": \"left\", \"xshift\": 5, \"opacity\": 1}, {\"showarrow\": false, \"x\": 4.754195690155029, \"y\": 1.9111961126327515, \"z\": 0.7678942680358887, \"text\": \"game\", \"xanchor\": \"left\", \"xshift\": 5, \"opacity\": 1}, {\"showarrow\": false, \"x\": 4.385786056518555, \"y\": 2.407566785812378, \"z\": -0.6735294461250305, \"text\": \"here\", \"xanchor\": \"left\", \"xshift\": 5, \"opacity\": 1}, {\"showarrow\": false, \"x\": 4.35158634185791, \"y\": 2.4148621559143066, \"z\": 0.23439933359622955, \"text\": \"?\", \"xanchor\": \"left\", \"xshift\": 5, \"opacity\": 1}, {\"showarrow\": false, \"x\": 4.5668511390686035, \"y\": 2.4478816986083984, \"z\": 0.028694860637187958, \"text\": \"should\", \"xanchor\": \"left\", \"xshift\": 5, \"opacity\": 1}, {\"showarrow\": false, \"x\": 4.7363667488098145, \"y\": 2.2681894302368164, \"z\": 0.06764485687017441, \"text\": \"take\", \"xanchor\": \"left\", \"xshift\": 5, \"opacity\": 1}, {\"showarrow\": false, \"x\": 4.400018692016602, \"y\": 2.311744451522827, \"z\": 0.10203053057193756, \"text\": \"very\", \"xanchor\": \"left\", \"xshift\": 5, \"opacity\": 1}, {\"showarrow\": false, \"x\": 4.707221508026123, \"y\": 2.482133150100708, \"z\": 0.3801271617412567, \"text\": \"my\", \"xanchor\": \"left\", \"xshift\": 5, \"opacity\": 1}, {\"showarrow\": false, \"x\": 4.455931663513184, \"y\": 1.296879768371582, \"z\": -2.3391871452331543, \"text\": \"north\", \"xanchor\": \"left\", \"xshift\": 5, \"opacity\": 1}, {\"showarrow\": false, \"x\": 4.086249828338623, \"y\": 2.171633005142212, \"z\": -0.19202451407909393, \"text\": \"security\", \"xanchor\": \"left\", \"xshift\": 5, \"opacity\": 1}, {\"showarrow\": false, \"x\": 4.49013614654541, \"y\": 1.9020010232925415, \"z\": 0.20856022834777832, \"text\": \"season\", \"xanchor\": \"left\", \"xshift\": 5, \"opacity\": 1}, {\"showarrow\": false, \"x\": 4.077398300170898, \"y\": 2.3497281074523926, \"z\": -0.503764271736145, \"text\": \"york\", \"xanchor\": \"left\", \"xshift\": 5, \"opacity\": 1}, {\"showarrow\": false, \"x\": 4.582310199737549, \"y\": 2.747922897338867, \"z\": 0.43292224407196045, \"text\": \"how\", \"xanchor\": \"left\", \"xshift\": 5, \"opacity\": 1}, {\"showarrow\": false, \"x\": 4.379698753356934, \"y\": 1.7477471828460693, \"z\": -0.3607484698295593, \"text\": \"public\", \"xanchor\": \"left\", \"xshift\": 5, \"opacity\": 1}, {\"showarrow\": false, \"x\": 4.653131484985352, \"y\": 2.0664448738098145, \"z\": -0.094345822930336, \"text\": \"early\", \"xanchor\": \"left\", \"xshift\": 5, \"opacity\": 1}, {\"showarrow\": false, \"x\": 3.5971579551696777, \"y\": 2.632389545440674, \"z\": -0.7470020055770874, \"text\": \"according\", \"xanchor\": \"left\", \"xshift\": 5, \"opacity\": 1}, {\"showarrow\": false, \"x\": 4.819587230682373, \"y\": 2.128523349761963, \"z\": -0.20730885863304138, \"text\": \"several\", \"xanchor\": \"left\", \"xshift\": 5, \"opacity\": 1}, {\"showarrow\": false, \"x\": 4.175404071807861, \"y\": 2.418590545654297, \"z\": -1.2073791027069092, \"text\": \"court\", \"xanchor\": \"left\", \"xshift\": 5, \"opacity\": 1}, {\"showarrow\": false, \"x\": 4.425426006317139, \"y\": 2.6343834400177, \"z\": -0.24157965183258057, \"text\": \"say\", \"xanchor\": \"left\", \"xshift\": 5, \"opacity\": 1}, {\"showarrow\": false, \"x\": 5.110074996948242, \"y\": 1.3968497514724731, \"z\": -0.22522087395191193, \"text\": \"around\", \"xanchor\": \"left\", \"xshift\": 5, \"opacity\": 1}, {\"showarrow\": false, \"x\": 3.2390246391296387, \"y\": 2.8740577697753906, \"z\": 0.30898791551589966, \"text\": \"foreign\", \"xanchor\": \"left\", \"xshift\": 5, \"opacity\": 1}, {\"showarrow\": false, \"x\": 4.681515693664551, \"y\": 1.8058981895446777, \"z\": 0.507671594619751, \"text\": \"10\", \"xanchor\": \"left\", \"xshift\": 5, \"opacity\": 1}, {\"showarrow\": false, \"x\": 4.754590034484863, \"y\": 1.8647123575210571, \"z\": -0.3427322804927826, \"text\": \"until\", \"xanchor\": \"left\", \"xshift\": 5, \"opacity\": 1}, {\"showarrow\": false, \"x\": 4.416380405426025, \"y\": 1.9694554805755615, \"z\": 0.5405950546264648, \"text\": \"set\", \"xanchor\": \"left\", \"xshift\": 5, \"opacity\": 1}, {\"showarrow\": false, \"x\": 4.412339687347412, \"y\": 2.0876307487487793, \"z\": -0.15861839056015015, \"text\": \"political\", \"xanchor\": \"left\", \"xshift\": 5, \"opacity\": 1}, {\"showarrow\": false, \"x\": 3.0385701656341553, \"y\": 3.819592237472534, \"z\": -0.2753155827522278, \"text\": \"says\", \"xanchor\": \"left\", \"xshift\": 5, \"opacity\": 1}, {\"showarrow\": false, \"x\": 4.361115455627441, \"y\": 1.7919328212738037, \"z\": -0.10120654851198196, \"text\": \"market\", \"xanchor\": \"left\", \"xshift\": 5, \"opacity\": 1}, {\"showarrow\": false, \"x\": 4.15492057800293, \"y\": 2.43211030960083, \"z\": -0.32238534092903137, \"text\": \"however\", \"xanchor\": \"left\", \"xshift\": 5, \"opacity\": 1}, {\"showarrow\": false, \"x\": 3.739661931991577, \"y\": 2.697018623352051, \"z\": -0.30331140756607056, \"text\": \"family\", \"xanchor\": \"left\", \"xshift\": 5, \"opacity\": 1}, {\"showarrow\": false, \"x\": 4.345252513885498, \"y\": 2.2969706058502197, \"z\": 0.2684432566165924, \"text\": \"life\", \"xanchor\": \"left\", \"xshift\": 5, \"opacity\": 1}, {\"showarrow\": false, \"x\": 4.864373207092285, \"y\": 2.125253915786743, \"z\": 0.09844698756933212, \"text\": \"same\", \"xanchor\": \"left\", \"xshift\": 5, \"opacity\": 1}, {\"showarrow\": false, \"x\": 2.9015581607818604, \"y\": 3.7315995693206787, \"z\": -1.0917377471923828, \"text\": \"general\", \"xanchor\": \"left\", \"xshift\": 5, \"opacity\": 1}, {\"showarrow\": false, \"x\": 3.7681710720062256, \"y\": 1.7525193691253662, \"z\": -1.03615140914917, \"text\": \"\\u2013\", \"xanchor\": \"left\", \"xshift\": 5, \"opacity\": 1}, {\"showarrow\": false, \"x\": 4.1544880867004395, \"y\": 2.59621262550354, \"z\": -0.007867440581321716, \"text\": \"left\", \"xanchor\": \"left\", \"xshift\": 5, \"opacity\": 1}, {\"showarrow\": false, \"x\": 4.331398010253906, \"y\": 2.459404706954956, \"z\": 0.2886132001876831, \"text\": \"good\", \"xanchor\": \"left\", \"xshift\": 5, \"opacity\": 1}, {\"showarrow\": false, \"x\": 4.245005130767822, \"y\": 2.322340488433838, \"z\": -0.08113952726125717, \"text\": \"top\", \"xanchor\": \"left\", \"xshift\": 5, \"opacity\": 1}, {\"showarrow\": false, \"x\": 4.056684970855713, \"y\": 2.3953909873962402, \"z\": -2.6339004039764404, \"text\": \"university\", \"xanchor\": \"left\", \"xshift\": 5, \"opacity\": 1}, {\"showarrow\": false, \"x\": 4.5665602684021, \"y\": 2.2237963676452637, \"z\": 0.27449312806129456, \"text\": \"going\", \"xanchor\": \"left\", \"xshift\": 5, \"opacity\": 1}, {\"showarrow\": false, \"x\": 4.459172248840332, \"y\": 1.4850369691848755, \"z\": 0.5216522812843323, \"text\": \"number\", \"xanchor\": \"left\", \"xshift\": 5, \"opacity\": 1}, {\"showarrow\": false, \"x\": 4.114322185516357, \"y\": 2.265657663345337, \"z\": -0.8898939490318298, \"text\": \"major\", \"xanchor\": \"left\", \"xshift\": 5, \"opacity\": 1}, {\"showarrow\": false, \"x\": 3.986518144607544, \"y\": 2.0481503009796143, \"z\": -1.4674996137619019, \"text\": \"known\", \"xanchor\": \"left\", \"xshift\": 5, \"opacity\": 1}, {\"showarrow\": false, \"x\": 4.03567361831665, \"y\": 2.2155709266662598, \"z\": 1.0773777961730957, \"text\": \"points\", \"xanchor\": \"left\", \"xshift\": 5, \"opacity\": 1}, {\"showarrow\": false, \"x\": 3.8030996322631836, \"y\": 2.435089588165283, \"z\": -0.41697049140930176, \"text\": \"won\", \"xanchor\": \"left\", \"xshift\": 5, \"opacity\": 1}, {\"showarrow\": false, \"x\": 4.961667537689209, \"y\": 1.9589799642562866, \"z\": 0.6123390197753906, \"text\": \"six\", \"xanchor\": \"left\", \"xshift\": 5, \"opacity\": 1}, {\"showarrow\": false, \"x\": 4.609411239624023, \"y\": 2.256701946258545, \"z\": 0.05370808020234108, \"text\": \"month\", \"xanchor\": \"left\", \"xshift\": 5, \"opacity\": 1}, {\"showarrow\": false, \"x\": 4.456545352935791, \"y\": 1.2465490102767944, \"z\": 1.2037854194641113, \"text\": \"dollars\", \"xanchor\": \"left\", \"xshift\": 5, \"opacity\": 1}, {\"showarrow\": false, \"x\": 3.8336291313171387, \"y\": 1.9344725608825684, \"z\": -1.3986788988113403, \"text\": \"bank\", \"xanchor\": \"left\", \"xshift\": 5, \"opacity\": 1}, {\"showarrow\": false, \"x\": 4.482327461242676, \"y\": 1.5085393190383911, \"z\": -0.1382392942905426, \"text\": \"2\", \"xanchor\": \"left\", \"xshift\": 5, \"opacity\": 1}, {\"showarrow\": false, \"x\": 4.124970436096191, \"y\": 1.9883499145507812, \"z\": -0.14761319756507874, \"text\": \"iraq\", \"xanchor\": \"left\", \"xshift\": 5, \"opacity\": 1}, {\"showarrow\": false, \"x\": 4.781083583831787, \"y\": 1.4650987386703491, \"z\": 0.5901943445205688, \"text\": \"use\", \"xanchor\": \"left\", \"xshift\": 5, \"opacity\": 1}, {\"showarrow\": false, \"x\": 4.230378150939941, \"y\": 2.1361944675445557, \"z\": -0.3253006637096405, \"text\": \"members\", \"xanchor\": \"left\", \"xshift\": 5, \"opacity\": 1}, {\"showarrow\": false, \"x\": 4.917660236358643, \"y\": 1.6383519172668457, \"z\": 0.6450236439704895, \"text\": \"each\", \"xanchor\": \"left\", \"xshift\": 5, \"opacity\": 1}, {\"showarrow\": false, \"x\": 4.487320899963379, \"y\": 1.1181237697601318, \"z\": -2.1809239387512207, \"text\": \"area\", \"xanchor\": \"left\", \"xshift\": 5, \"opacity\": 1}, {\"showarrow\": false, \"x\": 4.209992408752441, \"y\": 2.3764431476593018, \"z\": -0.45489701628685, \"text\": \"found\", \"xanchor\": \"left\", \"xshift\": 5, \"opacity\": 1}, {\"showarrow\": false, \"x\": 3.672153949737549, \"y\": 2.3975164890289307, \"z\": -1.088150978088379, \"text\": \"official\", \"xanchor\": \"left\", \"xshift\": 5, \"opacity\": 1}, {\"showarrow\": false, \"x\": 4.409167766571045, \"y\": 2.216315507888794, \"z\": -0.7179429531097412, \"text\": \"sunday\", \"xanchor\": \"left\", \"xshift\": 5, \"opacity\": 1}, {\"showarrow\": false, \"x\": 4.6461310386657715, \"y\": 1.5932550430297852, \"z\": -0.6472966074943542, \"text\": \"place\", \"xanchor\": \"left\", \"xshift\": 5, \"opacity\": 1}, {\"showarrow\": false, \"x\": 4.505756378173828, \"y\": 2.1234850883483887, \"z\": 0.17857155203819275, \"text\": \"go\", \"xanchor\": \"left\", \"xshift\": 5, \"opacity\": 1}, {\"showarrow\": false, \"x\": 4.302409648895264, \"y\": 1.9641536474227905, \"z\": -1.3472254276275635, \"text\": \"based\", \"xanchor\": \"left\", \"xshift\": 5, \"opacity\": 1}, {\"showarrow\": false, \"x\": 4.437122821807861, \"y\": 2.0671637058258057, \"z\": 0.09231339395046234, \"text\": \"among\", \"xanchor\": \"left\", \"xshift\": 5, \"opacity\": 1}, {\"showarrow\": false, \"x\": 4.12890625, \"y\": 2.24794602394104, \"z\": 0.0978333130478859, \"text\": \"third\", \"xanchor\": \"left\", \"xshift\": 5, \"opacity\": 1}, {\"showarrow\": false, \"x\": 4.246614933013916, \"y\": 2.1843554973602295, \"z\": 0.25074303150177, \"text\": \"times\", \"xanchor\": \"left\", \"xshift\": 5, \"opacity\": 1}, {\"showarrow\": false, \"x\": 4.083444118499756, \"y\": 2.8035101890563965, \"z\": -0.22038772702217102, \"text\": \"took\", \"xanchor\": \"left\", \"xshift\": 5, \"opacity\": 1}, {\"showarrow\": false, \"x\": 4.4358649253845215, \"y\": 2.614211320877075, \"z\": 0.2450249344110489, \"text\": \"right\", \"xanchor\": \"left\", \"xshift\": 5, \"opacity\": 1}, {\"showarrow\": false, \"x\": 4.752920150756836, \"y\": 1.980525255203247, \"z\": 0.24215218424797058, \"text\": \"days\", \"xanchor\": \"left\", \"xshift\": 5, \"opacity\": 1}, {\"showarrow\": false, \"x\": 4.125041961669922, \"y\": 1.284743070602417, \"z\": -1.0949840545654297, \"text\": \"local\", \"xanchor\": \"left\", \"xshift\": 5, \"opacity\": 1}, {\"showarrow\": false, \"x\": 4.127712726593018, \"y\": 1.9816077947616577, \"z\": -0.2312120646238327, \"text\": \"economic\", \"xanchor\": \"left\", \"xshift\": 5, \"opacity\": 1}, {\"showarrow\": false, \"x\": 4.6740498542785645, \"y\": 1.5056716203689575, \"z\": -0.08197731524705887, \"text\": \"countries\", \"xanchor\": \"left\", \"xshift\": 5, \"opacity\": 1}, {\"showarrow\": false, \"x\": 4.37303352355957, \"y\": 2.2489724159240723, \"z\": -0.2887612283229828, \"text\": \"see\", \"xanchor\": \"left\", \"xshift\": 5, \"opacity\": 1}, {\"showarrow\": false, \"x\": 4.168416976928711, \"y\": 2.3283793926239014, \"z\": 0.4598720073699951, \"text\": \"best\", \"xanchor\": \"left\", \"xshift\": 5, \"opacity\": 1}, {\"showarrow\": false, \"x\": 3.401319980621338, \"y\": 2.757399082183838, \"z\": -0.48831257224082947, \"text\": \"report\", \"xanchor\": \"left\", \"xshift\": 5, \"opacity\": 1}, {\"showarrow\": false, \"x\": 3.820361614227295, \"y\": 2.6116435527801514, \"z\": -0.5750774145126343, \"text\": \"killed\", \"xanchor\": \"left\", \"xshift\": 5, \"opacity\": 1}, {\"showarrow\": false, \"x\": 4.411803722381592, \"y\": 1.795408010482788, \"z\": -0.8783842325210571, \"text\": \"held\", \"xanchor\": \"left\", \"xshift\": 5, \"opacity\": 1}, {\"showarrow\": false, \"x\": 4.293152809143066, \"y\": 2.00433349609375, \"z\": -0.282650887966156, \"text\": \"business\", \"xanchor\": \"left\", \"xshift\": 5, \"opacity\": 1}, {\"showarrow\": false, \"x\": 4.219047546386719, \"y\": 1.5356345176696777, \"z\": -2.1917104721069336, \"text\": \"west\", \"xanchor\": \"left\", \"xshift\": 5, \"opacity\": 1}, {\"showarrow\": false, \"x\": 4.1071343421936035, \"y\": 2.558859348297119, \"z\": -0.10842946171760559, \"text\": \"does\", \"xanchor\": \"left\", \"xshift\": 5, \"opacity\": 1}, {\"showarrow\": false, \"x\": 4.693884372711182, \"y\": 2.138711452484131, \"z\": 0.4038226306438446, \"text\": \"own\", \"xanchor\": \"left\", \"xshift\": 5, \"opacity\": 1}, {\"showarrow\": false, \"x\": 4.0109148025512695, \"y\": 0.7005130052566528, \"z\": 0.36471259593963623, \"text\": \"%\", \"xanchor\": \"left\", \"xshift\": 5, \"opacity\": 1}, {\"showarrow\": false, \"x\": 4.261250019073486, \"y\": 2.6349384784698486, \"z\": -0.2574830651283264, \"text\": \"came\", \"xanchor\": \"left\", \"xshift\": 5, \"opacity\": 1}, {\"showarrow\": false, \"x\": 4.071909427642822, \"y\": 2.4833662509918213, \"z\": -0.5166248679161072, \"text\": \"law\", \"xanchor\": \"left\", \"xshift\": 5, \"opacity\": 1}, {\"showarrow\": false, \"x\": 4.607010364532471, \"y\": 2.337803840637207, \"z\": 0.4459858238697052, \"text\": \"months\", \"xanchor\": \"left\", \"xshift\": 5, \"opacity\": 1}, {\"showarrow\": false, \"x\": 4.573031902313232, \"y\": 1.5229676961898804, \"z\": 0.2061363309621811, \"text\": \"women\", \"xanchor\": \"left\", \"xshift\": 5, \"opacity\": 1}, {\"showarrow\": false, \"x\": 4.496438980102539, \"y\": 2.169394016265869, \"z\": 0.872326672077179, \"text\": \"'re\", \"xanchor\": \"left\", \"xshift\": 5, \"opacity\": 1}, {\"showarrow\": false, \"x\": 4.570049285888672, \"y\": 1.7988924980163574, \"z\": -0.19701245427131653, \"text\": \"power\", \"xanchor\": \"left\", \"xshift\": 5, \"opacity\": 1}, {\"showarrow\": false, \"x\": 4.213707447052002, \"y\": 2.8432741165161133, \"z\": 0.12083979696035385, \"text\": \"think\", \"xanchor\": \"left\", \"xshift\": 5, \"opacity\": 1}, {\"showarrow\": false, \"x\": 3.953650712966919, \"y\": 1.3553332090377808, \"z\": -0.1382598876953125, \"text\": \"service\", \"xanchor\": \"left\", \"xshift\": 5, \"opacity\": 1}, {\"showarrow\": false, \"x\": 4.19566535949707, \"y\": 2.355170249938965, \"z\": 0.489434152841568, \"text\": \"children\", \"xanchor\": \"left\", \"xshift\": 5, \"opacity\": 1}, {\"showarrow\": false, \"x\": 3.9409255981445312, \"y\": 2.653068780899048, \"z\": 0.47540539503097534, \"text\": \"bush\", \"xanchor\": \"left\", \"xshift\": 5, \"opacity\": 1}, {\"showarrow\": false, \"x\": 4.187352180480957, \"y\": 2.2602880001068115, \"z\": 0.16150188446044922, \"text\": \"show\", \"xanchor\": \"left\", \"xshift\": 5, \"opacity\": 1}, {\"showarrow\": false, \"x\": 3.098435640335083, \"y\": 1.9805867671966553, \"z\": -0.5787109136581421, \"text\": \"/\", \"xanchor\": \"left\", \"xshift\": 5, \"opacity\": 1}, {\"showarrow\": false, \"x\": 4.2860283851623535, \"y\": 2.346952438354492, \"z\": 0.047591447830200195, \"text\": \"help\", \"xanchor\": \"left\", \"xshift\": 5, \"opacity\": 1}, {\"showarrow\": false, \"x\": 2.501636028289795, \"y\": 4.560297012329102, \"z\": -1.855475902557373, \"text\": \"chief\", \"xanchor\": \"left\", \"xshift\": 5, \"opacity\": 1}, {\"showarrow\": false, \"x\": 4.354288578033447, \"y\": 2.2034592628479004, \"z\": -0.8062918782234192, \"text\": \"saturday\", \"xanchor\": \"left\", \"xshift\": 5, \"opacity\": 1}, {\"showarrow\": false, \"x\": 4.6849751472473145, \"y\": 0.9596021175384521, \"z\": -0.2844606935977936, \"text\": \"system\", \"xanchor\": \"left\", \"xshift\": 5, \"opacity\": 1}, {\"showarrow\": false, \"x\": 2.6165950298309326, \"y\": 4.307602882385254, \"z\": 0.013759913854300976, \"text\": \"john\", \"xanchor\": \"left\", \"xshift\": 5, \"opacity\": 1}, {\"showarrow\": false, \"x\": 4.121442794799805, \"y\": 1.8797961473464966, \"z\": 0.09922471642494202, \"text\": \"support\", \"xanchor\": \"left\", \"xshift\": 5, \"opacity\": 1}, {\"showarrow\": false, \"x\": 4.523322582244873, \"y\": 1.9019438028335571, \"z\": 0.5115871429443359, \"text\": \"series\", \"xanchor\": \"left\", \"xshift\": 5, \"opacity\": 1}, {\"showarrow\": false, \"x\": 4.257070541381836, \"y\": 2.2618637084960938, \"z\": 0.07138222455978394, \"text\": \"play\", \"xanchor\": \"left\", \"xshift\": 5, \"opacity\": 1}, {\"showarrow\": false, \"x\": 3.866569995880127, \"y\": 2.645843505859375, \"z\": -1.0414170026779175, \"text\": \"office\", \"xanchor\": \"left\", \"xshift\": 5, \"opacity\": 1}, {\"showarrow\": false, \"x\": 4.456691265106201, \"y\": 1.8711014986038208, \"z\": -0.47810691595077515, \"text\": \"following\", \"xanchor\": \"left\", \"xshift\": 5, \"opacity\": 1}, {\"showarrow\": false, \"x\": 4.010591983795166, \"y\": 2.803164005279541, \"z\": 0.3122231364250183, \"text\": \"me\", \"xanchor\": \"left\", \"xshift\": 5, \"opacity\": 1}, {\"showarrow\": false, \"x\": 3.885617971420288, \"y\": 2.534452199935913, \"z\": -0.9895835518836975, \"text\": \"meeting\", \"xanchor\": \"left\", \"xshift\": 5, \"opacity\": 1}, {\"showarrow\": false, \"x\": 4.2550249099731445, \"y\": 2.398972511291504, \"z\": 0.038103047758340836, \"text\": \"expected\", \"xanchor\": \"left\", \"xshift\": 5, \"opacity\": 1}, {\"showarrow\": false, \"x\": 4.215188980102539, \"y\": 2.598238468170166, \"z\": -0.1820414960384369, \"text\": \"late\", \"xanchor\": \"left\", \"xshift\": 5, \"opacity\": 1}, {\"showarrow\": false, \"x\": 3.6956558227539062, \"y\": 2.5898420810699463, \"z\": -0.6762931942939758, \"text\": \"washington\", \"xanchor\": \"left\", \"xshift\": 5, \"opacity\": 1}, {\"showarrow\": false, \"x\": 4.822420597076416, \"y\": 1.5399757623672485, \"z\": 0.631252646446228, \"text\": \"games\", \"xanchor\": \"left\", \"xshift\": 5, \"opacity\": 1}, {\"showarrow\": false, \"x\": 4.515860080718994, \"y\": 1.8185945749282837, \"z\": 0.019094625487923622, \"text\": \"european\", \"xanchor\": \"left\", \"xshift\": 5, \"opacity\": 1}, {\"showarrow\": false, \"x\": 4.315235137939453, \"y\": 1.6261955499649048, \"z\": -0.9087299704551697, \"text\": \"league\", \"xanchor\": \"left\", \"xshift\": 5, \"opacity\": 1}, {\"showarrow\": false, \"x\": 3.667271375656128, \"y\": 2.142603635787964, \"z\": -0.9762795567512512, \"text\": \"reported\", \"xanchor\": \"left\", \"xshift\": 5, \"opacity\": 1}, {\"showarrow\": false, \"x\": 4.603273868560791, \"y\": 1.598456621170044, \"z\": 0.12381497770547867, \"text\": \"final\", \"xanchor\": \"left\", \"xshift\": 5, \"opacity\": 1}, {\"showarrow\": false, \"x\": 3.215358257293701, \"y\": 3.1878840923309326, \"z\": 0.4435552954673767, \"text\": \"added\", \"xanchor\": \"left\", \"xshift\": 5, \"opacity\": 1}, {\"showarrow\": false, \"x\": 4.592963695526123, \"y\": 2.028743267059326, \"z\": 0.7698224782943726, \"text\": \"without\", \"xanchor\": \"left\", \"xshift\": 5, \"opacity\": 1}, {\"showarrow\": false, \"x\": 4.0335693359375, \"y\": 2.200899362564087, \"z\": -0.08582614362239838, \"text\": \"british\", \"xanchor\": \"left\", \"xshift\": 5, \"opacity\": 1}, {\"showarrow\": false, \"x\": 4.2002272605896, \"y\": 2.588460922241211, \"z\": 0.3591412901878357, \"text\": \"white\", \"xanchor\": \"left\", \"xshift\": 5, \"opacity\": 1}, {\"showarrow\": false, \"x\": 4.631114482879639, \"y\": 1.603193759918213, \"z\": -0.5110432505607605, \"text\": \"history\", \"xanchor\": \"left\", \"xshift\": 5, \"opacity\": 1}]}}, {\"showLink\": true, \"linkText\": \"Export to type-here.com\"})});</script>"
      ],
      "text/vnd.plotly.v1+html": [
       "<div id=\"e3043223-e739-49be-8adc-de7d8cb44962\" style=\"height: 525px; width: 100%;\" class=\"plotly-graph-div\"></div><script type=\"text/javascript\">require([\"plotly\"], function(Plotly) { window.PLOTLYENV=window.PLOTLYENV || {};window.PLOTLYENV.BASE_URL=\"http://type-here.com\";Plotly.newPlot(\"e3043223-e739-49be-8adc-de7d8cb44962\", [{\"type\": \"scatter3d\", \"x\": [5.2178826332092285, 4.080163955688477, 4.607367038726807, 5.051972389221191, 5.047371864318848, 4.548764228820801, 5.171853065490723, 5.013679027557373, 3.8947622776031494, 4.349795818328857, 5.019586086273193, 4.995056629180908, 4.863041400909424, 5.127834796905518, 4.5031819343566895, 4.21574068069458, 2.895820140838623, 4.787626266479492, 4.773887634277344, 4.557002544403076, 5.205573081970215, 4.02437162399292, 4.944502830505371, 3.704150676727295, 4.03278112411499, 5.069934368133545, 4.590205669403076, 3.8114206790924072, 4.46875524520874, 4.523101329803467, 4.986246109008789, 4.552236557006836, 5.110722541809082, 5.225558757781982, 4.773766994476318, 4.937385082244873, 4.89562463760376, 4.922721862792969, 3.9263429641723633, 5.296085834503174, 4.488701343536377, 4.705794334411621, 5.1714558601379395, 4.791448593139648, 5.45138692855835, 4.320233345031738, 5.023449897766113, 5.530414581298828, 4.917895793914795, 4.781172752380371, 4.930273532867432, 4.853982925415039, 4.178509712219238, 4.867218971252441, 4.770212650299072, 5.127406120300293, 5.2504801750183105, 4.374081134796143, 4.71268367767334, 5.092301368713379, 5.149620056152344, 4.674875736236572, 4.942036151885986, 4.937905311584473, 5.141549110412598, 4.56583833694458, 5.019871711730957, 4.457321643829346, 4.933334827423096, 5.051964282989502, 4.757823944091797, 4.368105411529541, 4.783598899841309, 5.283315181732178, 5.111250400543213, 5.29787540435791, 4.940832614898682, 5.292090892791748, 4.527088165283203, 4.761722087860107, 4.992644786834717, 4.886549472808838, 4.8770751953125, 4.752091407775879, 4.735993385314941, 4.795853137969971, 4.691144943237305, 5.077899932861328, 4.64803409576416, 4.011398792266846, 3.473130941390991, 4.940255165100098, 4.261643886566162, 5.070796489715576, 4.793835639953613, 4.537652015686035, 4.9478936195373535, 4.722962379455566, 4.675534248352051, 4.21720027923584, 4.816463947296143, 4.9149651527404785, 4.669689178466797, 4.398906230926514, 4.1666154861450195, 4.782481670379639, 4.891665458679199, 4.562189102172852, 4.945529460906982, 5.026931285858154, 4.497122764587402, 4.860780239105225, 4.275187015533447, 4.864059925079346, 4.735440731048584, 4.815718173980713, 4.353762149810791, 4.507894039154053, 4.967278480529785, 4.187569618225098, 5.023927688598633, 4.287768363952637, 4.7094831466674805, 4.6671671867370605, 4.544098377227783, 4.534152030944824, 4.385717391967773, 4.474494934082031, 4.165870666503906, 4.314931869506836, 4.967104911804199, 4.930105686187744, 4.339605808258057, 5.134888648986816, 4.731545925140381, 4.896470546722412, 4.652394771575928, 4.750063896179199, 4.890097141265869, 4.334742546081543, 4.214741230010986, 2.197258472442627, 3.9340438842773438, 4.64332389831543, 4.361494541168213, 4.348050117492676, 4.411818027496338, 4.650645732879639, 4.468663215637207, 4.750858783721924, 4.398144721984863, 4.876686096191406, 4.619489669799805, 4.725464344024658, 2.6265952587127686, 5.062312602996826, 4.718201637268066, 3.4121336936950684, 5.049242973327637, 4.79095458984375, 4.918956279754639, 4.2191572189331055, 4.825057506561279, 4.4401726722717285, 4.303912162780762, 4.036200046539307, 4.081459999084473, 4.054792881011963, 4.120891094207764, 4.683141708374023, 4.545617580413818, 4.264697551727295, 3.7698731422424316, 4.812073707580566, 4.997085094451904, 3.858308792114258, 4.479851245880127, 4.297069072723389, 4.512314319610596, 4.734970569610596, 4.626525402069092, 4.865919589996338, 4.757517337799072, 4.246689319610596, 4.239389419555664, 4.361481189727783, 4.754195690155029, 4.385786056518555, 4.35158634185791, 4.5668511390686035, 4.7363667488098145, 4.400018692016602, 4.707221508026123, 4.455931663513184, 4.086249828338623, 4.49013614654541, 4.077398300170898, 4.582310199737549, 4.379698753356934, 4.653131484985352, 3.5971579551696777, 4.819587230682373, 4.175404071807861, 4.425426006317139, 5.110074996948242, 3.2390246391296387, 4.681515693664551, 4.754590034484863, 4.416380405426025, 4.412339687347412, 3.0385701656341553, 4.361115455627441, 4.15492057800293, 3.739661931991577, 4.345252513885498, 4.864373207092285, 2.9015581607818604, 3.7681710720062256, 4.1544880867004395, 4.331398010253906, 4.245005130767822, 4.056684970855713, 4.5665602684021, 4.459172248840332, 4.114322185516357, 3.986518144607544, 4.03567361831665, 3.8030996322631836, 4.961667537689209, 4.609411239624023, 4.456545352935791, 3.8336291313171387, 4.482327461242676, 4.124970436096191, 4.781083583831787, 4.230378150939941, 4.917660236358643, 4.487320899963379, 4.209992408752441, 3.672153949737549, 4.409167766571045, 4.6461310386657715, 4.505756378173828, 4.302409648895264, 4.437122821807861, 4.12890625, 4.246614933013916, 4.083444118499756, 4.4358649253845215, 4.752920150756836, 4.125041961669922, 4.127712726593018, 4.6740498542785645, 4.37303352355957, 4.168416976928711, 3.401319980621338, 3.820361614227295, 4.411803722381592, 4.293152809143066, 4.219047546386719, 4.1071343421936035, 4.693884372711182, 4.0109148025512695, 4.261250019073486, 4.071909427642822, 4.607010364532471, 4.573031902313232, 4.496438980102539, 4.570049285888672, 4.213707447052002, 3.953650712966919, 4.19566535949707, 3.9409255981445312, 4.187352180480957, 3.098435640335083, 4.2860283851623535, 2.501636028289795, 4.354288578033447, 4.6849751472473145, 2.6165950298309326, 4.121442794799805, 4.523322582244873, 4.257070541381836, 3.866569995880127, 4.456691265106201, 4.010591983795166, 3.885617971420288, 4.2550249099731445, 4.215188980102539, 3.6956558227539062, 4.822420597076416, 4.515860080718994, 4.315235137939453, 3.667271375656128, 4.603273868560791, 3.215358257293701, 4.592963695526123, 4.0335693359375, 4.2002272605896, 4.631114482879639], \"y\": [2.070946455001831, 3.066622018814087, 2.4460084438323975, 2.0940439701080322, 2.344891309738159, 2.6825003623962402, 1.9157569408416748, 2.319080114364624, 2.546773910522461, 3.5107216835021973, 2.4039008617401123, 3.1604366302490234, 3.1892919540405273, 2.158738613128662, 2.282360076904297, 3.1108717918395996, 5.091142654418945, 2.6761820316314697, 3.227940559387207, 2.5530459880828857, 2.2760605812072754, 3.3611459732055664, 1.937423825263977, 2.269376277923584, 2.0446712970733643, 2.0380942821502686, 3.469371795654297, 3.857792377471924, 3.084557294845581, 2.222385883331299, 2.530836582183838, 3.150235414505005, 1.843488335609436, 2.7170393466949463, 2.990767478942871, 2.317089796066284, 2.8551361560821533, 2.3247454166412354, 4.005542278289795, 2.4693210124969482, 3.523098945617676, 3.1591601371765137, 1.9206010103225708, 2.675534248352051, 1.9069849252700806, 2.4419102668762207, 1.3781999349594116, 1.379744529724121, 2.4339232444763184, 2.8760781288146973, 2.228421926498413, 2.791934013366699, 2.9452199935913086, 2.891317367553711, 2.7919511795043945, 2.3729429244995117, 1.9154613018035889, 2.8813862800598145, 2.3363184928894043, 2.27101469039917, 2.3579483032226562, 3.0870583057403564, 2.3535900115966797, 2.178570032119751, 2.2891483306884766, 3.0709025859832764, 2.785637617111206, 2.888289451599121, 2.2260396480560303, 1.847022533416748, 3.097264051437378, 3.0302629470825195, 1.7641475200653076, 1.7962274551391602, 2.0879783630371094, 1.7445112466812134, 2.638535499572754, 1.87891685962677, 2.3563153743743896, 2.433413505554199, 1.7600023746490479, 2.4111266136169434, 2.46787166595459, 2.654895067214966, 2.363513469696045, 2.0104639530181885, 2.013894557952881, 2.2201452255249023, 2.4117701053619385, 2.4508440494537354, 4.312465190887451, 2.0735814571380615, 1.9698774814605713, 1.6143949031829834, 2.695683002471924, 2.212541341781616, 1.8066359758377075, 2.2679789066314697, 2.1388649940490723, 2.5605368614196777, 2.366381883621216, 2.3577358722686768, 2.970669746398926, 3.3143179416656494, 2.308798313140869, 2.1059298515319824, 2.4608235359191895, 2.1275079250335693, 2.2686145305633545, 1.950107216835022, 2.5117127895355225, 1.888740062713623, 2.0679080486297607, 2.3942527770996094, 2.2643017768859863, 1.5527433156967163, 2.823274612426758, 2.728419542312622, 1.5742791891098022, 3.2211146354675293, 2.232440710067749, 1.859537124633789, 2.1935460567474365, 1.7743070125579834, 2.5727615356445312, 2.124203681945801, 2.3620293140411377, 2.6928811073303223, 2.563824415206909, 2.1685216426849365, 1.9845471382141113, 1.5605719089508057, 1.3883297443389893, 2.1072282791137695, 2.30357027053833, 2.316565752029419, 1.839781403541565, 2.773467540740967, 2.5204906463623047, 1.6098068952560425, 2.3364040851593018, 4.608575344085693, 2.7502787113189697, 2.2506468296051025, 2.382450580596924, 2.634830951690674, 2.1262905597686768, 2.5215330123901367, 2.522796154022217, 2.294142246246338, 2.5040194988250732, 2.2989211082458496, 1.5037381649017334, 1.5650684833526611, 4.363831043243408, 2.1830270290374756, 2.0299863815307617, 3.6561825275421143, 1.6358048915863037, 2.107966184616089, 1.5362721681594849, 2.431504964828491, 2.064286470413208, 2.0929372310638428, 1.7360970973968506, 2.2605299949645996, 2.4974422454833984, 2.6324963569641113, 2.894443988800049, 2.46476149559021, 2.3059239387512207, 2.7780911922454834, 2.325554609298706, 2.1277687549591064, 2.066528797149658, 2.3465051651000977, 1.3772140741348267, 2.7549993991851807, 1.8727203607559204, 2.222053289413452, 1.798750877380371, 2.2065041065216064, 2.1299777030944824, 2.7366366386413574, 2.704669952392578, 2.5883474349975586, 1.9111961126327515, 2.407566785812378, 2.4148621559143066, 2.4478816986083984, 2.2681894302368164, 2.311744451522827, 2.482133150100708, 1.296879768371582, 2.171633005142212, 1.9020010232925415, 2.3497281074523926, 2.747922897338867, 1.7477471828460693, 2.0664448738098145, 2.632389545440674, 2.128523349761963, 2.418590545654297, 2.6343834400177, 1.3968497514724731, 2.8740577697753906, 1.8058981895446777, 1.8647123575210571, 1.9694554805755615, 2.0876307487487793, 3.819592237472534, 1.7919328212738037, 2.43211030960083, 2.697018623352051, 2.2969706058502197, 2.125253915786743, 3.7315995693206787, 1.7525193691253662, 2.59621262550354, 2.459404706954956, 2.322340488433838, 2.3953909873962402, 2.2237963676452637, 1.4850369691848755, 2.265657663345337, 2.0481503009796143, 2.2155709266662598, 2.435089588165283, 1.9589799642562866, 2.256701946258545, 1.2465490102767944, 1.9344725608825684, 1.5085393190383911, 1.9883499145507812, 1.4650987386703491, 2.1361944675445557, 1.6383519172668457, 1.1181237697601318, 2.3764431476593018, 2.3975164890289307, 2.216315507888794, 1.5932550430297852, 2.1234850883483887, 1.9641536474227905, 2.0671637058258057, 2.24794602394104, 2.1843554973602295, 2.8035101890563965, 2.614211320877075, 1.980525255203247, 1.284743070602417, 1.9816077947616577, 1.5056716203689575, 2.2489724159240723, 2.3283793926239014, 2.757399082183838, 2.6116435527801514, 1.795408010482788, 2.00433349609375, 1.5356345176696777, 2.558859348297119, 2.138711452484131, 0.7005130052566528, 2.6349384784698486, 2.4833662509918213, 2.337803840637207, 1.5229676961898804, 2.169394016265869, 1.7988924980163574, 2.8432741165161133, 1.3553332090377808, 2.355170249938965, 2.653068780899048, 2.2602880001068115, 1.9805867671966553, 2.346952438354492, 4.560297012329102, 2.2034592628479004, 0.9596021175384521, 4.307602882385254, 1.8797961473464966, 1.9019438028335571, 2.2618637084960938, 2.645843505859375, 1.8711014986038208, 2.803164005279541, 2.534452199935913, 2.398972511291504, 2.598238468170166, 2.5898420810699463, 1.5399757623672485, 1.8185945749282837, 1.6261955499649048, 2.142603635787964, 1.598456621170044, 3.1878840923309326, 2.028743267059326, 2.200899362564087, 2.588460922241211, 1.603193759918213], \"z\": [-1.0585708618164062, -0.7242254018783569, -0.3960582911968231, -1.148351788520813, -0.2475600242614746, -0.43575048446655273, -1.4702385663986206, -0.12346267700195312, -0.9509298801422119, -0.8719756603240967, 0.02592506818473339, -0.4922875165939331, -0.12844283878803253, -0.3610430061817169, -1.303567886352539, -0.6610482931137085, -0.860348641872406, 0.22870409488677979, -0.38212311267852783, -0.47116386890411377, -0.4118656516075134, -0.15876203775405884, -1.0082889795303345, -0.8639757633209229, -0.8848389983177185, -0.6935797333717346, 0.1469135880470276, 0.08389449119567871, 0.01019576471298933, -0.23411798477172852, 0.1248013898730278, -0.7029294371604919, 0.11698328703641891, 0.09254113584756851, 0.09752873331308365, 0.20646101236343384, 0.07366552948951721, -0.36220240592956543, 0.0866847038269043, 0.08028656989336014, -0.0310906283557415, -0.12131775915622711, -0.7215238213539124, -0.1717761605978012, 0.5028707981109619, -0.4041944742202759, 0.37649455666542053, -0.5112227201461792, -0.15817739069461823, -0.25113987922668457, -0.3409225642681122, -0.27239590883255005, -0.7273156642913818, 0.10537590086460114, -0.054702553898096085, 0.299313485622406, 0.7231321334838867, -0.6611437201499939, -0.15905709564685822, 0.3468308448791504, 0.5433729887008667, -0.03294345363974571, 0.10503540188074112, -0.0920993760228157, 0.37396734952926636, -0.6016637682914734, 0.5059192180633545, -0.16639292240142822, -0.0339069627225399, -0.3677936792373657, 0.43756303191185, 0.289458692073822, 0.5867879390716553, 0.7351109385490417, 0.0845438539981842, -0.4665961265563965, -0.20903107523918152, 0.3014289438724518, -0.7858191132545471, 0.37352949380874634, 1.2481412887573242, 0.5981608033180237, 0.001452267519198358, 0.17649491131305695, 0.2115919440984726, -0.02641422487795353, 0.4070308208465576, 0.3364686369895935, -0.2986610233783722, -0.07968870550394058, -0.9592978954315186, 0.25572869181632996, -2.13722825050354, 0.5465436577796936, 0.22724378108978271, 0.6006151437759399, -0.004232018254697323, 0.34064480662345886, -0.34345656633377075, 0.2759147584438324, 0.39008229970932007, 0.7097261548042297, -0.0386916920542717, 0.3498346209526062, -0.6640415787696838, -0.3339891731739044, -0.07815230637788773, -0.21215394139289856, -0.3796464204788208, 0.12871623039245605, 0.11623898148536682, -1.623279094696045, -0.5879612565040588, -0.005750241223722696, -0.6729226112365723, -2.6761980056762695, 0.26563629508018494, -0.1456262320280075, -0.7772675156593323, -0.0425848513841629, 0.20569008588790894, -1.653682827949524, -0.006716094445437193, -0.8681084513664246, -0.35837340354919434, -0.025252943858504295, -0.1900964230298996, -0.38880056142807007, -0.6963300108909607, -0.9949905872344971, 0.593217670917511, -0.32688355445861816, -0.9464390277862549, 0.4392050504684448, -0.07039099186658859, 0.5725266337394714, -0.24072590470314026, 0.1537345051765442, 0.3013599216938019, -2.2252721786499023, 0.20231324434280396, -0.635162353515625, -1.5053592920303345, -0.3050263524055481, -0.16796153783798218, -0.5228906869888306, -0.9119826555252075, -0.042366016656160355, -1.1191856861114502, 0.08765128999948502, -0.13601814210414886, 0.5177728533744812, -0.6206561326980591, -1.5967925786972046, -1.2705389261245728, 0.7358153462409973, 0.11649580299854279, -1.3659707307815552, 0.45050501823425293, 0.548595666885376, 1.1274667978286743, 0.15478037297725677, 0.309195876121521, -0.4971223473548889, -1.5786821842193604, -0.6358272433280945, -0.4725551903247833, -0.3197431266307831, -0.6362414956092834, 0.6197298765182495, -0.08618836849927902, -0.47160640358924866, -0.4928639531135559, 0.2554307281970978, 0.4660484492778778, -1.042258381843567, -0.33828622102737427, -0.5410668253898621, -0.5383549928665161, -0.05906711891293526, 0.07635539025068283, 0.20624472200870514, -0.18408574163913727, -0.4999394416809082, -0.49083182215690613, -0.4104382395744324, 0.7678942680358887, -0.6735294461250305, 0.23439933359622955, 0.028694860637187958, 0.06764485687017441, 0.10203053057193756, 0.3801271617412567, -2.3391871452331543, -0.19202451407909393, 0.20856022834777832, -0.503764271736145, 0.43292224407196045, -0.3607484698295593, -0.094345822930336, -0.7470020055770874, -0.20730885863304138, -1.2073791027069092, -0.24157965183258057, -0.22522087395191193, 0.30898791551589966, 0.507671594619751, -0.3427322804927826, 0.5405950546264648, -0.15861839056015015, -0.2753155827522278, -0.10120654851198196, -0.32238534092903137, -0.30331140756607056, 0.2684432566165924, 0.09844698756933212, -1.0917377471923828, -1.03615140914917, -0.007867440581321716, 0.2886132001876831, -0.08113952726125717, -2.6339004039764404, 0.27449312806129456, 0.5216522812843323, -0.8898939490318298, -1.4674996137619019, 1.0773777961730957, -0.41697049140930176, 0.6123390197753906, 0.05370808020234108, 1.2037854194641113, -1.3986788988113403, -0.1382392942905426, -0.14761319756507874, 0.5901943445205688, -0.3253006637096405, 0.6450236439704895, -2.1809239387512207, -0.45489701628685, -1.088150978088379, -0.7179429531097412, -0.6472966074943542, 0.17857155203819275, -1.3472254276275635, 0.09231339395046234, 0.0978333130478859, 0.25074303150177, -0.22038772702217102, 0.2450249344110489, 0.24215218424797058, -1.0949840545654297, -0.2312120646238327, -0.08197731524705887, -0.2887612283229828, 0.4598720073699951, -0.48831257224082947, -0.5750774145126343, -0.8783842325210571, -0.282650887966156, -2.1917104721069336, -0.10842946171760559, 0.4038226306438446, 0.36471259593963623, -0.2574830651283264, -0.5166248679161072, 0.4459858238697052, 0.2061363309621811, 0.872326672077179, -0.19701245427131653, 0.12083979696035385, -0.1382598876953125, 0.489434152841568, 0.47540539503097534, 0.16150188446044922, -0.5787109136581421, 0.047591447830200195, -1.855475902557373, -0.8062918782234192, -0.2844606935977936, 0.013759913854300976, 0.09922471642494202, 0.5115871429443359, 0.07138222455978394, -1.0414170026779175, -0.47810691595077515, 0.3122231364250183, -0.9895835518836975, 0.038103047758340836, -0.1820414960384369, -0.6762931942939758, 0.631252646446228, 0.019094625487923622, -0.9087299704551697, -0.9762795567512512, 0.12381497770547867, 0.4435552954673767, 0.7698224782943726, -0.08582614362239838, 0.3591412901878357, -0.5110432505607605], \"mode\": \"markers\", \"marker\": {\"size\": 4, \"opacity\": 0.8}, \"text\": [\"the\", \",\", \".\", \"of\", \"to\", \"and\", \"in\", \"a\", \"\\\"\", \"'s\", \"for\", \"-\", \"that\", \"on\", \"is\", \"was\", \"said\", \"with\", \"he\", \"as\", \"it\", \"by\", \"at\", \"(\", \")\", \"from\", \"his\", \"''\", \"``\", \"an\", \"be\", \"has\", \"are\", \"have\", \"but\", \"were\", \"not\", \"this\", \"who\", \"they\", \"had\", \"i\", \"which\", \"will\", \"their\", \":\", \"or\", \"its\", \"one\", \"after\", \"new\", \"been\", \"also\", \"we\", \"would\", \"two\", \"more\", \"'\", \"first\", \"about\", \"up\", \"when\", \"year\", \"there\", \"all\", \"--\", \"out\", \"she\", \"other\", \"people\", \"n't\", \"her\", \"percent\", \"than\", \"over\", \"into\", \"last\", \"some\", \"government\", \"time\", \"$\", \"you\", \"years\", \"if\", \"no\", \"world\", \"can\", \"three\", \"do\", \";\", \"president\", \"only\", \"state\", \"million\", \"could\", \"us\", \"most\", \"_\", \"against\", \"u.s.\", \"so\", \"them\", \"what\", \"him\", \"united\", \"during\", \"before\", \"may\", \"since\", \"many\", \"while\", \"where\", \"states\", \"because\", \"now\", \"city\", \"made\", \"like\", \"between\", \"did\", \"just\", \"national\", \"day\", \"country\", \"under\", \"such\", \"second\", \"then\", \"company\", \"group\", \"any\", \"through\", \"china\", \"four\", \"being\", \"down\", \"war\", \"back\", \"off\", \"south\", \"american\", \"minister\", \"police\", \"well\", \"including\", \"team\", \"international\", \"week\", \"officials\", \"still\", \"both\", \"even\", \"high\", \"part\", \"told\", \"those\", \"end\", \"former\", \"these\", \"make\", \"billion\", \"work\", \"our\", \"home\", \"school\", \"party\", \"house\", \"old\", \"later\", \"get\", \"another\", \"tuesday\", \"news\", \"long\", \"five\", \"called\", \"1\", \"wednesday\", \"military\", \"way\", \"used\", \"much\", \"next\", \"monday\", \"thursday\", \"friday\", \"game\", \"here\", \"?\", \"should\", \"take\", \"very\", \"my\", \"north\", \"security\", \"season\", \"york\", \"how\", \"public\", \"early\", \"according\", \"several\", \"court\", \"say\", \"around\", \"foreign\", \"10\", \"until\", \"set\", \"political\", \"says\", \"market\", \"however\", \"family\", \"life\", \"same\", \"general\", \"\\u2013\", \"left\", \"good\", \"top\", \"university\", \"going\", \"number\", \"major\", \"known\", \"points\", \"won\", \"six\", \"month\", \"dollars\", \"bank\", \"2\", \"iraq\", \"use\", \"members\", \"each\", \"area\", \"found\", \"official\", \"sunday\", \"place\", \"go\", \"based\", \"among\", \"third\", \"times\", \"took\", \"right\", \"days\", \"local\", \"economic\", \"countries\", \"see\", \"best\", \"report\", \"killed\", \"held\", \"business\", \"west\", \"does\", \"own\", \"%\", \"came\", \"law\", \"months\", \"women\", \"'re\", \"power\", \"think\", \"service\", \"children\", \"bush\", \"show\", \"/\", \"help\", \"chief\", \"saturday\", \"system\", \"john\", \"support\", \"series\", \"play\", \"office\", \"following\", \"me\", \"meeting\", \"expected\", \"late\", \"washington\", \"games\", \"european\", \"league\", \"reported\", \"final\", \"added\", \"without\", \"british\", \"white\", \"history\"]}], {\"margin\": {\"l\": 0, \"r\": 0, \"b\": 0, \"t\": 0}, \"scene\": {\"xaxis\": {\"title\": \"1st Principle Component\"}, \"yaxis\": {\"title\": \"2nd Principle Component\"}, \"zaxis\": {\"title\": \"3rd Principel Component\"}, \"annotations\": [{\"showarrow\": false, \"x\": 5.2178826332092285, \"y\": 2.070946455001831, \"z\": -1.0585708618164062, \"text\": \"the\", \"xanchor\": \"left\", \"xshift\": 5, \"opacity\": 1}, {\"showarrow\": false, \"x\": 4.080163955688477, \"y\": 3.066622018814087, \"z\": -0.7242254018783569, \"text\": \",\", \"xanchor\": \"left\", \"xshift\": 5, \"opacity\": 1}, {\"showarrow\": false, \"x\": 4.607367038726807, \"y\": 2.4460084438323975, \"z\": -0.3960582911968231, \"text\": \".\", \"xanchor\": \"left\", \"xshift\": 5, \"opacity\": 1}, {\"showarrow\": false, \"x\": 5.051972389221191, \"y\": 2.0940439701080322, \"z\": -1.148351788520813, \"text\": \"of\", \"xanchor\": \"left\", \"xshift\": 5, \"opacity\": 1}, {\"showarrow\": false, \"x\": 5.047371864318848, \"y\": 2.344891309738159, \"z\": -0.2475600242614746, \"text\": \"to\", \"xanchor\": \"left\", \"xshift\": 5, \"opacity\": 1}, {\"showarrow\": false, \"x\": 4.548764228820801, \"y\": 2.6825003623962402, \"z\": -0.43575048446655273, \"text\": \"and\", \"xanchor\": \"left\", \"xshift\": 5, \"opacity\": 1}, {\"showarrow\": false, \"x\": 5.171853065490723, \"y\": 1.9157569408416748, \"z\": -1.4702385663986206, \"text\": \"in\", \"xanchor\": \"left\", \"xshift\": 5, \"opacity\": 1}, {\"showarrow\": false, \"x\": 5.013679027557373, \"y\": 2.319080114364624, \"z\": -0.12346267700195312, \"text\": \"a\", \"xanchor\": \"left\", \"xshift\": 5, \"opacity\": 1}, {\"showarrow\": false, \"x\": 3.8947622776031494, \"y\": 2.546773910522461, \"z\": -0.9509298801422119, \"text\": \"\\\"\", \"xanchor\": \"left\", \"xshift\": 5, \"opacity\": 1}, {\"showarrow\": false, \"x\": 4.349795818328857, \"y\": 3.5107216835021973, \"z\": -0.8719756603240967, \"text\": \"'s\", \"xanchor\": \"left\", \"xshift\": 5, \"opacity\": 1}, {\"showarrow\": false, \"x\": 5.019586086273193, \"y\": 2.4039008617401123, \"z\": 0.02592506818473339, \"text\": \"for\", \"xanchor\": \"left\", \"xshift\": 5, \"opacity\": 1}, {\"showarrow\": false, \"x\": 4.995056629180908, \"y\": 3.1604366302490234, \"z\": -0.4922875165939331, \"text\": \"-\", \"xanchor\": \"left\", \"xshift\": 5, \"opacity\": 1}, {\"showarrow\": false, \"x\": 4.863041400909424, \"y\": 3.1892919540405273, \"z\": -0.12844283878803253, \"text\": \"that\", \"xanchor\": \"left\", \"xshift\": 5, \"opacity\": 1}, {\"showarrow\": false, \"x\": 5.127834796905518, \"y\": 2.158738613128662, \"z\": -0.3610430061817169, \"text\": \"on\", \"xanchor\": \"left\", \"xshift\": 5, \"opacity\": 1}, {\"showarrow\": false, \"x\": 4.5031819343566895, \"y\": 2.282360076904297, \"z\": -1.303567886352539, \"text\": \"is\", \"xanchor\": \"left\", \"xshift\": 5, \"opacity\": 1}, {\"showarrow\": false, \"x\": 4.21574068069458, \"y\": 3.1108717918395996, \"z\": -0.6610482931137085, \"text\": \"was\", \"xanchor\": \"left\", \"xshift\": 5, \"opacity\": 1}, {\"showarrow\": false, \"x\": 2.895820140838623, \"y\": 5.091142654418945, \"z\": -0.860348641872406, \"text\": \"said\", \"xanchor\": \"left\", \"xshift\": 5, \"opacity\": 1}, {\"showarrow\": false, \"x\": 4.787626266479492, \"y\": 2.6761820316314697, \"z\": 0.22870409488677979, \"text\": \"with\", \"xanchor\": \"left\", \"xshift\": 5, \"opacity\": 1}, {\"showarrow\": false, \"x\": 4.773887634277344, \"y\": 3.227940559387207, \"z\": -0.38212311267852783, \"text\": \"he\", \"xanchor\": \"left\", \"xshift\": 5, \"opacity\": 1}, {\"showarrow\": false, \"x\": 4.557002544403076, \"y\": 2.5530459880828857, \"z\": -0.47116386890411377, \"text\": \"as\", \"xanchor\": \"left\", \"xshift\": 5, \"opacity\": 1}, {\"showarrow\": false, \"x\": 5.205573081970215, \"y\": 2.2760605812072754, \"z\": -0.4118656516075134, \"text\": \"it\", \"xanchor\": \"left\", \"xshift\": 5, \"opacity\": 1}, {\"showarrow\": false, \"x\": 4.02437162399292, \"y\": 3.3611459732055664, \"z\": -0.15876203775405884, \"text\": \"by\", \"xanchor\": \"left\", \"xshift\": 5, \"opacity\": 1}, {\"showarrow\": false, \"x\": 4.944502830505371, \"y\": 1.937423825263977, \"z\": -1.0082889795303345, \"text\": \"at\", \"xanchor\": \"left\", \"xshift\": 5, \"opacity\": 1}, {\"showarrow\": false, \"x\": 3.704150676727295, \"y\": 2.269376277923584, \"z\": -0.8639757633209229, \"text\": \"(\", \"xanchor\": \"left\", \"xshift\": 5, \"opacity\": 1}, {\"showarrow\": false, \"x\": 4.03278112411499, \"y\": 2.0446712970733643, \"z\": -0.8848389983177185, \"text\": \")\", \"xanchor\": \"left\", \"xshift\": 5, \"opacity\": 1}, {\"showarrow\": false, \"x\": 5.069934368133545, \"y\": 2.0380942821502686, \"z\": -0.6935797333717346, \"text\": \"from\", \"xanchor\": \"left\", \"xshift\": 5, \"opacity\": 1}, {\"showarrow\": false, \"x\": 4.590205669403076, \"y\": 3.469371795654297, \"z\": 0.1469135880470276, \"text\": \"his\", \"xanchor\": \"left\", \"xshift\": 5, \"opacity\": 1}, {\"showarrow\": false, \"x\": 3.8114206790924072, \"y\": 3.857792377471924, \"z\": 0.08389449119567871, \"text\": \"''\", \"xanchor\": \"left\", \"xshift\": 5, \"opacity\": 1}, {\"showarrow\": false, \"x\": 4.46875524520874, \"y\": 3.084557294845581, \"z\": 0.01019576471298933, \"text\": \"``\", \"xanchor\": \"left\", \"xshift\": 5, \"opacity\": 1}, {\"showarrow\": false, \"x\": 4.523101329803467, \"y\": 2.222385883331299, \"z\": -0.23411798477172852, \"text\": \"an\", \"xanchor\": \"left\", \"xshift\": 5, \"opacity\": 1}, {\"showarrow\": false, \"x\": 4.986246109008789, \"y\": 2.530836582183838, \"z\": 0.1248013898730278, \"text\": \"be\", \"xanchor\": \"left\", \"xshift\": 5, \"opacity\": 1}, {\"showarrow\": false, \"x\": 4.552236557006836, \"y\": 3.150235414505005, \"z\": -0.7029294371604919, \"text\": \"has\", \"xanchor\": \"left\", \"xshift\": 5, \"opacity\": 1}, {\"showarrow\": false, \"x\": 5.110722541809082, \"y\": 1.843488335609436, \"z\": 0.11698328703641891, \"text\": \"are\", \"xanchor\": \"left\", \"xshift\": 5, \"opacity\": 1}, {\"showarrow\": false, \"x\": 5.225558757781982, \"y\": 2.7170393466949463, \"z\": 0.09254113584756851, \"text\": \"have\", \"xanchor\": \"left\", \"xshift\": 5, \"opacity\": 1}, {\"showarrow\": false, \"x\": 4.773766994476318, \"y\": 2.990767478942871, \"z\": 0.09752873331308365, \"text\": \"but\", \"xanchor\": \"left\", \"xshift\": 5, \"opacity\": 1}, {\"showarrow\": false, \"x\": 4.937385082244873, \"y\": 2.317089796066284, \"z\": 0.20646101236343384, \"text\": \"were\", \"xanchor\": \"left\", \"xshift\": 5, \"opacity\": 1}, {\"showarrow\": false, \"x\": 4.89562463760376, \"y\": 2.8551361560821533, \"z\": 0.07366552948951721, \"text\": \"not\", \"xanchor\": \"left\", \"xshift\": 5, \"opacity\": 1}, {\"showarrow\": false, \"x\": 4.922721862792969, \"y\": 2.3247454166412354, \"z\": -0.36220240592956543, \"text\": \"this\", \"xanchor\": \"left\", \"xshift\": 5, \"opacity\": 1}, {\"showarrow\": false, \"x\": 3.9263429641723633, \"y\": 4.005542278289795, \"z\": 0.0866847038269043, \"text\": \"who\", \"xanchor\": \"left\", \"xshift\": 5, \"opacity\": 1}, {\"showarrow\": false, \"x\": 5.296085834503174, \"y\": 2.4693210124969482, \"z\": 0.08028656989336014, \"text\": \"they\", \"xanchor\": \"left\", \"xshift\": 5, \"opacity\": 1}, {\"showarrow\": false, \"x\": 4.488701343536377, \"y\": 3.523098945617676, \"z\": -0.0310906283557415, \"text\": \"had\", \"xanchor\": \"left\", \"xshift\": 5, \"opacity\": 1}, {\"showarrow\": false, \"x\": 4.705794334411621, \"y\": 3.1591601371765137, \"z\": -0.12131775915622711, \"text\": \"i\", \"xanchor\": \"left\", \"xshift\": 5, \"opacity\": 1}, {\"showarrow\": false, \"x\": 5.1714558601379395, \"y\": 1.9206010103225708, \"z\": -0.7215238213539124, \"text\": \"which\", \"xanchor\": \"left\", \"xshift\": 5, \"opacity\": 1}, {\"showarrow\": false, \"x\": 4.791448593139648, \"y\": 2.675534248352051, \"z\": -0.1717761605978012, \"text\": \"will\", \"xanchor\": \"left\", \"xshift\": 5, \"opacity\": 1}, {\"showarrow\": false, \"x\": 5.45138692855835, \"y\": 1.9069849252700806, \"z\": 0.5028707981109619, \"text\": \"their\", \"xanchor\": \"left\", \"xshift\": 5, \"opacity\": 1}, {\"showarrow\": false, \"x\": 4.320233345031738, \"y\": 2.4419102668762207, \"z\": -0.4041944742202759, \"text\": \":\", \"xanchor\": \"left\", \"xshift\": 5, \"opacity\": 1}, {\"showarrow\": false, \"x\": 5.023449897766113, \"y\": 1.3781999349594116, \"z\": 0.37649455666542053, \"text\": \"or\", \"xanchor\": \"left\", \"xshift\": 5, \"opacity\": 1}, {\"showarrow\": false, \"x\": 5.530414581298828, \"y\": 1.379744529724121, \"z\": -0.5112227201461792, \"text\": \"its\", \"xanchor\": \"left\", \"xshift\": 5, \"opacity\": 1}, {\"showarrow\": false, \"x\": 4.917895793914795, \"y\": 2.4339232444763184, \"z\": -0.15817739069461823, \"text\": \"one\", \"xanchor\": \"left\", \"xshift\": 5, \"opacity\": 1}, {\"showarrow\": false, \"x\": 4.781172752380371, \"y\": 2.8760781288146973, \"z\": -0.25113987922668457, \"text\": \"after\", \"xanchor\": \"left\", \"xshift\": 5, \"opacity\": 1}, {\"showarrow\": false, \"x\": 4.930273532867432, \"y\": 2.228421926498413, \"z\": -0.3409225642681122, \"text\": \"new\", \"xanchor\": \"left\", \"xshift\": 5, \"opacity\": 1}, {\"showarrow\": false, \"x\": 4.853982925415039, \"y\": 2.791934013366699, \"z\": -0.27239590883255005, \"text\": \"been\", \"xanchor\": \"left\", \"xshift\": 5, \"opacity\": 1}, {\"showarrow\": false, \"x\": 4.178509712219238, \"y\": 2.9452199935913086, \"z\": -0.7273156642913818, \"text\": \"also\", \"xanchor\": \"left\", \"xshift\": 5, \"opacity\": 1}, {\"showarrow\": false, \"x\": 4.867218971252441, \"y\": 2.891317367553711, \"z\": 0.10537590086460114, \"text\": \"we\", \"xanchor\": \"left\", \"xshift\": 5, \"opacity\": 1}, {\"showarrow\": false, \"x\": 4.770212650299072, \"y\": 2.7919511795043945, \"z\": -0.054702553898096085, \"text\": \"would\", \"xanchor\": \"left\", \"xshift\": 5, \"opacity\": 1}, {\"showarrow\": false, \"x\": 5.127406120300293, \"y\": 2.3729429244995117, \"z\": 0.299313485622406, \"text\": \"two\", \"xanchor\": \"left\", \"xshift\": 5, \"opacity\": 1}, {\"showarrow\": false, \"x\": 5.2504801750183105, \"y\": 1.9154613018035889, \"z\": 0.7231321334838867, \"text\": \"more\", \"xanchor\": \"left\", \"xshift\": 5, \"opacity\": 1}, {\"showarrow\": false, \"x\": 4.374081134796143, \"y\": 2.8813862800598145, \"z\": -0.6611437201499939, \"text\": \"'\", \"xanchor\": \"left\", \"xshift\": 5, \"opacity\": 1}, {\"showarrow\": false, \"x\": 4.71268367767334, \"y\": 2.3363184928894043, \"z\": -0.15905709564685822, \"text\": \"first\", \"xanchor\": \"left\", \"xshift\": 5, \"opacity\": 1}, {\"showarrow\": false, \"x\": 5.092301368713379, \"y\": 2.27101469039917, \"z\": 0.3468308448791504, \"text\": \"about\", \"xanchor\": \"left\", \"xshift\": 5, \"opacity\": 1}, {\"showarrow\": false, \"x\": 5.149620056152344, \"y\": 2.3579483032226562, \"z\": 0.5433729887008667, \"text\": \"up\", \"xanchor\": \"left\", \"xshift\": 5, \"opacity\": 1}, {\"showarrow\": false, \"x\": 4.674875736236572, \"y\": 3.0870583057403564, \"z\": -0.03294345363974571, \"text\": \"when\", \"xanchor\": \"left\", \"xshift\": 5, \"opacity\": 1}, {\"showarrow\": false, \"x\": 4.942036151885986, \"y\": 2.3535900115966797, \"z\": 0.10503540188074112, \"text\": \"year\", \"xanchor\": \"left\", \"xshift\": 5, \"opacity\": 1}, {\"showarrow\": false, \"x\": 4.937905311584473, \"y\": 2.178570032119751, \"z\": -0.0920993760228157, \"text\": \"there\", \"xanchor\": \"left\", \"xshift\": 5, \"opacity\": 1}, {\"showarrow\": false, \"x\": 5.141549110412598, \"y\": 2.2891483306884766, \"z\": 0.37396734952926636, \"text\": \"all\", \"xanchor\": \"left\", \"xshift\": 5, \"opacity\": 1}, {\"showarrow\": false, \"x\": 4.56583833694458, \"y\": 3.0709025859832764, \"z\": -0.6016637682914734, \"text\": \"--\", \"xanchor\": \"left\", \"xshift\": 5, \"opacity\": 1}, {\"showarrow\": false, \"x\": 5.019871711730957, \"y\": 2.785637617111206, \"z\": 0.5059192180633545, \"text\": \"out\", \"xanchor\": \"left\", \"xshift\": 5, \"opacity\": 1}, {\"showarrow\": false, \"x\": 4.457321643829346, \"y\": 2.888289451599121, \"z\": -0.16639292240142822, \"text\": \"she\", \"xanchor\": \"left\", \"xshift\": 5, \"opacity\": 1}, {\"showarrow\": false, \"x\": 4.933334827423096, \"y\": 2.2260396480560303, \"z\": -0.0339069627225399, \"text\": \"other\", \"xanchor\": \"left\", \"xshift\": 5, \"opacity\": 1}, {\"showarrow\": false, \"x\": 5.051964282989502, \"y\": 1.847022533416748, \"z\": -0.3677936792373657, \"text\": \"people\", \"xanchor\": \"left\", \"xshift\": 5, \"opacity\": 1}, {\"showarrow\": false, \"x\": 4.757823944091797, \"y\": 3.097264051437378, \"z\": 0.43756303191185, \"text\": \"n't\", \"xanchor\": \"left\", \"xshift\": 5, \"opacity\": 1}, {\"showarrow\": false, \"x\": 4.368105411529541, \"y\": 3.0302629470825195, \"z\": 0.289458692073822, \"text\": \"her\", \"xanchor\": \"left\", \"xshift\": 5, \"opacity\": 1}, {\"showarrow\": false, \"x\": 4.783598899841309, \"y\": 1.7641475200653076, \"z\": 0.5867879390716553, \"text\": \"percent\", \"xanchor\": \"left\", \"xshift\": 5, \"opacity\": 1}, {\"showarrow\": false, \"x\": 5.283315181732178, \"y\": 1.7962274551391602, \"z\": 0.7351109385490417, \"text\": \"than\", \"xanchor\": \"left\", \"xshift\": 5, \"opacity\": 1}, {\"showarrow\": false, \"x\": 5.111250400543213, \"y\": 2.0879783630371094, \"z\": 0.0845438539981842, \"text\": \"over\", \"xanchor\": \"left\", \"xshift\": 5, \"opacity\": 1}, {\"showarrow\": false, \"x\": 5.29787540435791, \"y\": 1.7445112466812134, \"z\": -0.4665961265563965, \"text\": \"into\", \"xanchor\": \"left\", \"xshift\": 5, \"opacity\": 1}, {\"showarrow\": false, \"x\": 4.940832614898682, \"y\": 2.638535499572754, \"z\": -0.20903107523918152, \"text\": \"last\", \"xanchor\": \"left\", \"xshift\": 5, \"opacity\": 1}, {\"showarrow\": false, \"x\": 5.292090892791748, \"y\": 1.87891685962677, \"z\": 0.3014289438724518, \"text\": \"some\", \"xanchor\": \"left\", \"xshift\": 5, \"opacity\": 1}, {\"showarrow\": false, \"x\": 4.527088165283203, \"y\": 2.3563153743743896, \"z\": -0.7858191132545471, \"text\": \"government\", \"xanchor\": \"left\", \"xshift\": 5, \"opacity\": 1}, {\"showarrow\": false, \"x\": 4.761722087860107, \"y\": 2.433413505554199, \"z\": 0.37352949380874634, \"text\": \"time\", \"xanchor\": \"left\", \"xshift\": 5, \"opacity\": 1}, {\"showarrow\": false, \"x\": 4.992644786834717, \"y\": 1.7600023746490479, \"z\": 1.2481412887573242, \"text\": \"$\", \"xanchor\": \"left\", \"xshift\": 5, \"opacity\": 1}, {\"showarrow\": false, \"x\": 4.886549472808838, \"y\": 2.4111266136169434, \"z\": 0.5981608033180237, \"text\": \"you\", \"xanchor\": \"left\", \"xshift\": 5, \"opacity\": 1}, {\"showarrow\": false, \"x\": 4.8770751953125, \"y\": 2.46787166595459, \"z\": 0.001452267519198358, \"text\": \"years\", \"xanchor\": \"left\", \"xshift\": 5, \"opacity\": 1}, {\"showarrow\": false, \"x\": 4.752091407775879, \"y\": 2.654895067214966, \"z\": 0.17649491131305695, \"text\": \"if\", \"xanchor\": \"left\", \"xshift\": 5, \"opacity\": 1}, {\"showarrow\": false, \"x\": 4.735993385314941, \"y\": 2.363513469696045, \"z\": 0.2115919440984726, \"text\": \"no\", \"xanchor\": \"left\", \"xshift\": 5, \"opacity\": 1}, {\"showarrow\": false, \"x\": 4.795853137969971, \"y\": 2.0104639530181885, \"z\": -0.02641422487795353, \"text\": \"world\", \"xanchor\": \"left\", \"xshift\": 5, \"opacity\": 1}, {\"showarrow\": false, \"x\": 4.691144943237305, \"y\": 2.013894557952881, \"z\": 0.4070308208465576, \"text\": \"can\", \"xanchor\": \"left\", \"xshift\": 5, \"opacity\": 1}, {\"showarrow\": false, \"x\": 5.077899932861328, \"y\": 2.2201452255249023, \"z\": 0.3364686369895935, \"text\": \"three\", \"xanchor\": \"left\", \"xshift\": 5, \"opacity\": 1}, {\"showarrow\": false, \"x\": 4.64803409576416, \"y\": 2.4117701053619385, \"z\": -0.2986610233783722, \"text\": \"do\", \"xanchor\": \"left\", \"xshift\": 5, \"opacity\": 1}, {\"showarrow\": false, \"x\": 4.011398792266846, \"y\": 2.4508440494537354, \"z\": -0.07968870550394058, \"text\": \";\", \"xanchor\": \"left\", \"xshift\": 5, \"opacity\": 1}, {\"showarrow\": false, \"x\": 3.473130941390991, \"y\": 4.312465190887451, \"z\": -0.9592978954315186, \"text\": \"president\", \"xanchor\": \"left\", \"xshift\": 5, \"opacity\": 1}, {\"showarrow\": false, \"x\": 4.940255165100098, \"y\": 2.0735814571380615, \"z\": 0.25572869181632996, \"text\": \"only\", \"xanchor\": \"left\", \"xshift\": 5, \"opacity\": 1}, {\"showarrow\": false, \"x\": 4.261643886566162, \"y\": 1.9698774814605713, \"z\": -2.13722825050354, \"text\": \"state\", \"xanchor\": \"left\", \"xshift\": 5, \"opacity\": 1}, {\"showarrow\": false, \"x\": 5.070796489715576, \"y\": 1.6143949031829834, \"z\": 0.5465436577796936, \"text\": \"million\", \"xanchor\": \"left\", \"xshift\": 5, \"opacity\": 1}, {\"showarrow\": false, \"x\": 4.793835639953613, \"y\": 2.695683002471924, \"z\": 0.22724378108978271, \"text\": \"could\", \"xanchor\": \"left\", \"xshift\": 5, \"opacity\": 1}, {\"showarrow\": false, \"x\": 4.537652015686035, \"y\": 2.212541341781616, \"z\": 0.6006151437759399, \"text\": \"us\", \"xanchor\": \"left\", \"xshift\": 5, \"opacity\": 1}, {\"showarrow\": false, \"x\": 4.9478936195373535, \"y\": 1.8066359758377075, \"z\": -0.004232018254697323, \"text\": \"most\", \"xanchor\": \"left\", \"xshift\": 5, \"opacity\": 1}, {\"showarrow\": false, \"x\": 4.722962379455566, \"y\": 2.2679789066314697, \"z\": 0.34064480662345886, \"text\": \"_\", \"xanchor\": \"left\", \"xshift\": 5, \"opacity\": 1}, {\"showarrow\": false, \"x\": 4.675534248352051, \"y\": 2.1388649940490723, \"z\": -0.34345656633377075, \"text\": \"against\", \"xanchor\": \"left\", \"xshift\": 5, \"opacity\": 1}, {\"showarrow\": false, \"x\": 4.21720027923584, \"y\": 2.5605368614196777, \"z\": 0.2759147584438324, \"text\": \"u.s.\", \"xanchor\": \"left\", \"xshift\": 5, \"opacity\": 1}, {\"showarrow\": false, \"x\": 4.816463947296143, \"y\": 2.366381883621216, \"z\": 0.39008229970932007, \"text\": \"so\", \"xanchor\": \"left\", \"xshift\": 5, \"opacity\": 1}, {\"showarrow\": false, \"x\": 4.9149651527404785, \"y\": 2.3577358722686768, \"z\": 0.7097261548042297, \"text\": \"them\", \"xanchor\": \"left\", \"xshift\": 5, \"opacity\": 1}, {\"showarrow\": false, \"x\": 4.669689178466797, \"y\": 2.970669746398926, \"z\": -0.0386916920542717, \"text\": \"what\", \"xanchor\": \"left\", \"xshift\": 5, \"opacity\": 1}, {\"showarrow\": false, \"x\": 4.398906230926514, \"y\": 3.3143179416656494, \"z\": 0.3498346209526062, \"text\": \"him\", \"xanchor\": \"left\", \"xshift\": 5, \"opacity\": 1}, {\"showarrow\": false, \"x\": 4.1666154861450195, \"y\": 2.308798313140869, \"z\": -0.6640415787696838, \"text\": \"united\", \"xanchor\": \"left\", \"xshift\": 5, \"opacity\": 1}, {\"showarrow\": false, \"x\": 4.782481670379639, \"y\": 2.1059298515319824, \"z\": -0.3339891731739044, \"text\": \"during\", \"xanchor\": \"left\", \"xshift\": 5, \"opacity\": 1}, {\"showarrow\": false, \"x\": 4.891665458679199, \"y\": 2.4608235359191895, \"z\": -0.07815230637788773, \"text\": \"before\", \"xanchor\": \"left\", \"xshift\": 5, \"opacity\": 1}, {\"showarrow\": false, \"x\": 4.562189102172852, \"y\": 2.1275079250335693, \"z\": -0.21215394139289856, \"text\": \"may\", \"xanchor\": \"left\", \"xshift\": 5, \"opacity\": 1}, {\"showarrow\": false, \"x\": 4.945529460906982, \"y\": 2.2686145305633545, \"z\": -0.3796464204788208, \"text\": \"since\", \"xanchor\": \"left\", \"xshift\": 5, \"opacity\": 1}, {\"showarrow\": false, \"x\": 5.026931285858154, \"y\": 1.950107216835022, \"z\": 0.12871623039245605, \"text\": \"many\", \"xanchor\": \"left\", \"xshift\": 5, \"opacity\": 1}, {\"showarrow\": false, \"x\": 4.497122764587402, \"y\": 2.5117127895355225, \"z\": 0.11623898148536682, \"text\": \"while\", \"xanchor\": \"left\", \"xshift\": 5, \"opacity\": 1}, {\"showarrow\": false, \"x\": 4.860780239105225, \"y\": 1.888740062713623, \"z\": -1.623279094696045, \"text\": \"where\", \"xanchor\": \"left\", \"xshift\": 5, \"opacity\": 1}, {\"showarrow\": false, \"x\": 4.275187015533447, \"y\": 2.0679080486297607, \"z\": -0.5879612565040588, \"text\": \"states\", \"xanchor\": \"left\", \"xshift\": 5, \"opacity\": 1}, {\"showarrow\": false, \"x\": 4.864059925079346, \"y\": 2.3942527770996094, \"z\": -0.005750241223722696, \"text\": \"because\", \"xanchor\": \"left\", \"xshift\": 5, \"opacity\": 1}, {\"showarrow\": false, \"x\": 4.735440731048584, \"y\": 2.2643017768859863, \"z\": -0.6729226112365723, \"text\": \"now\", \"xanchor\": \"left\", \"xshift\": 5, \"opacity\": 1}, {\"showarrow\": false, \"x\": 4.815718173980713, \"y\": 1.5527433156967163, \"z\": -2.6761980056762695, \"text\": \"city\", \"xanchor\": \"left\", \"xshift\": 5, \"opacity\": 1}, {\"showarrow\": false, \"x\": 4.353762149810791, \"y\": 2.823274612426758, \"z\": 0.26563629508018494, \"text\": \"made\", \"xanchor\": \"left\", \"xshift\": 5, \"opacity\": 1}, {\"showarrow\": false, \"x\": 4.507894039154053, \"y\": 2.728419542312622, \"z\": -0.1456262320280075, \"text\": \"like\", \"xanchor\": \"left\", \"xshift\": 5, \"opacity\": 1}, {\"showarrow\": false, \"x\": 4.967278480529785, \"y\": 1.5742791891098022, \"z\": -0.7772675156593323, \"text\": \"between\", \"xanchor\": \"left\", \"xshift\": 5, \"opacity\": 1}, {\"showarrow\": false, \"x\": 4.187569618225098, \"y\": 3.2211146354675293, \"z\": -0.0425848513841629, \"text\": \"did\", \"xanchor\": \"left\", \"xshift\": 5, \"opacity\": 1}, {\"showarrow\": false, \"x\": 5.023927688598633, \"y\": 2.232440710067749, \"z\": 0.20569008588790894, \"text\": \"just\", \"xanchor\": \"left\", \"xshift\": 5, \"opacity\": 1}, {\"showarrow\": false, \"x\": 4.287768363952637, \"y\": 1.859537124633789, \"z\": -1.653682827949524, \"text\": \"national\", \"xanchor\": \"left\", \"xshift\": 5, \"opacity\": 1}, {\"showarrow\": false, \"x\": 4.7094831466674805, \"y\": 2.1935460567474365, \"z\": -0.006716094445437193, \"text\": \"day\", \"xanchor\": \"left\", \"xshift\": 5, \"opacity\": 1}, {\"showarrow\": false, \"x\": 4.6671671867370605, \"y\": 1.7743070125579834, \"z\": -0.8681084513664246, \"text\": \"country\", \"xanchor\": \"left\", \"xshift\": 5, \"opacity\": 1}, {\"showarrow\": false, \"x\": 4.544098377227783, \"y\": 2.5727615356445312, \"z\": -0.35837340354919434, \"text\": \"under\", \"xanchor\": \"left\", \"xshift\": 5, \"opacity\": 1}, {\"showarrow\": false, \"x\": 4.534152030944824, \"y\": 2.124203681945801, \"z\": -0.025252943858504295, \"text\": \"such\", \"xanchor\": \"left\", \"xshift\": 5, \"opacity\": 1}, {\"showarrow\": false, \"x\": 4.385717391967773, \"y\": 2.3620293140411377, \"z\": -0.1900964230298996, \"text\": \"second\", \"xanchor\": \"left\", \"xshift\": 5, \"opacity\": 1}, {\"showarrow\": false, \"x\": 4.474494934082031, \"y\": 2.6928811073303223, \"z\": -0.38880056142807007, \"text\": \"then\", \"xanchor\": \"left\", \"xshift\": 5, \"opacity\": 1}, {\"showarrow\": false, \"x\": 4.165870666503906, \"y\": 2.563824415206909, \"z\": -0.6963300108909607, \"text\": \"company\", \"xanchor\": \"left\", \"xshift\": 5, \"opacity\": 1}, {\"showarrow\": false, \"x\": 4.314931869506836, \"y\": 2.1685216426849365, \"z\": -0.9949905872344971, \"text\": \"group\", \"xanchor\": \"left\", \"xshift\": 5, \"opacity\": 1}, {\"showarrow\": false, \"x\": 4.967104911804199, \"y\": 1.9845471382141113, \"z\": 0.593217670917511, \"text\": \"any\", \"xanchor\": \"left\", \"xshift\": 5, \"opacity\": 1}, {\"showarrow\": false, \"x\": 4.930105686187744, \"y\": 1.5605719089508057, \"z\": -0.32688355445861816, \"text\": \"through\", \"xanchor\": \"left\", \"xshift\": 5, \"opacity\": 1}, {\"showarrow\": false, \"x\": 4.339605808258057, \"y\": 1.3883297443389893, \"z\": -0.9464390277862549, \"text\": \"china\", \"xanchor\": \"left\", \"xshift\": 5, \"opacity\": 1}, {\"showarrow\": false, \"x\": 5.134888648986816, \"y\": 2.1072282791137695, \"z\": 0.4392050504684448, \"text\": \"four\", \"xanchor\": \"left\", \"xshift\": 5, \"opacity\": 1}, {\"showarrow\": false, \"x\": 4.731545925140381, \"y\": 2.30357027053833, \"z\": -0.07039099186658859, \"text\": \"being\", \"xanchor\": \"left\", \"xshift\": 5, \"opacity\": 1}, {\"showarrow\": false, \"x\": 4.896470546722412, \"y\": 2.316565752029419, \"z\": 0.5725266337394714, \"text\": \"down\", \"xanchor\": \"left\", \"xshift\": 5, \"opacity\": 1}, {\"showarrow\": false, \"x\": 4.652394771575928, \"y\": 1.839781403541565, \"z\": -0.24072590470314026, \"text\": \"war\", \"xanchor\": \"left\", \"xshift\": 5, \"opacity\": 1}, {\"showarrow\": false, \"x\": 4.750063896179199, \"y\": 2.773467540740967, \"z\": 0.1537345051765442, \"text\": \"back\", \"xanchor\": \"left\", \"xshift\": 5, \"opacity\": 1}, {\"showarrow\": false, \"x\": 4.890097141265869, \"y\": 2.5204906463623047, \"z\": 0.3013599216938019, \"text\": \"off\", \"xanchor\": \"left\", \"xshift\": 5, \"opacity\": 1}, {\"showarrow\": false, \"x\": 4.334742546081543, \"y\": 1.6098068952560425, \"z\": -2.2252721786499023, \"text\": \"south\", \"xanchor\": \"left\", \"xshift\": 5, \"opacity\": 1}, {\"showarrow\": false, \"x\": 4.214741230010986, \"y\": 2.3364040851593018, \"z\": 0.20231324434280396, \"text\": \"american\", \"xanchor\": \"left\", \"xshift\": 5, \"opacity\": 1}, {\"showarrow\": false, \"x\": 2.197258472442627, \"y\": 4.608575344085693, \"z\": -0.635162353515625, \"text\": \"minister\", \"xanchor\": \"left\", \"xshift\": 5, \"opacity\": 1}, {\"showarrow\": false, \"x\": 3.9340438842773438, \"y\": 2.7502787113189697, \"z\": -1.5053592920303345, \"text\": \"police\", \"xanchor\": \"left\", \"xshift\": 5, \"opacity\": 1}, {\"showarrow\": false, \"x\": 4.64332389831543, \"y\": 2.2506468296051025, \"z\": -0.3050263524055481, \"text\": \"well\", \"xanchor\": \"left\", \"xshift\": 5, \"opacity\": 1}, {\"showarrow\": false, \"x\": 4.361494541168213, \"y\": 2.382450580596924, \"z\": -0.16796153783798218, \"text\": \"including\", \"xanchor\": \"left\", \"xshift\": 5, \"opacity\": 1}, {\"showarrow\": false, \"x\": 4.348050117492676, \"y\": 2.634830951690674, \"z\": -0.5228906869888306, \"text\": \"team\", \"xanchor\": \"left\", \"xshift\": 5, \"opacity\": 1}, {\"showarrow\": false, \"x\": 4.411818027496338, \"y\": 2.1262905597686768, \"z\": -0.9119826555252075, \"text\": \"international\", \"xanchor\": \"left\", \"xshift\": 5, \"opacity\": 1}, {\"showarrow\": false, \"x\": 4.650645732879639, \"y\": 2.5215330123901367, \"z\": -0.042366016656160355, \"text\": \"week\", \"xanchor\": \"left\", \"xshift\": 5, \"opacity\": 1}, {\"showarrow\": false, \"x\": 4.468663215637207, \"y\": 2.522796154022217, \"z\": -1.1191856861114502, \"text\": \"officials\", \"xanchor\": \"left\", \"xshift\": 5, \"opacity\": 1}, {\"showarrow\": false, \"x\": 4.750858783721924, \"y\": 2.294142246246338, \"z\": 0.08765128999948502, \"text\": \"still\", \"xanchor\": \"left\", \"xshift\": 5, \"opacity\": 1}, {\"showarrow\": false, \"x\": 4.398144721984863, \"y\": 2.5040194988250732, \"z\": -0.13601814210414886, \"text\": \"both\", \"xanchor\": \"left\", \"xshift\": 5, \"opacity\": 1}, {\"showarrow\": false, \"x\": 4.876686096191406, \"y\": 2.2989211082458496, \"z\": 0.5177728533744812, \"text\": \"even\", \"xanchor\": \"left\", \"xshift\": 5, \"opacity\": 1}, {\"showarrow\": false, \"x\": 4.619489669799805, \"y\": 1.5037381649017334, \"z\": -0.6206561326980591, \"text\": \"high\", \"xanchor\": \"left\", \"xshift\": 5, \"opacity\": 1}, {\"showarrow\": false, \"x\": 4.725464344024658, \"y\": 1.5650684833526611, \"z\": -1.5967925786972046, \"text\": \"part\", \"xanchor\": \"left\", \"xshift\": 5, \"opacity\": 1}, {\"showarrow\": false, \"x\": 2.6265952587127686, \"y\": 4.363831043243408, \"z\": -1.2705389261245728, \"text\": \"told\", \"xanchor\": \"left\", \"xshift\": 5, \"opacity\": 1}, {\"showarrow\": false, \"x\": 5.062312602996826, \"y\": 2.1830270290374756, \"z\": 0.7358153462409973, \"text\": \"those\", \"xanchor\": \"left\", \"xshift\": 5, \"opacity\": 1}, {\"showarrow\": false, \"x\": 4.718201637268066, \"y\": 2.0299863815307617, \"z\": 0.11649580299854279, \"text\": \"end\", \"xanchor\": \"left\", \"xshift\": 5, \"opacity\": 1}, {\"showarrow\": false, \"x\": 3.4121336936950684, \"y\": 3.6561825275421143, \"z\": -1.3659707307815552, \"text\": \"former\", \"xanchor\": \"left\", \"xshift\": 5, \"opacity\": 1}, {\"showarrow\": false, \"x\": 5.049242973327637, \"y\": 1.6358048915863037, \"z\": 0.45050501823425293, \"text\": \"these\", \"xanchor\": \"left\", \"xshift\": 5, \"opacity\": 1}, {\"showarrow\": false, \"x\": 4.79095458984375, \"y\": 2.107966184616089, \"z\": 0.548595666885376, \"text\": \"make\", \"xanchor\": \"left\", \"xshift\": 5, \"opacity\": 1}, {\"showarrow\": false, \"x\": 4.918956279754639, \"y\": 1.5362721681594849, \"z\": 1.1274667978286743, \"text\": \"billion\", \"xanchor\": \"left\", \"xshift\": 5, \"opacity\": 1}, {\"showarrow\": false, \"x\": 4.2191572189331055, \"y\": 2.431504964828491, \"z\": 0.15478037297725677, \"text\": \"work\", \"xanchor\": \"left\", \"xshift\": 5, \"opacity\": 1}, {\"showarrow\": false, \"x\": 4.825057506561279, \"y\": 2.064286470413208, \"z\": 0.309195876121521, \"text\": \"our\", \"xanchor\": \"left\", \"xshift\": 5, \"opacity\": 1}, {\"showarrow\": false, \"x\": 4.4401726722717285, \"y\": 2.0929372310638428, \"z\": -0.4971223473548889, \"text\": \"home\", \"xanchor\": \"left\", \"xshift\": 5, \"opacity\": 1}, {\"showarrow\": false, \"x\": 4.303912162780762, \"y\": 1.7360970973968506, \"z\": -1.5786821842193604, \"text\": \"school\", \"xanchor\": \"left\", \"xshift\": 5, \"opacity\": 1}, {\"showarrow\": false, \"x\": 4.036200046539307, \"y\": 2.2605299949645996, \"z\": -0.6358272433280945, \"text\": \"party\", \"xanchor\": \"left\", \"xshift\": 5, \"opacity\": 1}, {\"showarrow\": false, \"x\": 4.081459999084473, \"y\": 2.4974422454833984, \"z\": -0.4725551903247833, \"text\": \"house\", \"xanchor\": \"left\", \"xshift\": 5, \"opacity\": 1}, {\"showarrow\": false, \"x\": 4.054792881011963, \"y\": 2.6324963569641113, \"z\": -0.3197431266307831, \"text\": \"old\", \"xanchor\": \"left\", \"xshift\": 5, \"opacity\": 1}, {\"showarrow\": false, \"x\": 4.120891094207764, \"y\": 2.894443988800049, \"z\": -0.6362414956092834, \"text\": \"later\", \"xanchor\": \"left\", \"xshift\": 5, \"opacity\": 1}, {\"showarrow\": false, \"x\": 4.683141708374023, \"y\": 2.46476149559021, \"z\": 0.6197298765182495, \"text\": \"get\", \"xanchor\": \"left\", \"xshift\": 5, \"opacity\": 1}, {\"showarrow\": false, \"x\": 4.545617580413818, \"y\": 2.3059239387512207, \"z\": -0.08618836849927902, \"text\": \"another\", \"xanchor\": \"left\", \"xshift\": 5, \"opacity\": 1}, {\"showarrow\": false, \"x\": 4.264697551727295, \"y\": 2.7780911922454834, \"z\": -0.47160640358924866, \"text\": \"tuesday\", \"xanchor\": \"left\", \"xshift\": 5, \"opacity\": 1}, {\"showarrow\": false, \"x\": 3.7698731422424316, \"y\": 2.325554609298706, \"z\": -0.4928639531135559, \"text\": \"news\", \"xanchor\": \"left\", \"xshift\": 5, \"opacity\": 1}, {\"showarrow\": false, \"x\": 4.812073707580566, \"y\": 2.1277687549591064, \"z\": 0.2554307281970978, \"text\": \"long\", \"xanchor\": \"left\", \"xshift\": 5, \"opacity\": 1}, {\"showarrow\": false, \"x\": 4.997085094451904, \"y\": 2.066528797149658, \"z\": 0.4660484492778778, \"text\": \"five\", \"xanchor\": \"left\", \"xshift\": 5, \"opacity\": 1}, {\"showarrow\": false, \"x\": 3.858308792114258, \"y\": 2.3465051651000977, \"z\": -1.042258381843567, \"text\": \"called\", \"xanchor\": \"left\", \"xshift\": 5, \"opacity\": 1}, {\"showarrow\": false, \"x\": 4.479851245880127, \"y\": 1.3772140741348267, \"z\": -0.33828622102737427, \"text\": \"1\", \"xanchor\": \"left\", \"xshift\": 5, \"opacity\": 1}, {\"showarrow\": false, \"x\": 4.297069072723389, \"y\": 2.7549993991851807, \"z\": -0.5410668253898621, \"text\": \"wednesday\", \"xanchor\": \"left\", \"xshift\": 5, \"opacity\": 1}, {\"showarrow\": false, \"x\": 4.512314319610596, \"y\": 1.8727203607559204, \"z\": -0.5383549928665161, \"text\": \"military\", \"xanchor\": \"left\", \"xshift\": 5, \"opacity\": 1}, {\"showarrow\": false, \"x\": 4.734970569610596, \"y\": 2.222053289413452, \"z\": -0.05906711891293526, \"text\": \"way\", \"xanchor\": \"left\", \"xshift\": 5, \"opacity\": 1}, {\"showarrow\": false, \"x\": 4.626525402069092, \"y\": 1.798750877380371, \"z\": 0.07635539025068283, \"text\": \"used\", \"xanchor\": \"left\", \"xshift\": 5, \"opacity\": 1}, {\"showarrow\": false, \"x\": 4.865919589996338, \"y\": 2.2065041065216064, \"z\": 0.20624472200870514, \"text\": \"much\", \"xanchor\": \"left\", \"xshift\": 5, \"opacity\": 1}, {\"showarrow\": false, \"x\": 4.757517337799072, \"y\": 2.1299777030944824, \"z\": -0.18408574163913727, \"text\": \"next\", \"xanchor\": \"left\", \"xshift\": 5, \"opacity\": 1}, {\"showarrow\": false, \"x\": 4.246689319610596, \"y\": 2.7366366386413574, \"z\": -0.4999394416809082, \"text\": \"monday\", \"xanchor\": \"left\", \"xshift\": 5, \"opacity\": 1}, {\"showarrow\": false, \"x\": 4.239389419555664, \"y\": 2.704669952392578, \"z\": -0.49083182215690613, \"text\": \"thursday\", \"xanchor\": \"left\", \"xshift\": 5, \"opacity\": 1}, {\"showarrow\": false, \"x\": 4.361481189727783, \"y\": 2.5883474349975586, \"z\": -0.4104382395744324, \"text\": \"friday\", \"xanchor\": \"left\", \"xshift\": 5, \"opacity\": 1}, {\"showarrow\": false, \"x\": 4.754195690155029, \"y\": 1.9111961126327515, \"z\": 0.7678942680358887, \"text\": \"game\", \"xanchor\": \"left\", \"xshift\": 5, \"opacity\": 1}, {\"showarrow\": false, \"x\": 4.385786056518555, \"y\": 2.407566785812378, \"z\": -0.6735294461250305, \"text\": \"here\", \"xanchor\": \"left\", \"xshift\": 5, \"opacity\": 1}, {\"showarrow\": false, \"x\": 4.35158634185791, \"y\": 2.4148621559143066, \"z\": 0.23439933359622955, \"text\": \"?\", \"xanchor\": \"left\", \"xshift\": 5, \"opacity\": 1}, {\"showarrow\": false, \"x\": 4.5668511390686035, \"y\": 2.4478816986083984, \"z\": 0.028694860637187958, \"text\": \"should\", \"xanchor\": \"left\", \"xshift\": 5, \"opacity\": 1}, {\"showarrow\": false, \"x\": 4.7363667488098145, \"y\": 2.2681894302368164, \"z\": 0.06764485687017441, \"text\": \"take\", \"xanchor\": \"left\", \"xshift\": 5, \"opacity\": 1}, {\"showarrow\": false, \"x\": 4.400018692016602, \"y\": 2.311744451522827, \"z\": 0.10203053057193756, \"text\": \"very\", \"xanchor\": \"left\", \"xshift\": 5, \"opacity\": 1}, {\"showarrow\": false, \"x\": 4.707221508026123, \"y\": 2.482133150100708, \"z\": 0.3801271617412567, \"text\": \"my\", \"xanchor\": \"left\", \"xshift\": 5, \"opacity\": 1}, {\"showarrow\": false, \"x\": 4.455931663513184, \"y\": 1.296879768371582, \"z\": -2.3391871452331543, \"text\": \"north\", \"xanchor\": \"left\", \"xshift\": 5, \"opacity\": 1}, {\"showarrow\": false, \"x\": 4.086249828338623, \"y\": 2.171633005142212, \"z\": -0.19202451407909393, \"text\": \"security\", \"xanchor\": \"left\", \"xshift\": 5, \"opacity\": 1}, {\"showarrow\": false, \"x\": 4.49013614654541, \"y\": 1.9020010232925415, \"z\": 0.20856022834777832, \"text\": \"season\", \"xanchor\": \"left\", \"xshift\": 5, \"opacity\": 1}, {\"showarrow\": false, \"x\": 4.077398300170898, \"y\": 2.3497281074523926, \"z\": -0.503764271736145, \"text\": \"york\", \"xanchor\": \"left\", \"xshift\": 5, \"opacity\": 1}, {\"showarrow\": false, \"x\": 4.582310199737549, \"y\": 2.747922897338867, \"z\": 0.43292224407196045, \"text\": \"how\", \"xanchor\": \"left\", \"xshift\": 5, \"opacity\": 1}, {\"showarrow\": false, \"x\": 4.379698753356934, \"y\": 1.7477471828460693, \"z\": -0.3607484698295593, \"text\": \"public\", \"xanchor\": \"left\", \"xshift\": 5, \"opacity\": 1}, {\"showarrow\": false, \"x\": 4.653131484985352, \"y\": 2.0664448738098145, \"z\": -0.094345822930336, \"text\": \"early\", \"xanchor\": \"left\", \"xshift\": 5, \"opacity\": 1}, {\"showarrow\": false, \"x\": 3.5971579551696777, \"y\": 2.632389545440674, \"z\": -0.7470020055770874, \"text\": \"according\", \"xanchor\": \"left\", \"xshift\": 5, \"opacity\": 1}, {\"showarrow\": false, \"x\": 4.819587230682373, \"y\": 2.128523349761963, \"z\": -0.20730885863304138, \"text\": \"several\", \"xanchor\": \"left\", \"xshift\": 5, \"opacity\": 1}, {\"showarrow\": false, \"x\": 4.175404071807861, \"y\": 2.418590545654297, \"z\": -1.2073791027069092, \"text\": \"court\", \"xanchor\": \"left\", \"xshift\": 5, \"opacity\": 1}, {\"showarrow\": false, \"x\": 4.425426006317139, \"y\": 2.6343834400177, \"z\": -0.24157965183258057, \"text\": \"say\", \"xanchor\": \"left\", \"xshift\": 5, \"opacity\": 1}, {\"showarrow\": false, \"x\": 5.110074996948242, \"y\": 1.3968497514724731, \"z\": -0.22522087395191193, \"text\": \"around\", \"xanchor\": \"left\", \"xshift\": 5, \"opacity\": 1}, {\"showarrow\": false, \"x\": 3.2390246391296387, \"y\": 2.8740577697753906, \"z\": 0.30898791551589966, \"text\": \"foreign\", \"xanchor\": \"left\", \"xshift\": 5, \"opacity\": 1}, {\"showarrow\": false, \"x\": 4.681515693664551, \"y\": 1.8058981895446777, \"z\": 0.507671594619751, \"text\": \"10\", \"xanchor\": \"left\", \"xshift\": 5, \"opacity\": 1}, {\"showarrow\": false, \"x\": 4.754590034484863, \"y\": 1.8647123575210571, \"z\": -0.3427322804927826, \"text\": \"until\", \"xanchor\": \"left\", \"xshift\": 5, \"opacity\": 1}, {\"showarrow\": false, \"x\": 4.416380405426025, \"y\": 1.9694554805755615, \"z\": 0.5405950546264648, \"text\": \"set\", \"xanchor\": \"left\", \"xshift\": 5, \"opacity\": 1}, {\"showarrow\": false, \"x\": 4.412339687347412, \"y\": 2.0876307487487793, \"z\": -0.15861839056015015, \"text\": \"political\", \"xanchor\": \"left\", \"xshift\": 5, \"opacity\": 1}, {\"showarrow\": false, \"x\": 3.0385701656341553, \"y\": 3.819592237472534, \"z\": -0.2753155827522278, \"text\": \"says\", \"xanchor\": \"left\", \"xshift\": 5, \"opacity\": 1}, {\"showarrow\": false, \"x\": 4.361115455627441, \"y\": 1.7919328212738037, \"z\": -0.10120654851198196, \"text\": \"market\", \"xanchor\": \"left\", \"xshift\": 5, \"opacity\": 1}, {\"showarrow\": false, \"x\": 4.15492057800293, \"y\": 2.43211030960083, \"z\": -0.32238534092903137, \"text\": \"however\", \"xanchor\": \"left\", \"xshift\": 5, \"opacity\": 1}, {\"showarrow\": false, \"x\": 3.739661931991577, \"y\": 2.697018623352051, \"z\": -0.30331140756607056, \"text\": \"family\", \"xanchor\": \"left\", \"xshift\": 5, \"opacity\": 1}, {\"showarrow\": false, \"x\": 4.345252513885498, \"y\": 2.2969706058502197, \"z\": 0.2684432566165924, \"text\": \"life\", \"xanchor\": \"left\", \"xshift\": 5, \"opacity\": 1}, {\"showarrow\": false, \"x\": 4.864373207092285, \"y\": 2.125253915786743, \"z\": 0.09844698756933212, \"text\": \"same\", \"xanchor\": \"left\", \"xshift\": 5, \"opacity\": 1}, {\"showarrow\": false, \"x\": 2.9015581607818604, \"y\": 3.7315995693206787, \"z\": -1.0917377471923828, \"text\": \"general\", \"xanchor\": \"left\", \"xshift\": 5, \"opacity\": 1}, {\"showarrow\": false, \"x\": 3.7681710720062256, \"y\": 1.7525193691253662, \"z\": -1.03615140914917, \"text\": \"\\u2013\", \"xanchor\": \"left\", \"xshift\": 5, \"opacity\": 1}, {\"showarrow\": false, \"x\": 4.1544880867004395, \"y\": 2.59621262550354, \"z\": -0.007867440581321716, \"text\": \"left\", \"xanchor\": \"left\", \"xshift\": 5, \"opacity\": 1}, {\"showarrow\": false, \"x\": 4.331398010253906, \"y\": 2.459404706954956, \"z\": 0.2886132001876831, \"text\": \"good\", \"xanchor\": \"left\", \"xshift\": 5, \"opacity\": 1}, {\"showarrow\": false, \"x\": 4.245005130767822, \"y\": 2.322340488433838, \"z\": -0.08113952726125717, \"text\": \"top\", \"xanchor\": \"left\", \"xshift\": 5, \"opacity\": 1}, {\"showarrow\": false, \"x\": 4.056684970855713, \"y\": 2.3953909873962402, \"z\": -2.6339004039764404, \"text\": \"university\", \"xanchor\": \"left\", \"xshift\": 5, \"opacity\": 1}, {\"showarrow\": false, \"x\": 4.5665602684021, \"y\": 2.2237963676452637, \"z\": 0.27449312806129456, \"text\": \"going\", \"xanchor\": \"left\", \"xshift\": 5, \"opacity\": 1}, {\"showarrow\": false, \"x\": 4.459172248840332, \"y\": 1.4850369691848755, \"z\": 0.5216522812843323, \"text\": \"number\", \"xanchor\": \"left\", \"xshift\": 5, \"opacity\": 1}, {\"showarrow\": false, \"x\": 4.114322185516357, \"y\": 2.265657663345337, \"z\": -0.8898939490318298, \"text\": \"major\", \"xanchor\": \"left\", \"xshift\": 5, \"opacity\": 1}, {\"showarrow\": false, \"x\": 3.986518144607544, \"y\": 2.0481503009796143, \"z\": -1.4674996137619019, \"text\": \"known\", \"xanchor\": \"left\", \"xshift\": 5, \"opacity\": 1}, {\"showarrow\": false, \"x\": 4.03567361831665, \"y\": 2.2155709266662598, \"z\": 1.0773777961730957, \"text\": \"points\", \"xanchor\": \"left\", \"xshift\": 5, \"opacity\": 1}, {\"showarrow\": false, \"x\": 3.8030996322631836, \"y\": 2.435089588165283, \"z\": -0.41697049140930176, \"text\": \"won\", \"xanchor\": \"left\", \"xshift\": 5, \"opacity\": 1}, {\"showarrow\": false, \"x\": 4.961667537689209, \"y\": 1.9589799642562866, \"z\": 0.6123390197753906, \"text\": \"six\", \"xanchor\": \"left\", \"xshift\": 5, \"opacity\": 1}, {\"showarrow\": false, \"x\": 4.609411239624023, \"y\": 2.256701946258545, \"z\": 0.05370808020234108, \"text\": \"month\", \"xanchor\": \"left\", \"xshift\": 5, \"opacity\": 1}, {\"showarrow\": false, \"x\": 4.456545352935791, \"y\": 1.2465490102767944, \"z\": 1.2037854194641113, \"text\": \"dollars\", \"xanchor\": \"left\", \"xshift\": 5, \"opacity\": 1}, {\"showarrow\": false, \"x\": 3.8336291313171387, \"y\": 1.9344725608825684, \"z\": -1.3986788988113403, \"text\": \"bank\", \"xanchor\": \"left\", \"xshift\": 5, \"opacity\": 1}, {\"showarrow\": false, \"x\": 4.482327461242676, \"y\": 1.5085393190383911, \"z\": -0.1382392942905426, \"text\": \"2\", \"xanchor\": \"left\", \"xshift\": 5, \"opacity\": 1}, {\"showarrow\": false, \"x\": 4.124970436096191, \"y\": 1.9883499145507812, \"z\": -0.14761319756507874, \"text\": \"iraq\", \"xanchor\": \"left\", \"xshift\": 5, \"opacity\": 1}, {\"showarrow\": false, \"x\": 4.781083583831787, \"y\": 1.4650987386703491, \"z\": 0.5901943445205688, \"text\": \"use\", \"xanchor\": \"left\", \"xshift\": 5, \"opacity\": 1}, {\"showarrow\": false, \"x\": 4.230378150939941, \"y\": 2.1361944675445557, \"z\": -0.3253006637096405, \"text\": \"members\", \"xanchor\": \"left\", \"xshift\": 5, \"opacity\": 1}, {\"showarrow\": false, \"x\": 4.917660236358643, \"y\": 1.6383519172668457, \"z\": 0.6450236439704895, \"text\": \"each\", \"xanchor\": \"left\", \"xshift\": 5, \"opacity\": 1}, {\"showarrow\": false, \"x\": 4.487320899963379, \"y\": 1.1181237697601318, \"z\": -2.1809239387512207, \"text\": \"area\", \"xanchor\": \"left\", \"xshift\": 5, \"opacity\": 1}, {\"showarrow\": false, \"x\": 4.209992408752441, \"y\": 2.3764431476593018, \"z\": -0.45489701628685, \"text\": \"found\", \"xanchor\": \"left\", \"xshift\": 5, \"opacity\": 1}, {\"showarrow\": false, \"x\": 3.672153949737549, \"y\": 2.3975164890289307, \"z\": -1.088150978088379, \"text\": \"official\", \"xanchor\": \"left\", \"xshift\": 5, \"opacity\": 1}, {\"showarrow\": false, \"x\": 4.409167766571045, \"y\": 2.216315507888794, \"z\": -0.7179429531097412, \"text\": \"sunday\", \"xanchor\": \"left\", \"xshift\": 5, \"opacity\": 1}, {\"showarrow\": false, \"x\": 4.6461310386657715, \"y\": 1.5932550430297852, \"z\": -0.6472966074943542, \"text\": \"place\", \"xanchor\": \"left\", \"xshift\": 5, \"opacity\": 1}, {\"showarrow\": false, \"x\": 4.505756378173828, \"y\": 2.1234850883483887, \"z\": 0.17857155203819275, \"text\": \"go\", \"xanchor\": \"left\", \"xshift\": 5, \"opacity\": 1}, {\"showarrow\": false, \"x\": 4.302409648895264, \"y\": 1.9641536474227905, \"z\": -1.3472254276275635, \"text\": \"based\", \"xanchor\": \"left\", \"xshift\": 5, \"opacity\": 1}, {\"showarrow\": false, \"x\": 4.437122821807861, \"y\": 2.0671637058258057, \"z\": 0.09231339395046234, \"text\": \"among\", \"xanchor\": \"left\", \"xshift\": 5, \"opacity\": 1}, {\"showarrow\": false, \"x\": 4.12890625, \"y\": 2.24794602394104, \"z\": 0.0978333130478859, \"text\": \"third\", \"xanchor\": \"left\", \"xshift\": 5, \"opacity\": 1}, {\"showarrow\": false, \"x\": 4.246614933013916, \"y\": 2.1843554973602295, \"z\": 0.25074303150177, \"text\": \"times\", \"xanchor\": \"left\", \"xshift\": 5, \"opacity\": 1}, {\"showarrow\": false, \"x\": 4.083444118499756, \"y\": 2.8035101890563965, \"z\": -0.22038772702217102, \"text\": \"took\", \"xanchor\": \"left\", \"xshift\": 5, \"opacity\": 1}, {\"showarrow\": false, \"x\": 4.4358649253845215, \"y\": 2.614211320877075, \"z\": 0.2450249344110489, \"text\": \"right\", \"xanchor\": \"left\", \"xshift\": 5, \"opacity\": 1}, {\"showarrow\": false, \"x\": 4.752920150756836, \"y\": 1.980525255203247, \"z\": 0.24215218424797058, \"text\": \"days\", \"xanchor\": \"left\", \"xshift\": 5, \"opacity\": 1}, {\"showarrow\": false, \"x\": 4.125041961669922, \"y\": 1.284743070602417, \"z\": -1.0949840545654297, \"text\": \"local\", \"xanchor\": \"left\", \"xshift\": 5, \"opacity\": 1}, {\"showarrow\": false, \"x\": 4.127712726593018, \"y\": 1.9816077947616577, \"z\": -0.2312120646238327, \"text\": \"economic\", \"xanchor\": \"left\", \"xshift\": 5, \"opacity\": 1}, {\"showarrow\": false, \"x\": 4.6740498542785645, \"y\": 1.5056716203689575, \"z\": -0.08197731524705887, \"text\": \"countries\", \"xanchor\": \"left\", \"xshift\": 5, \"opacity\": 1}, {\"showarrow\": false, \"x\": 4.37303352355957, \"y\": 2.2489724159240723, \"z\": -0.2887612283229828, \"text\": \"see\", \"xanchor\": \"left\", \"xshift\": 5, \"opacity\": 1}, {\"showarrow\": false, \"x\": 4.168416976928711, \"y\": 2.3283793926239014, \"z\": 0.4598720073699951, \"text\": \"best\", \"xanchor\": \"left\", \"xshift\": 5, \"opacity\": 1}, {\"showarrow\": false, \"x\": 3.401319980621338, \"y\": 2.757399082183838, \"z\": -0.48831257224082947, \"text\": \"report\", \"xanchor\": \"left\", \"xshift\": 5, \"opacity\": 1}, {\"showarrow\": false, \"x\": 3.820361614227295, \"y\": 2.6116435527801514, \"z\": -0.5750774145126343, \"text\": \"killed\", \"xanchor\": \"left\", \"xshift\": 5, \"opacity\": 1}, {\"showarrow\": false, \"x\": 4.411803722381592, \"y\": 1.795408010482788, \"z\": -0.8783842325210571, \"text\": \"held\", \"xanchor\": \"left\", \"xshift\": 5, \"opacity\": 1}, {\"showarrow\": false, \"x\": 4.293152809143066, \"y\": 2.00433349609375, \"z\": -0.282650887966156, \"text\": \"business\", \"xanchor\": \"left\", \"xshift\": 5, \"opacity\": 1}, {\"showarrow\": false, \"x\": 4.219047546386719, \"y\": 1.5356345176696777, \"z\": -2.1917104721069336, \"text\": \"west\", \"xanchor\": \"left\", \"xshift\": 5, \"opacity\": 1}, {\"showarrow\": false, \"x\": 4.1071343421936035, \"y\": 2.558859348297119, \"z\": -0.10842946171760559, \"text\": \"does\", \"xanchor\": \"left\", \"xshift\": 5, \"opacity\": 1}, {\"showarrow\": false, \"x\": 4.693884372711182, \"y\": 2.138711452484131, \"z\": 0.4038226306438446, \"text\": \"own\", \"xanchor\": \"left\", \"xshift\": 5, \"opacity\": 1}, {\"showarrow\": false, \"x\": 4.0109148025512695, \"y\": 0.7005130052566528, \"z\": 0.36471259593963623, \"text\": \"%\", \"xanchor\": \"left\", \"xshift\": 5, \"opacity\": 1}, {\"showarrow\": false, \"x\": 4.261250019073486, \"y\": 2.6349384784698486, \"z\": -0.2574830651283264, \"text\": \"came\", \"xanchor\": \"left\", \"xshift\": 5, \"opacity\": 1}, {\"showarrow\": false, \"x\": 4.071909427642822, \"y\": 2.4833662509918213, \"z\": -0.5166248679161072, \"text\": \"law\", \"xanchor\": \"left\", \"xshift\": 5, \"opacity\": 1}, {\"showarrow\": false, \"x\": 4.607010364532471, \"y\": 2.337803840637207, \"z\": 0.4459858238697052, \"text\": \"months\", \"xanchor\": \"left\", \"xshift\": 5, \"opacity\": 1}, {\"showarrow\": false, \"x\": 4.573031902313232, \"y\": 1.5229676961898804, \"z\": 0.2061363309621811, \"text\": \"women\", \"xanchor\": \"left\", \"xshift\": 5, \"opacity\": 1}, {\"showarrow\": false, \"x\": 4.496438980102539, \"y\": 2.169394016265869, \"z\": 0.872326672077179, \"text\": \"'re\", \"xanchor\": \"left\", \"xshift\": 5, \"opacity\": 1}, {\"showarrow\": false, \"x\": 4.570049285888672, \"y\": 1.7988924980163574, \"z\": -0.19701245427131653, \"text\": \"power\", \"xanchor\": \"left\", \"xshift\": 5, \"opacity\": 1}, {\"showarrow\": false, \"x\": 4.213707447052002, \"y\": 2.8432741165161133, \"z\": 0.12083979696035385, \"text\": \"think\", \"xanchor\": \"left\", \"xshift\": 5, \"opacity\": 1}, {\"showarrow\": false, \"x\": 3.953650712966919, \"y\": 1.3553332090377808, \"z\": -0.1382598876953125, \"text\": \"service\", \"xanchor\": \"left\", \"xshift\": 5, \"opacity\": 1}, {\"showarrow\": false, \"x\": 4.19566535949707, \"y\": 2.355170249938965, \"z\": 0.489434152841568, \"text\": \"children\", \"xanchor\": \"left\", \"xshift\": 5, \"opacity\": 1}, {\"showarrow\": false, \"x\": 3.9409255981445312, \"y\": 2.653068780899048, \"z\": 0.47540539503097534, \"text\": \"bush\", \"xanchor\": \"left\", \"xshift\": 5, \"opacity\": 1}, {\"showarrow\": false, \"x\": 4.187352180480957, \"y\": 2.2602880001068115, \"z\": 0.16150188446044922, \"text\": \"show\", \"xanchor\": \"left\", \"xshift\": 5, \"opacity\": 1}, {\"showarrow\": false, \"x\": 3.098435640335083, \"y\": 1.9805867671966553, \"z\": -0.5787109136581421, \"text\": \"/\", \"xanchor\": \"left\", \"xshift\": 5, \"opacity\": 1}, {\"showarrow\": false, \"x\": 4.2860283851623535, \"y\": 2.346952438354492, \"z\": 0.047591447830200195, \"text\": \"help\", \"xanchor\": \"left\", \"xshift\": 5, \"opacity\": 1}, {\"showarrow\": false, \"x\": 2.501636028289795, \"y\": 4.560297012329102, \"z\": -1.855475902557373, \"text\": \"chief\", \"xanchor\": \"left\", \"xshift\": 5, \"opacity\": 1}, {\"showarrow\": false, \"x\": 4.354288578033447, \"y\": 2.2034592628479004, \"z\": -0.8062918782234192, \"text\": \"saturday\", \"xanchor\": \"left\", \"xshift\": 5, \"opacity\": 1}, {\"showarrow\": false, \"x\": 4.6849751472473145, \"y\": 0.9596021175384521, \"z\": -0.2844606935977936, \"text\": \"system\", \"xanchor\": \"left\", \"xshift\": 5, \"opacity\": 1}, {\"showarrow\": false, \"x\": 2.6165950298309326, \"y\": 4.307602882385254, \"z\": 0.013759913854300976, \"text\": \"john\", \"xanchor\": \"left\", \"xshift\": 5, \"opacity\": 1}, {\"showarrow\": false, \"x\": 4.121442794799805, \"y\": 1.8797961473464966, \"z\": 0.09922471642494202, \"text\": \"support\", \"xanchor\": \"left\", \"xshift\": 5, \"opacity\": 1}, {\"showarrow\": false, \"x\": 4.523322582244873, \"y\": 1.9019438028335571, \"z\": 0.5115871429443359, \"text\": \"series\", \"xanchor\": \"left\", \"xshift\": 5, \"opacity\": 1}, {\"showarrow\": false, \"x\": 4.257070541381836, \"y\": 2.2618637084960938, \"z\": 0.07138222455978394, \"text\": \"play\", \"xanchor\": \"left\", \"xshift\": 5, \"opacity\": 1}, {\"showarrow\": false, \"x\": 3.866569995880127, \"y\": 2.645843505859375, \"z\": -1.0414170026779175, \"text\": \"office\", \"xanchor\": \"left\", \"xshift\": 5, \"opacity\": 1}, {\"showarrow\": false, \"x\": 4.456691265106201, \"y\": 1.8711014986038208, \"z\": -0.47810691595077515, \"text\": \"following\", \"xanchor\": \"left\", \"xshift\": 5, \"opacity\": 1}, {\"showarrow\": false, \"x\": 4.010591983795166, \"y\": 2.803164005279541, \"z\": 0.3122231364250183, \"text\": \"me\", \"xanchor\": \"left\", \"xshift\": 5, \"opacity\": 1}, {\"showarrow\": false, \"x\": 3.885617971420288, \"y\": 2.534452199935913, \"z\": -0.9895835518836975, \"text\": \"meeting\", \"xanchor\": \"left\", \"xshift\": 5, \"opacity\": 1}, {\"showarrow\": false, \"x\": 4.2550249099731445, \"y\": 2.398972511291504, \"z\": 0.038103047758340836, \"text\": \"expected\", \"xanchor\": \"left\", \"xshift\": 5, \"opacity\": 1}, {\"showarrow\": false, \"x\": 4.215188980102539, \"y\": 2.598238468170166, \"z\": -0.1820414960384369, \"text\": \"late\", \"xanchor\": \"left\", \"xshift\": 5, \"opacity\": 1}, {\"showarrow\": false, \"x\": 3.6956558227539062, \"y\": 2.5898420810699463, \"z\": -0.6762931942939758, \"text\": \"washington\", \"xanchor\": \"left\", \"xshift\": 5, \"opacity\": 1}, {\"showarrow\": false, \"x\": 4.822420597076416, \"y\": 1.5399757623672485, \"z\": 0.631252646446228, \"text\": \"games\", \"xanchor\": \"left\", \"xshift\": 5, \"opacity\": 1}, {\"showarrow\": false, \"x\": 4.515860080718994, \"y\": 1.8185945749282837, \"z\": 0.019094625487923622, \"text\": \"european\", \"xanchor\": \"left\", \"xshift\": 5, \"opacity\": 1}, {\"showarrow\": false, \"x\": 4.315235137939453, \"y\": 1.6261955499649048, \"z\": -0.9087299704551697, \"text\": \"league\", \"xanchor\": \"left\", \"xshift\": 5, \"opacity\": 1}, {\"showarrow\": false, \"x\": 3.667271375656128, \"y\": 2.142603635787964, \"z\": -0.9762795567512512, \"text\": \"reported\", \"xanchor\": \"left\", \"xshift\": 5, \"opacity\": 1}, {\"showarrow\": false, \"x\": 4.603273868560791, \"y\": 1.598456621170044, \"z\": 0.12381497770547867, \"text\": \"final\", \"xanchor\": \"left\", \"xshift\": 5, \"opacity\": 1}, {\"showarrow\": false, \"x\": 3.215358257293701, \"y\": 3.1878840923309326, \"z\": 0.4435552954673767, \"text\": \"added\", \"xanchor\": \"left\", \"xshift\": 5, \"opacity\": 1}, {\"showarrow\": false, \"x\": 4.592963695526123, \"y\": 2.028743267059326, \"z\": 0.7698224782943726, \"text\": \"without\", \"xanchor\": \"left\", \"xshift\": 5, \"opacity\": 1}, {\"showarrow\": false, \"x\": 4.0335693359375, \"y\": 2.200899362564087, \"z\": -0.08582614362239838, \"text\": \"british\", \"xanchor\": \"left\", \"xshift\": 5, \"opacity\": 1}, {\"showarrow\": false, \"x\": 4.2002272605896, \"y\": 2.588460922241211, \"z\": 0.3591412901878357, \"text\": \"white\", \"xanchor\": \"left\", \"xshift\": 5, \"opacity\": 1}, {\"showarrow\": false, \"x\": 4.631114482879639, \"y\": 1.603193759918213, \"z\": -0.5110432505607605, \"text\": \"history\", \"xanchor\": \"left\", \"xshift\": 5, \"opacity\": 1}]}}, {\"showLink\": true, \"linkText\": \"Export to type-here.com\"})});</script>"
      ]
     },
     "metadata": {},
     "output_type": "display_data"
    }
   ],
   "source": [
    "trace1 = go.Scatter3d(x=pca_result_df[\"x\"], y=pca_result_df[\"y\"], z=pca_result_df[\"z\"],\n",
    "                      mode='markers', marker={\"size\": 4, \"opacity\": 0.8},\n",
    "                      text=pca_result_df[\"word\"])\n",
    "data = [trace1]\n",
    "\n",
    "layout = go.Layout(margin={\"l\": 0, \"r\": 0, \"b\": 0, \"t\": 0}, \n",
    "                   scene={\"xaxis\": {\"title\": \"1st Principle Component\"}, \n",
    "                          \"yaxis\": {\"title\": \"2nd Principle Component\"}, \n",
    "                          \"zaxis\": {\"title\": \"3rd Principel Component\"},\n",
    "                          \"annotations\": [{\"showarrow\": False,\n",
    "                                           \"x\": row[\"x\"],\n",
    "                                           \"y\": row[\"y\"],\n",
    "                                           \"z\": row[\"z\"],\n",
    "                                           \"text\": row[\"word\"],\n",
    "                                           \"xanchor\": \"left\",\n",
    "                                           \"xshift\": 5,\n",
    "                                           \"opacity\": 1} for _, row in pca_result_df.iterrows()]})\n",
    "\n",
    "iplot(go.Figure(data=data, layout=layout))"
   ]
  },
  {
   "cell_type": "code",
   "execution_count": 23,
   "metadata": {},
   "outputs": [],
   "source": [
    "pca_result_df = pd.DataFrame([pca_result[:,0], pca_result[:,1], pca_result[:,2]]).T\n",
    "pca_result_df.columns = [\"x\", \"y\", \"z\"]\n",
    "pca_result_df[\"word\"] = list(glove_vectors.vocab)"
   ]
  },
  {
   "cell_type": "code",
   "execution_count": 24,
   "metadata": {},
   "outputs": [],
   "source": [
    "pca_result_df = pca_result_df[pca_result_df[\"word\"].isin([\"king\", \"queen\", \"uncle\", \"aunt\", \"man\", \"woman\"])]"
   ]
  },
  {
   "cell_type": "code",
   "execution_count": 25,
   "metadata": {},
   "outputs": [
    {
     "data": {
      "text/html": [
       "<div>\n",
       "<style scoped>\n",
       "    .dataframe tbody tr th:only-of-type {\n",
       "        vertical-align: middle;\n",
       "    }\n",
       "\n",
       "    .dataframe tbody tr th {\n",
       "        vertical-align: top;\n",
       "    }\n",
       "\n",
       "    .dataframe thead th {\n",
       "        text-align: right;\n",
       "    }\n",
       "</style>\n",
       "<table border=\"1\" class=\"dataframe\">\n",
       "  <thead>\n",
       "    <tr style=\"text-align: right;\">\n",
       "      <th></th>\n",
       "      <th>x</th>\n",
       "      <th>y</th>\n",
       "      <th>z</th>\n",
       "      <th>word</th>\n",
       "    </tr>\n",
       "  </thead>\n",
       "  <tbody>\n",
       "    <tr>\n",
       "      <th>300</th>\n",
       "      <td>4.167136</td>\n",
       "      <td>2.875631</td>\n",
       "      <td>-0.066294</td>\n",
       "      <td>man</td>\n",
       "    </tr>\n",
       "    <tr>\n",
       "      <th>691</th>\n",
       "      <td>3.352313</td>\n",
       "      <td>3.138729</td>\n",
       "      <td>-1.126750</td>\n",
       "      <td>king</td>\n",
       "    </tr>\n",
       "    <tr>\n",
       "      <th>787</th>\n",
       "      <td>3.939651</td>\n",
       "      <td>2.182287</td>\n",
       "      <td>-0.060381</td>\n",
       "      <td>woman</td>\n",
       "    </tr>\n",
       "    <tr>\n",
       "      <th>2060</th>\n",
       "      <td>3.366348</td>\n",
       "      <td>1.815066</td>\n",
       "      <td>-1.123616</td>\n",
       "      <td>queen</td>\n",
       "    </tr>\n",
       "    <tr>\n",
       "      <th>5152</th>\n",
       "      <td>1.839161</td>\n",
       "      <td>3.202459</td>\n",
       "      <td>-0.243355</td>\n",
       "      <td>uncle</td>\n",
       "    </tr>\n",
       "    <tr>\n",
       "      <th>9651</th>\n",
       "      <td>1.593296</td>\n",
       "      <td>2.387500</td>\n",
       "      <td>-0.397805</td>\n",
       "      <td>aunt</td>\n",
       "    </tr>\n",
       "  </tbody>\n",
       "</table>\n",
       "</div>"
      ],
      "text/plain": [
       "             x         y         z   word\n",
       "300   4.167136  2.875631 -0.066294    man\n",
       "691   3.352313  3.138729 -1.126750   king\n",
       "787   3.939651  2.182287 -0.060381  woman\n",
       "2060  3.366348  1.815066 -1.123616  queen\n",
       "5152  1.839161  3.202459 -0.243355  uncle\n",
       "9651  1.593296  2.387500 -0.397805   aunt"
      ]
     },
     "execution_count": 25,
     "metadata": {},
     "output_type": "execute_result"
    }
   ],
   "source": [
    "pca_result_df"
   ]
  },
  {
   "cell_type": "code",
   "execution_count": 26,
   "metadata": {},
   "outputs": [
    {
     "data": {
      "application/vnd.plotly.v1+json": {
       "data": [
        {
         "marker": {
          "opacity": 0.8,
          "size": 4
         },
         "mode": "markers",
         "text": [
          "man",
          "king",
          "woman",
          "queen",
          "uncle",
          "aunt"
         ],
         "type": "scatter3d",
         "x": [
          4.167136192321777,
          3.352313280105591,
          3.939650535583496,
          3.3663480281829834,
          1.8391612768173218,
          1.5932961702346802
         ],
         "y": [
          2.875631332397461,
          3.1387288570404053,
          2.182286500930786,
          1.8150659799575806,
          3.2024593353271484,
          2.387500286102295
         ],
         "z": [
          -0.06629415601491928,
          -1.1267497539520264,
          -0.06038069725036621,
          -1.1236164569854736,
          -0.24335509538650513,
          -0.39780548214912415
         ]
        }
       ],
       "layout": {
        "margin": {
         "b": 0,
         "l": 0,
         "r": 0,
         "t": 0
        },
        "scene": {
         "annotations": [
          {
           "opacity": 1,
           "showarrow": false,
           "text": "man",
           "x": 4.167136192321777,
           "xanchor": "left",
           "xshift": 5,
           "y": 2.875631332397461,
           "z": -0.06629415601491928
          },
          {
           "opacity": 1,
           "showarrow": false,
           "text": "king",
           "x": 3.352313280105591,
           "xanchor": "left",
           "xshift": 5,
           "y": 3.1387288570404053,
           "z": -1.1267497539520264
          },
          {
           "opacity": 1,
           "showarrow": false,
           "text": "woman",
           "x": 3.939650535583496,
           "xanchor": "left",
           "xshift": 5,
           "y": 2.182286500930786,
           "z": -0.06038069725036621
          },
          {
           "opacity": 1,
           "showarrow": false,
           "text": "queen",
           "x": 3.3663480281829834,
           "xanchor": "left",
           "xshift": 5,
           "y": 1.8150659799575806,
           "z": -1.1236164569854736
          },
          {
           "opacity": 1,
           "showarrow": false,
           "text": "uncle",
           "x": 1.8391612768173218,
           "xanchor": "left",
           "xshift": 5,
           "y": 3.2024593353271484,
           "z": -0.24335509538650513
          },
          {
           "opacity": 1,
           "showarrow": false,
           "text": "aunt",
           "x": 1.5932961702346802,
           "xanchor": "left",
           "xshift": 5,
           "y": 2.387500286102295,
           "z": -0.39780548214912415
          }
         ],
         "xaxis": {
          "title": "1st Principle Component"
         },
         "yaxis": {
          "title": "2nd Principle Component"
         },
         "zaxis": {
          "title": "3rd Principel Component"
         }
        }
       }
      },
      "text/html": [
       "<div id=\"9f9870f0-fb9e-43b8-97ec-c088082e3e22\" style=\"height: 525px; width: 100%;\" class=\"plotly-graph-div\"></div><script type=\"text/javascript\">require([\"plotly\"], function(Plotly) { window.PLOTLYENV=window.PLOTLYENV || {};window.PLOTLYENV.BASE_URL=\"http://type-here.com\";Plotly.newPlot(\"9f9870f0-fb9e-43b8-97ec-c088082e3e22\", [{\"type\": \"scatter3d\", \"x\": [4.167136192321777, 3.352313280105591, 3.939650535583496, 3.3663480281829834, 1.8391612768173218, 1.5932961702346802], \"y\": [2.875631332397461, 3.1387288570404053, 2.182286500930786, 1.8150659799575806, 3.2024593353271484, 2.387500286102295], \"z\": [-0.06629415601491928, -1.1267497539520264, -0.06038069725036621, -1.1236164569854736, -0.24335509538650513, -0.39780548214912415], \"mode\": \"markers\", \"marker\": {\"size\": 4, \"opacity\": 0.8}, \"text\": [\"man\", \"king\", \"woman\", \"queen\", \"uncle\", \"aunt\"]}], {\"margin\": {\"l\": 0, \"r\": 0, \"b\": 0, \"t\": 0}, \"scene\": {\"xaxis\": {\"title\": \"1st Principle Component\"}, \"yaxis\": {\"title\": \"2nd Principle Component\"}, \"zaxis\": {\"title\": \"3rd Principel Component\"}, \"annotations\": [{\"showarrow\": false, \"x\": 4.167136192321777, \"y\": 2.875631332397461, \"z\": -0.06629415601491928, \"text\": \"man\", \"xanchor\": \"left\", \"xshift\": 5, \"opacity\": 1}, {\"showarrow\": false, \"x\": 3.352313280105591, \"y\": 3.1387288570404053, \"z\": -1.1267497539520264, \"text\": \"king\", \"xanchor\": \"left\", \"xshift\": 5, \"opacity\": 1}, {\"showarrow\": false, \"x\": 3.939650535583496, \"y\": 2.182286500930786, \"z\": -0.06038069725036621, \"text\": \"woman\", \"xanchor\": \"left\", \"xshift\": 5, \"opacity\": 1}, {\"showarrow\": false, \"x\": 3.3663480281829834, \"y\": 1.8150659799575806, \"z\": -1.1236164569854736, \"text\": \"queen\", \"xanchor\": \"left\", \"xshift\": 5, \"opacity\": 1}, {\"showarrow\": false, \"x\": 1.8391612768173218, \"y\": 3.2024593353271484, \"z\": -0.24335509538650513, \"text\": \"uncle\", \"xanchor\": \"left\", \"xshift\": 5, \"opacity\": 1}, {\"showarrow\": false, \"x\": 1.5932961702346802, \"y\": 2.387500286102295, \"z\": -0.39780548214912415, \"text\": \"aunt\", \"xanchor\": \"left\", \"xshift\": 5, \"opacity\": 1}]}}, {\"showLink\": true, \"linkText\": \"Export to type-here.com\"})});</script>"
      ],
      "text/vnd.plotly.v1+html": [
       "<div id=\"9f9870f0-fb9e-43b8-97ec-c088082e3e22\" style=\"height: 525px; width: 100%;\" class=\"plotly-graph-div\"></div><script type=\"text/javascript\">require([\"plotly\"], function(Plotly) { window.PLOTLYENV=window.PLOTLYENV || {};window.PLOTLYENV.BASE_URL=\"http://type-here.com\";Plotly.newPlot(\"9f9870f0-fb9e-43b8-97ec-c088082e3e22\", [{\"type\": \"scatter3d\", \"x\": [4.167136192321777, 3.352313280105591, 3.939650535583496, 3.3663480281829834, 1.8391612768173218, 1.5932961702346802], \"y\": [2.875631332397461, 3.1387288570404053, 2.182286500930786, 1.8150659799575806, 3.2024593353271484, 2.387500286102295], \"z\": [-0.06629415601491928, -1.1267497539520264, -0.06038069725036621, -1.1236164569854736, -0.24335509538650513, -0.39780548214912415], \"mode\": \"markers\", \"marker\": {\"size\": 4, \"opacity\": 0.8}, \"text\": [\"man\", \"king\", \"woman\", \"queen\", \"uncle\", \"aunt\"]}], {\"margin\": {\"l\": 0, \"r\": 0, \"b\": 0, \"t\": 0}, \"scene\": {\"xaxis\": {\"title\": \"1st Principle Component\"}, \"yaxis\": {\"title\": \"2nd Principle Component\"}, \"zaxis\": {\"title\": \"3rd Principel Component\"}, \"annotations\": [{\"showarrow\": false, \"x\": 4.167136192321777, \"y\": 2.875631332397461, \"z\": -0.06629415601491928, \"text\": \"man\", \"xanchor\": \"left\", \"xshift\": 5, \"opacity\": 1}, {\"showarrow\": false, \"x\": 3.352313280105591, \"y\": 3.1387288570404053, \"z\": -1.1267497539520264, \"text\": \"king\", \"xanchor\": \"left\", \"xshift\": 5, \"opacity\": 1}, {\"showarrow\": false, \"x\": 3.939650535583496, \"y\": 2.182286500930786, \"z\": -0.06038069725036621, \"text\": \"woman\", \"xanchor\": \"left\", \"xshift\": 5, \"opacity\": 1}, {\"showarrow\": false, \"x\": 3.3663480281829834, \"y\": 1.8150659799575806, \"z\": -1.1236164569854736, \"text\": \"queen\", \"xanchor\": \"left\", \"xshift\": 5, \"opacity\": 1}, {\"showarrow\": false, \"x\": 1.8391612768173218, \"y\": 3.2024593353271484, \"z\": -0.24335509538650513, \"text\": \"uncle\", \"xanchor\": \"left\", \"xshift\": 5, \"opacity\": 1}, {\"showarrow\": false, \"x\": 1.5932961702346802, \"y\": 2.387500286102295, \"z\": -0.39780548214912415, \"text\": \"aunt\", \"xanchor\": \"left\", \"xshift\": 5, \"opacity\": 1}]}}, {\"showLink\": true, \"linkText\": \"Export to type-here.com\"})});</script>"
      ]
     },
     "metadata": {},
     "output_type": "display_data"
    }
   ],
   "source": [
    "trace1 = go.Scatter3d(x=pca_result_df[\"x\"], y=pca_result_df[\"y\"], z=pca_result_df[\"z\"],\n",
    "                      mode='markers', marker={\"size\": 4, \"opacity\": 0.8},\n",
    "                      text=pca_result_df[\"word\"])\n",
    "data = [trace1]\n",
    "\n",
    "layout = go.Layout(margin={\"l\": 0, \"r\": 0, \"b\": 0, \"t\": 0}, \n",
    "                   scene={\"xaxis\": {\"title\": \"1st Principle Component\"}, \n",
    "                          \"yaxis\": {\"title\": \"2nd Principle Component\"}, \n",
    "                          \"zaxis\": {\"title\": \"3rd Principel Component\"},\n",
    "                          \"annotations\": [{\"showarrow\": False,\n",
    "                                           \"x\": row[\"x\"],\n",
    "                                           \"y\": row[\"y\"],\n",
    "                                           \"z\": row[\"z\"],\n",
    "                                           \"text\": row[\"word\"],\n",
    "                                           \"xanchor\": \"left\",\n",
    "                                           \"xshift\": 5,\n",
    "                                           \"opacity\": 1} for _, row in pca_result_df.iterrows()]})\n",
    "\n",
    "iplot(go.Figure(data=data, layout=layout))"
   ]
  },
  {
   "cell_type": "markdown",
   "metadata": {},
   "source": [
    "## 02. Sentiment Analysis our pre-built embeddings"
   ]
  },
  {
   "cell_type": "code",
   "execution_count": 27,
   "metadata": {},
   "outputs": [],
   "source": [
    "documents = [\"oh my god! So good. Philly grinder!\",\n",
    "             \"This is one of the best pizza's in town. The 7 cheese pizza is A mazing.... stuffed churros, yum. Great upbeat staff. I could eat here every night.\",\n",
    "             \"I'm telling you YOUR SERVICE STINKS AND YOU'D RETAIN MORE CUSTOMERS IF YOU'D JUST TEACH THEM TO USE THE PHONE PROPERLY AND TAKE AN ORDER PROPERLY.\",\n",
    "             \"My favorite Fort Collins pizza place! I always go for the south of the border. They also have the best spicy ranch.\",\n",
    "             \"Nope. Don't do it. Ordered a pizza over 2 hours ago and it still hasn't shown up.\",\n",
    "             \"My favorite pizza place in fort collins! I always order South of the border with cream cheese the staff are awesome. One time the pizza deliver guy came super late. He apologized and gave us restaurant credit.\"]\n",
    "\n",
    "labels = np.array([1, 1, 0, 1, 1, 0])"
   ]
  },
  {
   "cell_type": "code",
   "execution_count": 28,
   "metadata": {},
   "outputs": [],
   "source": [
    "encoded_documents = []\n",
    "for line in documents:\n",
    "    line = strip_punctuation(line)\n",
    "    encoded = []\n",
    "    for word in line.split():\n",
    "        try:\n",
    "            encoded.append(glove_vectors.vocab[word].index)\n",
    "        except:\n",
    "            encoded.append(0)\n",
    "    encoded_documents.append(encoded)"
   ]
  },
  {
   "cell_type": "code",
   "execution_count": 29,
   "metadata": {},
   "outputs": [
    {
     "data": {
      "text/plain": [
       "[3202, 192, 1533, 0, 219, 0, 39890]"
      ]
     },
     "execution_count": 29,
     "metadata": {},
     "output_type": "execute_result"
    }
   ],
   "source": [
    "encoded_documents[0]"
   ]
  },
  {
   "cell_type": "code",
   "execution_count": 30,
   "metadata": {},
   "outputs": [],
   "source": [
    "max_length = max([len(i.split()) for i in documents])"
   ]
  },
  {
   "cell_type": "code",
   "execution_count": 31,
   "metadata": {},
   "outputs": [
    {
     "data": {
      "text/plain": [
       "37"
      ]
     },
     "execution_count": 31,
     "metadata": {},
     "output_type": "execute_result"
    }
   ],
   "source": [
    "max_length"
   ]
  },
  {
   "cell_type": "code",
   "execution_count": 32,
   "metadata": {},
   "outputs": [],
   "source": [
    "padded_documents = pad_sequences(encoded_documents, maxlen=max_length, padding='post')"
   ]
  },
  {
   "cell_type": "code",
   "execution_count": 33,
   "metadata": {},
   "outputs": [
    {
     "data": {
      "text/plain": [
       "array([ 3202,   192,  1533,     0,   219,     0, 39890,     0,     0,\n",
       "           0,     0,     0,     0,     0,     0,     0,     0,     0,\n",
       "           0,     0,     0,     0,     0,     0,     0,     0,     0,\n",
       "           0,     0,     0,     0,     0,     0,     0,     0,     0,\n",
       "           0], dtype=int32)"
      ]
     },
     "execution_count": 33,
     "metadata": {},
     "output_type": "execute_result"
    }
   ],
   "source": [
    "padded_documents[0]"
   ]
  },
  {
   "cell_type": "code",
   "execution_count": 34,
   "metadata": {},
   "outputs": [],
   "source": [
    "embedding_input_dim = glove_vectors[glove_vectors.vocab].shape[0]\n",
    "embedding_output_dim = glove_vectors[glove_vectors.vocab].shape[1]"
   ]
  },
  {
   "cell_type": "code",
   "execution_count": 35,
   "metadata": {},
   "outputs": [
    {
     "data": {
      "text/plain": [
       "400000"
      ]
     },
     "execution_count": 35,
     "metadata": {},
     "output_type": "execute_result"
    }
   ],
   "source": [
    "embedding_input_dim"
   ]
  },
  {
   "cell_type": "code",
   "execution_count": 36,
   "metadata": {},
   "outputs": [
    {
     "data": {
      "text/plain": [
       "50"
      ]
     },
     "execution_count": 36,
     "metadata": {},
     "output_type": "execute_result"
    }
   ],
   "source": [
    "embedding_output_dim"
   ]
  },
  {
   "cell_type": "code",
   "execution_count": 37,
   "metadata": {},
   "outputs": [
    {
     "data": {
      "text/plain": [
       "0.00019652389164548367"
      ]
     },
     "execution_count": 37,
     "metadata": {},
     "output_type": "execute_result"
    }
   ],
   "source": [
    "model = Sequential()\n",
    "model.add(Embedding(input_dim=embedding_input_dim, output_dim=embedding_output_dim, weights=[glove_vectors[glove_vectors.vocab]], input_length=max_length))\n",
    "model.add(Flatten())\n",
    "model.add(Dense(128, activation=\"relu\"))\n",
    "model.add(Dense(1, activation='sigmoid'))\n",
    "model.compile(loss=\"binary_crossentropy\", optimizer=\"adam\")\n",
    "model.fit(padded_documents, labels, epochs=50, verbose=0)\n",
    "model.evaluate(padded_documents, labels, verbose=3)"
   ]
  },
  {
   "cell_type": "code",
   "execution_count": 38,
   "metadata": {},
   "outputs": [],
   "source": [
    "model.save(\"model.h5\")\n",
    "model = load_model(\"model.h5\")"
   ]
  },
  {
   "cell_type": "code",
   "execution_count": 39,
   "metadata": {},
   "outputs": [
    {
     "data": {
      "text/plain": [
       "array([[9.9983823e-01],\n",
       "       [9.9999225e-01],\n",
       "       [8.6409593e-04],\n",
       "       [9.9996328e-01],\n",
       "       [9.9989200e-01],\n",
       "       [4.1845820e-07]], dtype=float32)"
      ]
     },
     "execution_count": 39,
     "metadata": {},
     "output_type": "execute_result"
    }
   ],
   "source": [
    "model.predict(padded_documents)"
   ]
  },
  {
   "cell_type": "code",
   "execution_count": 40,
   "metadata": {},
   "outputs": [
    {
     "data": {
      "text/plain": [
       "array([[1],\n",
       "       [1],\n",
       "       [0],\n",
       "       [1],\n",
       "       [1],\n",
       "       [0]], dtype=int32)"
      ]
     },
     "execution_count": 40,
     "metadata": {},
     "output_type": "execute_result"
    }
   ],
   "source": [
    "model.predict_classes(padded_documents)"
   ]
  },
  {
   "cell_type": "code",
   "execution_count": 41,
   "metadata": {},
   "outputs": [
    {
     "data": {
      "text/plain": [
       "array([1, 1, 0, 1, 1, 0])"
      ]
     },
     "execution_count": 41,
     "metadata": {},
     "output_type": "execute_result"
    }
   ],
   "source": [
    "labels"
   ]
  },
  {
   "cell_type": "code",
   "execution_count": 42,
   "metadata": {},
   "outputs": [
    {
     "data": {
      "text/plain": [
       "1.0"
      ]
     },
     "execution_count": 42,
     "metadata": {},
     "output_type": "execute_result"
    }
   ],
   "source": [
    "accuracy_score(labels, model.predict_classes(padded_documents))"
   ]
  },
  {
   "cell_type": "markdown",
   "metadata": {},
   "source": [
    "### Create an example document"
   ]
  },
  {
   "cell_type": "code",
   "execution_count": 43,
   "metadata": {},
   "outputs": [],
   "source": [
    "documents = [\"The pizza is great, I would highly recommend it\",\n",
    "             \"The pizza is bad\"]"
   ]
  },
  {
   "cell_type": "code",
   "execution_count": 44,
   "metadata": {},
   "outputs": [],
   "source": [
    "encoded_documents = []\n",
    "for line in documents:\n",
    "    line = strip_punctuation(line)\n",
    "    encoded = []\n",
    "    for word in line.split():\n",
    "        try:\n",
    "            encoded.append(glove_vectors.vocab[word].index)\n",
    "        except:\n",
    "            encoded.append(0)\n",
    "    encoded_documents.append(encoded)"
   ]
  },
  {
   "cell_type": "code",
   "execution_count": 45,
   "metadata": {},
   "outputs": [
    {
     "data": {
      "text/plain": [
       "[0, 9388, 14, 353, 0, 54, 1786, 7546, 20]"
      ]
     },
     "execution_count": 45,
     "metadata": {},
     "output_type": "execute_result"
    }
   ],
   "source": [
    "encoded_documents[0]"
   ]
  },
  {
   "cell_type": "code",
   "execution_count": 46,
   "metadata": {},
   "outputs": [],
   "source": [
    "padded_documents = pad_sequences(encoded_documents, maxlen=max_length, padding='post')"
   ]
  },
  {
   "cell_type": "code",
   "execution_count": 47,
   "metadata": {},
   "outputs": [
    {
     "data": {
      "text/plain": [
       "array([   0, 9388,   14,  353,    0,   54, 1786, 7546,   20,    0,    0,\n",
       "          0,    0,    0,    0,    0,    0,    0,    0,    0,    0,    0,\n",
       "          0,    0,    0,    0,    0,    0,    0,    0,    0,    0,    0,\n",
       "          0,    0,    0,    0], dtype=int32)"
      ]
     },
     "execution_count": 47,
     "metadata": {},
     "output_type": "execute_result"
    }
   ],
   "source": [
    "padded_documents[0]"
   ]
  },
  {
   "cell_type": "code",
   "execution_count": 48,
   "metadata": {},
   "outputs": [
    {
     "data": {
      "text/plain": [
       "array([[0],\n",
       "       [0]], dtype=int32)"
      ]
     },
     "execution_count": 48,
     "metadata": {},
     "output_type": "execute_result"
    }
   ],
   "source": [
    "model.predict_classes(padded_documents)"
   ]
  },
  {
   "cell_type": "markdown",
   "metadata": {},
   "source": [
    "## Embedding Projector\n",
    "\n",
    "https://projector.tensorflow.org/"
   ]
  },
  {
   "cell_type": "code",
   "execution_count": null,
   "metadata": {},
   "outputs": [],
   "source": []
  }
 ],
 "metadata": {
  "kernelspec": {
   "display_name": "word_embeddings",
   "language": "python",
   "name": "word_embeddings"
  },
  "language_info": {
   "codemirror_mode": {
    "name": "ipython",
    "version": 3
   },
   "file_extension": ".py",
   "mimetype": "text/x-python",
   "name": "python",
   "nbconvert_exporter": "python",
   "pygments_lexer": "ipython3",
   "version": "3.6.4"
  }
 },
 "nbformat": 4,
 "nbformat_minor": 2
}
